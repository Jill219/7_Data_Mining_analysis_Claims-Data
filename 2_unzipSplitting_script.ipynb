{
 "cells": [
  {
   "cell_type": "code",
   "execution_count": 1,
   "metadata": {},
   "outputs": [],
   "source": [
    "import os\n",
    "import glob\n",
    "import zipfile\n",
    "import pandas as pd"
   ]
  },
  {
   "cell_type": "code",
   "execution_count": 2,
   "metadata": {},
   "outputs": [],
   "source": [
    "import pyspark"
   ]
  },
  {
   "cell_type": "code",
   "execution_count": 3,
   "metadata": {},
   "outputs": [
    {
     "data": {
      "text/plain": [
       "'/Users/jill/Downloads/2020_Project/EDA'"
      ]
     },
     "execution_count": 3,
     "metadata": {},
     "output_type": "execute_result"
    }
   ],
   "source": [
    "os.getcwd()"
   ]
  },
  {
   "cell_type": "code",
   "execution_count": 203,
   "metadata": {},
   "outputs": [],
   "source": [
    "ini_path = \"/Users/jill/Downloads/2020_Project\""
   ]
  },
  {
   "cell_type": "code",
   "execution_count": 204,
   "metadata": {},
   "outputs": [],
   "source": [
    "sample_path= ini_path+\"/DE1.0_Data\""
   ]
  },
  {
   "cell_type": "code",
   "execution_count": 129,
   "metadata": {},
   "outputs": [],
   "source": [
    "file_lst = [f for f in os.listdir(data_path) if f[0]==(\"s\")]"
   ]
  },
  {
   "cell_type": "code",
   "execution_count": 130,
   "metadata": {},
   "outputs": [
    {
     "data": {
      "text/plain": [
       "20"
      ]
     },
     "execution_count": 130,
     "metadata": {},
     "output_type": "execute_result"
    }
   ],
   "source": [
    "len(file_lst)"
   ]
  },
  {
   "cell_type": "code",
   "execution_count": 205,
   "metadata": {},
   "outputs": [],
   "source": [
    "def file_lst (datapath,filetype):\n",
    "    lst = []\n",
    "    for filedirs, files, filenames in os.walk(datapath):\n",
    "        lst += [os.path.join(filedirs, file) for file in filenames if file.endswith(filetype)]\n",
    "    return lst"
   ]
  },
  {
   "cell_type": "code",
   "execution_count": 208,
   "metadata": {},
   "outputs": [],
   "source": [
    "ziptype = \".zip\"\n",
    "filelst = file_lst(sample_path,ziptype)"
   ]
  },
  {
   "cell_type": "code",
   "execution_count": 209,
   "metadata": {},
   "outputs": [
    {
     "data": {
      "text/plain": [
       "160"
      ]
     },
     "execution_count": 209,
     "metadata": {},
     "output_type": "execute_result"
    }
   ],
   "source": [
    "len (filelst)"
   ]
  },
  {
   "cell_type": "code",
   "execution_count": 67,
   "metadata": {},
   "outputs": [
    {
     "data": {
      "text/plain": [
       "['/Users/jill/Downloads/2020_Project/DE1.0_Data/sample_5/176565_DE1_0_2008_to_2010_Outpatient_Claims_Sample_5.zip',\n",
       " '/Users/jill/Downloads/2020_Project/DE1.0_Data/sample_5/176539_DE1_0_2009_Beneficiary_Summary_File_Sample_5.zip',\n",
       " '/Users/jill/Downloads/2020_Project/DE1.0_Data/sample_5/DE1_0_2008_to_2010_Prescription_Drug_Events_Sample_5.zip',\n",
       " '/Users/jill/Downloads/2020_Project/DE1.0_Data/sample_5/176619_DE1_0_2008_Beneficiary_Summary_File_Sample_5.zip',\n",
       " '/Users/jill/Downloads/2020_Project/DE1.0_Data/sample_5/176580_DE1_0_2010_Beneficiary_Summary_File_Sample_5.zip',\n",
       " '/Users/jill/Downloads/2020_Project/DE1.0_Data/sample_5/176577_DE1_0_2008_to_2010_Inpatient_Claims_Sample_5.zip',\n",
       " '/Users/jill/Downloads/2020_Project/DE1.0_Data/sample_5/DE1_0_2008_to_2010_Carrier_Claims_Sample_5B.zip',\n",
       " '/Users/jill/Downloads/2020_Project/DE1.0_Data/sample_5/DE1_0_2008_to_2010_Carrier_Claims_Sample_5A.zip',\n",
       " '/Users/jill/Downloads/2020_Project/DE1.0_Data/sample_2/zip/176629_DE1_0_2009_Beneficiary_Summary_File_Sample_2.zip',\n",
       " '/Users/jill/Downloads/2020_Project/DE1.0_Data/sample_2/zip/176542_DE1_0_2008_to_2010_Outpatient_Claims_Sample_2.zip',\n",
       " '/Users/jill/Downloads/2020_Project/DE1.0_Data/sample_2/zip/176581_DE1_0_2010_Beneficiary_Summary_File_Sample_2.zip',\n",
       " '/Users/jill/Downloads/2020_Project/DE1.0_Data/sample_2/zip/DE1_0_2008_to_2010_Prescription_Drug_Events_Sample_2.zip',\n",
       " '/Users/jill/Downloads/2020_Project/DE1.0_Data/sample_2/zip/DE1_0_2008_to_2010_Carrier_Claims_Sample_2B.zip',\n",
       " '/Users/jill/Downloads/2020_Project/DE1.0_Data/sample_2/zip/176610_DE1_0_2008_to_2010_Inpatient_Claims_Sample_2.zip',\n",
       " '/Users/jill/Downloads/2020_Project/DE1.0_Data/sample_2/zip/DE1_0_2008_to_2010_Carrier_Claims_Sample_2A.zip',\n",
       " '/Users/jill/Downloads/2020_Project/DE1.0_Data/sample_2/zip/176589_DE1_0_2008_Beneficiary_Summary_File_Sample_2.zip',\n",
       " '/Users/jill/Downloads/2020_Project/DE1.0_Data/sample_3/176632_DE1_0_2008_Beneficiary_Summary_File_Sample_3.zip',\n",
       " '/Users/jill/Downloads/2020_Project/DE1.0_Data/sample_3/176560_DE1_0_2008_to_2010_Inpatient_Claims_Sample_3.zip',\n",
       " '/Users/jill/Downloads/2020_Project/DE1.0_Data/sample_3/176551_DE1_0_2009_Beneficiary_Summary_File_Sample_3.zip',\n",
       " '/Users/jill/Downloads/2020_Project/DE1.0_Data/sample_3/DE1_0_2008_to_2010_Prescription_Drug_Events_Sample_3.zip',\n",
       " '/Users/jill/Downloads/2020_Project/DE1.0_Data/sample_3/176569_DE1_0_2008_to_2010_Outpatient_Claims_Sample_3.zip',\n",
       " '/Users/jill/Downloads/2020_Project/DE1.0_Data/sample_3/176538_DE1_0_2010_Beneficiary_Summary_File_Sample_3.zip',\n",
       " '/Users/jill/Downloads/2020_Project/DE1.0_Data/sample_3/DE1_0_2008_to_2010_Carrier_Claims_Sample_3A.zip',\n",
       " '/Users/jill/Downloads/2020_Project/DE1.0_Data/sample_3/DE1_0_2008_to_2010_Carrier_Claims_Sample_3B.zip',\n",
       " '/Users/jill/Downloads/2020_Project/DE1.0_Data/sample_4/176590_DE1_0_2008_to_2010_Inpatient_Claims_Sample_4.zip',\n",
       " '/Users/jill/Downloads/2020_Project/DE1.0_Data/sample_4/176556_DE1_0_2008_to_2010_Outpatient_Claims_Sample_4.zip',\n",
       " '/Users/jill/Downloads/2020_Project/DE1.0_Data/sample_4/176548_DE1_0_2008_Beneficiary_Summary_File_Sample_4.zip',\n",
       " '/Users/jill/Downloads/2020_Project/DE1.0_Data/sample_4/DE1_0_2008_to_2010_Prescription_Drug_Events_Sample_4.zip',\n",
       " '/Users/jill/Downloads/2020_Project/DE1.0_Data/sample_4/DE1_0_2008_to_2010_Carrier_Claims_Sample_4A.zip',\n",
       " '/Users/jill/Downloads/2020_Project/DE1.0_Data/sample_4/176576_DE1_0_2009_Beneficiary_Summary_File_Sample_4.zip',\n",
       " '/Users/jill/Downloads/2020_Project/DE1.0_Data/sample_4/DE1_0_2008_to_2010_Carrier_Claims_Sample_4B.zip',\n",
       " '/Users/jill/Downloads/2020_Project/DE1.0_Data/sample_4/176631_DE1_0_2010_Beneficiary_Summary_File_Sample_4.zip',\n",
       " '/Users/jill/Downloads/2020_Project/DE1.0_Data/sample_19/176532_DE1_0_2010_Beneficiary_Summary_File_Sample_19.zip',\n",
       " '/Users/jill/Downloads/2020_Project/DE1.0_Data/sample_19/176615_DE1_0_2008_Beneficiary_Summary_File_Sample_19.zip',\n",
       " '/Users/jill/Downloads/2020_Project/DE1.0_Data/sample_19/DE1_0_2008_to_2010_Prescription_Drug_Events_Sample_19.zip',\n",
       " '/Users/jill/Downloads/2020_Project/DE1.0_Data/sample_19/176618_DE1_0_2008_to_2010_Outpatient_Claims_Sample_19.zip',\n",
       " '/Users/jill/Downloads/2020_Project/DE1.0_Data/sample_19/176603_DE1_0_2009_Beneficiary_Summary_File_Sample_19.zip',\n",
       " '/Users/jill/Downloads/2020_Project/DE1.0_Data/sample_19/176604_DE1_0_2008_to_2010_Inpatient_Claims_Sample_19.zip',\n",
       " '/Users/jill/Downloads/2020_Project/DE1.0_Data/sample_19/DE1_0_2008_to_2010_Carrier_Claims_Sample_19B.zip',\n",
       " '/Users/jill/Downloads/2020_Project/DE1.0_Data/sample_19/DE1_0_2008_to_2010_Carrier_Claims_Sample_19A.zip',\n",
       " '/Users/jill/Downloads/2020_Project/DE1.0_Data/sample_10/176527_DE1_0_2008_Beneficiary_Summary_File_Sample_10.zip',\n",
       " '/Users/jill/Downloads/2020_Project/DE1.0_Data/sample_10/176606_DE1_0_2008_to_2010_Inpatient_Claims_Sample_10.zip',\n",
       " '/Users/jill/Downloads/2020_Project/DE1.0_Data/sample_10/DE1_0_2008_to_2010_Carrier_Claims_Sample_10A.zip',\n",
       " '/Users/jill/Downloads/2020_Project/DE1.0_Data/sample_10/DE1_0_2008_to_2010_Carrier_Claims_Sample_10B.zip',\n",
       " '/Users/jill/Downloads/2020_Project/DE1.0_Data/sample_10/176623_DE1_0_2009_Beneficiary_Summary_File_Sample_10.zip',\n",
       " '/Users/jill/Downloads/2020_Project/DE1.0_Data/sample_10/DE1_0_2008_to_2010_Prescription_Drug_Events_Sample_10.zip',\n",
       " '/Users/jill/Downloads/2020_Project/DE1.0_Data/sample_10/176620_DE1_0_2010_Beneficiary_Summary_File_Sample_10.zip',\n",
       " '/Users/jill/Downloads/2020_Project/DE1.0_Data/sample_10/176575_DE1_0_2008_to_2010_Outpatient_Claims_Sample_10.zip',\n",
       " '/Users/jill/Downloads/2020_Project/DE1.0_Data/sample_17/DE1_0_2008_to_2010_Carrier_Claims_Sample_17A.zip',\n",
       " '/Users/jill/Downloads/2020_Project/DE1.0_Data/sample_17/176614_DE1_0_2010_Beneficiary_Summary_File_Sample_17.zip',\n",
       " '/Users/jill/Downloads/2020_Project/DE1.0_Data/sample_17/176633_DE1_0_2009_Beneficiary_Summary_File_Sample_17.zip',\n",
       " '/Users/jill/Downloads/2020_Project/DE1.0_Data/sample_17/DE1_0_2008_to_2010_Carrier_Claims_Sample_17B.zip',\n",
       " '/Users/jill/Downloads/2020_Project/DE1.0_Data/sample_17/176528_DE1_0_2008_to_2010_Outpatient_Claims_Sample_17.zip',\n",
       " '/Users/jill/Downloads/2020_Project/DE1.0_Data/sample_17/176588_DE1_0_2008_Beneficiary_Summary_File_Sample_17.zip',\n",
       " '/Users/jill/Downloads/2020_Project/DE1.0_Data/sample_17/176593_DE1_0_2008_to_2010_Inpatient_Claims_Sample_17.zip',\n",
       " '/Users/jill/Downloads/2020_Project/DE1.0_Data/sample_17/DE1_0_2008_to_2010_Prescription_Drug_Events_Sample_17.zip',\n",
       " '/Users/jill/Downloads/2020_Project/DE1.0_Data/sample_16/DE1_0_2008_to_2010_Carrier_Claims_Sample_16B.zip',\n",
       " '/Users/jill/Downloads/2020_Project/DE1.0_Data/sample_16/DE1_0_2008_to_2010_Carrier_Claims_Sample_16A.zip',\n",
       " '/Users/jill/Downloads/2020_Project/DE1.0_Data/sample_16/176608_DE1_0_2008_Beneficiary_Summary_File_Sample_16.zip',\n",
       " '/Users/jill/Downloads/2020_Project/DE1.0_Data/sample_16/176529_DE1_0_2008_to_2010_Outpatient_Claims_Sample_16.zip',\n",
       " '/Users/jill/Downloads/2020_Project/DE1.0_Data/sample_16/DE1_0_2008_to_2010_Prescription_Drug_Events_Sample_16.zip',\n",
       " '/Users/jill/Downloads/2020_Project/DE1.0_Data/sample_16/176602_DE1_0_2008_to_2010_Inpatient_Claims_Sample_16.zip',\n",
       " '/Users/jill/Downloads/2020_Project/DE1.0_Data/sample_16/176572_DE1_0_2009_Beneficiary_Summary_File_Sample_16.zip',\n",
       " '/Users/jill/Downloads/2020_Project/DE1.0_Data/sample_16/176557_DE1_0_2010_Beneficiary_Summary_File_Sample_16.zip',\n",
       " '/Users/jill/Downloads/2020_Project/DE1.0_Data/sample_11/176585_DE1_0_2008_to_2010_Inpatient_Claims_Sample_11.zip',\n",
       " '/Users/jill/Downloads/2020_Project/DE1.0_Data/sample_11/DE1_0_2008_to_2010_Carrier_Claims_Sample_11A.csv.zip',\n",
       " '/Users/jill/Downloads/2020_Project/DE1.0_Data/sample_11/176531_DE1_0_2008_to_2010_Outpatient_Claims_Sample_11.zip',\n",
       " '/Users/jill/Downloads/2020_Project/DE1.0_Data/sample_11/DE1_0_2008_to_2010_Carrier_Claims_Sample_11B.zip',\n",
       " '/Users/jill/Downloads/2020_Project/DE1.0_Data/sample_11/176630_DE1_0_2010_Beneficiary_Summary_File_Sample_11.zip',\n",
       " '/Users/jill/Downloads/2020_Project/DE1.0_Data/sample_11/176612_DE1_0_2008_Beneficiary_Summary_File_Sample_11.zip',\n",
       " '/Users/jill/Downloads/2020_Project/DE1.0_Data/sample_11/176595_DE1_0_2009_Beneficiary_Summary_File_Sample_11.zip',\n",
       " '/Users/jill/Downloads/2020_Project/DE1.0_Data/sample_11/DE1_0_2008_to_2010_Prescription_Drug_Events_Sample_11.zip',\n",
       " '/Users/jill/Downloads/2020_Project/DE1.0_Data/sample_18/176545_DE1_0_2008_to_2010_Inpatient_Claims_Sample_18.zip',\n",
       " '/Users/jill/Downloads/2020_Project/DE1.0_Data/sample_18/176607_DE1_0_2009_Beneficiary_Summary_File_Sample_18.zip',\n",
       " '/Users/jill/Downloads/2020_Project/DE1.0_Data/sample_18/176563_DE1_0_2008_Beneficiary_Summary_File_Sample_18.zip',\n",
       " '/Users/jill/Downloads/2020_Project/DE1.0_Data/sample_18/DE1_0_2008_to_2010_Prescription_Drug_Events_Sample_18.zip',\n",
       " '/Users/jill/Downloads/2020_Project/DE1.0_Data/sample_18/DE1_0_2008_to_2010_Carrier_Claims_Sample_18A.zip',\n",
       " '/Users/jill/Downloads/2020_Project/DE1.0_Data/sample_18/DE1_0_2008_to_2010_Carrier_Claims_Sample_18B.zip',\n",
       " '/Users/jill/Downloads/2020_Project/DE1.0_Data/sample_18/176579_DE1_0_2008_to_2010_Outpatient_Claims_Sample_18.zip',\n",
       " '/Users/jill/Downloads/2020_Project/DE1.0_Data/sample_18/176626_DE1_0_2010_Beneficiary_Summary_File_Sample_18.zip',\n",
       " '/Users/jill/Downloads/2020_Project/DE1.0_Data/sample_20/DE1_0_2008_to_2010_Carrier_Claims_Sample_20A.zip',\n",
       " '/Users/jill/Downloads/2020_Project/DE1.0_Data/sample_20/DE1_0_2008_to_2010_Carrier_Claims_Sample_20B.zip',\n",
       " '/Users/jill/Downloads/2020_Project/DE1.0_Data/sample_20/DE1_0_2008_to_2010_Prescription_Drug_Events_Sample_20.zip',\n",
       " '/Users/jill/Downloads/2020_Project/DE1.0_Data/sample_20/176562_DE1_0_2009_Beneficiary_Summary_File_Sample_20.zip',\n",
       " '/Users/jill/Downloads/2020_Project/DE1.0_Data/sample_20/176526_DE1_0_2008_to_2010_Outpatient_Claims_Sample_20.zip',\n",
       " '/Users/jill/Downloads/2020_Project/DE1.0_Data/sample_20/155410_DE1_0_2008_to_2010_Inpatient_Claims_Sample_20.zip',\n",
       " '/Users/jill/Downloads/2020_Project/DE1.0_Data/sample_20/176537_DE1_0_2010_Beneficiary_Summary_File_Sample_20.zip',\n",
       " '/Users/jill/Downloads/2020_Project/DE1.0_Data/sample_20/155409_DE1_0_2008_Beneficiary_Summary_File_Sample_20.zip',\n",
       " '/Users/jill/Downloads/2020_Project/DE1.0_Data/sample_8/176546_DE1_0_2008_Beneficiary_Summary_File_Sample_8.zip',\n",
       " '/Users/jill/Downloads/2020_Project/DE1.0_Data/sample_8/176559_DE1_0_2009_Beneficiary_Summary_File_Sample_8.zip',\n",
       " '/Users/jill/Downloads/2020_Project/DE1.0_Data/sample_8/176583_DE1_0_2008_to_2010_Inpatient_Claims_Sample_8.zip',\n",
       " '/Users/jill/Downloads/2020_Project/DE1.0_Data/sample_8/DE1_0_2010_Beneficiary_Summary_File_Sample_8.zip',\n",
       " '/Users/jill/Downloads/2020_Project/DE1.0_Data/sample_8/DE1_0_2008_to_2010_Prescription_Drug_Events_Sample_8.zip',\n",
       " '/Users/jill/Downloads/2020_Project/DE1.0_Data/sample_8/DE1_0_2008_to_2010_Carrier_Claims_Sample_8B.zip',\n",
       " '/Users/jill/Downloads/2020_Project/DE1.0_Data/sample_8/DE1_0_2008_to_2010_Carrier_Claims_Sample_8A.zip',\n",
       " '/Users/jill/Downloads/2020_Project/DE1.0_Data/sample_8/176554_DE1_0_2008_to_2010_Outpatient_Claims_Sample_8.zip',\n",
       " '/Users/jill/Downloads/2020_Project/DE1.0_Data/sample_1/zip/176600_DE1_0_2009_Beneficiary_Summary_File_Sample_1.zip',\n",
       " '/Users/jill/Downloads/2020_Project/DE1.0_Data/sample_1/zip/176549_DE1_0_2008_to_2010_Inpatient_Claims_Sample_1.zip',\n",
       " '/Users/jill/Downloads/2020_Project/DE1.0_Data/sample_1/zip/176541_DE1_0_2008_Beneficiary_Summary_File_Sample_1.zip',\n",
       " '/Users/jill/Downloads/2020_Project/DE1.0_Data/sample_1/zip/DE1_0_2008_to_2010_Carrier_Claims_Sample_1A.zip',\n",
       " '/Users/jill/Downloads/2020_Project/DE1.0_Data/sample_1/zip/DE1_0_2008_to_2010_Prescription_Drug_Events_Sample_1.zip',\n",
       " '/Users/jill/Downloads/2020_Project/DE1.0_Data/sample_1/zip/DE1_0_2008_to_2010_Carrier_Claims_Sample_1B.zip',\n",
       " '/Users/jill/Downloads/2020_Project/DE1.0_Data/sample_1/zip/176537_DE1_0_2010_Beneficiary_Summary_File_Sample_20.zip',\n",
       " '/Users/jill/Downloads/2020_Project/DE1.0_Data/sample_1/zip/176616_DE1_0_2008_to_2010_Outpatient_Claims_Sample_1.zip',\n",
       " '/Users/jill/Downloads/2020_Project/DE1.0_Data/sample_6/DE1_0_2008_to_2010_Carrier_Claims_Sample_6A.zip',\n",
       " '/Users/jill/Downloads/2020_Project/DE1.0_Data/sample_6/176622_DE1_0_2008_to_2010_Outpatient_Claims_Sample_6.zip',\n",
       " '/Users/jill/Downloads/2020_Project/DE1.0_Data/sample_6/DE1_0_2008_to_2010_Carrier_Claims_Sample_6B.zip',\n",
       " '/Users/jill/Downloads/2020_Project/DE1.0_Data/sample_6/176627_DE1_0_2008_to_2010_Inpatient_Claims_Sample_6.zip',\n",
       " '/Users/jill/Downloads/2020_Project/DE1.0_Data/sample_6/DE1_0_2008_to_2010_Prescription_Drug_Events_Sample_6.zip',\n",
       " '/Users/jill/Downloads/2020_Project/DE1.0_Data/sample_6/176609_DE1_0_2009_Beneficiary_Summary_File_Sample_6.zip',\n",
       " '/Users/jill/Downloads/2020_Project/DE1.0_Data/sample_6/176574_DE1_0_2008_Beneficiary_Summary_File_Sample_6.zip',\n",
       " '/Users/jill/Downloads/2020_Project/DE1.0_Data/sample_6/176592_DE1_0_2010_Beneficiary_Summary_File_Sample_6.zip',\n",
       " '/Users/jill/Downloads/2020_Project/DE1.0_Data/sample_7/176535_DE1_0_2008_to_2010_Inpatient_Claims_Sample_7.zip',\n",
       " '/Users/jill/Downloads/2020_Project/DE1.0_Data/sample_7/DE1_0_2008_to_2010_Carrier_Claims_Sample_7B.zip',\n",
       " '/Users/jill/Downloads/2020_Project/DE1.0_Data/sample_7/176530_DE1_0_2008_Beneficiary_Summary_File_Sample_7.zip',\n",
       " '/Users/jill/Downloads/2020_Project/DE1.0_Data/sample_7/DE1_0_2008_to_2010_Carrier_Claims_Sample_7A.zip',\n",
       " '/Users/jill/Downloads/2020_Project/DE1.0_Data/sample_7/DE1_0_2008_to_2010_Prescription_Drug_Events_Sample_7.zip',\n",
       " '/Users/jill/Downloads/2020_Project/DE1.0_Data/sample_7/176605_DE1_0_2008_to_2010_Outpatient_Claims_Sample_7.zip',\n",
       " '/Users/jill/Downloads/2020_Project/DE1.0_Data/sample_7/DE1_0_2010_Beneficiary_Summary_File_Sample_7.zip',\n",
       " '/Users/jill/Downloads/2020_Project/DE1.0_Data/sample_7/176628_DE1_0_2009_Beneficiary_Summary_File_Sample_7.zip',\n",
       " '/Users/jill/Downloads/2020_Project/DE1.0_Data/sample_9/176624_DE1_0_2008_to_2010_Outpatient_Claims_Sample_9.zip',\n",
       " '/Users/jill/Downloads/2020_Project/DE1.0_Data/sample_9/176582_DE1_0_2009_Beneficiary_Summary_File_Sample_9.zip',\n",
       " '/Users/jill/Downloads/2020_Project/DE1.0_Data/sample_9/DE1_0_2010_Beneficiary_Summary_File_Sample_9.zip',\n",
       " '/Users/jill/Downloads/2020_Project/DE1.0_Data/sample_9/176586_DE1_0_2008_Beneficiary_Summary_File_Sample_9.zip',\n",
       " '/Users/jill/Downloads/2020_Project/DE1.0_Data/sample_9/176536_DE1_0_2008_to_2010_Inpatient_Claims_Sample_9.zip',\n",
       " '/Users/jill/Downloads/2020_Project/DE1.0_Data/sample_9/DE1_0_2008_to_2010_Prescription_Drug_Events_Sample_9.zip',\n",
       " '/Users/jill/Downloads/2020_Project/DE1.0_Data/sample_9/DE1_0_2008_to_2010_Carrier_Claims_Sample_9A.zip',\n",
       " '/Users/jill/Downloads/2020_Project/DE1.0_Data/sample_9/DE1_0_2008_to_2010_Carrier_Claims_Sample_9B.zip',\n",
       " '/Users/jill/Downloads/2020_Project/DE1.0_Data/SAS_Readin_files/zip/DESynPUF_PDE_READIN_20121211.zip',\n",
       " '/Users/jill/Downloads/2020_Project/DE1.0_Data/SAS_Readin_files/zip/176594_DESynPUF_BENE_READIN_20121211.zip',\n",
       " '/Users/jill/Downloads/2020_Project/DE1.0_Data/SAS_Readin_files/zip/176597_DESynPUF_CAR_READIN_20121211.zip',\n",
       " '/Users/jill/Downloads/2020_Project/DE1.0_Data/SAS_Readin_files/zip/DESynPUF_OP_READIN_20121211.zip',\n",
       " '/Users/jill/Downloads/2020_Project/DE1.0_Data/sample_14/176613_DE1_0_2008_Beneficiary_Summary_File_Sample_14.zip',\n",
       " '/Users/jill/Downloads/2020_Project/DE1.0_Data/sample_14/176533_DE1_0_2008_to_2010_Inpatient_Claims_Sample_14.zip',\n",
       " '/Users/jill/Downloads/2020_Project/DE1.0_Data/sample_14/176598_DE1_0_2010_Beneficiary_Summary_File_Sample_14.zip',\n",
       " '/Users/jill/Downloads/2020_Project/DE1.0_Data/sample_14/DE1_0_2008_to_2010_Prescription_Drug_Events_Sample_14.zip',\n",
       " '/Users/jill/Downloads/2020_Project/DE1.0_Data/sample_14/176553_DE1_0_2008_to_2010_Outpatient_Claims_Sample_14.zip',\n",
       " '/Users/jill/Downloads/2020_Project/DE1.0_Data/sample_14/176584_DE1_0_2009_Beneficiary_Summary_File_Sample_14.zip',\n",
       " '/Users/jill/Downloads/2020_Project/DE1.0_Data/sample_14/DE1_0_2008_to_2010_Carrier_Claims_Sample_14B.zip',\n",
       " '/Users/jill/Downloads/2020_Project/DE1.0_Data/sample_14/DE1_0_2008_to_2010_Carrier_Claims_Sample_14A.zip',\n",
       " '/Users/jill/Downloads/2020_Project/DE1.0_Data/sample_13/176567_DE1_0_2008_to_2010_Outpatient_Claims_Sample_13.zip',\n",
       " '/Users/jill/Downloads/2020_Project/DE1.0_Data/sample_13/176617_DE1_0_2009_Beneficiary_Summary_File_Sample_13.zip',\n",
       " '/Users/jill/Downloads/2020_Project/DE1.0_Data/sample_13/DE1_0_2008_to_2010_Carrier_Claims_Sample_13B.zip',\n",
       " '/Users/jill/Downloads/2020_Project/DE1.0_Data/sample_13/DE1_0_2008_to_2010_Carrier_Claims_Sample_13A.zip',\n",
       " '/Users/jill/Downloads/2020_Project/DE1.0_Data/sample_13/DE1_0_2008_to_2010_Prescription_Drug_Events_Sample_13.zip',\n",
       " '/Users/jill/Downloads/2020_Project/DE1.0_Data/sample_13/176540_DE1_0_2010_Beneficiary_Summary_File_Sample_13.zip',\n",
       " '/Users/jill/Downloads/2020_Project/DE1.0_Data/sample_13/176561_DE1_0_2008_Beneficiary_Summary_File_Sample_13.zip',\n",
       " '/Users/jill/Downloads/2020_Project/DE1.0_Data/sample_13/176596_DE1_0_2008_to_2010_Inpatient_Claims_Sample_13.zip',\n",
       " '/Users/jill/Downloads/2020_Project/DE1.0_Data/sample_12/176552_DE1_0_2010_Beneficiary_Summary_File_Sample_12.zip',\n",
       " '/Users/jill/Downloads/2020_Project/DE1.0_Data/sample_12/176591_DE1_0_2008_Beneficiary_Summary_File_Sample_12.zip',\n",
       " '/Users/jill/Downloads/2020_Project/DE1.0_Data/sample_12/176555_DE1_0_2008_to_2010_Inpatient_Claims_Sample_12.zip',\n",
       " '/Users/jill/Downloads/2020_Project/DE1.0_Data/sample_12/DE1_0_2008_to_2010_Carrier_Claims_Sample_12A.zip',\n",
       " '/Users/jill/Downloads/2020_Project/DE1.0_Data/sample_12/DE1_0_2008_to_2010_Prescription_Drug_Events_Sample_12.zip',\n",
       " '/Users/jill/Downloads/2020_Project/DE1.0_Data/sample_12/DE1_0_2008_to_2010_Carrier_Claims_Sample_12B.zip',\n",
       " '/Users/jill/Downloads/2020_Project/DE1.0_Data/sample_12/176568_DE1_0_2008_to_2010_Outpatient_Claims_Sample_12.zip',\n",
       " '/Users/jill/Downloads/2020_Project/DE1.0_Data/sample_12/176571_DE1_0_2009_Beneficiary_Summary_File_Sample_12.zip',\n",
       " '/Users/jill/Downloads/2020_Project/DE1.0_Data/sample_15/176570_DE1_0_2008_to_2010_Outpatient_Claims_Sample_15.zip',\n",
       " '/Users/jill/Downloads/2020_Project/DE1.0_Data/sample_15/176534_DE1_0_2010_Beneficiary_Summary_File_Sample_15.zip',\n",
       " '/Users/jill/Downloads/2020_Project/DE1.0_Data/sample_15/176621_DE1_0_2008_Beneficiary_Summary_File_Sample_15.zip',\n",
       " '/Users/jill/Downloads/2020_Project/DE1.0_Data/sample_15/DE1_0_2008_to_2010_Prescription_Drug_Events_Sample_15.zip',\n",
       " '/Users/jill/Downloads/2020_Project/DE1.0_Data/sample_15/176578_DE1_0_2008_to_2010_Inpatient_Claims_Sample_15.zip',\n",
       " '/Users/jill/Downloads/2020_Project/DE1.0_Data/sample_15/DE1_0_2008_to_2010_Carrier_Claims_Sample_15A.zip',\n",
       " '/Users/jill/Downloads/2020_Project/DE1.0_Data/sample_15/DE1_0_2008_to_2010_Carrier_Claims_Sample_15B.zip',\n",
       " '/Users/jill/Downloads/2020_Project/DE1.0_Data/sample_15/176543_DE1_0_2009_Beneficiary_Summary_File_Sample_15.zip']"
      ]
     },
     "execution_count": 67,
     "metadata": {},
     "output_type": "execute_result"
    }
   ],
   "source": [
    "filelst"
   ]
  },
  {
   "cell_type": "code",
   "execution_count": 134,
   "metadata": {},
   "outputs": [],
   "source": [
    "benefician_lst = [f for f in filelst if \"Beneficiary_Summary\" in f]"
   ]
  },
  {
   "cell_type": "code",
   "execution_count": 135,
   "metadata": {},
   "outputs": [
    {
     "data": {
      "text/plain": [
       "60"
      ]
     },
     "execution_count": 135,
     "metadata": {},
     "output_type": "execute_result"
    }
   ],
   "source": [
    "len (benefician_lst)"
   ]
  },
  {
   "cell_type": "code",
   "execution_count": 167,
   "metadata": {},
   "outputs": [],
   "source": [
    "def sublst(lstname,filelst):\n",
    "    return [f for f in filelst if lstname in f]\n",
    "        "
   ]
  },
  {
   "cell_type": "code",
   "execution_count": 137,
   "metadata": {},
   "outputs": [],
   "source": [
    "benefician_lst,inpatient_lst,outpatient_lst,carrier_lst,pde_lst = sublst(\"Beneficiary_Summary\"),sublst(\"Inpatient\"),sublst(\"Outpatient\"),sublst(\"Carrier\"),sublst(\"Prescription\")"
   ]
  },
  {
   "cell_type": "code",
   "execution_count": 138,
   "metadata": {},
   "outputs": [
    {
     "data": {
      "text/plain": [
       "(60, 20, 20, 40, 20)"
      ]
     },
     "execution_count": 138,
     "metadata": {},
     "output_type": "execute_result"
    }
   ],
   "source": [
    "len(benefician_lst),len(inpatient_lst),len(outpatient_lst),len(carrier_lst),len(pde_lst)"
   ]
  },
  {
   "cell_type": "code",
   "execution_count": 139,
   "metadata": {},
   "outputs": [],
   "source": [
    "def unzip_file(filepath):\n",
    "    for f in filepath:\n",
    "        zip_obj = zipfile.ZipFile(f,'r')\n",
    "        zip_obj.extractall(outpath)\n",
    "        zip_obj.close()\n",
    "    "
   ]
  },
  {
   "cell_type": "code",
   "execution_count": 140,
   "metadata": {},
   "outputs": [],
   "source": [
    "outpath = startpath+\"/integrated_data/Beneficiary_Summary\"\n",
    "unzip_file(benefician_lst)"
   ]
  },
  {
   "cell_type": "code",
   "execution_count": 141,
   "metadata": {},
   "outputs": [],
   "source": [
    "sub_lst = [benefician_lst,inpatient_lst,outpatient_lst,carrier_lst,pde_lst]"
   ]
  },
  {
   "cell_type": "code",
   "execution_count": 142,
   "metadata": {},
   "outputs": [],
   "source": [
    "def unzip_file(startpath,sub_lst,subfolder):\n",
    "    for i in range(5):\n",
    "        outpath = startpath+subfolder[i]\n",
    "        filepath = sub_lst[i]\n",
    "        for f in filepath:\n",
    "            zip_obj = zipfile.ZipFile(f,'r')\n",
    "            zip_obj.extractall(outpath)\n",
    "    zip_obj.close()     "
   ]
  },
  {
   "cell_type": "code",
   "execution_count": 145,
   "metadata": {},
   "outputs": [],
   "source": [
    "# Unzip the files to out path. \n",
    "sub_lst = [benefician_lst,inpatient_lst,outpatient_lst,carrier_lst,pde_lst]\n",
    "subfolder = ['Beneficiary_Summary','inpatient_claim','outpatient_claim',\"carrier_claim\",\"pde_claim\"]\n",
    "startpath = \"/Users/jill/Downloads/2020_Project/integrated_data/\"\n",
    "unzip_file(startpath,sub_lst,subfolder)"
   ]
  },
  {
   "cell_type": "markdown",
   "metadata": {},
   "source": [
    "## 2. Concat dataset"
   ]
  },
  {
   "cell_type": "code",
   "execution_count": 3,
   "metadata": {},
   "outputs": [],
   "source": [
    "from pyspark.sql import SparkSession \n",
    "spark = SparkSession.builder.master(\"local[*]\").getOrCreate()"
   ]
  },
  {
   "cell_type": "code",
   "execution_count": 4,
   "metadata": {},
   "outputs": [
    {
     "data": {
      "text/plain": [
       "DataFrame[DESYNPUF_ID: string, CLM_ID: bigint, SEGMENT: int, CLM_FROM_DT: int, CLM_THRU_DT: int, PRVDR_NUM: string, CLM_PMT_AMT: double, NCH_PRMRY_PYR_CLM_PD_AMT: double, AT_PHYSN_NPI: bigint, OP_PHYSN_NPI: bigint, OT_PHYSN_NPI: bigint, CLM_ADMSN_DT: int, ADMTNG_ICD9_DGNS_CD: string, CLM_PASS_THRU_PER_DIEM_AMT: double, NCH_BENE_IP_DDCTBL_AMT: double, NCH_BENE_PTA_COINSRNC_LBLTY_AM: double, NCH_BENE_BLOOD_DDCTBL_LBLTY_AM: double, CLM_UTLZTN_DAY_CNT: int, NCH_BENE_DSCHRG_DT: int, CLM_DRG_CD: string, ICD9_DGNS_CD_1: string, ICD9_DGNS_CD_2: string, ICD9_DGNS_CD_3: string, ICD9_DGNS_CD_4: string, ICD9_DGNS_CD_5: string, ICD9_DGNS_CD_6: string, ICD9_DGNS_CD_7: string, ICD9_DGNS_CD_8: string, ICD9_DGNS_CD_9: string, ICD9_DGNS_CD_10: string, ICD9_PRCDR_CD_1: int, ICD9_PRCDR_CD_2: string, ICD9_PRCDR_CD_3: string, ICD9_PRCDR_CD_4: string, ICD9_PRCDR_CD_5: string, ICD9_PRCDR_CD_6: string, HCPCS_CD_1: string, HCPCS_CD_2: string, HCPCS_CD_3: string, HCPCS_CD_4: string, HCPCS_CD_5: string, HCPCS_CD_6: string, HCPCS_CD_7: string, HCPCS_CD_8: string, HCPCS_CD_9: string, HCPCS_CD_10: string, HCPCS_CD_11: string, HCPCS_CD_12: string, HCPCS_CD_13: string, HCPCS_CD_14: string, HCPCS_CD_15: string, HCPCS_CD_16: string, HCPCS_CD_17: string, HCPCS_CD_18: string, HCPCS_CD_19: string, HCPCS_CD_20: string, HCPCS_CD_21: string, HCPCS_CD_22: string, HCPCS_CD_23: string, HCPCS_CD_24: string, HCPCS_CD_25: string, HCPCS_CD_26: string, HCPCS_CD_27: string, HCPCS_CD_28: string, HCPCS_CD_29: string, HCPCS_CD_30: string, HCPCS_CD_31: string, HCPCS_CD_32: string, HCPCS_CD_33: string, HCPCS_CD_34: string, HCPCS_CD_35: string, HCPCS_CD_36: string, HCPCS_CD_37: string, HCPCS_CD_38: string, HCPCS_CD_39: string, HCPCS_CD_40: string, HCPCS_CD_41: string, HCPCS_CD_42: string, HCPCS_CD_43: string, HCPCS_CD_44: string, HCPCS_CD_45: string]"
      ]
     },
     "metadata": {},
     "output_type": "display_data"
    }
   ],
   "source": [
    "startpath = \"/Users/jill/Downloads/2020_Project/integrated_data\"\n",
    "file_location = startpath+\"/inpatient_claim/DE1_0_2008_to_2010_Inpatient_Claims_Sample_1.csv\"\n",
    "df = spark.read.format(\"csv\").option(\"inferSchema\", \n",
    "           True).option(\"header\", True).load(file_location)\n",
    "display(df)"
   ]
  },
  {
   "cell_type": "code",
   "execution_count": 5,
   "metadata": {},
   "outputs": [
    {
     "name": "stdout",
     "output_type": "stream",
     "text": [
      "+----------------+---------------+-------+-----------+-----------+---------+-----------+------------------------+------------+------------+------------+------------+-------------------+--------------------------+----------------------+------------------------------+------------------------------+------------------+------------------+----------+--------------+--------------+--------------+--------------+--------------+--------------+--------------+--------------+--------------+---------------+---------------+---------------+---------------+---------------+---------------+---------------+----------+----------+----------+----------+----------+----------+----------+----------+----------+-----------+-----------+-----------+-----------+-----------+-----------+-----------+-----------+-----------+-----------+-----------+-----------+-----------+-----------+-----------+-----------+-----------+-----------+-----------+-----------+-----------+-----------+-----------+-----------+-----------+-----------+-----------+-----------+-----------+-----------+-----------+-----------+-----------+-----------+-----------+-----------+\n",
      "|DESYNPUF_ID     |CLM_ID         |SEGMENT|CLM_FROM_DT|CLM_THRU_DT|PRVDR_NUM|CLM_PMT_AMT|NCH_PRMRY_PYR_CLM_PD_AMT|AT_PHYSN_NPI|OP_PHYSN_NPI|OT_PHYSN_NPI|CLM_ADMSN_DT|ADMTNG_ICD9_DGNS_CD|CLM_PASS_THRU_PER_DIEM_AMT|NCH_BENE_IP_DDCTBL_AMT|NCH_BENE_PTA_COINSRNC_LBLTY_AM|NCH_BENE_BLOOD_DDCTBL_LBLTY_AM|CLM_UTLZTN_DAY_CNT|NCH_BENE_DSCHRG_DT|CLM_DRG_CD|ICD9_DGNS_CD_1|ICD9_DGNS_CD_2|ICD9_DGNS_CD_3|ICD9_DGNS_CD_4|ICD9_DGNS_CD_5|ICD9_DGNS_CD_6|ICD9_DGNS_CD_7|ICD9_DGNS_CD_8|ICD9_DGNS_CD_9|ICD9_DGNS_CD_10|ICD9_PRCDR_CD_1|ICD9_PRCDR_CD_2|ICD9_PRCDR_CD_3|ICD9_PRCDR_CD_4|ICD9_PRCDR_CD_5|ICD9_PRCDR_CD_6|HCPCS_CD_1|HCPCS_CD_2|HCPCS_CD_3|HCPCS_CD_4|HCPCS_CD_5|HCPCS_CD_6|HCPCS_CD_7|HCPCS_CD_8|HCPCS_CD_9|HCPCS_CD_10|HCPCS_CD_11|HCPCS_CD_12|HCPCS_CD_13|HCPCS_CD_14|HCPCS_CD_15|HCPCS_CD_16|HCPCS_CD_17|HCPCS_CD_18|HCPCS_CD_19|HCPCS_CD_20|HCPCS_CD_21|HCPCS_CD_22|HCPCS_CD_23|HCPCS_CD_24|HCPCS_CD_25|HCPCS_CD_26|HCPCS_CD_27|HCPCS_CD_28|HCPCS_CD_29|HCPCS_CD_30|HCPCS_CD_31|HCPCS_CD_32|HCPCS_CD_33|HCPCS_CD_34|HCPCS_CD_35|HCPCS_CD_36|HCPCS_CD_37|HCPCS_CD_38|HCPCS_CD_39|HCPCS_CD_40|HCPCS_CD_41|HCPCS_CD_42|HCPCS_CD_43|HCPCS_CD_44|HCPCS_CD_45|\n",
      "+----------------+---------------+-------+-----------+-----------+---------+-----------+------------------------+------------+------------+------------+------------+-------------------+--------------------------+----------------------+------------------------------+------------------------------+------------------+------------------+----------+--------------+--------------+--------------+--------------+--------------+--------------+--------------+--------------+--------------+---------------+---------------+---------------+---------------+---------------+---------------+---------------+----------+----------+----------+----------+----------+----------+----------+----------+----------+-----------+-----------+-----------+-----------+-----------+-----------+-----------+-----------+-----------+-----------+-----------+-----------+-----------+-----------+-----------+-----------+-----------+-----------+-----------+-----------+-----------+-----------+-----------+-----------+-----------+-----------+-----------+-----------+-----------+-----------+-----------+-----------+-----------+-----------+-----------+-----------+\n",
      "|00013D2EFD8E45D1|196661176988405|1      |20100312   |20100313   |2600GD   |4000.0     |0.0                     |3139083564  |null        |null        |20100312    |4580               |0.0                       |1100.0                |0.0                           |0.0                           |1                 |20100313          |217       |7802          |78820         |V4501         |4280          |2720          |4019          |V4502         |73300         |E9330         |null           |null           |null           |null           |null           |null           |null           |null      |null      |null      |null      |null      |null      |null      |null      |null      |null       |null       |null       |null       |null       |null       |null       |null       |null       |null       |null       |null       |null       |null       |null       |null       |null       |null       |null       |null       |null       |null       |null       |null       |null       |null       |null       |null       |null       |null       |null       |null       |null       |null       |null       |null       |\n",
      "|00016F745862898F|196201177000368|1      |20090412   |20090418   |3900MB   |26000.0    |0.0                     |6476809087  |null        |null        |20090412    |7866               |0.0                       |1068.0                |0.0                           |0.0                           |6                 |20090418          |201       |1970          |4019          |5853          |7843          |2768          |71590         |2724          |19889         |5849          |null           |null           |null           |null           |null           |null           |null           |null      |null      |null      |null      |null      |null      |null      |null      |null      |null       |null       |null       |null       |null       |null       |null       |null       |null       |null       |null       |null       |null       |null       |null       |null       |null       |null       |null       |null       |null       |null       |null       |null       |null       |null       |null       |null       |null       |null       |null       |null       |null       |null       |null       |null       |\n",
      "|00016F745862898F|196661177015632|1      |20090831   |20090902   |3900HM   |5000.0     |0.0                     |611998537   |611998537   |null        |20090831    |6186               |0.0                       |1068.0                |0.0                           |0.0                           |2                 |20090902          |750       |6186          |2948          |56400         |null          |null          |null          |null          |null          |null          |null           |7092           |6186           |V5866          |null           |null           |null           |null      |null      |null      |null      |null      |null      |null      |null      |null      |null       |null       |null       |null       |null       |null       |null       |null       |null       |null       |null       |null       |null       |null       |null       |null       |null       |null       |null       |null       |null       |null       |null       |null       |null       |null       |null       |null       |null       |null       |null       |null       |null       |null       |null       |null       |\n",
      "|00016F745862898F|196091176981058|1      |20090917   |20090920   |3913XU   |5000.0     |0.0                     |4971602784  |null        |1119000316  |20090917    |29590              |0.0                       |1068.0                |0.0                           |0.0                           |3                 |20090920          |883       |29623         |30390         |71690         |34590         |V1581         |32723         |null          |null          |null          |null           |null           |null           |null           |null           |null           |null           |null      |null      |null      |null      |null      |null      |null      |null      |null      |null       |null       |null       |null       |null       |null       |null       |null       |null       |null       |null       |null       |null       |null       |null       |null       |null       |null       |null       |null       |null       |null       |null       |null       |null       |null       |null       |null       |null       |null       |null       |null       |null       |null       |null       |null       |\n",
      "|00016F745862898F|196261176983265|1      |20100626   |20100701   |3900MB   |16000.0    |0.0                     |6408400473  |1960859579  |null        |20100626    |5849               |0.0                       |1100.0                |0.0                           |0.0                           |5                 |20100701          |983       |3569          |4019          |3542          |V8801         |78820         |2639          |7840          |7856          |4271          |null           |null           |E8889          |null           |null           |null           |null           |null      |null      |null      |null      |null      |null      |null      |null      |null      |null       |null       |null       |null       |null       |null       |null       |null       |null       |null       |null       |null       |null       |null       |null       |null       |null       |null       |null       |null       |null       |null       |null       |null       |null       |null       |null       |null       |null       |null       |null       |null       |null       |null       |null       |null       |\n",
      "|00052705243EA128|196991176971757|1      |20080912   |20080912   |1401HG   |14000.0    |0.0                     |6132010904  |null        |null        |20080912    |78079              |0.0                       |1024.0                |0.0                           |0.0                           |1                 |20080912          |201       |486           |3004          |42731         |42830         |2724          |V4581         |4019          |null          |null          |null           |null           |null           |null           |null           |null           |null           |null      |null      |null      |null      |null      |null      |null      |null      |null      |null       |null       |null       |null       |null       |null       |null       |null       |null       |null       |null       |null       |null       |null       |null       |null       |null       |null       |null       |null       |null       |null       |null       |null       |null       |null       |null       |null       |null       |null       |null       |null       |null       |null       |null       |null       |\n",
      "|0007F12A492FD25D|196661176963773|1      |20080919   |20080922   |3400WD   |5000.0     |0.0                     |8956735757  |6551008003  |null        |20080919    |78097              |0.0                       |1024.0                |0.0                           |0.0                           |3                 |20080922          |951       |33811         |53550         |42820         |496           |V1259         |42731         |78729         |V103          |34290         |null           |8659           |null           |null           |null           |null           |null           |null      |null      |null      |null      |null      |null      |null      |null      |null      |null       |null       |null       |null       |null       |null       |null       |null       |null       |null       |null       |null       |null       |null       |null       |null       |null       |null       |null       |null       |null       |null       |null       |null       |null       |null       |null       |null       |null       |null       |null       |null       |null       |null       |null       |null       |\n",
      "|0007F12A492FD25D|196821177025734|1      |20100602   |20100606   |34S0KQ   |5000.0     |0.0                     |5838958809  |null        |null        |20100602    |49392              |0.0                       |1100.0                |0.0                           |0.0                           |4                 |20100606          |205       |49121         |25002         |2662          |04111         |4280          |4659          |null          |null          |null          |null           |null           |null           |null           |null           |null           |null           |null      |null      |null      |null      |null      |null      |null      |null      |null      |null       |null       |null       |null       |null       |null       |null       |null       |null       |null       |null       |null       |null       |null       |null       |null       |null       |null       |null       |null       |null       |null       |null       |null       |null       |null       |null       |null       |null       |null       |null       |null       |null       |null       |null       |null       |\n",
      "|0007F12A492FD25D|196551177025145|1      |20100522   |20100612   |3400WD   |14000.0    |0.0                     |1907446990  |null        |null        |20100522    |V5789              |0.0                       |null                  |0.0                           |0.0                           |21                |20100612          |950       |V5789         |4279          |2449          |2761          |25000         |5845          |4019          |04189         |78729         |null           |null           |null           |null           |null           |null           |null           |null      |null      |null      |null      |null      |null      |null      |null      |null      |null       |null       |null       |null       |null       |null       |null       |null       |null       |null       |null       |null       |null       |null       |null       |null       |null       |null       |null       |null       |null       |null       |null       |null       |null       |null       |null       |null       |null       |null       |null       |null       |null       |null       |null       |null       |\n",
      "|0007F12A492FD25D|196831176966961|1      |20100616   |20100619   |3401ZP   |29000.0    |0.0                     |4959466403  |8002609409  |null        |20100616    |99641              |0.0                       |1100.0                |0.0                           |0.0                           |3                 |20100619          |456       |7366          |V4365         |04104         |V145          |2724          |2720          |53081         |V5866         |4254          |496            |73             |311            |null           |null           |null           |null           |null      |null      |null      |null      |null      |null      |null      |null      |null      |null       |null       |null       |null       |null       |null       |null       |null       |null       |null       |null       |null       |null       |null       |null       |null       |null       |null       |null       |null       |null       |null       |null       |null       |null       |null       |null       |null       |null       |null       |null       |null       |null       |null       |null       |null       |\n",
      "|000B97BA2314E971|196231176958277|1      |20091209   |20091213   |2200GD   |2000.0     |0.0                     |3115083157  |null        |null        |20091209    |4019               |0.0                       |1068.0                |0.0                           |0.0                           |4                 |20091213          |241       |4010          |78791         |60000         |41401         |V1254         |4372          |78650         |7813          |4254          |null           |null           |null           |null           |null           |null           |null           |null      |null      |null      |null      |null      |null      |null      |null      |null      |null       |null       |null       |null       |null       |null       |null       |null       |null       |null       |null       |null       |null       |null       |null       |null       |null       |null       |null       |null       |null       |null       |null       |null       |null       |null       |null       |null       |null       |null       |null       |null       |null       |null       |null       |null       |\n",
      "|000C7486B11E7030|196641176984178|1      |20081015   |20081021   |4400MM   |30000.0    |0.0                     |5520894646  |6142535054  |6786236779  |20081015    |4260               |0.0                       |1024.0                |0.0                           |0.0                           |6                 |20081021          |308       |42781         |41400         |4260          |5849          |2720          |78551         |99591         |4019          |25000         |null           |50             |4280           |40390          |5180           |null           |null           |null      |null      |null      |null      |null      |null      |null      |null      |null      |null       |null       |null       |null       |null       |null       |null       |null       |null       |null       |null       |null       |null       |null       |null       |null       |null       |null       |null       |null       |null       |null       |null       |null       |null       |null       |null       |null       |null       |null       |null       |null       |null       |null       |null       |null       |\n",
      "|00108066CA1FACCE|196501176978540|1      |20090930   |20091007   |0300CC   |30000.0    |0.0                     |1521516773  |null        |null        |20090930    |29590              |0.0                       |1068.0                |0.0                           |0.0                           |7                 |20091007          |876       |29623         |2875          |27651         |7245          |60000         |7220          |53081         |4019          |30523         |null           |null           |null           |null           |null           |null           |null           |null      |null      |null      |null      |null      |null      |null      |null      |null      |null       |null       |null       |null       |null       |null       |null       |null       |null       |null       |null       |null       |null       |null       |null       |null       |null       |null       |null       |null       |null       |null       |null       |null       |null       |null       |null       |null       |null       |null       |null       |null       |null       |null       |null       |null       |\n",
      "|0011714C14B52EEB|196511177006504|1      |20090826   |20090829   |3800YA   |3000.0     |0.0                     |4256485181  |4317374175  |null        |20090826    |72989              |50.0                      |1068.0                |0.0                           |0.0                           |3                 |20090829          |030       |43411         |27651         |2724          |36236         |78459         |4019          |71589         |42731         |43310         |null           |9904           |4019           |53081          |null           |null           |null           |null      |null      |null      |null      |null      |null      |null      |null      |null      |null       |null       |null       |null       |null       |null       |null       |null       |null       |null       |null       |null       |null       |null       |null       |null       |null       |null       |null       |null       |null       |null       |null       |null       |null       |null       |null       |null       |null       |null       |null       |null       |null       |null       |null       |null       |\n",
      "|0011CB1FE23E91AF|196851176958774|1      |20080421   |20080426   |2000HG   |3000.0     |0.0                     |1117398893  |null        |null        |20080421    |42731              |0.0                       |1024.0                |0.0                           |0.0                           |5                 |20080426          |259       |42789         |2948          |42731         |71590         |25000         |V1046         |4019          |53081         |null          |null           |null           |null           |null           |null           |null           |null           |null      |null      |null      |null      |null      |null      |null      |null      |null      |null       |null       |null       |null       |null       |null       |null       |null       |null       |null       |null       |null       |null       |null       |null       |null       |null       |null       |null       |null       |null       |null       |null       |null       |null       |null       |null       |null       |null       |null       |null       |null       |null       |null       |null       |null       |\n",
      "|0011CB1FE23E91AF|196091176985832|1      |20080426   |20080430   |2013RT   |8000.0     |0.0                     |8156577394  |6967907523  |null        |20080426    |5693               |0.0                       |null                  |0.0                           |0.0                           |4                 |20080430          |371       |5781          |42731         |2724          |2768          |00845         |2851          |4011          |41401         |3310          |null           |4523           |29410          |V1259          |V4976          |null           |null           |null      |null      |null      |null      |null      |null      |null      |null      |null      |null       |null       |null       |null       |null       |null       |null       |null       |null       |null       |null       |null       |null       |null       |null       |null       |null       |null       |null       |null       |null       |null       |null       |null       |null       |null       |null       |null       |null       |null       |null       |null       |null       |null       |null       |null       |\n",
      "|00139C345A104F72|196731177023597|1      |20090610   |20090615   |10S0SU   |6000.0     |0.0                     |5827238413  |null        |null        |20090610    |49121              |0.0                       |1068.0                |0.0                           |0.0                           |5                 |20090615          |202       |49121         |2752          |7812          |71690         |311           |53081         |null          |null          |null          |null           |null           |null           |null           |null           |null           |null           |null      |null      |null      |null      |null      |null      |null      |null      |null      |null       |null       |null       |null       |null       |null       |null       |null       |null       |null       |null       |null       |null       |null       |null       |null       |null       |null       |null       |null       |null       |null       |null       |null       |null       |null       |null       |null       |null       |null       |null       |null       |null       |null       |null       |null       |\n",
      "|00139C345A104F72|196691176984309|1      |20091207   |20091213   |10S0SU   |17000.0    |0.0                     |9894972065  |9894972065  |null        |20091207    |51881              |0.0                       |1068.0                |0.0                           |0.0                           |6                 |20091213          |165       |51881         |2859          |4659          |4241          |5184          |99811         |40391         |4275          |4239          |null           |9671           |2724           |49121          |null           |null           |null           |null      |null      |null      |null      |null      |null      |null      |null      |null      |null       |null       |null       |null       |null       |null       |null       |null       |null       |null       |null       |null       |null       |null       |null       |null       |null       |null       |null       |null       |null       |null       |null       |null       |null       |null       |null       |null       |null       |null       |null       |null       |null       |null       |null       |null       |\n",
      "|0013E139F1F37264|196141176989106|1      |20100830   |20100907   |2600XR   |3000.0     |5000.0                  |3771255921  |null        |3910833464  |20100830    |8738               |0.0                       |1100.0                |0.0                           |0.0                           |8                 |20100907          |238       |4280          |3051          |25000         |5853          |41401         |4240          |311           |V4501         |40390         |null           |null           |null           |null           |null           |null           |null           |null      |null      |null      |null      |null      |null      |null      |null      |null      |null       |null       |null       |null       |null       |null       |null       |null       |null       |null       |null       |null       |null       |null       |null       |null       |null       |null       |null       |null       |null       |null       |null       |null       |null       |null       |null       |null       |null       |null       |null       |null       |null       |null       |null       |null       |\n",
      "|00157F1570C74E09|196381176974293|1      |20090626   |20090630   |4500WC   |9000.0     |0.0                     |7360289803  |6590281685  |null        |20090626    |82100              |70.0                      |1068.0                |0.0                           |0.0                           |4                 |20090630          |482       |82021         |E8859         |73300         |4019          |E8844         |40390         |27651         |null          |null          |null           |7935           |null           |null           |null           |null           |null           |null      |null      |null      |null      |null      |null      |null      |null      |null      |null       |null       |null       |null       |null       |null       |null       |null       |null       |null       |null       |null       |null       |null       |null       |null       |null       |null       |null       |null       |null       |null       |null       |null       |null       |null       |null       |null       |null       |null       |null       |null       |null       |null       |null       |null       |\n",
      "+----------------+---------------+-------+-----------+-----------+---------+-----------+------------------------+------------+------------+------------+------------+-------------------+--------------------------+----------------------+------------------------------+------------------------------+------------------+------------------+----------+--------------+--------------+--------------+--------------+--------------+--------------+--------------+--------------+--------------+---------------+---------------+---------------+---------------+---------------+---------------+---------------+----------+----------+----------+----------+----------+----------+----------+----------+----------+-----------+-----------+-----------+-----------+-----------+-----------+-----------+-----------+-----------+-----------+-----------+-----------+-----------+-----------+-----------+-----------+-----------+-----------+-----------+-----------+-----------+-----------+-----------+-----------+-----------+-----------+-----------+-----------+-----------+-----------+-----------+-----------+-----------+-----------+-----------+-----------+\n",
      "only showing top 20 rows\n",
      "\n"
     ]
    }
   ],
   "source": [
    "df.show(truncate=0)"
   ]
  },
  {
   "cell_type": "code",
   "execution_count": 6,
   "metadata": {},
   "outputs": [],
   "source": [
    "df1 = df.toPandas()"
   ]
  },
  {
   "cell_type": "code",
   "execution_count": 7,
   "metadata": {},
   "outputs": [
    {
     "data": {
      "text/plain": [
       "(66773, 81)"
      ]
     },
     "execution_count": 7,
     "metadata": {},
     "output_type": "execute_result"
    }
   ],
   "source": [
    "df1.shape"
   ]
  },
  {
   "cell_type": "code",
   "execution_count": 8,
   "metadata": {},
   "outputs": [
    {
     "data": {
      "text/plain": [
       "DataFrame[DESYNPUF_ID: string, CLM_ID: bigint, SEGMENT: int, CLM_FROM_DT: int, CLM_THRU_DT: int, PRVDR_NUM: string, CLM_PMT_AMT: double, NCH_PRMRY_PYR_CLM_PD_AMT: double, AT_PHYSN_NPI: bigint, OP_PHYSN_NPI: bigint, OT_PHYSN_NPI: bigint, CLM_ADMSN_DT: int, ADMTNG_ICD9_DGNS_CD: string, CLM_PASS_THRU_PER_DIEM_AMT: double, NCH_BENE_IP_DDCTBL_AMT: double, NCH_BENE_PTA_COINSRNC_LBLTY_AM: double, NCH_BENE_BLOOD_DDCTBL_LBLTY_AM: double, CLM_UTLZTN_DAY_CNT: int, NCH_BENE_DSCHRG_DT: int, CLM_DRG_CD: string, ICD9_DGNS_CD_1: string, ICD9_DGNS_CD_2: string, ICD9_DGNS_CD_3: string, ICD9_DGNS_CD_4: string, ICD9_DGNS_CD_5: string, ICD9_DGNS_CD_6: string, ICD9_DGNS_CD_7: string, ICD9_DGNS_CD_8: string, ICD9_DGNS_CD_9: string, ICD9_DGNS_CD_10: string, ICD9_PRCDR_CD_1: int, ICD9_PRCDR_CD_2: string, ICD9_PRCDR_CD_3: string, ICD9_PRCDR_CD_4: string, ICD9_PRCDR_CD_5: string, ICD9_PRCDR_CD_6: string, HCPCS_CD_1: string, HCPCS_CD_2: string, HCPCS_CD_3: string, HCPCS_CD_4: string, HCPCS_CD_5: string, HCPCS_CD_6: string, HCPCS_CD_7: string, HCPCS_CD_8: string, HCPCS_CD_9: string, HCPCS_CD_10: string, HCPCS_CD_11: string, HCPCS_CD_12: string, HCPCS_CD_13: string, HCPCS_CD_14: string, HCPCS_CD_15: string, HCPCS_CD_16: string, HCPCS_CD_17: string, HCPCS_CD_18: string, HCPCS_CD_19: string, HCPCS_CD_20: string, HCPCS_CD_21: string, HCPCS_CD_22: string, HCPCS_CD_23: string, HCPCS_CD_24: string, HCPCS_CD_25: string, HCPCS_CD_26: string, HCPCS_CD_27: string, HCPCS_CD_28: string, HCPCS_CD_29: string, HCPCS_CD_30: string, HCPCS_CD_31: string, HCPCS_CD_32: string, HCPCS_CD_33: string, HCPCS_CD_34: string, HCPCS_CD_35: string, HCPCS_CD_36: string, HCPCS_CD_37: string, HCPCS_CD_38: string, HCPCS_CD_39: string, HCPCS_CD_40: string, HCPCS_CD_41: string, HCPCS_CD_42: string, HCPCS_CD_43: string, HCPCS_CD_44: string, HCPCS_CD_45: string]"
      ]
     },
     "metadata": {},
     "output_type": "display_data"
    }
   ],
   "source": [
    "file_location = startpath+\"/inpatient_claim/DE1_0_2008_to_2010_Inpatient_Claims_Sample_2.csv\"\n",
    "df_2 = spark.read.format(\"csv\").option(\"inferSchema\", \n",
    "           True).option(\"header\", True).load(file_location)\n",
    "display(df_2)"
   ]
  },
  {
   "cell_type": "code",
   "execution_count": 9,
   "metadata": {},
   "outputs": [],
   "source": [
    "df2 = df_2.toPandas()"
   ]
  },
  {
   "cell_type": "code",
   "execution_count": 10,
   "metadata": {},
   "outputs": [
    {
     "data": {
      "text/plain": [
       "(66494, 81)"
      ]
     },
     "execution_count": 10,
     "metadata": {},
     "output_type": "execute_result"
    }
   ],
   "source": [
    "df2.shape"
   ]
  },
  {
   "cell_type": "code",
   "execution_count": 11,
   "metadata": {},
   "outputs": [
    {
     "data": {
      "text/plain": [
       "133267"
      ]
     },
     "execution_count": 11,
     "metadata": {},
     "output_type": "execute_result"
    }
   ],
   "source": [
    "df2.shape[0]+df1.shape[0]"
   ]
  },
  {
   "cell_type": "code",
   "execution_count": 12,
   "metadata": {},
   "outputs": [
    {
     "data": {
      "text/plain": [
       "True"
      ]
     },
     "execution_count": 12,
     "metadata": {},
     "output_type": "execute_result"
    }
   ],
   "source": [
    "df1.columns.tolist() ==df2.columns.tolist()"
   ]
  },
  {
   "cell_type": "code",
   "execution_count": 13,
   "metadata": {},
   "outputs": [],
   "source": [
    "df_3 = df.union(df_2)"
   ]
  },
  {
   "cell_type": "code",
   "execution_count": 31,
   "metadata": {},
   "outputs": [],
   "source": [
    "df_3.write.save(\"/Users/jill/Downloads/2020_Project/integrated_data/inpatient_claim/df_3\")"
   ]
  },
  {
   "cell_type": "code",
   "execution_count": 14,
   "metadata": {},
   "outputs": [],
   "source": [
    "df3 = df_3.toPandas()"
   ]
  },
  {
   "cell_type": "code",
   "execution_count": 32,
   "metadata": {},
   "outputs": [
    {
     "data": {
      "text/plain": [
       "DataFrame[DESYNPUF_ID: string, CLM_ID: bigint, SEGMENT: int, CLM_FROM_DT: int, CLM_THRU_DT: int, PRVDR_NUM: string, CLM_PMT_AMT: double, NCH_PRMRY_PYR_CLM_PD_AMT: double, AT_PHYSN_NPI: bigint, OP_PHYSN_NPI: bigint, OT_PHYSN_NPI: bigint, CLM_ADMSN_DT: int, ADMTNG_ICD9_DGNS_CD: string, CLM_PASS_THRU_PER_DIEM_AMT: double, NCH_BENE_IP_DDCTBL_AMT: double, NCH_BENE_PTA_COINSRNC_LBLTY_AM: double, NCH_BENE_BLOOD_DDCTBL_LBLTY_AM: double, CLM_UTLZTN_DAY_CNT: int, NCH_BENE_DSCHRG_DT: int, CLM_DRG_CD: string, ICD9_DGNS_CD_1: string, ICD9_DGNS_CD_2: string, ICD9_DGNS_CD_3: string, ICD9_DGNS_CD_4: string, ICD9_DGNS_CD_5: string, ICD9_DGNS_CD_6: string, ICD9_DGNS_CD_7: string, ICD9_DGNS_CD_8: string, ICD9_DGNS_CD_9: string, ICD9_DGNS_CD_10: string, ICD9_PRCDR_CD_1: int, ICD9_PRCDR_CD_2: string, ICD9_PRCDR_CD_3: string, ICD9_PRCDR_CD_4: string, ICD9_PRCDR_CD_5: string, ICD9_PRCDR_CD_6: string, HCPCS_CD_1: string, HCPCS_CD_2: string, HCPCS_CD_3: string, HCPCS_CD_4: string, HCPCS_CD_5: string, HCPCS_CD_6: string, HCPCS_CD_7: string, HCPCS_CD_8: string, HCPCS_CD_9: string, HCPCS_CD_10: string, HCPCS_CD_11: string, HCPCS_CD_12: string, HCPCS_CD_13: string, HCPCS_CD_14: string, HCPCS_CD_15: string, HCPCS_CD_16: string, HCPCS_CD_17: string, HCPCS_CD_18: string, HCPCS_CD_19: string, HCPCS_CD_20: string, HCPCS_CD_21: string, HCPCS_CD_22: string, HCPCS_CD_23: string, HCPCS_CD_24: string, HCPCS_CD_25: string, HCPCS_CD_26: string, HCPCS_CD_27: string, HCPCS_CD_28: string, HCPCS_CD_29: string, HCPCS_CD_30: string, HCPCS_CD_31: string, HCPCS_CD_32: string, HCPCS_CD_33: string, HCPCS_CD_34: string, HCPCS_CD_35: string, HCPCS_CD_36: string, HCPCS_CD_37: string, HCPCS_CD_38: string, HCPCS_CD_39: string, HCPCS_CD_40: string, HCPCS_CD_41: string, HCPCS_CD_42: string, HCPCS_CD_43: string, HCPCS_CD_44: string, HCPCS_CD_45: string]"
      ]
     },
     "metadata": {},
     "output_type": "display_data"
    }
   ],
   "source": [
    "df4 = spark.read.load(\"/Users/jill/Downloads/2020_Project/integrated_data/inpatient_claim/df_3\")\n",
    "display(df4)"
   ]
  },
  {
   "cell_type": "code",
   "execution_count": 34,
   "metadata": {},
   "outputs": [],
   "source": [
    "df_4 = df4.toPandas()"
   ]
  },
  {
   "cell_type": "code",
   "execution_count": 35,
   "metadata": {},
   "outputs": [
    {
     "data": {
      "text/plain": [
       "(133267, 81)"
      ]
     },
     "execution_count": 35,
     "metadata": {},
     "output_type": "execute_result"
    }
   ],
   "source": [
    "df_4.shape"
   ]
  },
  {
   "cell_type": "code",
   "execution_count": 33,
   "metadata": {},
   "outputs": [
    {
     "name": "stdout",
     "output_type": "stream",
     "text": [
      "+----------------+--------------+-------+-----------+-----------+---------+-----------+------------------------+------------+------------+------------+------------+-------------------+--------------------------+----------------------+------------------------------+------------------------------+------------------+------------------+----------+--------------+--------------+--------------+--------------+--------------+--------------+--------------+--------------+--------------+---------------+---------------+---------------+---------------+---------------+---------------+---------------+----------+----------+----------+----------+----------+----------+----------+----------+----------+-----------+-----------+-----------+-----------+-----------+-----------+-----------+-----------+-----------+-----------+-----------+-----------+-----------+-----------+-----------+-----------+-----------+-----------+-----------+-----------+-----------+-----------+-----------+-----------+-----------+-----------+-----------+-----------+-----------+-----------+-----------+-----------+-----------+-----------+-----------+-----------+\n",
      "|     DESYNPUF_ID|        CLM_ID|SEGMENT|CLM_FROM_DT|CLM_THRU_DT|PRVDR_NUM|CLM_PMT_AMT|NCH_PRMRY_PYR_CLM_PD_AMT|AT_PHYSN_NPI|OP_PHYSN_NPI|OT_PHYSN_NPI|CLM_ADMSN_DT|ADMTNG_ICD9_DGNS_CD|CLM_PASS_THRU_PER_DIEM_AMT|NCH_BENE_IP_DDCTBL_AMT|NCH_BENE_PTA_COINSRNC_LBLTY_AM|NCH_BENE_BLOOD_DDCTBL_LBLTY_AM|CLM_UTLZTN_DAY_CNT|NCH_BENE_DSCHRG_DT|CLM_DRG_CD|ICD9_DGNS_CD_1|ICD9_DGNS_CD_2|ICD9_DGNS_CD_3|ICD9_DGNS_CD_4|ICD9_DGNS_CD_5|ICD9_DGNS_CD_6|ICD9_DGNS_CD_7|ICD9_DGNS_CD_8|ICD9_DGNS_CD_9|ICD9_DGNS_CD_10|ICD9_PRCDR_CD_1|ICD9_PRCDR_CD_2|ICD9_PRCDR_CD_3|ICD9_PRCDR_CD_4|ICD9_PRCDR_CD_5|ICD9_PRCDR_CD_6|HCPCS_CD_1|HCPCS_CD_2|HCPCS_CD_3|HCPCS_CD_4|HCPCS_CD_5|HCPCS_CD_6|HCPCS_CD_7|HCPCS_CD_8|HCPCS_CD_9|HCPCS_CD_10|HCPCS_CD_11|HCPCS_CD_12|HCPCS_CD_13|HCPCS_CD_14|HCPCS_CD_15|HCPCS_CD_16|HCPCS_CD_17|HCPCS_CD_18|HCPCS_CD_19|HCPCS_CD_20|HCPCS_CD_21|HCPCS_CD_22|HCPCS_CD_23|HCPCS_CD_24|HCPCS_CD_25|HCPCS_CD_26|HCPCS_CD_27|HCPCS_CD_28|HCPCS_CD_29|HCPCS_CD_30|HCPCS_CD_31|HCPCS_CD_32|HCPCS_CD_33|HCPCS_CD_34|HCPCS_CD_35|HCPCS_CD_36|HCPCS_CD_37|HCPCS_CD_38|HCPCS_CD_39|HCPCS_CD_40|HCPCS_CD_41|HCPCS_CD_42|HCPCS_CD_43|HCPCS_CD_44|HCPCS_CD_45|\n",
      "+----------------+--------------+-------+-----------+-----------+---------+-----------+------------------------+------------+------------+------------+------------+-------------------+--------------------------+----------------------+------------------------------+------------------------------+------------------+------------------+----------+--------------+--------------+--------------+--------------+--------------+--------------+--------------+--------------+--------------+---------------+---------------+---------------+---------------+---------------+---------------+---------------+----------+----------+----------+----------+----------+----------+----------+----------+----------+-----------+-----------+-----------+-----------+-----------+-----------+-----------+-----------+-----------+-----------+-----------+-----------+-----------+-----------+-----------+-----------+-----------+-----------+-----------+-----------+-----------+-----------+-----------+-----------+-----------+-----------+-----------+-----------+-----------+-----------+-----------+-----------+-----------+-----------+-----------+-----------+\n",
      "|80083A6B4222BE7C|45241150065833|      1|   20090405|   20090409|   0600CD|     5000.0|                     0.0|  5558383891|  2791230628|        null|    20090405|               4412|                      20.0|                1068.0|                           0.0|                           0.0|                 4|          20090409|       219|         45981|          4019|           496|          2859|          2449|          1534|         25000|         61172|         53081|           null|           5794|           null|           null|           null|           null|           null|      null|      null|      null|      null|      null|      null|      null|      null|      null|       null|       null|       null|       null|       null|       null|       null|       null|       null|       null|       null|       null|       null|       null|       null|       null|       null|       null|       null|       null|       null|       null|       null|       null|       null|       null|       null|       null|       null|       null|       null|       null|       null|       null|       null|       null|\n",
      "|8008EBA972B07106|45231150058909|      1|   20080201|   20080204|   1500QB|      300.0|                     0.0|  2805423952|        null|        null|    20080201|               4359|                       0.0|                1024.0|                           0.0|                           0.0|                 3|          20080204|       138|         38612|          2740|         V1046|          2761|         40200|         53081|         V1001|         30000|          4280|           null|           null|           null|           null|           null|           null|           null|      null|      null|      null|      null|      null|      null|      null|      null|      null|       null|       null|       null|       null|       null|       null|       null|       null|       null|       null|       null|       null|       null|       null|       null|       null|       null|       null|       null|       null|       null|       null|       null|       null|       null|       null|       null|       null|       null|       null|       null|       null|       null|       null|       null|       null|\n",
      "|8008EBA972B07106|45251150045688|      1|   20080209|   20080217|   3600TD|    14000.0|                     0.0|  1608204619|  4512654586|  9342673662|    20080209|              41071|                       0.0|                1024.0|                           0.0|                           0.0|                 8|          20080217|       239|         41071|         27800|           075|         27651|         42823|         25000|          5849|         57420|         40391|           null|           9921|           2859|           null|           null|           null|           null|      null|      null|      null|      null|      null|      null|      null|      null|      null|       null|       null|       null|       null|       null|       null|       null|       null|       null|       null|       null|       null|       null|       null|       null|       null|       null|       null|       null|       null|       null|       null|       null|       null|       null|       null|       null|       null|       null|       null|       null|       null|       null|       null|       null|       null|\n",
      "|800BC9E6D255EA5B|45011150048928|      1|   20081219|   20081222|   1730MN|    13000.0|                     0.0|   255242889|  8005361243|        null|    20081219|              71516|                      50.0|                1024.0|                           0.0|                           0.0|                 3|          20081222|       540|         71596|          9052|          2851|         25000|          null|          null|          null|          null|          null|           null|           8154|           null|           null|           null|           null|           null|      null|      null|      null|      null|      null|      null|      null|      null|      null|       null|       null|       null|       null|       null|       null|       null|       null|       null|       null|       null|       null|       null|       null|       null|       null|       null|       null|       null|       null|       null|       null|       null|       null|       null|       null|       null|       null|       null|       null|       null|       null|       null|       null|       null|       null|\n",
      "|800D19A65DB1933E|45961150040636|      1|   20081212|   20081224|   1002NN|     8000.0|                     0.0|  4298794099|  4941928780|        null|    20081212|              27651|                       0.0|                1024.0|                           0.0|                           0.0|                12|          20081224|       356|          1505|         V1042|          4589|          2948|         70709|          null|          null|          null|          null|           null|           4516|           null|           null|           null|           null|           null|      null|      null|      null|      null|      null|      null|      null|      null|      null|       null|       null|       null|       null|       null|       null|       null|       null|       null|       null|       null|       null|       null|       null|       null|       null|       null|       null|       null|       null|       null|       null|       null|       null|       null|       null|       null|       null|       null|       null|       null|       null|       null|       null|       null|       null|\n",
      "|800D19A65DB1933E|45331150078317|      1|   20090117|   20090120|   1000NG|    11000.0|                     0.0|  9837494561|  8475778716|        null|    20090117|              78060|                       0.0|                1068.0|                           0.0|                           0.0|                 0|          20090120|       853|          0380|           486|          0414|         78959|          2724|         53081|          5070|          1629|          2841|           null|           4516|           2948|           null|           null|           null|           null|      null|      null|      null|      null|      null|      null|      null|      null|      null|       null|       null|       null|       null|       null|       null|       null|       null|       null|       null|       null|       null|       null|       null|       null|       null|       null|       null|       null|       null|       null|       null|       null|       null|       null|       null|       null|       null|       null|       null|       null|       null|       null|       null|       null|       null|\n",
      "|800D19A65DB1933E|45301150051994|      1|   20090605|   20090619|   10T0ZM|     8000.0|                     0.0|  7219026566|        null|        null|    20090605|              78079|                       0.0|                1068.0|                           0.0|                           0.0|                14|          20090619|       356|          1518|          2851|         41400|         79902|          5781|         78951|         25060|         42731|          3383|           null|           null|           null|           null|           null|           null|           null|      null|      null|      null|      null|      null|      null|      null|      null|      null|       null|       null|       null|       null|       null|       null|       null|       null|       null|       null|       null|       null|       null|       null|       null|       null|       null|       null|       null|       null|       null|       null|       null|       null|       null|       null|       null|       null|       null|       null|       null|       null|       null|       null|       null|       null|\n",
      "|800DF3ED018CD7B7|45771150103986|      1|   20080605|   20080610|   45S0QB|     4000.0|                     0.0|  3312508288|        null|        null|    20080605|              78097|                      10.0|                1024.0|                           0.0|                           0.0|                 5|          20080610|       867|          7908|          5990|         41401|         49390|          V454|          4019|         27651|          2899|           462|           null|           null|           null|           null|           null|           null|           null|      null|      null|      null|      null|      null|      null|      null|      null|      null|       null|       null|       null|       null|       null|       null|       null|       null|       null|       null|       null|       null|       null|       null|       null|       null|       null|       null|       null|       null|       null|       null|       null|       null|       null|       null|       null|       null|       null|       null|       null|       null|       null|       null|       null|       null|\n",
      "|800E29D9CAA39812|45061150103839|      1|   20081207|   20081220|   4500NJ|    42000.0|                     0.0|  3653175371|  3653175371|        null|    20081207|              80605|                      50.0|                1024.0|                        6000.0|                           0.0|                13|          20081220|       013|          5849|         51881|         45341|         86121|         99664|          4589|         48242|         40391|         51884|           null|            311|          70703|           null|          41401|           5849|           2867|      null|      null|      null|      null|      null|      null|      null|      null|      null|       null|       null|       null|       null|       null|       null|       null|       null|       null|       null|       null|       null|       null|       null|       null|       null|       null|       null|       null|       null|       null|       null|       null|       null|       null|       null|       null|       null|       null|       null|       null|       null|       null|       null|       null|       null|\n",
      "|800E29D9CAA39812|45041150065645|      1|   20090327|   20090331|   4513VB|     2000.0|                     0.0|  3221494589|  3221494589|        null|    20090327|              78791|                       0.0|                1068.0|                           0.0|                           0.0|                 4|          20090331|       329|          5550|          2639|           496|         78079|         70725|          2449|          2768|          4019|         25000|           null|           4824|           null|           null|           null|           null|           null|      null|      null|      null|      null|      null|      null|      null|      null|      null|       null|       null|       null|       null|       null|       null|       null|       null|       null|       null|       null|       null|       null|       null|       null|       null|       null|       null|       null|       null|       null|       null|       null|       null|       null|       null|       null|       null|       null|       null|       null|       null|       null|       null|       null|       null|\n",
      "|800E29D9CAA39812|45711150038059|      1|   20090531|   20090605|   45306M|    21000.0|                     0.0|  3599299617|  3599299617|        null|    20090531|              99649|                       0.0|                1068.0|                           0.0|                           0.0|                 5|          20090605|       491|         99645|          5849|          4019|          2851|         71945|         V4365|         99641|          2761|          2469|          25000|             72|           2724|          29410|          71590|          33829|          42830|      null|      null|      null|      null|      null|      null|      null|      null|      null|       null|       null|       null|       null|       null|       null|       null|       null|       null|       null|       null|       null|       null|       null|       null|       null|       null|       null|       null|       null|       null|       null|       null|       null|       null|       null|       null|       null|       null|       null|       null|       null|       null|       null|       null|       null|\n",
      "|800E9EE11583F7AA|45631150046595|      1|   20091224|   20091231|   1000DC|     5000.0|                     0.0|   362877781|  7444621746|  2737737467|    20091224|               6822|                      40.0|                1068.0|                           0.0|                           0.0|                 0|          20091231|       596|          6826|         36250|         30500|         61610|         V6409|         70715|          3158|         83809|          null|           null|           8627|           null|           null|           null|           null|           null|      null|      null|      null|      null|      null|      null|      null|      null|      null|       null|       null|       null|       null|       null|       null|       null|       null|       null|       null|       null|       null|       null|       null|       null|       null|       null|       null|       null|       null|       null|       null|       null|       null|       null|       null|       null|       null|       null|       null|       null|       null|       null|       null|       null|       null|\n",
      "|801194C479101845|45691150071125|      1|   20100203|   20100206|   10S0MP|    10000.0|                     0.0|  1344306381|  3762409996|        null|    20100203|               0389|                      50.0|                1100.0|                           0.0|                           0.0|                 3|          20100206|       856|          0389|          5070|         40390|          5990|          2768|          V667|          4019|         25020|         27651|           null|           5794|           null|           null|           null|           null|           null|      null|      null|      null|      null|      null|      null|      null|      null|      null|       null|       null|       null|       null|       null|       null|       null|       null|       null|       null|       null|       null|       null|       null|       null|       null|       null|       null|       null|       null|       null|       null|       null|       null|       null|       null|       null|       null|       null|       null|       null|       null|       null|       null|       null|       null|\n",
      "|80132357AEAB2F2F|45941150081132|      1|   20090627|   20090701|   3600NG|    15000.0|                     0.0|  9011551271|        null|        null|    20090627|              29680|                       0.0|                1068.0|                           0.0|                           0.0|                 4|          20090701|       881|         29643|          null|          null|          null|          null|          null|          null|          null|          null|           null|           null|           null|           null|           null|           null|           null|      null|      null|      null|      null|      null|      null|      null|      null|      null|       null|       null|       null|       null|       null|       null|       null|       null|       null|       null|       null|       null|       null|       null|       null|       null|       null|       null|       null|       null|       null|       null|       null|       null|       null|       null|       null|       null|       null|       null|       null|       null|       null|       null|       null|       null|\n",
      "|8014BBF0F0230533|45161150056711|      1|   20100619|   20100621|   2600BQ|    10000.0|                     0.0|  5326894994|        null|        null|    20100619|              59010|                      80.0|                1100.0|                           0.0|                           0.0|                 2|          20100621|       673|          5961|          5859|          5990|         41401|         78039|          4019|          7213|         79029|         34590|           null|           null|           null|           null|           null|           null|           null|      null|      null|      null|      null|      null|      null|      null|      null|      null|       null|       null|       null|       null|       null|       null|       null|       null|       null|       null|       null|       null|       null|       null|       null|       null|       null|       null|       null|       null|       null|       null|       null|       null|       null|       null|       null|       null|       null|       null|       null|       null|       null|       null|       null|       null|\n",
      "|8018482CD7254B4D|45841150090353|      1|   20090731|   20090803|   3303YT|    12000.0|                     0.0|  3334477391|  3334477391|        null|    20090731|              71536|                       0.0|                1068.0|                           0.0|                           0.0|                 3|          20090803|       483|         71536|         42789|          4019|         V4582|          2449|          null|          null|          null|          null|           null|           8154|          V1642|           null|           null|           null|           null|      null|      null|      null|      null|      null|      null|      null|      null|      null|       null|       null|       null|       null|       null|       null|       null|       null|       null|       null|       null|       null|       null|       null|       null|       null|       null|       null|       null|       null|       null|       null|       null|       null|       null|       null|       null|       null|       null|       null|       null|       null|       null|       null|       null|       null|\n",
      "|801A3E16C8580953|45781150039587|      1|   20081109|   20081111|   4506UA|     9000.0|                     0.0|  3103209325|  4056435923|        null|    20081109|              73671|                       0.0|                1024.0|                           0.0|                           0.0|                 2|          20081111|       494|         82332|         E8781|         82533|         82322|          5990|         53081|         E8859|         95892|         32723|           null|           7931|          E8889|           7963|           null|           null|           null|      null|      null|      null|      null|      null|      null|      null|      null|      null|       null|       null|       null|       null|       null|       null|       null|       null|       null|       null|       null|       null|       null|       null|       null|       null|       null|       null|       null|       null|       null|       null|       null|       null|       null|       null|       null|       null|       null|       null|       null|       null|       null|       null|       null|       null|\n",
      "|801B0248B15E5B4D|45841150094700|      1|   20100101|   20100105|   4400HG|     8000.0|                     0.0|  7380156608|   648303796|  5697798647|    20100101|              42731|                       0.0|                1100.0|                           0.0|                           0.0|                 4|          20100105|       221|         42731|          5303|         27651|          5853|         41401|         78057|          7904|          5856|          5859|           7823|           3893|           null|           null|           null|           null|           null|      null|      null|      null|      null|      null|      null|      null|      null|      null|       null|       null|       null|       null|       null|       null|       null|       null|       null|       null|       null|       null|       null|       null|       null|       null|       null|       null|       null|       null|       null|       null|       null|       null|       null|       null|       null|       null|       null|       null|       null|       null|       null|       null|       null|       null|\n",
      "|801C5C21E36587D9|45111150101297|      1|   20100110|   20100113|   10016R|     9000.0|                     0.0|  3577967660|  3577967660|        null|    20100110|              95901|                       0.0|                1100.0|                           0.0|                           0.0|                 3|          20100113|       090|         85221|         E8881|          5990|           496|          3310|         78791|         40390|         53081|         E8889|          V5869|           8903|          81209|           null|           null|           null|           null|      null|      null|      null|      null|      null|      null|      null|      null|      null|       null|       null|       null|       null|       null|       null|       null|       null|       null|       null|       null|       null|       null|       null|       null|       null|       null|       null|       null|       null|       null|       null|       null|       null|       null|       null|       null|       null|       null|       null|       null|       null|       null|       null|       null|       null|\n",
      "|801CA64BC451B9CE|45221150040092|      1|   20080827|   20080830|   3304NA|     7000.0|                     0.0|  3701423492|  3161416716|        null|    20080827|              78659|                       0.0|                1024.0|                           0.0|                           0.0|                 0|          20080830|       299|         78650|          3970|         42831|         34590|         V1083|         78057|          4019|          2724|          4111|           null|           3722|          V5866|          30000|          V4581|          53081|           6953|      null|      null|      null|      null|      null|      null|      null|      null|      null|       null|       null|       null|       null|       null|       null|       null|       null|       null|       null|       null|       null|       null|       null|       null|       null|       null|       null|       null|       null|       null|       null|       null|       null|       null|       null|       null|       null|       null|       null|       null|       null|       null|       null|       null|       null|\n",
      "+----------------+--------------+-------+-----------+-----------+---------+-----------+------------------------+------------+------------+------------+------------+-------------------+--------------------------+----------------------+------------------------------+------------------------------+------------------+------------------+----------+--------------+--------------+--------------+--------------+--------------+--------------+--------------+--------------+--------------+---------------+---------------+---------------+---------------+---------------+---------------+---------------+----------+----------+----------+----------+----------+----------+----------+----------+----------+-----------+-----------+-----------+-----------+-----------+-----------+-----------+-----------+-----------+-----------+-----------+-----------+-----------+-----------+-----------+-----------+-----------+-----------+-----------+-----------+-----------+-----------+-----------+-----------+-----------+-----------+-----------+-----------+-----------+-----------+-----------+-----------+-----------+-----------+-----------+-----------+\n",
      "only showing top 20 rows\n",
      "\n"
     ]
    }
   ],
   "source": [
    "df4.show()"
   ]
  },
  {
   "cell_type": "code",
   "execution_count": 25,
   "metadata": {},
   "outputs": [
    {
     "data": {
      "text/plain": [
       "(133267, 81)"
      ]
     },
     "execution_count": 25,
     "metadata": {},
     "output_type": "execute_result"
    }
   ],
   "source": [
    "df3.shape"
   ]
  },
  {
   "cell_type": "code",
   "execution_count": 26,
   "metadata": {},
   "outputs": [],
   "source": [
    "startpath = \"/Users/jill/Downloads/2020_Project/integrated_data/inpatient_claim/\"\n",
    "datapath_lst = [os.path.join(startpath, file) for file in os.listdir(startpath) if file.endswith(\"csv\")]"
   ]
  },
  {
   "cell_type": "code",
   "execution_count": 27,
   "metadata": {},
   "outputs": [
    {
     "data": {
      "text/plain": [
       "'/Users/jill/Downloads/2020_Project/integrated_data/inpatient_claim/DE1_0_2008_to_2010_Inpatient_Claims_Sample_13.csv'"
      ]
     },
     "execution_count": 27,
     "metadata": {},
     "output_type": "execute_result"
    }
   ],
   "source": [
    "datapath_lst[0]"
   ]
  },
  {
   "cell_type": "code",
   "execution_count": 15,
   "metadata": {},
   "outputs": [],
   "source": [
    "def datapath_lst(startpath):\n",
    "    datapath_lst = [os.path.join(startpath, file) for file in os.listdir(startpath)]\n",
    "    return datapath_lst"
   ]
  },
  {
   "cell_type": "code",
   "execution_count": 16,
   "metadata": {},
   "outputs": [],
   "source": [
    "def file_lst (datapath,filetype):\n",
    "    lst = []\n",
    "    for filedirs, files, filenames in os.walk(datapath):\n",
    "        lst += [os.path.join(filedirs, file) for file in filenames if file.endswith(filetype)]\n",
    "    return lst"
   ]
  },
  {
   "cell_type": "code",
   "execution_count": 30,
   "metadata": {},
   "outputs": [],
   "source": [
    "def concat_df(datapath):\n",
    "    datapath_lst = [os.path.join(datapath, file) for file in os.listdir(datapath) if file.endswith(\"csv\")]\n",
    "    df1 = spark.read.format(\"csv\").option(\"inferSchema\", True).option(\"header\", True).load(datapath_lst[0])\n",
    "    for i in range(1,20):\n",
    "        df2 = spark.read.format(\"csv\").option(\"inferSchema\", True).option(\"header\", True).load(datapath_lst[i])\n",
    "        df1 = df1.union(df2) \n",
    "    return df1   "
   ]
  },
  {
   "cell_type": "markdown",
   "metadata": {},
   "source": [
    "## Inpatient concat data"
   ]
  },
  {
   "cell_type": "code",
   "execution_count": 31,
   "metadata": {},
   "outputs": [],
   "source": [
    "\n",
    "startpath_in = \"/Users/jill/Downloads/2020_Project/integrated_data/inpatient_claim/\"\n",
    "df_in = concat_df(startpath_in)"
   ]
  },
  {
   "cell_type": "code",
   "execution_count": 32,
   "metadata": {},
   "outputs": [],
   "source": [
    "df_in.write.save(\"./concat_data/inpatient\", format='parquet')"
   ]
  },
  {
   "cell_type": "code",
   "execution_count": 8,
   "metadata": {},
   "outputs": [],
   "source": [
    "df_inpatient = spark.read.load(\"/Users/jill/Downloads/2020_Project/EDA/concat_data/inpatient/inpatient_con/\")"
   ]
  },
  {
   "cell_type": "code",
   "execution_count": 38,
   "metadata": {},
   "outputs": [
    {
     "data": {
      "text/plain": [
       "[Row(DESYNPUF_ID='4164404F0A50EC8D', CLM_ID=90191100136835, SEGMENT=1, CLM_FROM_DT=20080123, CLM_THRU_DT=20080127, PRVDR_NUM='3901ZS', CLM_PMT_AMT=2000.0, NCH_PRMRY_PYR_CLM_PD_AMT=0.0, AT_PHYSN_NPI=771958540, OP_PHYSN_NPI=7718505294, OT_PHYSN_NPI=None, CLM_ADMSN_DT=20080123, ADMTNG_ICD9_DGNS_CD='2910', CLM_PASS_THRU_PER_DIEM_AMT=0.0, NCH_BENE_IP_DDCTBL_AMT=1024.0, NCH_BENE_PTA_COINSRNC_LBLTY_AM=0.0, NCH_BENE_BLOOD_DDCTBL_LBLTY_AM=0.0, CLM_UTLZTN_DAY_CNT=4, NCH_BENE_DSCHRG_DT=20080127, CLM_DRG_CD='895', ICD9_DGNS_CD_1='29181', ICD9_DGNS_CD_2='7850', ICD9_DGNS_CD_3='30560', ICD9_DGNS_CD_4='V1046', ICD9_DGNS_CD_5='4019', ICD9_DGNS_CD_6='30390', ICD9_DGNS_CD_7='40390', ICD9_DGNS_CD_8='2920', ICD9_DGNS_CD_9='2967', ICD9_DGNS_CD_10=None, ICD9_PRCDR_CD_1=586, ICD9_PRCDR_CD_2='2768', ICD9_PRCDR_CD_3=None, ICD9_PRCDR_CD_4=None, ICD9_PRCDR_CD_5=None, ICD9_PRCDR_CD_6=None, HCPCS_CD_1=None, HCPCS_CD_2=None, HCPCS_CD_3=None, HCPCS_CD_4=None, HCPCS_CD_5=None, HCPCS_CD_6=None, HCPCS_CD_7=None, HCPCS_CD_8=None, HCPCS_CD_9=None, HCPCS_CD_10=None, HCPCS_CD_11=None, HCPCS_CD_12=None, HCPCS_CD_13=None, HCPCS_CD_14=None, HCPCS_CD_15=None, HCPCS_CD_16=None, HCPCS_CD_17=None, HCPCS_CD_18=None, HCPCS_CD_19=None, HCPCS_CD_20=None, HCPCS_CD_21=None, HCPCS_CD_22=None, HCPCS_CD_23=None, HCPCS_CD_24=None, HCPCS_CD_25=None, HCPCS_CD_26=None, HCPCS_CD_27=None, HCPCS_CD_28=None, HCPCS_CD_29=None, HCPCS_CD_30=None, HCPCS_CD_31=None, HCPCS_CD_32=None, HCPCS_CD_33=None, HCPCS_CD_34=None, HCPCS_CD_35=None, HCPCS_CD_36=None, HCPCS_CD_37=None, HCPCS_CD_38=None, HCPCS_CD_39=None, HCPCS_CD_40=None, HCPCS_CD_41=None, HCPCS_CD_42=None, HCPCS_CD_43=None, HCPCS_CD_44=None, HCPCS_CD_45=None),\n",
       " Row(DESYNPUF_ID='4164404F0A50EC8D', CLM_ID=90971100088590, SEGMENT=1, CLM_FROM_DT=20080803, CLM_THRU_DT=20080805, PRVDR_NUM='3901ZS', CLM_PMT_AMT=5000.0, NCH_PRMRY_PYR_CLM_PD_AMT=0.0, AT_PHYSN_NPI=3032421569, OP_PHYSN_NPI=3032421569, OT_PHYSN_NPI=None, CLM_ADMSN_DT=20080803, ADMTNG_ICD9_DGNS_CD='72210', CLM_PASS_THRU_PER_DIEM_AMT=500.0, NCH_BENE_IP_DDCTBL_AMT=1024.0, NCH_BENE_PTA_COINSRNC_LBLTY_AM=0.0, NCH_BENE_BLOOD_DDCTBL_LBLTY_AM=0.0, CLM_UTLZTN_DAY_CNT=2, NCH_BENE_DSCHRG_DT=20080805, CLM_DRG_CD='467', ICD9_DGNS_CD_1='72402', ICD9_DGNS_CD_2=None, ICD9_DGNS_CD_3=None, ICD9_DGNS_CD_4=None, ICD9_DGNS_CD_5=None, ICD9_DGNS_CD_6=None, ICD9_DGNS_CD_7=None, ICD9_DGNS_CD_8=None, ICD9_DGNS_CD_9=None, ICD9_DGNS_CD_10=None, ICD9_PRCDR_CD_1=8051, ICD9_PRCDR_CD_2=None, ICD9_PRCDR_CD_3=None, ICD9_PRCDR_CD_4=None, ICD9_PRCDR_CD_5=None, ICD9_PRCDR_CD_6=None, HCPCS_CD_1=None, HCPCS_CD_2=None, HCPCS_CD_3=None, HCPCS_CD_4=None, HCPCS_CD_5=None, HCPCS_CD_6=None, HCPCS_CD_7=None, HCPCS_CD_8=None, HCPCS_CD_9=None, HCPCS_CD_10=None, HCPCS_CD_11=None, HCPCS_CD_12=None, HCPCS_CD_13=None, HCPCS_CD_14=None, HCPCS_CD_15=None, HCPCS_CD_16=None, HCPCS_CD_17=None, HCPCS_CD_18=None, HCPCS_CD_19=None, HCPCS_CD_20=None, HCPCS_CD_21=None, HCPCS_CD_22=None, HCPCS_CD_23=None, HCPCS_CD_24=None, HCPCS_CD_25=None, HCPCS_CD_26=None, HCPCS_CD_27=None, HCPCS_CD_28=None, HCPCS_CD_29=None, HCPCS_CD_30=None, HCPCS_CD_31=None, HCPCS_CD_32=None, HCPCS_CD_33=None, HCPCS_CD_34=None, HCPCS_CD_35=None, HCPCS_CD_36=None, HCPCS_CD_37=None, HCPCS_CD_38=None, HCPCS_CD_39=None, HCPCS_CD_40=None, HCPCS_CD_41=None, HCPCS_CD_42=None, HCPCS_CD_43=None, HCPCS_CD_44=None, HCPCS_CD_45=None),\n",
       " Row(DESYNPUF_ID='4164404F0A50EC8D', CLM_ID=90741100093670, SEGMENT=1, CLM_FROM_DT=20090416, CLM_THRU_DT=20090425, PRVDR_NUM='3901ZS', CLM_PMT_AMT=5000.0, NCH_PRMRY_PYR_CLM_PD_AMT=0.0, AT_PHYSN_NPI=3032421569, OP_PHYSN_NPI=None, OT_PHYSN_NPI=None, CLM_ADMSN_DT=20090416, ADMTNG_ICD9_DGNS_CD='78009', CLM_PASS_THRU_PER_DIEM_AMT=0.0, NCH_BENE_IP_DDCTBL_AMT=1068.0, NCH_BENE_PTA_COINSRNC_LBLTY_AM=0.0, NCH_BENE_BLOOD_DDCTBL_LBLTY_AM=0.0, CLM_UTLZTN_DAY_CNT=9, NCH_BENE_DSCHRG_DT=20090425, CLM_DRG_CD='039', ICD9_DGNS_CD_1='3310', ICD9_DGNS_CD_2='3320', ICD9_DGNS_CD_3='311', ICD9_DGNS_CD_4='29690', ICD9_DGNS_CD_5='25000', ICD9_DGNS_CD_6='43820', ICD9_DGNS_CD_7='2971', ICD9_DGNS_CD_8='2859', ICD9_DGNS_CD_9='4019', ICD9_DGNS_CD_10=None, ICD9_PRCDR_CD_1=None, ICD9_PRCDR_CD_2=None, ICD9_PRCDR_CD_3=None, ICD9_PRCDR_CD_4=None, ICD9_PRCDR_CD_5=None, ICD9_PRCDR_CD_6=None, HCPCS_CD_1=None, HCPCS_CD_2=None, HCPCS_CD_3=None, HCPCS_CD_4=None, HCPCS_CD_5=None, HCPCS_CD_6=None, HCPCS_CD_7=None, HCPCS_CD_8=None, HCPCS_CD_9=None, HCPCS_CD_10=None, HCPCS_CD_11=None, HCPCS_CD_12=None, HCPCS_CD_13=None, HCPCS_CD_14=None, HCPCS_CD_15=None, HCPCS_CD_16=None, HCPCS_CD_17=None, HCPCS_CD_18=None, HCPCS_CD_19=None, HCPCS_CD_20=None, HCPCS_CD_21=None, HCPCS_CD_22=None, HCPCS_CD_23=None, HCPCS_CD_24=None, HCPCS_CD_25=None, HCPCS_CD_26=None, HCPCS_CD_27=None, HCPCS_CD_28=None, HCPCS_CD_29=None, HCPCS_CD_30=None, HCPCS_CD_31=None, HCPCS_CD_32=None, HCPCS_CD_33=None, HCPCS_CD_34=None, HCPCS_CD_35=None, HCPCS_CD_36=None, HCPCS_CD_37=None, HCPCS_CD_38=None, HCPCS_CD_39=None, HCPCS_CD_40=None, HCPCS_CD_41=None, HCPCS_CD_42=None, HCPCS_CD_43=None, HCPCS_CD_44=None, HCPCS_CD_45=None),\n",
       " Row(DESYNPUF_ID='41653E723DDF644D', CLM_ID=90371100109452, SEGMENT=1, CLM_FROM_DT=20100616, CLM_THRU_DT=20100629, PRVDR_NUM='2100AK', CLM_PMT_AMT=18000.0, NCH_PRMRY_PYR_CLM_PD_AMT=0.0, AT_PHYSN_NPI=2643016103, OP_PHYSN_NPI=4153255207, OT_PHYSN_NPI=None, CLM_ADMSN_DT=20100616, ADMTNG_ICD9_DGNS_CD='78720', CLM_PASS_THRU_PER_DIEM_AMT=30.0, NCH_BENE_IP_DDCTBL_AMT=1100.0, NCH_BENE_PTA_COINSRNC_LBLTY_AM=0.0, NCH_BENE_BLOOD_DDCTBL_LBLTY_AM=0.0, CLM_UTLZTN_DAY_CNT=13, NCH_BENE_DSCHRG_DT=20100629, CLM_DRG_CD='987', ICD9_DGNS_CD_1='51881', ICD9_DGNS_CD_2='E8843', ICD9_DGNS_CD_3='99739', ICD9_DGNS_CD_4='V667', ICD9_DGNS_CD_5='5849', ICD9_DGNS_CD_6='4010', ICD9_DGNS_CD_7='28529', ICD9_DGNS_CD_8='2841', ICD9_DGNS_CD_9='4561', ICD9_DGNS_CD_10=None, ICD9_PRCDR_CD_1=8165, ICD9_PRCDR_CD_2='5856', ICD9_PRCDR_CD_3='99673', ICD9_PRCDR_CD_4='99591', ICD9_PRCDR_CD_5='42731', ICD9_PRCDR_CD_6='81342', HCPCS_CD_1=None, HCPCS_CD_2=None, HCPCS_CD_3=None, HCPCS_CD_4=None, HCPCS_CD_5=None, HCPCS_CD_6=None, HCPCS_CD_7=None, HCPCS_CD_8=None, HCPCS_CD_9=None, HCPCS_CD_10=None, HCPCS_CD_11=None, HCPCS_CD_12=None, HCPCS_CD_13=None, HCPCS_CD_14=None, HCPCS_CD_15=None, HCPCS_CD_16=None, HCPCS_CD_17=None, HCPCS_CD_18=None, HCPCS_CD_19=None, HCPCS_CD_20=None, HCPCS_CD_21=None, HCPCS_CD_22=None, HCPCS_CD_23=None, HCPCS_CD_24=None, HCPCS_CD_25=None, HCPCS_CD_26=None, HCPCS_CD_27=None, HCPCS_CD_28=None, HCPCS_CD_29=None, HCPCS_CD_30=None, HCPCS_CD_31=None, HCPCS_CD_32=None, HCPCS_CD_33=None, HCPCS_CD_34=None, HCPCS_CD_35=None, HCPCS_CD_36=None, HCPCS_CD_37=None, HCPCS_CD_38=None, HCPCS_CD_39=None, HCPCS_CD_40=None, HCPCS_CD_41=None, HCPCS_CD_42=None, HCPCS_CD_43=None, HCPCS_CD_44=None, HCPCS_CD_45=None),\n",
       " Row(DESYNPUF_ID='4165C9769D7F9C19', CLM_ID=90391100082438, SEGMENT=1, CLM_FROM_DT=20081202, CLM_THRU_DT=20081214, PRVDR_NUM='1402CR', CLM_PMT_AMT=5000.0, NCH_PRMRY_PYR_CLM_PD_AMT=0.0, AT_PHYSN_NPI=5283486435, OP_PHYSN_NPI=5283486435, OT_PHYSN_NPI=None, CLM_ADMSN_DT=20081202, ADMTNG_ICD9_DGNS_CD='5960', CLM_PASS_THRU_PER_DIEM_AMT=60.0, NCH_BENE_IP_DDCTBL_AMT=1024.0, NCH_BENE_PTA_COINSRNC_LBLTY_AM=0.0, NCH_BENE_BLOOD_DDCTBL_LBLTY_AM=0.0, CLM_UTLZTN_DAY_CNT=12, NCH_BENE_DSCHRG_DT=20081214, CLM_DRG_CD='726', ICD9_DGNS_CD_1='60001', ICD9_DGNS_CD_2='60000', ICD9_DGNS_CD_3='2851', ICD9_DGNS_CD_4='591', ICD9_DGNS_CD_5='71590', ICD9_DGNS_CD_6='28529', ICD9_DGNS_CD_7='78820', ICD9_DGNS_CD_8='7242', ICD9_DGNS_CD_9='2761', ICD9_DGNS_CD_10=None, ICD9_PRCDR_CD_1=6029, ICD9_PRCDR_CD_2='V5861', ICD9_PRCDR_CD_3='78820', ICD9_PRCDR_CD_4='4280', ICD9_PRCDR_CD_5='78843', ICD9_PRCDR_CD_6=None, HCPCS_CD_1=None, HCPCS_CD_2=None, HCPCS_CD_3=None, HCPCS_CD_4=None, HCPCS_CD_5=None, HCPCS_CD_6=None, HCPCS_CD_7=None, HCPCS_CD_8=None, HCPCS_CD_9=None, HCPCS_CD_10=None, HCPCS_CD_11=None, HCPCS_CD_12=None, HCPCS_CD_13=None, HCPCS_CD_14=None, HCPCS_CD_15=None, HCPCS_CD_16=None, HCPCS_CD_17=None, HCPCS_CD_18=None, HCPCS_CD_19=None, HCPCS_CD_20=None, HCPCS_CD_21=None, HCPCS_CD_22=None, HCPCS_CD_23=None, HCPCS_CD_24=None, HCPCS_CD_25=None, HCPCS_CD_26=None, HCPCS_CD_27=None, HCPCS_CD_28=None, HCPCS_CD_29=None, HCPCS_CD_30=None, HCPCS_CD_31=None, HCPCS_CD_32=None, HCPCS_CD_33=None, HCPCS_CD_34=None, HCPCS_CD_35=None, HCPCS_CD_36=None, HCPCS_CD_37=None, HCPCS_CD_38=None, HCPCS_CD_39=None, HCPCS_CD_40=None, HCPCS_CD_41=None, HCPCS_CD_42=None, HCPCS_CD_43=None, HCPCS_CD_44=None, HCPCS_CD_45=None)]"
      ]
     },
     "execution_count": 38,
     "metadata": {},
     "output_type": "execute_result"
    }
   ],
   "source": [
    "df_inpatient.take(5)"
   ]
  },
  {
   "cell_type": "code",
   "execution_count": 157,
   "metadata": {},
   "outputs": [
    {
     "name": "stdout",
     "output_type": "stream",
     "text": [
      "root\n",
      " |-- DESYNPUF_ID: string (nullable = true)\n",
      " |-- CLM_ID: long (nullable = true)\n",
      " |-- SEGMENT: integer (nullable = true)\n",
      " |-- CLM_FROM_DT: integer (nullable = true)\n",
      " |-- CLM_THRU_DT: integer (nullable = true)\n",
      " |-- PRVDR_NUM: string (nullable = true)\n",
      " |-- CLM_PMT_AMT: double (nullable = true)\n",
      " |-- NCH_PRMRY_PYR_CLM_PD_AMT: double (nullable = true)\n",
      " |-- AT_PHYSN_NPI: long (nullable = true)\n",
      " |-- OP_PHYSN_NPI: long (nullable = true)\n",
      " |-- OT_PHYSN_NPI: long (nullable = true)\n",
      " |-- CLM_ADMSN_DT: integer (nullable = true)\n",
      " |-- ADMTNG_ICD9_DGNS_CD: string (nullable = true)\n",
      " |-- CLM_PASS_THRU_PER_DIEM_AMT: double (nullable = true)\n",
      " |-- NCH_BENE_IP_DDCTBL_AMT: double (nullable = true)\n",
      " |-- NCH_BENE_PTA_COINSRNC_LBLTY_AM: double (nullable = true)\n",
      " |-- NCH_BENE_BLOOD_DDCTBL_LBLTY_AM: double (nullable = true)\n",
      " |-- CLM_UTLZTN_DAY_CNT: integer (nullable = true)\n",
      " |-- NCH_BENE_DSCHRG_DT: integer (nullable = true)\n",
      " |-- CLM_DRG_CD: string (nullable = true)\n",
      " |-- ICD9_DGNS_CD_1: string (nullable = true)\n",
      " |-- ICD9_DGNS_CD_2: string (nullable = true)\n",
      " |-- ICD9_DGNS_CD_3: string (nullable = true)\n",
      " |-- ICD9_DGNS_CD_4: string (nullable = true)\n",
      " |-- ICD9_DGNS_CD_5: string (nullable = true)\n",
      " |-- ICD9_DGNS_CD_6: string (nullable = true)\n",
      " |-- ICD9_DGNS_CD_7: string (nullable = true)\n",
      " |-- ICD9_DGNS_CD_8: string (nullable = true)\n",
      " |-- ICD9_DGNS_CD_9: string (nullable = true)\n",
      " |-- ICD9_DGNS_CD_10: string (nullable = true)\n",
      " |-- ICD9_PRCDR_CD_1: integer (nullable = true)\n",
      " |-- ICD9_PRCDR_CD_2: string (nullable = true)\n",
      " |-- ICD9_PRCDR_CD_3: string (nullable = true)\n",
      " |-- ICD9_PRCDR_CD_4: string (nullable = true)\n",
      " |-- ICD9_PRCDR_CD_5: string (nullable = true)\n",
      " |-- ICD9_PRCDR_CD_6: string (nullable = true)\n",
      " |-- HCPCS_CD_1: string (nullable = true)\n",
      " |-- HCPCS_CD_2: string (nullable = true)\n",
      " |-- HCPCS_CD_3: string (nullable = true)\n",
      " |-- HCPCS_CD_4: string (nullable = true)\n",
      " |-- HCPCS_CD_5: string (nullable = true)\n",
      " |-- HCPCS_CD_6: string (nullable = true)\n",
      " |-- HCPCS_CD_7: string (nullable = true)\n",
      " |-- HCPCS_CD_8: string (nullable = true)\n",
      " |-- HCPCS_CD_9: string (nullable = true)\n",
      " |-- HCPCS_CD_10: string (nullable = true)\n",
      " |-- HCPCS_CD_11: string (nullable = true)\n",
      " |-- HCPCS_CD_12: string (nullable = true)\n",
      " |-- HCPCS_CD_13: string (nullable = true)\n",
      " |-- HCPCS_CD_14: string (nullable = true)\n",
      " |-- HCPCS_CD_15: string (nullable = true)\n",
      " |-- HCPCS_CD_16: string (nullable = true)\n",
      " |-- HCPCS_CD_17: string (nullable = true)\n",
      " |-- HCPCS_CD_18: string (nullable = true)\n",
      " |-- HCPCS_CD_19: string (nullable = true)\n",
      " |-- HCPCS_CD_20: string (nullable = true)\n",
      " |-- HCPCS_CD_21: string (nullable = true)\n",
      " |-- HCPCS_CD_22: string (nullable = true)\n",
      " |-- HCPCS_CD_23: string (nullable = true)\n",
      " |-- HCPCS_CD_24: string (nullable = true)\n",
      " |-- HCPCS_CD_25: string (nullable = true)\n",
      " |-- HCPCS_CD_26: string (nullable = true)\n",
      " |-- HCPCS_CD_27: string (nullable = true)\n",
      " |-- HCPCS_CD_28: string (nullable = true)\n",
      " |-- HCPCS_CD_29: string (nullable = true)\n",
      " |-- HCPCS_CD_30: string (nullable = true)\n",
      " |-- HCPCS_CD_31: string (nullable = true)\n",
      " |-- HCPCS_CD_32: string (nullable = true)\n",
      " |-- HCPCS_CD_33: string (nullable = true)\n",
      " |-- HCPCS_CD_34: string (nullable = true)\n",
      " |-- HCPCS_CD_35: string (nullable = true)\n",
      " |-- HCPCS_CD_36: string (nullable = true)\n",
      " |-- HCPCS_CD_37: string (nullable = true)\n",
      " |-- HCPCS_CD_38: string (nullable = true)\n",
      " |-- HCPCS_CD_39: string (nullable = true)\n",
      " |-- HCPCS_CD_40: string (nullable = true)\n",
      " |-- HCPCS_CD_41: string (nullable = true)\n",
      " |-- HCPCS_CD_42: string (nullable = true)\n",
      " |-- HCPCS_CD_43: string (nullable = true)\n",
      " |-- HCPCS_CD_44: string (nullable = true)\n",
      " |-- HCPCS_CD_45: string (nullable = true)\n",
      "\n"
     ]
    }
   ],
   "source": [
    "df_inpatient.printSchema()"
   ]
  },
  {
   "cell_type": "code",
   "execution_count": 43,
   "metadata": {},
   "outputs": [
    {
     "name": "stdout",
     "output_type": "stream",
     "text": [
      "+----------------+--------------+-------+-----------+-----------+---------+-----------+------------------------+------------+------------+------------+------------+-------------------+--------------------------+----------------------+------------------------------+------------------------------+------------------+------------------+----------+--------------+--------------+--------------+--------------+--------------+--------------+--------------+--------------+--------------+---------------+---------------+---------------+---------------+---------------+---------------+---------------+----------+----------+----------+----------+----------+----------+----------+----------+----------+-----------+-----------+-----------+-----------+-----------+-----------+-----------+-----------+-----------+-----------+-----------+-----------+-----------+-----------+-----------+-----------+-----------+-----------+-----------+-----------+-----------+-----------+-----------+-----------+-----------+-----------+-----------+-----------+-----------+-----------+-----------+-----------+-----------+-----------+-----------+-----------+\n",
      "|     DESYNPUF_ID|        CLM_ID|SEGMENT|CLM_FROM_DT|CLM_THRU_DT|PRVDR_NUM|CLM_PMT_AMT|NCH_PRMRY_PYR_CLM_PD_AMT|AT_PHYSN_NPI|OP_PHYSN_NPI|OT_PHYSN_NPI|CLM_ADMSN_DT|ADMTNG_ICD9_DGNS_CD|CLM_PASS_THRU_PER_DIEM_AMT|NCH_BENE_IP_DDCTBL_AMT|NCH_BENE_PTA_COINSRNC_LBLTY_AM|NCH_BENE_BLOOD_DDCTBL_LBLTY_AM|CLM_UTLZTN_DAY_CNT|NCH_BENE_DSCHRG_DT|CLM_DRG_CD|ICD9_DGNS_CD_1|ICD9_DGNS_CD_2|ICD9_DGNS_CD_3|ICD9_DGNS_CD_4|ICD9_DGNS_CD_5|ICD9_DGNS_CD_6|ICD9_DGNS_CD_7|ICD9_DGNS_CD_8|ICD9_DGNS_CD_9|ICD9_DGNS_CD_10|ICD9_PRCDR_CD_1|ICD9_PRCDR_CD_2|ICD9_PRCDR_CD_3|ICD9_PRCDR_CD_4|ICD9_PRCDR_CD_5|ICD9_PRCDR_CD_6|HCPCS_CD_1|HCPCS_CD_2|HCPCS_CD_3|HCPCS_CD_4|HCPCS_CD_5|HCPCS_CD_6|HCPCS_CD_7|HCPCS_CD_8|HCPCS_CD_9|HCPCS_CD_10|HCPCS_CD_11|HCPCS_CD_12|HCPCS_CD_13|HCPCS_CD_14|HCPCS_CD_15|HCPCS_CD_16|HCPCS_CD_17|HCPCS_CD_18|HCPCS_CD_19|HCPCS_CD_20|HCPCS_CD_21|HCPCS_CD_22|HCPCS_CD_23|HCPCS_CD_24|HCPCS_CD_25|HCPCS_CD_26|HCPCS_CD_27|HCPCS_CD_28|HCPCS_CD_29|HCPCS_CD_30|HCPCS_CD_31|HCPCS_CD_32|HCPCS_CD_33|HCPCS_CD_34|HCPCS_CD_35|HCPCS_CD_36|HCPCS_CD_37|HCPCS_CD_38|HCPCS_CD_39|HCPCS_CD_40|HCPCS_CD_41|HCPCS_CD_42|HCPCS_CD_43|HCPCS_CD_44|HCPCS_CD_45|\n",
      "+----------------+--------------+-------+-----------+-----------+---------+-----------+------------------------+------------+------------+------------+------------+-------------------+--------------------------+----------------------+------------------------------+------------------------------+------------------+------------------+----------+--------------+--------------+--------------+--------------+--------------+--------------+--------------+--------------+--------------+---------------+---------------+---------------+---------------+---------------+---------------+---------------+----------+----------+----------+----------+----------+----------+----------+----------+----------+-----------+-----------+-----------+-----------+-----------+-----------+-----------+-----------+-----------+-----------+-----------+-----------+-----------+-----------+-----------+-----------+-----------+-----------+-----------+-----------+-----------+-----------+-----------+-----------+-----------+-----------+-----------+-----------+-----------+-----------+-----------+-----------+-----------+-----------+-----------+-----------+\n",
      "|4164404F0A50EC8D|90191100136835|      1|   20080123|   20080127|   3901ZS|     2000.0|                     0.0|   771958540|  7718505294|        null|    20080123|               2910|                       0.0|                1024.0|                           0.0|                           0.0|                 4|          20080127|       895|         29181|          7850|         30560|         V1046|          4019|         30390|         40390|          2920|          2967|           null|            586|           2768|           null|           null|           null|           null|      null|      null|      null|      null|      null|      null|      null|      null|      null|       null|       null|       null|       null|       null|       null|       null|       null|       null|       null|       null|       null|       null|       null|       null|       null|       null|       null|       null|       null|       null|       null|       null|       null|       null|       null|       null|       null|       null|       null|       null|       null|       null|       null|       null|       null|\n",
      "+----------------+--------------+-------+-----------+-----------+---------+-----------+------------------------+------------+------------+------------+------------+-------------------+--------------------------+----------------------+------------------------------+------------------------------+------------------+------------------+----------+--------------+--------------+--------------+--------------+--------------+--------------+--------------+--------------+--------------+---------------+---------------+---------------+---------------+---------------+---------------+---------------+----------+----------+----------+----------+----------+----------+----------+----------+----------+-----------+-----------+-----------+-----------+-----------+-----------+-----------+-----------+-----------+-----------+-----------+-----------+-----------+-----------+-----------+-----------+-----------+-----------+-----------+-----------+-----------+-----------+-----------+-----------+-----------+-----------+-----------+-----------+-----------+-----------+-----------+-----------+-----------+-----------+-----------+-----------+\n",
      "only showing top 1 row\n",
      "\n"
     ]
    }
   ],
   "source": [
    "df_inpatient.show(1)"
   ]
  },
  {
   "cell_type": "code",
   "execution_count": 158,
   "metadata": {},
   "outputs": [
    {
     "data": {
      "text/plain": [
       "1332822"
      ]
     },
     "execution_count": 158,
     "metadata": {},
     "output_type": "execute_result"
    }
   ],
   "source": [
    "df_inpatient.count()"
   ]
  },
  {
   "cell_type": "code",
   "execution_count": 45,
   "metadata": {},
   "outputs": [
    {
     "name": "stdout",
     "output_type": "stream",
     "text": [
      "+----------------+---------------+-------+-----------+-----------+---------+-----------+------------------------+------------+------------+------------+------------+-------------------+--------------------------+----------------------+------------------------------+------------------------------+------------------+------------------+----------+--------------+--------------+--------------+--------------+--------------+--------------+--------------+--------------+--------------+---------------+---------------+---------------+---------------+---------------+---------------+---------------+----------+----------+----------+----------+----------+----------+----------+----------+----------+-----------+-----------+-----------+-----------+-----------+-----------+-----------+-----------+-----------+-----------+-----------+-----------+-----------+-----------+-----------+-----------+-----------+-----------+-----------+-----------+-----------+-----------+-----------+-----------+-----------+-----------+-----------+-----------+-----------+-----------+-----------+-----------+-----------+-----------+-----------+-----------+\n",
      "|     DESYNPUF_ID|         CLM_ID|SEGMENT|CLM_FROM_DT|CLM_THRU_DT|PRVDR_NUM|CLM_PMT_AMT|NCH_PRMRY_PYR_CLM_PD_AMT|AT_PHYSN_NPI|OP_PHYSN_NPI|OT_PHYSN_NPI|CLM_ADMSN_DT|ADMTNG_ICD9_DGNS_CD|CLM_PASS_THRU_PER_DIEM_AMT|NCH_BENE_IP_DDCTBL_AMT|NCH_BENE_PTA_COINSRNC_LBLTY_AM|NCH_BENE_BLOOD_DDCTBL_LBLTY_AM|CLM_UTLZTN_DAY_CNT|NCH_BENE_DSCHRG_DT|CLM_DRG_CD|ICD9_DGNS_CD_1|ICD9_DGNS_CD_2|ICD9_DGNS_CD_3|ICD9_DGNS_CD_4|ICD9_DGNS_CD_5|ICD9_DGNS_CD_6|ICD9_DGNS_CD_7|ICD9_DGNS_CD_8|ICD9_DGNS_CD_9|ICD9_DGNS_CD_10|ICD9_PRCDR_CD_1|ICD9_PRCDR_CD_2|ICD9_PRCDR_CD_3|ICD9_PRCDR_CD_4|ICD9_PRCDR_CD_5|ICD9_PRCDR_CD_6|HCPCS_CD_1|HCPCS_CD_2|HCPCS_CD_3|HCPCS_CD_4|HCPCS_CD_5|HCPCS_CD_6|HCPCS_CD_7|HCPCS_CD_8|HCPCS_CD_9|HCPCS_CD_10|HCPCS_CD_11|HCPCS_CD_12|HCPCS_CD_13|HCPCS_CD_14|HCPCS_CD_15|HCPCS_CD_16|HCPCS_CD_17|HCPCS_CD_18|HCPCS_CD_19|HCPCS_CD_20|HCPCS_CD_21|HCPCS_CD_22|HCPCS_CD_23|HCPCS_CD_24|HCPCS_CD_25|HCPCS_CD_26|HCPCS_CD_27|HCPCS_CD_28|HCPCS_CD_29|HCPCS_CD_30|HCPCS_CD_31|HCPCS_CD_32|HCPCS_CD_33|HCPCS_CD_34|HCPCS_CD_35|HCPCS_CD_36|HCPCS_CD_37|HCPCS_CD_38|HCPCS_CD_39|HCPCS_CD_40|HCPCS_CD_41|HCPCS_CD_42|HCPCS_CD_43|HCPCS_CD_44|HCPCS_CD_45|\n",
      "+----------------+---------------+-------+-----------+-----------+---------+-----------+------------------------+------------+------------+------------+------------+-------------------+--------------------------+----------------------+------------------------------+------------------------------+------------------+------------------+----------+--------------+--------------+--------------+--------------+--------------+--------------+--------------+--------------+--------------+---------------+---------------+---------------+---------------+---------------+---------------+---------------+----------+----------+----------+----------+----------+----------+----------+----------+----------+-----------+-----------+-----------+-----------+-----------+-----------+-----------+-----------+-----------+-----------+-----------+-----------+-----------+-----------+-----------+-----------+-----------+-----------+-----------+-----------+-----------+-----------+-----------+-----------+-----------+-----------+-----------+-----------+-----------+-----------+-----------+-----------+-----------+-----------+-----------+-----------+\n",
      "|4904A23262F9B264| 90751100127864|      1|   20081108|   20081111|   2813UC|    11000.0|                     0.0|  5076365706|  5076365706|  5076365706|    20081108|               1830|                       0.0|                1024.0|                           0.0|                           0.0|                 3|          20081111|       743|          1830|         V1009|         49390|         78093|          null|          null|          null|          null|          null|           null|           6529|          25000|           null|          27651|           null|           null|      null|      null|      null|      null|      null|      null|      null|      null|      null|       null|       null|       null|       null|       null|       null|       null|       null|       null|       null|       null|       null|       null|       null|       null|       null|       null|       null|       null|       null|       null|       null|       null|       null|       null|       null|       null|       null|       null|       null|       null|       null|       null|       null|       null|       null|\n",
      "|589E4B6DEDA989DF| 90281100120617|      1|   20100331|   20100403|   4506SU|     4000.0|                     0.0|  8899244255|        null|        null|    20100331|              78930|                       0.0|                1100.0|                           0.0|                           0.0|                 3|          20100403|       734|          1830|         25000|         25062|          2639|         78701|          4019|          2449|         45342|          5990|           null|           null|           null|           null|           null|           null|           null|      null|      null|      null|      null|      null|      null|      null|      null|      null|       null|       null|       null|       null|       null|       null|       null|       null|       null|       null|       null|       null|       null|       null|       null|       null|       null|       null|       null|       null|       null|       null|       null|       null|       null|       null|       null|       null|       null|       null|       null|       null|       null|       null|       null|       null|\n",
      "|5D05574FFDE06537| 90831100091207|      1|   20080814|   20080822|   3302VG|     6000.0|                     0.0|   663521360|   865134355|        null|    20080814|               1830|                       0.0|                1024.0|                           0.0|                           0.0|                 8|          20080822|       755|          1830|          6822|         V4577|          5990|          1985|          4019|          1976|         78951|         99674|           null|           5491|           4588|          78951|           null|           null|           null|      null|      null|      null|      null|      null|      null|      null|      null|      null|       null|       null|       null|       null|       null|       null|       null|       null|       null|       null|       null|       null|       null|       null|       null|       null|       null|       null|       null|       null|       null|       null|       null|       null|       null|       null|       null|       null|       null|       null|       null|       null|       null|       null|       null|       null|\n",
      "|5EB237A7334683E0| 90151100134635|      1|   20080523|   20080528|   2100WC|    15000.0|                     0.0|  6278526934|  2626436419|        null|    20080523|               5119|                       0.0|                1024.0|                           0.0|                           0.0|                 5|          20080528|       738|          1830|          2724|          1977|          1976|          null|          null|          null|          null|          null|           null|           6849|           1963|          78951|           2851|           null|           null|      null|      null|      null|      null|      null|      null|      null|      null|      null|       null|       null|       null|       null|       null|       null|       null|       null|       null|       null|       null|       null|       null|       null|       null|       null|       null|       null|       null|       null|       null|       null|       null|       null|       null|       null|       null|       null|       null|       null|       null|       null|       null|       null|       null|       null|\n",
      "|602B254BAEBD202A| 90171100107359|      1|   20080130|   20080215|   4900GV|    21000.0|                     0.0|  3775579321|  4730436957|        null|    20080130|              78900|                     200.0|                1024.0|                           0.0|                           0.0|                16|          20080215|       749|          1830|         19882|          9974|         19889|         56983|          5849|          2851|          5933|          1974|           null|           6849|           2760|           2851|           5180|            262|           1588|      null|      null|      null|      null|      null|      null|      null|      null|      null|       null|       null|       null|       null|       null|       null|       null|       null|       null|       null|       null|       null|       null|       null|       null|       null|       null|       null|       null|       null|       null|       null|       null|       null|       null|       null|       null|       null|       null|       null|       null|       null|       null|       null|       null|       null|\n",
      "|69B25452F3C29EB7| 90571100090973|      1|   20090118|   20090124|   33038A|    11000.0|                     0.0|  9190254136|  9190254136|        null|    20090118|               1830|                       0.0|                1068.0|                           0.0|                           0.0|                 6|          20090124|       741|          1830|         29570|          5589|          3569|          4241|         36250|         42731|         53081|          4293|           null|           6849|          53081|          25000|           6959|          71590|           4019|      null|      null|      null|      null|      null|      null|      null|      null|      null|       null|       null|       null|       null|       null|       null|       null|       null|       null|       null|       null|       null|       null|       null|       null|       null|       null|       null|       null|       null|       null|       null|       null|       null|       null|       null|       null|       null|       null|       null|       null|       null|       null|       null|       null|       null|\n",
      "|739D0E9E9EC8DC47| 90181100101581|      1|   20081230|   20090108|   01S1YV|    15000.0|                     0.0|  5285867571|  5285867571|        null|    20081230|               1830|                       0.0|                1068.0|                           0.0|                           0.0|                 9|          20090108|       760|          1830|         51889|          6191|         70705|         45341|          1539|          1981|          5845|          9982|           null|           5459|           null|           null|           null|           null|           null|      null|      null|      null|      null|      null|      null|      null|      null|      null|       null|       null|       null|       null|       null|       null|       null|       null|       null|       null|       null|       null|       null|       null|       null|       null|       null|       null|       null|       null|       null|       null|       null|       null|       null|       null|       null|       null|       null|       null|       null|       null|       null|       null|       null|       null|\n",
      "|745C5ECBDED51421| 90821100085402|      1|   20080909|   20080911|   3901VU|    10000.0|                     0.0|  9571596388|  9571596388|        null|    20080909|               1832|                     300.0|                1024.0|                           0.0|                           0.0|                 0|          20080911|       749|          1830|         V4365|           311|          2449|          null|          3051|          null|          null|          null|           null|           6849|           3051|           null|           null|           null|           null|      null|      null|      null|      null|      null|      null|      null|      null|      null|       null|       null|       null|       null|       null|       null|       null|       null|       null|       null|       null|       null|       null|       null|       null|       null|       null|       null|       null|       null|       null|       null|       null|       null|       null|       null|       null|       null|       null|       null|       null|       null|       null|       null|       null|       null|\n",
      "|79ECA88F726230D3| 90061100105539|      1|   20090131|   20090204|   3800ZR|    16000.0|                     0.0|  6076586910|   352767715|        null|    20090131|               2395|                      40.0|                1068.0|                           0.0|                           0.0|                 4|          20090204|       737|          1830|          V145|          4019|          5601|          2720|          1965|          1975|          5689|          6202|           null|           6849|          27652|           5601|           null|           null|           null|      null|      null|      null|      null|      null|      null|      null|      null|      null|       null|       null|       null|       null|       null|       null|       null|       null|       null|       null|       null|       null|       null|       null|       null|       null|       null|       null|       null|       null|       null|       null|       null|       null|       null|       null|       null|       null|       null|       null|       null|       null|       null|       null|       null|       null|\n",
      "|098A38C9D43A2CE3|744681196211214|      1|   20080420|   20080428|   10S0MP|    14000.0|                     0.0|  3762409996|  3762409996|        null|    20080420|              78930|                      30.0|                1024.0|                           0.0|                           0.0|                 8|          20080428|       735|          1830|          1981|          null|          5601|         25001|          2859|          2851|          1976|          4019|           null|           6561|          19882|           1832|           7510|           null|           null|      null|      null|      null|      null|      null|      null|      null|      null|      null|       null|       null|       null|       null|       null|       null|       null|       null|       null|       null|       null|       null|       null|       null|       null|       null|       null|       null|       null|       null|       null|       null|       null|       null|       null|       null|       null|       null|       null|       null|       null|       null|       null|       null|       null|       null|\n",
      "|0AB7913895C86613|744601196207510|      1|   20080316|   20080318|   0600BC|    12000.0|                     0.0|  4817066860|  7122228241|  7122228241|    20080316|              78959|                       0.0|                1024.0|                           0.0|                           0.0|                 2|          20080318|       758|          1830|          5644|          9974|          4019|          1977|          null|          null|          null|          null|           null|           6849|          25000|           1975|          59389|           null|           null|      null|      null|      null|      null|      null|      null|      null|      null|      null|       null|       null|       null|       null|       null|       null|       null|       null|       null|       null|       null|       null|       null|       null|       null|       null|       null|       null|       null|       null|       null|       null|       null|       null|       null|       null|       null|       null|       null|       null|       null|       null|       null|       null|       null|       null|\n",
      "|0B5732B8B3332D46|744801196205388|      1|   20080413|   20080422|   4200VJ|    11000.0|                     0.0|  4872892277|  3513974171|        null|    20080413|               1830|                       0.0|                1024.0|                           0.0|                           0.0|                 9|          20080422|       742|          1830|          6146|          1976|          2724|          4251|          6171|          1977|         56210|         56089|           null|           6849|           4019|           1974|          V1011|           1976|           7862|      null|      null|      null|      null|      null|      null|      null|      null|      null|       null|       null|       null|       null|       null|       null|       null|       null|       null|       null|       null|       null|       null|       null|       null|       null|       null|       null|       null|       null|       null|       null|       null|       null|       null|       null|       null|       null|       null|       null|       null|       null|       null|       null|       null|       null|\n",
      "|11ACFBFADF61E5A2|744811196235199|      1|   20080801|   20080816|   05018N|    17000.0|                     0.0|  9692316785|  9692316785|        null|    20080801|               1830|                       0.0|                1024.0|                           0.0|                           0.0|                15|          20080816|       744|          1830|         45341|          2761|          5185|          5184|          5533|          3669|          7140|         34830|           null|           5491|           1976|          99591|           5185|           null|           2440|      null|      null|      null|      null|      null|      null|      null|      null|      null|       null|       null|       null|       null|       null|       null|       null|       null|       null|       null|       null|       null|       null|       null|       null|       null|       null|       null|       null|       null|       null|       null|       null|       null|       null|       null|       null|       null|       null|       null|       null|       null|       null|       null|       null|       null|\n",
      "|1D61F5BACAB7AF06|744751196207485|      1|   20080419|   20080506|   1401RR|    11000.0|                     0.0|  5195331021|  9245454272|        null|    20080419|              78701|                       0.0|                1024.0|                           0.0|                           0.0|                17|          20080506|       734|          1830|         57400|          5849|          5990|          2449|          2724|          5934|          1976|         45342|           4019|           9904|           3344|          56981|           1976|          42822|          25060|      null|      null|      null|      null|      null|      null|      null|      null|      null|       null|       null|       null|       null|       null|       null|       null|       null|       null|       null|       null|       null|       null|       null|       null|       null|       null|       null|       null|       null|       null|       null|       null|       null|       null|       null|       null|       null|       null|       null|       null|       null|       null|       null|       null|       null|\n",
      "|217B325F1FDC4A7B|744471196222898|      1|   20100430|   20100502|   2300AH|    14000.0|                 18000.0|  9453886667|  8371682971|  9995834431|    20100430|               1830|                       0.0|                1100.0|                           0.0|                           0.0|                 2|          20100502|       737|          1830|          4019|         57420|           311|          V140|          6279|         53081|           412|         27801|           null|           6561|           4019|           null|           null|           null|           null|      null|      null|      null|      null|      null|      null|      null|      null|      null|       null|       null|       null|       null|       null|       null|       null|       null|       null|       null|       null|       null|       null|       null|       null|       null|       null|       null|       null|       null|       null|       null|       null|       null|       null|       null|       null|       null|       null|       null|       null|       null|       null|       null|       null|       null|\n",
      "|250968B9DD8DB266|744791196221324|      1|   20090623|   20090627|   2000HG|    13000.0|                     0.0|  1117398893|  1117398893|        null|    20090623|              78930|                       0.0|                1068.0|                           0.0|                           0.0|                 4|          20090627|       761|          1830|          4019|          2851|          1974|          7885|         V8801|         V1582|          5968|          1978|           null|           6549|           4019|           2859|          56210|           2768|            311|      null|      null|      null|      null|      null|      null|      null|      null|      null|       null|       null|       null|       null|       null|       null|       null|       null|       null|       null|       null|       null|       null|       null|       null|       null|       null|       null|       null|       null|       null|       null|       null|       null|       null|       null|       null|       null|       null|       null|       null|       null|       null|       null|       null|       null|\n",
      "|2A739DC30B3E76FD|744841196199765|      1|   20091001|   20091004|   1000AH|    17000.0|                     0.0|  2927208102|  2879258395|        null|    20091001|               1820|                      30.0|                1068.0|                           0.0|                           0.0|                 3|          20091004|       743|          1830|          2449|          2762|           220|         V1582|          V653|          null|          null|          null|           null|           6869|           1986|          E8798|          V4364|           4019|            496|      null|      null|      null|      null|      null|      null|      null|      null|      null|       null|       null|       null|       null|       null|       null|       null|       null|       null|       null|       null|       null|       null|       null|       null|       null|       null|       null|       null|       null|       null|       null|       null|       null|       null|       null|       null|       null|       null|       null|       null|       null|       null|       null|       null|       null|\n",
      "|2FE79AD23B046229|744031196209647|      1|   20081019|   20081022|   5200UQ|    10000.0|                     0.0|  1145468140|  3489918240|        null|    20081019|                486|                       0.0|                1024.0|                           0.0|                           0.0|                 3|          20081022|       745|          1830|         72989|         25001|          5990|         41401|         78959|          1976|         99931|           486|           null|           3893|           5679|           null|           null|           null|           null|      null|      null|      null|      null|      null|      null|      null|      null|      null|       null|       null|       null|       null|       null|       null|       null|       null|       null|       null|       null|       null|       null|       null|       null|       null|       null|       null|       null|       null|       null|       null|       null|       null|       null|       null|       null|       null|       null|       null|       null|       null|       null|       null|       null|       null|\n",
      "|31164B57D4017F05|744531196237489|      1|   20080226|   20080309|   3302ND|    28000.0|                     0.0|   161643759|  7648846733|        null|    20080226|              78701|                       0.0|                1024.0|                           0.0|                           0.0|                12|          20080309|       744|          1830|          5990|         19889|          V850|          4558|          4019|         19882|          2724|          1978|           null|           6561|           2859|          78951|          56722|           5119|           2740|      null|      null|      null|      null|      null|      null|      null|      null|      null|       null|       null|       null|       null|       null|       null|       null|       null|       null|       null|       null|       null|       null|       null|       null|       null|       null|       null|       null|       null|       null|       null|       null|       null|       null|       null|       null|       null|       null|       null|       null|       null|       null|       null|       null|       null|\n",
      "|3593C681871F902D|744141196198313|      1|   20081120|   20081130|   1100QH|     8000.0|                     0.0|  9456955868|  9456955868|        null|    20081120|               1820|                      60.0|                1024.0|                           0.0|                           0.0|                10|          20081130|       741|          1830|         27651|          7994|         45340|          2851|          5990|          5934|          V667|         V1271|           null|           5794|           null|           null|           null|           null|           null|      null|      null|      null|      null|      null|      null|      null|      null|      null|       null|       null|       null|       null|       null|       null|       null|       null|       null|       null|       null|       null|       null|       null|       null|       null|       null|       null|       null|       null|       null|       null|       null|       null|       null|       null|       null|       null|       null|       null|       null|       null|       null|       null|       null|       null|\n",
      "+----------------+---------------+-------+-----------+-----------+---------+-----------+------------------------+------------+------------+------------+------------+-------------------+--------------------------+----------------------+------------------------------+------------------------------+------------------+------------------+----------+--------------+--------------+--------------+--------------+--------------+--------------+--------------+--------------+--------------+---------------+---------------+---------------+---------------+---------------+---------------+---------------+----------+----------+----------+----------+----------+----------+----------+----------+----------+-----------+-----------+-----------+-----------+-----------+-----------+-----------+-----------+-----------+-----------+-----------+-----------+-----------+-----------+-----------+-----------+-----------+-----------+-----------+-----------+-----------+-----------+-----------+-----------+-----------+-----------+-----------+-----------+-----------+-----------+-----------+-----------+-----------+-----------+-----------+-----------+\n",
      "only showing top 20 rows\n",
      "\n"
     ]
    }
   ],
   "source": [
    "df_inpatient.filter(df_inpatient[\"ICD9_DGNS_CD_1\"] == \"1830\").show()"
   ]
  },
  {
   "cell_type": "code",
   "execution_count": 81,
   "metadata": {},
   "outputs": [],
   "source": [
    "df_inpatient_OC = df_inpatient.filter((df_inpatient[\"ICD9_DGNS_CD_1\"] == \"1830\")|\n",
    "                                      (df_inpatient[\"ICD9_DGNS_CD_2\"] == \"1830\")|\n",
    "                                      (df_inpatient[\"ICD9_DGNS_CD_3\"] == \"1830\")|\n",
    "                                      (df_inpatient[\"ICD9_DGNS_CD_4\"] == \"1830\")|\n",
    "                                      (df_inpatient[\"ICD9_DGNS_CD_5\"] == \"1830\")|\n",
    "                                      (df_inpatient[\"ICD9_DGNS_CD_6\"] == \"1830\")|\n",
    "                                      (df_inpatient[\"ICD9_DGNS_CD_7\"] == \"1830\")|\n",
    "                                      (df_inpatient[\"ICD9_DGNS_CD_8\"] == \"1830\")|\n",
    "                                      (df_inpatient[\"ICD9_DGNS_CD_9\"] == \"1830\")|\n",
    "                                      (df_inpatient[\"ICD9_DGNS_CD_10\"] == \"1830\")\n",
    "                                     )"
   ]
  },
  {
   "cell_type": "code",
   "execution_count": 82,
   "metadata": {},
   "outputs": [
    {
     "data": {
      "text/plain": [
       "2649"
      ]
     },
     "execution_count": 82,
     "metadata": {},
     "output_type": "execute_result"
    }
   ],
   "source": [
    "df_inpatient_OC.count()"
   ]
  },
  {
   "cell_type": "code",
   "execution_count": 161,
   "metadata": {},
   "outputs": [],
   "source": [
    "df0000 = df_inpatient.where(df_inpatient[\"ICD9_DGNS_CD_1\"].eqNullSafe('1830')|\n",
    "                            df_inpatient[\"ICD9_DGNS_CD_2\"].eqNullSafe('1830')|\n",
    "                            df_inpatient[\"ICD9_DGNS_CD_3\"].eqNullSafe('1830')|\n",
    "                            df_inpatient[\"ICD9_DGNS_CD_4\"].eqNullSafe('1830')|\n",
    "                            df_inpatient[\"ICD9_DGNS_CD_5\"].eqNullSafe('1830')|\n",
    "                            df_inpatient[\"ICD9_DGNS_CD_6\"].eqNullSafe('1830')|\n",
    "                            df_inpatient[\"ICD9_DGNS_CD_7\"].eqNullSafe('1830')|\n",
    "                            df_inpatient[\"ICD9_DGNS_CD_8\"].eqNullSafe('1830')|\n",
    "                            df_inpatient[\"ICD9_DGNS_CD_9\"].eqNullSafe('1830')|\n",
    "                            df_inpatient[\"ICD9_DGNS_CD_10\"].eqNullSafe('1830')\n",
    "                           )"
   ]
  },
  {
   "cell_type": "code",
   "execution_count": 162,
   "metadata": {},
   "outputs": [
    {
     "data": {
      "text/plain": [
       "2649"
      ]
     },
     "execution_count": 162,
     "metadata": {},
     "output_type": "execute_result"
    }
   ],
   "source": [
    "df0000.count()"
   ]
  },
  {
   "cell_type": "code",
   "execution_count": 5,
   "metadata": {},
   "outputs": [],
   "source": [
    "from pyspark.sql import functions as F        \n",
    "   "
   ]
  },
  {
   "cell_type": "code",
   "execution_count": 167,
   "metadata": {},
   "outputs": [],
   "source": [
    "df_inpatient = df_inpatient.withColumn('class', (F.when(((F.col('ICD9_DGNS_CD_1').eqNullSafe('1830'))|\n",
    "                                                (F.col('ICD9_DGNS_CD_2').eqNullSafe('1830'))|\n",
    "                                                (F.col('ICD9_DGNS_CD_3').eqNullSafe('1830'))|\n",
    "                                                (F.col('ICD9_DGNS_CD_4').eqNullSafe('1830'))|\n",
    "                                                (F.col('ICD9_DGNS_CD_5').eqNullSafe('1830'))|\n",
    "                                                (F.col('ICD9_DGNS_CD_6').eqNullSafe('1830'))|\n",
    "                                                (F.col('ICD9_DGNS_CD_7').eqNullSafe('1830'))|\n",
    "                                                (F.col('ICD9_DGNS_CD_8').eqNullSafe('1830'))|\n",
    "                                                (F.col('ICD9_DGNS_CD_9').eqNullSafe('1830'))|\n",
    "                                                (F.col('ICD9_DGNS_CD_10').eqNullSafe('1830'))),1)\n",
    "                                                .otherwise(0)))"
   ]
  },
  {
   "cell_type": "code",
   "execution_count": 173,
   "metadata": {},
   "outputs": [
    {
     "data": {
      "text/plain": [
       "[1, 0]"
      ]
     },
     "execution_count": 173,
     "metadata": {},
     "output_type": "execute_result"
    }
   ],
   "source": [
    "df_inpatient.select('class').distinct().rdd.map(lambda r: r[0]).collect()"
   ]
  },
  {
   "cell_type": "code",
   "execution_count": 180,
   "metadata": {},
   "outputs": [
    {
     "name": "stdout",
     "output_type": "stream",
     "text": [
      "+-----+-------+\n",
      "|class|  count|\n",
      "+-----+-------+\n",
      "|    1|   2649|\n",
      "| null|1332822|\n",
      "|    0|1330173|\n",
      "+-----+-------+\n",
      "\n"
     ]
    }
   ],
   "source": [
    "from pyspark.sql import dataframe\n",
    "df_inpatient.cube('class').count().show()"
   ]
  },
  {
   "cell_type": "code",
   "execution_count": 174,
   "metadata": {},
   "outputs": [],
   "source": [
    "dfin_oc = df_inpatient.where(df_inpatient['class'] == 1)"
   ]
  },
  {
   "cell_type": "code",
   "execution_count": 175,
   "metadata": {},
   "outputs": [],
   "source": [
    "dfin_nooc = df_inpatient.where(df_inpatient['class'] == 0)"
   ]
  },
  {
   "cell_type": "code",
   "execution_count": 181,
   "metadata": {},
   "outputs": [
    {
     "data": {
      "text/plain": [
       "(2649, 1330173)"
      ]
     },
     "execution_count": 181,
     "metadata": {},
     "output_type": "execute_result"
    }
   ],
   "source": [
    "dfin_oc.count(), dfin_nooc.count()"
   ]
  },
  {
   "cell_type": "code",
   "execution_count": 176,
   "metadata": {},
   "outputs": [
    {
     "data": {
      "text/plain": [
       "True"
      ]
     },
     "execution_count": 176,
     "metadata": {},
     "output_type": "execute_result"
    }
   ],
   "source": [
    "dfin_oc.count()+ dfin_nooc.count() == df_inpatient.count()"
   ]
  },
  {
   "cell_type": "code",
   "execution_count": 9,
   "metadata": {},
   "outputs": [],
   "source": [
    "def split_df(df):\n",
    "    df = df.withColumn('class', (F.when(((F.col('ICD9_DGNS_CD_1').eqNullSafe('1830'))|\n",
    "                                        (F.col('ICD9_DGNS_CD_2').eqNullSafe('1830'))|\n",
    "                                        (F.col('ICD9_DGNS_CD_3').eqNullSafe('1830'))|\n",
    "                                        (F.col('ICD9_DGNS_CD_4').eqNullSafe('1830'))|\n",
    "                                        (F.col('ICD9_DGNS_CD_5').eqNullSafe('1830'))|\n",
    "                                        (F.col('ICD9_DGNS_CD_6').eqNullSafe('1830'))|\n",
    "                                        (F.col('ICD9_DGNS_CD_7').eqNullSafe('1830'))|\n",
    "                                        (F.col('ICD9_DGNS_CD_8').eqNullSafe('1830'))|\n",
    "                                        (F.col('ICD9_DGNS_CD_9').eqNullSafe('1830'))|\n",
    "                                        (F.col('ICD9_DGNS_CD_10').eqNullSafe('1830'))),1)\n",
    "                                        .otherwise(0)))\n",
    "    df_1 = df.where(df['class'] == 1)\n",
    "    df_0 = df.where(df['class'] == 0)\n",
    "    return df_1, df_0\n",
    "\n",
    "def write_df(df, datapath):\n",
    "    df.write.save(datapath, format='parquet')"
   ]
  },
  {
   "cell_type": "code",
   "execution_count": 10,
   "metadata": {},
   "outputs": [],
   "source": [
    "df_inpatient_oc,df_inpatient_nooc = split_df(df_inpatient)"
   ]
  },
  {
   "cell_type": "code",
   "execution_count": 188,
   "metadata": {},
   "outputs": [
    {
     "data": {
      "text/plain": [
       "(2649, 1330173)"
      ]
     },
     "execution_count": 188,
     "metadata": {},
     "output_type": "execute_result"
    }
   ],
   "source": [
    "df_inpatient_oc.count(),df_inpatient_nooc.count()"
   ]
  },
  {
   "cell_type": "code",
   "execution_count": 11,
   "metadata": {},
   "outputs": [],
   "source": [
    "ocpath = \"/Users/jill/Downloads/2020_Project/EDA/concat_data/inpatient/OC\"\n",
    "noocpath = \"/Users/jill/Downloads/2020_Project/EDA/concat_data/inpatient/noOC\"\n",
    "write_df(df_inpatient_oc,ocpath)\n"
   ]
  },
  {
   "cell_type": "code",
   "execution_count": 12,
   "metadata": {},
   "outputs": [],
   "source": [
    "write_df(df_inpatient_nooc,noocpath)"
   ]
  },
  {
   "cell_type": "code",
   "execution_count": 14,
   "metadata": {},
   "outputs": [],
   "source": [
    "## Test new dataset\n",
    "df1 = spark.read.load(\"/Users/jill/Downloads/2020_Project/EDA/concat_data/inpatient/OC\")\n",
    "df2 = spark.read.load(\"/Users/jill/Downloads/2020_Project/EDA/concat_data/inpatient/noOC\")"
   ]
  },
  {
   "cell_type": "code",
   "execution_count": 15,
   "metadata": {},
   "outputs": [
    {
     "data": {
      "text/plain": [
       "(2649, 1330173)"
      ]
     },
     "execution_count": 15,
     "metadata": {},
     "output_type": "execute_result"
    }
   ],
   "source": [
    "df1.count(),df2.count()"
   ]
  },
  {
   "cell_type": "code",
   "execution_count": 16,
   "metadata": {
    "scrolled": true
   },
   "outputs": [
    {
     "name": "stdout",
     "output_type": "stream",
     "text": [
      "root\n",
      " |-- DESYNPUF_ID: string (nullable = true)\n",
      " |-- CLM_ID: long (nullable = true)\n",
      " |-- SEGMENT: integer (nullable = true)\n",
      " |-- CLM_FROM_DT: integer (nullable = true)\n",
      " |-- CLM_THRU_DT: integer (nullable = true)\n",
      " |-- PRVDR_NUM: string (nullable = true)\n",
      " |-- CLM_PMT_AMT: double (nullable = true)\n",
      " |-- NCH_PRMRY_PYR_CLM_PD_AMT: double (nullable = true)\n",
      " |-- AT_PHYSN_NPI: long (nullable = true)\n",
      " |-- OP_PHYSN_NPI: long (nullable = true)\n",
      " |-- OT_PHYSN_NPI: long (nullable = true)\n",
      " |-- CLM_ADMSN_DT: integer (nullable = true)\n",
      " |-- ADMTNG_ICD9_DGNS_CD: string (nullable = true)\n",
      " |-- CLM_PASS_THRU_PER_DIEM_AMT: double (nullable = true)\n",
      " |-- NCH_BENE_IP_DDCTBL_AMT: double (nullable = true)\n",
      " |-- NCH_BENE_PTA_COINSRNC_LBLTY_AM: double (nullable = true)\n",
      " |-- NCH_BENE_BLOOD_DDCTBL_LBLTY_AM: double (nullable = true)\n",
      " |-- CLM_UTLZTN_DAY_CNT: integer (nullable = true)\n",
      " |-- NCH_BENE_DSCHRG_DT: integer (nullable = true)\n",
      " |-- CLM_DRG_CD: string (nullable = true)\n",
      " |-- ICD9_DGNS_CD_1: string (nullable = true)\n",
      " |-- ICD9_DGNS_CD_2: string (nullable = true)\n",
      " |-- ICD9_DGNS_CD_3: string (nullable = true)\n",
      " |-- ICD9_DGNS_CD_4: string (nullable = true)\n",
      " |-- ICD9_DGNS_CD_5: string (nullable = true)\n",
      " |-- ICD9_DGNS_CD_6: string (nullable = true)\n",
      " |-- ICD9_DGNS_CD_7: string (nullable = true)\n",
      " |-- ICD9_DGNS_CD_8: string (nullable = true)\n",
      " |-- ICD9_DGNS_CD_9: string (nullable = true)\n",
      " |-- ICD9_DGNS_CD_10: string (nullable = true)\n",
      " |-- ICD9_PRCDR_CD_1: integer (nullable = true)\n",
      " |-- ICD9_PRCDR_CD_2: string (nullable = true)\n",
      " |-- ICD9_PRCDR_CD_3: string (nullable = true)\n",
      " |-- ICD9_PRCDR_CD_4: string (nullable = true)\n",
      " |-- ICD9_PRCDR_CD_5: string (nullable = true)\n",
      " |-- ICD9_PRCDR_CD_6: string (nullable = true)\n",
      " |-- HCPCS_CD_1: string (nullable = true)\n",
      " |-- HCPCS_CD_2: string (nullable = true)\n",
      " |-- HCPCS_CD_3: string (nullable = true)\n",
      " |-- HCPCS_CD_4: string (nullable = true)\n",
      " |-- HCPCS_CD_5: string (nullable = true)\n",
      " |-- HCPCS_CD_6: string (nullable = true)\n",
      " |-- HCPCS_CD_7: string (nullable = true)\n",
      " |-- HCPCS_CD_8: string (nullable = true)\n",
      " |-- HCPCS_CD_9: string (nullable = true)\n",
      " |-- HCPCS_CD_10: string (nullable = true)\n",
      " |-- HCPCS_CD_11: string (nullable = true)\n",
      " |-- HCPCS_CD_12: string (nullable = true)\n",
      " |-- HCPCS_CD_13: string (nullable = true)\n",
      " |-- HCPCS_CD_14: string (nullable = true)\n",
      " |-- HCPCS_CD_15: string (nullable = true)\n",
      " |-- HCPCS_CD_16: string (nullable = true)\n",
      " |-- HCPCS_CD_17: string (nullable = true)\n",
      " |-- HCPCS_CD_18: string (nullable = true)\n",
      " |-- HCPCS_CD_19: string (nullable = true)\n",
      " |-- HCPCS_CD_20: string (nullable = true)\n",
      " |-- HCPCS_CD_21: string (nullable = true)\n",
      " |-- HCPCS_CD_22: string (nullable = true)\n",
      " |-- HCPCS_CD_23: string (nullable = true)\n",
      " |-- HCPCS_CD_24: string (nullable = true)\n",
      " |-- HCPCS_CD_25: string (nullable = true)\n",
      " |-- HCPCS_CD_26: string (nullable = true)\n",
      " |-- HCPCS_CD_27: string (nullable = true)\n",
      " |-- HCPCS_CD_28: string (nullable = true)\n",
      " |-- HCPCS_CD_29: string (nullable = true)\n",
      " |-- HCPCS_CD_30: string (nullable = true)\n",
      " |-- HCPCS_CD_31: string (nullable = true)\n",
      " |-- HCPCS_CD_32: string (nullable = true)\n",
      " |-- HCPCS_CD_33: string (nullable = true)\n",
      " |-- HCPCS_CD_34: string (nullable = true)\n",
      " |-- HCPCS_CD_35: string (nullable = true)\n",
      " |-- HCPCS_CD_36: string (nullable = true)\n",
      " |-- HCPCS_CD_37: string (nullable = true)\n",
      " |-- HCPCS_CD_38: string (nullable = true)\n",
      " |-- HCPCS_CD_39: string (nullable = true)\n",
      " |-- HCPCS_CD_40: string (nullable = true)\n",
      " |-- HCPCS_CD_41: string (nullable = true)\n",
      " |-- HCPCS_CD_42: string (nullable = true)\n",
      " |-- HCPCS_CD_43: string (nullable = true)\n",
      " |-- HCPCS_CD_44: string (nullable = true)\n",
      " |-- HCPCS_CD_45: string (nullable = true)\n",
      " |-- class: integer (nullable = true)\n",
      "\n"
     ]
    }
   ],
   "source": [
    "df1.printSchema()"
   ]
  },
  {
   "cell_type": "code",
   "execution_count": 17,
   "metadata": {},
   "outputs": [
    {
     "name": "stdout",
     "output_type": "stream",
     "text": [
      "root\n",
      " |-- DESYNPUF_ID: string (nullable = true)\n",
      " |-- CLM_ID: long (nullable = true)\n",
      " |-- SEGMENT: integer (nullable = true)\n",
      " |-- CLM_FROM_DT: integer (nullable = true)\n",
      " |-- CLM_THRU_DT: integer (nullable = true)\n",
      " |-- PRVDR_NUM: string (nullable = true)\n",
      " |-- CLM_PMT_AMT: double (nullable = true)\n",
      " |-- NCH_PRMRY_PYR_CLM_PD_AMT: double (nullable = true)\n",
      " |-- AT_PHYSN_NPI: long (nullable = true)\n",
      " |-- OP_PHYSN_NPI: long (nullable = true)\n",
      " |-- OT_PHYSN_NPI: long (nullable = true)\n",
      " |-- CLM_ADMSN_DT: integer (nullable = true)\n",
      " |-- ADMTNG_ICD9_DGNS_CD: string (nullable = true)\n",
      " |-- CLM_PASS_THRU_PER_DIEM_AMT: double (nullable = true)\n",
      " |-- NCH_BENE_IP_DDCTBL_AMT: double (nullable = true)\n",
      " |-- NCH_BENE_PTA_COINSRNC_LBLTY_AM: double (nullable = true)\n",
      " |-- NCH_BENE_BLOOD_DDCTBL_LBLTY_AM: double (nullable = true)\n",
      " |-- CLM_UTLZTN_DAY_CNT: integer (nullable = true)\n",
      " |-- NCH_BENE_DSCHRG_DT: integer (nullable = true)\n",
      " |-- CLM_DRG_CD: string (nullable = true)\n",
      " |-- ICD9_DGNS_CD_1: string (nullable = true)\n",
      " |-- ICD9_DGNS_CD_2: string (nullable = true)\n",
      " |-- ICD9_DGNS_CD_3: string (nullable = true)\n",
      " |-- ICD9_DGNS_CD_4: string (nullable = true)\n",
      " |-- ICD9_DGNS_CD_5: string (nullable = true)\n",
      " |-- ICD9_DGNS_CD_6: string (nullable = true)\n",
      " |-- ICD9_DGNS_CD_7: string (nullable = true)\n",
      " |-- ICD9_DGNS_CD_8: string (nullable = true)\n",
      " |-- ICD9_DGNS_CD_9: string (nullable = true)\n",
      " |-- ICD9_DGNS_CD_10: string (nullable = true)\n",
      " |-- ICD9_PRCDR_CD_1: integer (nullable = true)\n",
      " |-- ICD9_PRCDR_CD_2: string (nullable = true)\n",
      " |-- ICD9_PRCDR_CD_3: string (nullable = true)\n",
      " |-- ICD9_PRCDR_CD_4: string (nullable = true)\n",
      " |-- ICD9_PRCDR_CD_5: string (nullable = true)\n",
      " |-- ICD9_PRCDR_CD_6: string (nullable = true)\n",
      " |-- HCPCS_CD_1: string (nullable = true)\n",
      " |-- HCPCS_CD_2: string (nullable = true)\n",
      " |-- HCPCS_CD_3: string (nullable = true)\n",
      " |-- HCPCS_CD_4: string (nullable = true)\n",
      " |-- HCPCS_CD_5: string (nullable = true)\n",
      " |-- HCPCS_CD_6: string (nullable = true)\n",
      " |-- HCPCS_CD_7: string (nullable = true)\n",
      " |-- HCPCS_CD_8: string (nullable = true)\n",
      " |-- HCPCS_CD_9: string (nullable = true)\n",
      " |-- HCPCS_CD_10: string (nullable = true)\n",
      " |-- HCPCS_CD_11: string (nullable = true)\n",
      " |-- HCPCS_CD_12: string (nullable = true)\n",
      " |-- HCPCS_CD_13: string (nullable = true)\n",
      " |-- HCPCS_CD_14: string (nullable = true)\n",
      " |-- HCPCS_CD_15: string (nullable = true)\n",
      " |-- HCPCS_CD_16: string (nullable = true)\n",
      " |-- HCPCS_CD_17: string (nullable = true)\n",
      " |-- HCPCS_CD_18: string (nullable = true)\n",
      " |-- HCPCS_CD_19: string (nullable = true)\n",
      " |-- HCPCS_CD_20: string (nullable = true)\n",
      " |-- HCPCS_CD_21: string (nullable = true)\n",
      " |-- HCPCS_CD_22: string (nullable = true)\n",
      " |-- HCPCS_CD_23: string (nullable = true)\n",
      " |-- HCPCS_CD_24: string (nullable = true)\n",
      " |-- HCPCS_CD_25: string (nullable = true)\n",
      " |-- HCPCS_CD_26: string (nullable = true)\n",
      " |-- HCPCS_CD_27: string (nullable = true)\n",
      " |-- HCPCS_CD_28: string (nullable = true)\n",
      " |-- HCPCS_CD_29: string (nullable = true)\n",
      " |-- HCPCS_CD_30: string (nullable = true)\n",
      " |-- HCPCS_CD_31: string (nullable = true)\n",
      " |-- HCPCS_CD_32: string (nullable = true)\n",
      " |-- HCPCS_CD_33: string (nullable = true)\n",
      " |-- HCPCS_CD_34: string (nullable = true)\n",
      " |-- HCPCS_CD_35: string (nullable = true)\n",
      " |-- HCPCS_CD_36: string (nullable = true)\n",
      " |-- HCPCS_CD_37: string (nullable = true)\n",
      " |-- HCPCS_CD_38: string (nullable = true)\n",
      " |-- HCPCS_CD_39: string (nullable = true)\n",
      " |-- HCPCS_CD_40: string (nullable = true)\n",
      " |-- HCPCS_CD_41: string (nullable = true)\n",
      " |-- HCPCS_CD_42: string (nullable = true)\n",
      " |-- HCPCS_CD_43: string (nullable = true)\n",
      " |-- HCPCS_CD_44: string (nullable = true)\n",
      " |-- HCPCS_CD_45: string (nullable = true)\n",
      " |-- class: integer (nullable = true)\n",
      "\n"
     ]
    }
   ],
   "source": [
    "df2.printSchema()"
   ]
  },
  {
   "cell_type": "code",
   "execution_count": null,
   "metadata": {},
   "outputs": [],
   "source": [
    "outpath = \"/Users/jill/Downloads/2020_Project/EDA/concat_data/outpatient/outpatient_con\"\n"
   ]
  },
  {
   "cell_type": "code",
   "execution_count": null,
   "metadata": {},
   "outputs": [],
   "source": [
    "### Carrier concat data\n",
    "startpath_carrier = \"/Users/jill/Downloads/2020_Project/integrated_data/carrier_claim/\"\n",
    "datapath_carrier_lst = datapath_lst(startpath_carrier)\n",
    "concat_carrier = concat_df(datapath_carrier_lst)"
   ]
  }
 ],
 "metadata": {
  "kernelspec": {
   "display_name": "Python 3",
   "language": "python",
   "name": "python3"
  },
  "language_info": {
   "codemirror_mode": {
    "name": "ipython",
    "version": 3
   },
   "file_extension": ".py",
   "mimetype": "text/x-python",
   "name": "python",
   "nbconvert_exporter": "python",
   "pygments_lexer": "ipython3",
   "version": "3.7.4"
  }
 },
 "nbformat": 4,
 "nbformat_minor": 2
}
