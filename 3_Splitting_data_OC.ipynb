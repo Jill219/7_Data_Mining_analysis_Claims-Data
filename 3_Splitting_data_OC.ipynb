{
 "cells": [
  {
   "cell_type": "code",
   "execution_count": 31,
   "metadata": {},
   "outputs": [],
   "source": [
    "import os\n",
    "import glob"
   ]
  },
  {
   "cell_type": "code",
   "execution_count": 2,
   "metadata": {},
   "outputs": [],
   "source": [
    "import pyspark\n",
    "from pyspark import SparkContext\n",
    "from pyspark.sql import SparkSession \n",
    "from pyspark.sql import functions as F        "
   ]
  },
  {
   "cell_type": "code",
   "execution_count": 3,
   "metadata": {},
   "outputs": [],
   "source": [
    "spark = SparkSession.builder.master(\"local[*]\").getOrCreate()\n",
    "SparkContext.setSystemProperty('spark.executor.memory', '5g')\n",
    "SparkContext.setSystemProperty('spark.driver.memory', '3g')"
   ]
  },
  {
   "cell_type": "code",
   "execution_count": 4,
   "metadata": {},
   "outputs": [
    {
     "data": {
      "text/plain": [
       "[('spark.driver.memory', '3g'),\n",
       " ('spark.rdd.compress', 'True'),\n",
       " ('spark.app.id', 'local-1581531668846'),\n",
       " ('spark.serializer.objectStreamReset', '100'),\n",
       " ('spark.master', 'local[*]'),\n",
       " ('spark.executor.id', 'driver'),\n",
       " ('spark.submit.deployMode', 'client'),\n",
       " ('spark.executor.memory', '5g'),\n",
       " ('spark.driver.host', '192.168.1.82'),\n",
       " ('spark.ui.showConsoleProgress', 'true'),\n",
       " ('spark.app.name', 'pyspark-shell'),\n",
       " ('spark.driver.port', '53202')]"
      ]
     },
     "execution_count": 4,
     "metadata": {},
     "output_type": "execute_result"
    }
   ],
   "source": [
    "spark._sc.getConf().getAll()"
   ]
  },
  {
   "cell_type": "markdown",
   "metadata": {},
   "source": [
    "## 1. Concat dataset and split into two parts ( with OC and without OC)"
   ]
  },
  {
   "cell_type": "code",
   "execution_count": 13,
   "metadata": {},
   "outputs": [],
   "source": [
    "def file_lst (datapath,filetype):\n",
    "    \"\"\"\n",
    "    Return a list including all datasets' directory in one file.\n",
    "    \"\"\"\n",
    "    lst = []\n",
    "    for filedirs, files, filenames in os.walk(datapath):\n",
    "        lst += [os.path.join(filedirs, file) for file in filenames if file.endswith(filetype)]\n",
    "    return lst"
   ]
  },
  {
   "cell_type": "code",
   "execution_count": 14,
   "metadata": {},
   "outputs": [],
   "source": [
    "def concat_df(datapath):\n",
    "    \"\"\"\n",
    "    Concat all the same kind of datasets as one and return it.\n",
    "    \"\"\"\n",
    "    datapath_lst = [os.path.join(datapath, file) for file in os.listdir(datapath) if file.endswith(\"csv\")]\n",
    "    df1 = spark.read.format(\"csv\").option(\"inferSchema\", True).option(\"header\", True).load(datapath_lst[0])\n",
    "    for i in range(1,20):\n",
    "        df2 = spark.read.format(\"csv\").option(\"inferSchema\", True).option(\"header\", True).load(datapath_lst[i])\n",
    "        df1 = df1.union(df2) \n",
    "    return df1   "
   ]
  },
  {
   "cell_type": "code",
   "execution_count": 15,
   "metadata": {},
   "outputs": [],
   "source": [
    "def split_df(df):\n",
    "    \"\"\"\n",
    "    Create a new column \"class\", class 1 == with OC, class 2 == without OC.\n",
    "    Create two new datasets, one is a dataset with OC patients, the other one is without OC patients.\n",
    "    Return these two datasets.\n",
    "    \"\"\"\n",
    "    df = df.withColumn('class', (F.when(((F.col('ICD9_DGNS_CD_1').eqNullSafe('1830'))|\n",
    "                                        (F.col('ICD9_DGNS_CD_2').eqNullSafe('1830'))|\n",
    "                                        (F.col('ICD9_DGNS_CD_3').eqNullSafe('1830'))|\n",
    "                                        (F.col('ICD9_DGNS_CD_4').eqNullSafe('1830'))|\n",
    "                                        (F.col('ICD9_DGNS_CD_5').eqNullSafe('1830'))|\n",
    "                                        (F.col('ICD9_DGNS_CD_6').eqNullSafe('1830'))|\n",
    "                                        (F.col('ICD9_DGNS_CD_7').eqNullSafe('1830'))|\n",
    "                                        (F.col('ICD9_DGNS_CD_8').eqNullSafe('1830'))|\n",
    "                                        (F.col('ICD9_DGNS_CD_9').eqNullSafe('1830'))|\n",
    "                                        (F.col('ICD9_DGNS_CD_10').eqNullSafe('1830'))),1)\n",
    "                                        .otherwise(0)))\n",
    "    df_1 = df.where(df['class'] == 1)\n",
    "    df_0 = df.where(df['class'] == 0)\n",
    "    #df2 = df.subtract(df1)\n",
    "    return df_1, df_0"
   ]
  },
  {
   "cell_type": "code",
   "execution_count": 81,
   "metadata": {},
   "outputs": [],
   "source": [
    "def write_df(df, datapath):\n",
    "    \"\"\"\n",
    "    Save a parquet format dataset into a new directory. \n",
    "    \"\"\"\n",
    "    df.write.save(datapath, format='parquet')"
   ]
  },
  {
   "cell_type": "markdown",
   "metadata": {},
   "source": [
    "### Inpatient_claim data"
   ]
  },
  {
   "cell_type": "code",
   "execution_count": 2,
   "metadata": {},
   "outputs": [],
   "source": [
    "startpath_in = \"/Users/jill/Downloads/2020_Project/integrated_data/inpatient_claim/\""
   ]
  },
  {
   "cell_type": "code",
   "execution_count": 31,
   "metadata": {},
   "outputs": [],
   "source": [
    "#df_in = concat_df(startpath_in)"
   ]
  },
  {
   "cell_type": "code",
   "execution_count": 32,
   "metadata": {},
   "outputs": [],
   "source": [
    "#df_in.write.save(\"./concat_data/inpatient\", format='parquet')"
   ]
  },
  {
   "cell_type": "code",
   "execution_count": 7,
   "metadata": {},
   "outputs": [],
   "source": [
    "# Check the saved dataset.\n",
    "\n",
    "df_inpatient = spark.read.load(\"/Users/jill/Downloads/2020_Project/EDA/concat_data/inpatient/inpatient_con/\")"
   ]
  },
  {
   "cell_type": "code",
   "execution_count": 8,
   "metadata": {},
   "outputs": [
    {
     "data": {
      "text/plain": [
       "[Row(DESYNPUF_ID='4164404F0A50EC8D', CLM_ID=90191100136835, SEGMENT=1, CLM_FROM_DT=20080123, CLM_THRU_DT=20080127, PRVDR_NUM='3901ZS', CLM_PMT_AMT=2000.0, NCH_PRMRY_PYR_CLM_PD_AMT=0.0, AT_PHYSN_NPI=771958540, OP_PHYSN_NPI=7718505294, OT_PHYSN_NPI=None, CLM_ADMSN_DT=20080123, ADMTNG_ICD9_DGNS_CD='2910', CLM_PASS_THRU_PER_DIEM_AMT=0.0, NCH_BENE_IP_DDCTBL_AMT=1024.0, NCH_BENE_PTA_COINSRNC_LBLTY_AM=0.0, NCH_BENE_BLOOD_DDCTBL_LBLTY_AM=0.0, CLM_UTLZTN_DAY_CNT=4, NCH_BENE_DSCHRG_DT=20080127, CLM_DRG_CD='895', ICD9_DGNS_CD_1='29181', ICD9_DGNS_CD_2='7850', ICD9_DGNS_CD_3='30560', ICD9_DGNS_CD_4='V1046', ICD9_DGNS_CD_5='4019', ICD9_DGNS_CD_6='30390', ICD9_DGNS_CD_7='40390', ICD9_DGNS_CD_8='2920', ICD9_DGNS_CD_9='2967', ICD9_DGNS_CD_10=None, ICD9_PRCDR_CD_1=586, ICD9_PRCDR_CD_2='2768', ICD9_PRCDR_CD_3=None, ICD9_PRCDR_CD_4=None, ICD9_PRCDR_CD_5=None, ICD9_PRCDR_CD_6=None, HCPCS_CD_1=None, HCPCS_CD_2=None, HCPCS_CD_3=None, HCPCS_CD_4=None, HCPCS_CD_5=None, HCPCS_CD_6=None, HCPCS_CD_7=None, HCPCS_CD_8=None, HCPCS_CD_9=None, HCPCS_CD_10=None, HCPCS_CD_11=None, HCPCS_CD_12=None, HCPCS_CD_13=None, HCPCS_CD_14=None, HCPCS_CD_15=None, HCPCS_CD_16=None, HCPCS_CD_17=None, HCPCS_CD_18=None, HCPCS_CD_19=None, HCPCS_CD_20=None, HCPCS_CD_21=None, HCPCS_CD_22=None, HCPCS_CD_23=None, HCPCS_CD_24=None, HCPCS_CD_25=None, HCPCS_CD_26=None, HCPCS_CD_27=None, HCPCS_CD_28=None, HCPCS_CD_29=None, HCPCS_CD_30=None, HCPCS_CD_31=None, HCPCS_CD_32=None, HCPCS_CD_33=None, HCPCS_CD_34=None, HCPCS_CD_35=None, HCPCS_CD_36=None, HCPCS_CD_37=None, HCPCS_CD_38=None, HCPCS_CD_39=None, HCPCS_CD_40=None, HCPCS_CD_41=None, HCPCS_CD_42=None, HCPCS_CD_43=None, HCPCS_CD_44=None, HCPCS_CD_45=None),\n",
       " Row(DESYNPUF_ID='4164404F0A50EC8D', CLM_ID=90971100088590, SEGMENT=1, CLM_FROM_DT=20080803, CLM_THRU_DT=20080805, PRVDR_NUM='3901ZS', CLM_PMT_AMT=5000.0, NCH_PRMRY_PYR_CLM_PD_AMT=0.0, AT_PHYSN_NPI=3032421569, OP_PHYSN_NPI=3032421569, OT_PHYSN_NPI=None, CLM_ADMSN_DT=20080803, ADMTNG_ICD9_DGNS_CD='72210', CLM_PASS_THRU_PER_DIEM_AMT=500.0, NCH_BENE_IP_DDCTBL_AMT=1024.0, NCH_BENE_PTA_COINSRNC_LBLTY_AM=0.0, NCH_BENE_BLOOD_DDCTBL_LBLTY_AM=0.0, CLM_UTLZTN_DAY_CNT=2, NCH_BENE_DSCHRG_DT=20080805, CLM_DRG_CD='467', ICD9_DGNS_CD_1='72402', ICD9_DGNS_CD_2=None, ICD9_DGNS_CD_3=None, ICD9_DGNS_CD_4=None, ICD9_DGNS_CD_5=None, ICD9_DGNS_CD_6=None, ICD9_DGNS_CD_7=None, ICD9_DGNS_CD_8=None, ICD9_DGNS_CD_9=None, ICD9_DGNS_CD_10=None, ICD9_PRCDR_CD_1=8051, ICD9_PRCDR_CD_2=None, ICD9_PRCDR_CD_3=None, ICD9_PRCDR_CD_4=None, ICD9_PRCDR_CD_5=None, ICD9_PRCDR_CD_6=None, HCPCS_CD_1=None, HCPCS_CD_2=None, HCPCS_CD_3=None, HCPCS_CD_4=None, HCPCS_CD_5=None, HCPCS_CD_6=None, HCPCS_CD_7=None, HCPCS_CD_8=None, HCPCS_CD_9=None, HCPCS_CD_10=None, HCPCS_CD_11=None, HCPCS_CD_12=None, HCPCS_CD_13=None, HCPCS_CD_14=None, HCPCS_CD_15=None, HCPCS_CD_16=None, HCPCS_CD_17=None, HCPCS_CD_18=None, HCPCS_CD_19=None, HCPCS_CD_20=None, HCPCS_CD_21=None, HCPCS_CD_22=None, HCPCS_CD_23=None, HCPCS_CD_24=None, HCPCS_CD_25=None, HCPCS_CD_26=None, HCPCS_CD_27=None, HCPCS_CD_28=None, HCPCS_CD_29=None, HCPCS_CD_30=None, HCPCS_CD_31=None, HCPCS_CD_32=None, HCPCS_CD_33=None, HCPCS_CD_34=None, HCPCS_CD_35=None, HCPCS_CD_36=None, HCPCS_CD_37=None, HCPCS_CD_38=None, HCPCS_CD_39=None, HCPCS_CD_40=None, HCPCS_CD_41=None, HCPCS_CD_42=None, HCPCS_CD_43=None, HCPCS_CD_44=None, HCPCS_CD_45=None),\n",
       " Row(DESYNPUF_ID='4164404F0A50EC8D', CLM_ID=90741100093670, SEGMENT=1, CLM_FROM_DT=20090416, CLM_THRU_DT=20090425, PRVDR_NUM='3901ZS', CLM_PMT_AMT=5000.0, NCH_PRMRY_PYR_CLM_PD_AMT=0.0, AT_PHYSN_NPI=3032421569, OP_PHYSN_NPI=None, OT_PHYSN_NPI=None, CLM_ADMSN_DT=20090416, ADMTNG_ICD9_DGNS_CD='78009', CLM_PASS_THRU_PER_DIEM_AMT=0.0, NCH_BENE_IP_DDCTBL_AMT=1068.0, NCH_BENE_PTA_COINSRNC_LBLTY_AM=0.0, NCH_BENE_BLOOD_DDCTBL_LBLTY_AM=0.0, CLM_UTLZTN_DAY_CNT=9, NCH_BENE_DSCHRG_DT=20090425, CLM_DRG_CD='039', ICD9_DGNS_CD_1='3310', ICD9_DGNS_CD_2='3320', ICD9_DGNS_CD_3='311', ICD9_DGNS_CD_4='29690', ICD9_DGNS_CD_5='25000', ICD9_DGNS_CD_6='43820', ICD9_DGNS_CD_7='2971', ICD9_DGNS_CD_8='2859', ICD9_DGNS_CD_9='4019', ICD9_DGNS_CD_10=None, ICD9_PRCDR_CD_1=None, ICD9_PRCDR_CD_2=None, ICD9_PRCDR_CD_3=None, ICD9_PRCDR_CD_4=None, ICD9_PRCDR_CD_5=None, ICD9_PRCDR_CD_6=None, HCPCS_CD_1=None, HCPCS_CD_2=None, HCPCS_CD_3=None, HCPCS_CD_4=None, HCPCS_CD_5=None, HCPCS_CD_6=None, HCPCS_CD_7=None, HCPCS_CD_8=None, HCPCS_CD_9=None, HCPCS_CD_10=None, HCPCS_CD_11=None, HCPCS_CD_12=None, HCPCS_CD_13=None, HCPCS_CD_14=None, HCPCS_CD_15=None, HCPCS_CD_16=None, HCPCS_CD_17=None, HCPCS_CD_18=None, HCPCS_CD_19=None, HCPCS_CD_20=None, HCPCS_CD_21=None, HCPCS_CD_22=None, HCPCS_CD_23=None, HCPCS_CD_24=None, HCPCS_CD_25=None, HCPCS_CD_26=None, HCPCS_CD_27=None, HCPCS_CD_28=None, HCPCS_CD_29=None, HCPCS_CD_30=None, HCPCS_CD_31=None, HCPCS_CD_32=None, HCPCS_CD_33=None, HCPCS_CD_34=None, HCPCS_CD_35=None, HCPCS_CD_36=None, HCPCS_CD_37=None, HCPCS_CD_38=None, HCPCS_CD_39=None, HCPCS_CD_40=None, HCPCS_CD_41=None, HCPCS_CD_42=None, HCPCS_CD_43=None, HCPCS_CD_44=None, HCPCS_CD_45=None),\n",
       " Row(DESYNPUF_ID='41653E723DDF644D', CLM_ID=90371100109452, SEGMENT=1, CLM_FROM_DT=20100616, CLM_THRU_DT=20100629, PRVDR_NUM='2100AK', CLM_PMT_AMT=18000.0, NCH_PRMRY_PYR_CLM_PD_AMT=0.0, AT_PHYSN_NPI=2643016103, OP_PHYSN_NPI=4153255207, OT_PHYSN_NPI=None, CLM_ADMSN_DT=20100616, ADMTNG_ICD9_DGNS_CD='78720', CLM_PASS_THRU_PER_DIEM_AMT=30.0, NCH_BENE_IP_DDCTBL_AMT=1100.0, NCH_BENE_PTA_COINSRNC_LBLTY_AM=0.0, NCH_BENE_BLOOD_DDCTBL_LBLTY_AM=0.0, CLM_UTLZTN_DAY_CNT=13, NCH_BENE_DSCHRG_DT=20100629, CLM_DRG_CD='987', ICD9_DGNS_CD_1='51881', ICD9_DGNS_CD_2='E8843', ICD9_DGNS_CD_3='99739', ICD9_DGNS_CD_4='V667', ICD9_DGNS_CD_5='5849', ICD9_DGNS_CD_6='4010', ICD9_DGNS_CD_7='28529', ICD9_DGNS_CD_8='2841', ICD9_DGNS_CD_9='4561', ICD9_DGNS_CD_10=None, ICD9_PRCDR_CD_1=8165, ICD9_PRCDR_CD_2='5856', ICD9_PRCDR_CD_3='99673', ICD9_PRCDR_CD_4='99591', ICD9_PRCDR_CD_5='42731', ICD9_PRCDR_CD_6='81342', HCPCS_CD_1=None, HCPCS_CD_2=None, HCPCS_CD_3=None, HCPCS_CD_4=None, HCPCS_CD_5=None, HCPCS_CD_6=None, HCPCS_CD_7=None, HCPCS_CD_8=None, HCPCS_CD_9=None, HCPCS_CD_10=None, HCPCS_CD_11=None, HCPCS_CD_12=None, HCPCS_CD_13=None, HCPCS_CD_14=None, HCPCS_CD_15=None, HCPCS_CD_16=None, HCPCS_CD_17=None, HCPCS_CD_18=None, HCPCS_CD_19=None, HCPCS_CD_20=None, HCPCS_CD_21=None, HCPCS_CD_22=None, HCPCS_CD_23=None, HCPCS_CD_24=None, HCPCS_CD_25=None, HCPCS_CD_26=None, HCPCS_CD_27=None, HCPCS_CD_28=None, HCPCS_CD_29=None, HCPCS_CD_30=None, HCPCS_CD_31=None, HCPCS_CD_32=None, HCPCS_CD_33=None, HCPCS_CD_34=None, HCPCS_CD_35=None, HCPCS_CD_36=None, HCPCS_CD_37=None, HCPCS_CD_38=None, HCPCS_CD_39=None, HCPCS_CD_40=None, HCPCS_CD_41=None, HCPCS_CD_42=None, HCPCS_CD_43=None, HCPCS_CD_44=None, HCPCS_CD_45=None),\n",
       " Row(DESYNPUF_ID='4165C9769D7F9C19', CLM_ID=90391100082438, SEGMENT=1, CLM_FROM_DT=20081202, CLM_THRU_DT=20081214, PRVDR_NUM='1402CR', CLM_PMT_AMT=5000.0, NCH_PRMRY_PYR_CLM_PD_AMT=0.0, AT_PHYSN_NPI=5283486435, OP_PHYSN_NPI=5283486435, OT_PHYSN_NPI=None, CLM_ADMSN_DT=20081202, ADMTNG_ICD9_DGNS_CD='5960', CLM_PASS_THRU_PER_DIEM_AMT=60.0, NCH_BENE_IP_DDCTBL_AMT=1024.0, NCH_BENE_PTA_COINSRNC_LBLTY_AM=0.0, NCH_BENE_BLOOD_DDCTBL_LBLTY_AM=0.0, CLM_UTLZTN_DAY_CNT=12, NCH_BENE_DSCHRG_DT=20081214, CLM_DRG_CD='726', ICD9_DGNS_CD_1='60001', ICD9_DGNS_CD_2='60000', ICD9_DGNS_CD_3='2851', ICD9_DGNS_CD_4='591', ICD9_DGNS_CD_5='71590', ICD9_DGNS_CD_6='28529', ICD9_DGNS_CD_7='78820', ICD9_DGNS_CD_8='7242', ICD9_DGNS_CD_9='2761', ICD9_DGNS_CD_10=None, ICD9_PRCDR_CD_1=6029, ICD9_PRCDR_CD_2='V5861', ICD9_PRCDR_CD_3='78820', ICD9_PRCDR_CD_4='4280', ICD9_PRCDR_CD_5='78843', ICD9_PRCDR_CD_6=None, HCPCS_CD_1=None, HCPCS_CD_2=None, HCPCS_CD_3=None, HCPCS_CD_4=None, HCPCS_CD_5=None, HCPCS_CD_6=None, HCPCS_CD_7=None, HCPCS_CD_8=None, HCPCS_CD_9=None, HCPCS_CD_10=None, HCPCS_CD_11=None, HCPCS_CD_12=None, HCPCS_CD_13=None, HCPCS_CD_14=None, HCPCS_CD_15=None, HCPCS_CD_16=None, HCPCS_CD_17=None, HCPCS_CD_18=None, HCPCS_CD_19=None, HCPCS_CD_20=None, HCPCS_CD_21=None, HCPCS_CD_22=None, HCPCS_CD_23=None, HCPCS_CD_24=None, HCPCS_CD_25=None, HCPCS_CD_26=None, HCPCS_CD_27=None, HCPCS_CD_28=None, HCPCS_CD_29=None, HCPCS_CD_30=None, HCPCS_CD_31=None, HCPCS_CD_32=None, HCPCS_CD_33=None, HCPCS_CD_34=None, HCPCS_CD_35=None, HCPCS_CD_36=None, HCPCS_CD_37=None, HCPCS_CD_38=None, HCPCS_CD_39=None, HCPCS_CD_40=None, HCPCS_CD_41=None, HCPCS_CD_42=None, HCPCS_CD_43=None, HCPCS_CD_44=None, HCPCS_CD_45=None)]"
      ]
     },
     "execution_count": 8,
     "metadata": {},
     "output_type": "execute_result"
    }
   ],
   "source": [
    "df_inpatient.take(5)"
   ]
  },
  {
   "cell_type": "code",
   "execution_count": 9,
   "metadata": {},
   "outputs": [
    {
     "name": "stdout",
     "output_type": "stream",
     "text": [
      "root\n",
      " |-- DESYNPUF_ID: string (nullable = true)\n",
      " |-- CLM_ID: long (nullable = true)\n",
      " |-- SEGMENT: integer (nullable = true)\n",
      " |-- CLM_FROM_DT: integer (nullable = true)\n",
      " |-- CLM_THRU_DT: integer (nullable = true)\n",
      " |-- PRVDR_NUM: string (nullable = true)\n",
      " |-- CLM_PMT_AMT: double (nullable = true)\n",
      " |-- NCH_PRMRY_PYR_CLM_PD_AMT: double (nullable = true)\n",
      " |-- AT_PHYSN_NPI: long (nullable = true)\n",
      " |-- OP_PHYSN_NPI: long (nullable = true)\n",
      " |-- OT_PHYSN_NPI: long (nullable = true)\n",
      " |-- CLM_ADMSN_DT: integer (nullable = true)\n",
      " |-- ADMTNG_ICD9_DGNS_CD: string (nullable = true)\n",
      " |-- CLM_PASS_THRU_PER_DIEM_AMT: double (nullable = true)\n",
      " |-- NCH_BENE_IP_DDCTBL_AMT: double (nullable = true)\n",
      " |-- NCH_BENE_PTA_COINSRNC_LBLTY_AM: double (nullable = true)\n",
      " |-- NCH_BENE_BLOOD_DDCTBL_LBLTY_AM: double (nullable = true)\n",
      " |-- CLM_UTLZTN_DAY_CNT: integer (nullable = true)\n",
      " |-- NCH_BENE_DSCHRG_DT: integer (nullable = true)\n",
      " |-- CLM_DRG_CD: string (nullable = true)\n",
      " |-- ICD9_DGNS_CD_1: string (nullable = true)\n",
      " |-- ICD9_DGNS_CD_2: string (nullable = true)\n",
      " |-- ICD9_DGNS_CD_3: string (nullable = true)\n",
      " |-- ICD9_DGNS_CD_4: string (nullable = true)\n",
      " |-- ICD9_DGNS_CD_5: string (nullable = true)\n",
      " |-- ICD9_DGNS_CD_6: string (nullable = true)\n",
      " |-- ICD9_DGNS_CD_7: string (nullable = true)\n",
      " |-- ICD9_DGNS_CD_8: string (nullable = true)\n",
      " |-- ICD9_DGNS_CD_9: string (nullable = true)\n",
      " |-- ICD9_DGNS_CD_10: string (nullable = true)\n",
      " |-- ICD9_PRCDR_CD_1: integer (nullable = true)\n",
      " |-- ICD9_PRCDR_CD_2: string (nullable = true)\n",
      " |-- ICD9_PRCDR_CD_3: string (nullable = true)\n",
      " |-- ICD9_PRCDR_CD_4: string (nullable = true)\n",
      " |-- ICD9_PRCDR_CD_5: string (nullable = true)\n",
      " |-- ICD9_PRCDR_CD_6: string (nullable = true)\n",
      " |-- HCPCS_CD_1: string (nullable = true)\n",
      " |-- HCPCS_CD_2: string (nullable = true)\n",
      " |-- HCPCS_CD_3: string (nullable = true)\n",
      " |-- HCPCS_CD_4: string (nullable = true)\n",
      " |-- HCPCS_CD_5: string (nullable = true)\n",
      " |-- HCPCS_CD_6: string (nullable = true)\n",
      " |-- HCPCS_CD_7: string (nullable = true)\n",
      " |-- HCPCS_CD_8: string (nullable = true)\n",
      " |-- HCPCS_CD_9: string (nullable = true)\n",
      " |-- HCPCS_CD_10: string (nullable = true)\n",
      " |-- HCPCS_CD_11: string (nullable = true)\n",
      " |-- HCPCS_CD_12: string (nullable = true)\n",
      " |-- HCPCS_CD_13: string (nullable = true)\n",
      " |-- HCPCS_CD_14: string (nullable = true)\n",
      " |-- HCPCS_CD_15: string (nullable = true)\n",
      " |-- HCPCS_CD_16: string (nullable = true)\n",
      " |-- HCPCS_CD_17: string (nullable = true)\n",
      " |-- HCPCS_CD_18: string (nullable = true)\n",
      " |-- HCPCS_CD_19: string (nullable = true)\n",
      " |-- HCPCS_CD_20: string (nullable = true)\n",
      " |-- HCPCS_CD_21: string (nullable = true)\n",
      " |-- HCPCS_CD_22: string (nullable = true)\n",
      " |-- HCPCS_CD_23: string (nullable = true)\n",
      " |-- HCPCS_CD_24: string (nullable = true)\n",
      " |-- HCPCS_CD_25: string (nullable = true)\n",
      " |-- HCPCS_CD_26: string (nullable = true)\n",
      " |-- HCPCS_CD_27: string (nullable = true)\n",
      " |-- HCPCS_CD_28: string (nullable = true)\n",
      " |-- HCPCS_CD_29: string (nullable = true)\n",
      " |-- HCPCS_CD_30: string (nullable = true)\n",
      " |-- HCPCS_CD_31: string (nullable = true)\n",
      " |-- HCPCS_CD_32: string (nullable = true)\n",
      " |-- HCPCS_CD_33: string (nullable = true)\n",
      " |-- HCPCS_CD_34: string (nullable = true)\n",
      " |-- HCPCS_CD_35: string (nullable = true)\n",
      " |-- HCPCS_CD_36: string (nullable = true)\n",
      " |-- HCPCS_CD_37: string (nullable = true)\n",
      " |-- HCPCS_CD_38: string (nullable = true)\n",
      " |-- HCPCS_CD_39: string (nullable = true)\n",
      " |-- HCPCS_CD_40: string (nullable = true)\n",
      " |-- HCPCS_CD_41: string (nullable = true)\n",
      " |-- HCPCS_CD_42: string (nullable = true)\n",
      " |-- HCPCS_CD_43: string (nullable = true)\n",
      " |-- HCPCS_CD_44: string (nullable = true)\n",
      " |-- HCPCS_CD_45: string (nullable = true)\n",
      "\n"
     ]
    }
   ],
   "source": [
    "df_inpatient.printSchema()"
   ]
  },
  {
   "cell_type": "code",
   "execution_count": 10,
   "metadata": {},
   "outputs": [
    {
     "name": "stdout",
     "output_type": "stream",
     "text": [
      "+----------------+--------------+-------+-----------+-----------+---------+-----------+------------------------+------------+------------+------------+------------+-------------------+--------------------------+----------------------+------------------------------+------------------------------+------------------+------------------+----------+--------------+--------------+--------------+--------------+--------------+--------------+--------------+--------------+--------------+---------------+---------------+---------------+---------------+---------------+---------------+---------------+----------+----------+----------+----------+----------+----------+----------+----------+----------+-----------+-----------+-----------+-----------+-----------+-----------+-----------+-----------+-----------+-----------+-----------+-----------+-----------+-----------+-----------+-----------+-----------+-----------+-----------+-----------+-----------+-----------+-----------+-----------+-----------+-----------+-----------+-----------+-----------+-----------+-----------+-----------+-----------+-----------+-----------+-----------+\n",
      "|     DESYNPUF_ID|        CLM_ID|SEGMENT|CLM_FROM_DT|CLM_THRU_DT|PRVDR_NUM|CLM_PMT_AMT|NCH_PRMRY_PYR_CLM_PD_AMT|AT_PHYSN_NPI|OP_PHYSN_NPI|OT_PHYSN_NPI|CLM_ADMSN_DT|ADMTNG_ICD9_DGNS_CD|CLM_PASS_THRU_PER_DIEM_AMT|NCH_BENE_IP_DDCTBL_AMT|NCH_BENE_PTA_COINSRNC_LBLTY_AM|NCH_BENE_BLOOD_DDCTBL_LBLTY_AM|CLM_UTLZTN_DAY_CNT|NCH_BENE_DSCHRG_DT|CLM_DRG_CD|ICD9_DGNS_CD_1|ICD9_DGNS_CD_2|ICD9_DGNS_CD_3|ICD9_DGNS_CD_4|ICD9_DGNS_CD_5|ICD9_DGNS_CD_6|ICD9_DGNS_CD_7|ICD9_DGNS_CD_8|ICD9_DGNS_CD_9|ICD9_DGNS_CD_10|ICD9_PRCDR_CD_1|ICD9_PRCDR_CD_2|ICD9_PRCDR_CD_3|ICD9_PRCDR_CD_4|ICD9_PRCDR_CD_5|ICD9_PRCDR_CD_6|HCPCS_CD_1|HCPCS_CD_2|HCPCS_CD_3|HCPCS_CD_4|HCPCS_CD_5|HCPCS_CD_6|HCPCS_CD_7|HCPCS_CD_8|HCPCS_CD_9|HCPCS_CD_10|HCPCS_CD_11|HCPCS_CD_12|HCPCS_CD_13|HCPCS_CD_14|HCPCS_CD_15|HCPCS_CD_16|HCPCS_CD_17|HCPCS_CD_18|HCPCS_CD_19|HCPCS_CD_20|HCPCS_CD_21|HCPCS_CD_22|HCPCS_CD_23|HCPCS_CD_24|HCPCS_CD_25|HCPCS_CD_26|HCPCS_CD_27|HCPCS_CD_28|HCPCS_CD_29|HCPCS_CD_30|HCPCS_CD_31|HCPCS_CD_32|HCPCS_CD_33|HCPCS_CD_34|HCPCS_CD_35|HCPCS_CD_36|HCPCS_CD_37|HCPCS_CD_38|HCPCS_CD_39|HCPCS_CD_40|HCPCS_CD_41|HCPCS_CD_42|HCPCS_CD_43|HCPCS_CD_44|HCPCS_CD_45|\n",
      "+----------------+--------------+-------+-----------+-----------+---------+-----------+------------------------+------------+------------+------------+------------+-------------------+--------------------------+----------------------+------------------------------+------------------------------+------------------+------------------+----------+--------------+--------------+--------------+--------------+--------------+--------------+--------------+--------------+--------------+---------------+---------------+---------------+---------------+---------------+---------------+---------------+----------+----------+----------+----------+----------+----------+----------+----------+----------+-----------+-----------+-----------+-----------+-----------+-----------+-----------+-----------+-----------+-----------+-----------+-----------+-----------+-----------+-----------+-----------+-----------+-----------+-----------+-----------+-----------+-----------+-----------+-----------+-----------+-----------+-----------+-----------+-----------+-----------+-----------+-----------+-----------+-----------+-----------+-----------+\n",
      "|4164404F0A50EC8D|90191100136835|      1|   20080123|   20080127|   3901ZS|     2000.0|                     0.0|   771958540|  7718505294|        null|    20080123|               2910|                       0.0|                1024.0|                           0.0|                           0.0|                 4|          20080127|       895|         29181|          7850|         30560|         V1046|          4019|         30390|         40390|          2920|          2967|           null|            586|           2768|           null|           null|           null|           null|      null|      null|      null|      null|      null|      null|      null|      null|      null|       null|       null|       null|       null|       null|       null|       null|       null|       null|       null|       null|       null|       null|       null|       null|       null|       null|       null|       null|       null|       null|       null|       null|       null|       null|       null|       null|       null|       null|       null|       null|       null|       null|       null|       null|       null|\n",
      "+----------------+--------------+-------+-----------+-----------+---------+-----------+------------------------+------------+------------+------------+------------+-------------------+--------------------------+----------------------+------------------------------+------------------------------+------------------+------------------+----------+--------------+--------------+--------------+--------------+--------------+--------------+--------------+--------------+--------------+---------------+---------------+---------------+---------------+---------------+---------------+---------------+----------+----------+----------+----------+----------+----------+----------+----------+----------+-----------+-----------+-----------+-----------+-----------+-----------+-----------+-----------+-----------+-----------+-----------+-----------+-----------+-----------+-----------+-----------+-----------+-----------+-----------+-----------+-----------+-----------+-----------+-----------+-----------+-----------+-----------+-----------+-----------+-----------+-----------+-----------+-----------+-----------+-----------+-----------+\n",
      "only showing top 1 row\n",
      "\n"
     ]
    }
   ],
   "source": [
    "df_inpatient.show(1)"
   ]
  },
  {
   "cell_type": "code",
   "execution_count": 11,
   "metadata": {},
   "outputs": [
    {
     "data": {
      "text/plain": [
       "1332822"
      ]
     },
     "execution_count": 11,
     "metadata": {},
     "output_type": "execute_result"
    }
   ],
   "source": [
    "df_inpatient.count()"
   ]
  },
  {
   "cell_type": "code",
   "execution_count": 14,
   "metadata": {},
   "outputs": [],
   "source": [
    "df_inpatient = df_inpatient.withColumn('class', (F.when(((F.col('ICD9_DGNS_CD_1').eqNullSafe('1830'))|\n",
    "                                                (F.col('ICD9_DGNS_CD_2').eqNullSafe('1830'))|\n",
    "                                                (F.col('ICD9_DGNS_CD_3').eqNullSafe('1830'))|\n",
    "                                                (F.col('ICD9_DGNS_CD_4').eqNullSafe('1830'))|\n",
    "                                                (F.col('ICD9_DGNS_CD_5').eqNullSafe('1830'))|\n",
    "                                                (F.col('ICD9_DGNS_CD_6').eqNullSafe('1830'))|\n",
    "                                                (F.col('ICD9_DGNS_CD_7').eqNullSafe('1830'))|\n",
    "                                                (F.col('ICD9_DGNS_CD_8').eqNullSafe('1830'))|\n",
    "                                                (F.col('ICD9_DGNS_CD_9').eqNullSafe('1830'))|\n",
    "                                                (F.col('ICD9_DGNS_CD_10').eqNullSafe('1830'))),1)\n",
    "                                                .otherwise(0)))"
   ]
  },
  {
   "cell_type": "code",
   "execution_count": 15,
   "metadata": {},
   "outputs": [
    {
     "data": {
      "text/plain": [
       "[1, 0]"
      ]
     },
     "execution_count": 15,
     "metadata": {},
     "output_type": "execute_result"
    }
   ],
   "source": [
    "df_inpatient.select('class').distinct().rdd.map(lambda r: r[0]).collect()"
   ]
  },
  {
   "cell_type": "code",
   "execution_count": 18,
   "metadata": {},
   "outputs": [
    {
     "name": "stdout",
     "output_type": "stream",
     "text": [
      "+-----+-------+\n",
      "|class|  count|\n",
      "+-----+-------+\n",
      "|    1|   2649|\n",
      "| null|1332822|\n",
      "|    0|1330173|\n",
      "+-----+-------+\n",
      "\n"
     ]
    }
   ],
   "source": [
    "from pyspark.sql import dataframe\n",
    "df_inpatient.cube('class').count().show()"
   ]
  },
  {
   "cell_type": "code",
   "execution_count": 174,
   "metadata": {},
   "outputs": [],
   "source": [
    "dfin_oc = df_inpatient.where(df_inpatient['class'] == 1)"
   ]
  },
  {
   "cell_type": "code",
   "execution_count": 175,
   "metadata": {},
   "outputs": [],
   "source": [
    "dfin_nooc = df_inpatient.where(df_inpatient['class'] == 0)"
   ]
  },
  {
   "cell_type": "code",
   "execution_count": 181,
   "metadata": {},
   "outputs": [
    {
     "data": {
      "text/plain": [
       "(2649, 1330173)"
      ]
     },
     "execution_count": 181,
     "metadata": {},
     "output_type": "execute_result"
    }
   ],
   "source": [
    "dfin_oc.count(), dfin_nooc.count()"
   ]
  },
  {
   "cell_type": "code",
   "execution_count": 176,
   "metadata": {},
   "outputs": [
    {
     "data": {
      "text/plain": [
       "True"
      ]
     },
     "execution_count": 176,
     "metadata": {},
     "output_type": "execute_result"
    }
   ],
   "source": [
    "dfin_oc.count()+ dfin_nooc.count() == df_inpatient.count()"
   ]
  },
  {
   "cell_type": "code",
   "execution_count": 10,
   "metadata": {},
   "outputs": [],
   "source": [
    "df_inpatient_oc,df_inpatient_nooc = split_df(df_inpatient)"
   ]
  },
  {
   "cell_type": "code",
   "execution_count": 188,
   "metadata": {},
   "outputs": [
    {
     "data": {
      "text/plain": [
       "(2649, 1330173)"
      ]
     },
     "execution_count": 188,
     "metadata": {},
     "output_type": "execute_result"
    }
   ],
   "source": [
    "df_inpatient_oc.count(),df_inpatient_nooc.count()"
   ]
  },
  {
   "cell_type": "code",
   "execution_count": 11,
   "metadata": {},
   "outputs": [],
   "source": [
    "ocpath = \"/Users/jill/Downloads/2020_Project/EDA/concat_data/inpatient/OC\"\n",
    "noocpath = \"/Users/jill/Downloads/2020_Project/EDA/concat_data/inpatient/noOC\"\n",
    "#write_df(df_inpatient_oc,ocpath)"
   ]
  },
  {
   "cell_type": "code",
   "execution_count": 12,
   "metadata": {},
   "outputs": [],
   "source": [
    "#write_df(df_inpatient_nooc,noocpath)"
   ]
  },
  {
   "cell_type": "code",
   "execution_count": 23,
   "metadata": {},
   "outputs": [],
   "source": [
    "## Test new splited datasets\n",
    "df1 = spark.read.load(\"/Users/jill/Downloads/2020_Project/EDA/concat_data/inpatient/OC\")\n",
    "df2 = spark.read.load(\"/Users/jill/Downloads/2020_Project/EDA/concat_data/inpatient/noOC\")"
   ]
  },
  {
   "cell_type": "code",
   "execution_count": 24,
   "metadata": {},
   "outputs": [
    {
     "data": {
      "text/plain": [
       "(2649, 1330173)"
      ]
     },
     "execution_count": 24,
     "metadata": {},
     "output_type": "execute_result"
    }
   ],
   "source": [
    "df1.count(),df2.count()"
   ]
  },
  {
   "cell_type": "code",
   "execution_count": 25,
   "metadata": {},
   "outputs": [
    {
     "name": "stdout",
     "output_type": "stream",
     "text": [
      "root\n",
      " |-- DESYNPUF_ID: string (nullable = true)\n",
      " |-- CLM_ID: long (nullable = true)\n",
      " |-- SEGMENT: integer (nullable = true)\n",
      " |-- CLM_FROM_DT: integer (nullable = true)\n",
      " |-- CLM_THRU_DT: integer (nullable = true)\n",
      " |-- PRVDR_NUM: string (nullable = true)\n",
      " |-- CLM_PMT_AMT: double (nullable = true)\n",
      " |-- NCH_PRMRY_PYR_CLM_PD_AMT: double (nullable = true)\n",
      " |-- AT_PHYSN_NPI: long (nullable = true)\n",
      " |-- OP_PHYSN_NPI: long (nullable = true)\n",
      " |-- OT_PHYSN_NPI: long (nullable = true)\n",
      " |-- CLM_ADMSN_DT: integer (nullable = true)\n",
      " |-- ADMTNG_ICD9_DGNS_CD: string (nullable = true)\n",
      " |-- CLM_PASS_THRU_PER_DIEM_AMT: double (nullable = true)\n",
      " |-- NCH_BENE_IP_DDCTBL_AMT: double (nullable = true)\n",
      " |-- NCH_BENE_PTA_COINSRNC_LBLTY_AM: double (nullable = true)\n",
      " |-- NCH_BENE_BLOOD_DDCTBL_LBLTY_AM: double (nullable = true)\n",
      " |-- CLM_UTLZTN_DAY_CNT: integer (nullable = true)\n",
      " |-- NCH_BENE_DSCHRG_DT: integer (nullable = true)\n",
      " |-- CLM_DRG_CD: string (nullable = true)\n",
      " |-- ICD9_DGNS_CD_1: string (nullable = true)\n",
      " |-- ICD9_DGNS_CD_2: string (nullable = true)\n",
      " |-- ICD9_DGNS_CD_3: string (nullable = true)\n",
      " |-- ICD9_DGNS_CD_4: string (nullable = true)\n",
      " |-- ICD9_DGNS_CD_5: string (nullable = true)\n",
      " |-- ICD9_DGNS_CD_6: string (nullable = true)\n",
      " |-- ICD9_DGNS_CD_7: string (nullable = true)\n",
      " |-- ICD9_DGNS_CD_8: string (nullable = true)\n",
      " |-- ICD9_DGNS_CD_9: string (nullable = true)\n",
      " |-- ICD9_DGNS_CD_10: string (nullable = true)\n",
      " |-- ICD9_PRCDR_CD_1: integer (nullable = true)\n",
      " |-- ICD9_PRCDR_CD_2: string (nullable = true)\n",
      " |-- ICD9_PRCDR_CD_3: string (nullable = true)\n",
      " |-- ICD9_PRCDR_CD_4: string (nullable = true)\n",
      " |-- ICD9_PRCDR_CD_5: string (nullable = true)\n",
      " |-- ICD9_PRCDR_CD_6: string (nullable = true)\n",
      " |-- HCPCS_CD_1: string (nullable = true)\n",
      " |-- HCPCS_CD_2: string (nullable = true)\n",
      " |-- HCPCS_CD_3: string (nullable = true)\n",
      " |-- HCPCS_CD_4: string (nullable = true)\n",
      " |-- HCPCS_CD_5: string (nullable = true)\n",
      " |-- HCPCS_CD_6: string (nullable = true)\n",
      " |-- HCPCS_CD_7: string (nullable = true)\n",
      " |-- HCPCS_CD_8: string (nullable = true)\n",
      " |-- HCPCS_CD_9: string (nullable = true)\n",
      " |-- HCPCS_CD_10: string (nullable = true)\n",
      " |-- HCPCS_CD_11: string (nullable = true)\n",
      " |-- HCPCS_CD_12: string (nullable = true)\n",
      " |-- HCPCS_CD_13: string (nullable = true)\n",
      " |-- HCPCS_CD_14: string (nullable = true)\n",
      " |-- HCPCS_CD_15: string (nullable = true)\n",
      " |-- HCPCS_CD_16: string (nullable = true)\n",
      " |-- HCPCS_CD_17: string (nullable = true)\n",
      " |-- HCPCS_CD_18: string (nullable = true)\n",
      " |-- HCPCS_CD_19: string (nullable = true)\n",
      " |-- HCPCS_CD_20: string (nullable = true)\n",
      " |-- HCPCS_CD_21: string (nullable = true)\n",
      " |-- HCPCS_CD_22: string (nullable = true)\n",
      " |-- HCPCS_CD_23: string (nullable = true)\n",
      " |-- HCPCS_CD_24: string (nullable = true)\n",
      " |-- HCPCS_CD_25: string (nullable = true)\n",
      " |-- HCPCS_CD_26: string (nullable = true)\n",
      " |-- HCPCS_CD_27: string (nullable = true)\n",
      " |-- HCPCS_CD_28: string (nullable = true)\n",
      " |-- HCPCS_CD_29: string (nullable = true)\n",
      " |-- HCPCS_CD_30: string (nullable = true)\n",
      " |-- HCPCS_CD_31: string (nullable = true)\n",
      " |-- HCPCS_CD_32: string (nullable = true)\n",
      " |-- HCPCS_CD_33: string (nullable = true)\n",
      " |-- HCPCS_CD_34: string (nullable = true)\n",
      " |-- HCPCS_CD_35: string (nullable = true)\n",
      " |-- HCPCS_CD_36: string (nullable = true)\n",
      " |-- HCPCS_CD_37: string (nullable = true)\n",
      " |-- HCPCS_CD_38: string (nullable = true)\n",
      " |-- HCPCS_CD_39: string (nullable = true)\n",
      " |-- HCPCS_CD_40: string (nullable = true)\n",
      " |-- HCPCS_CD_41: string (nullable = true)\n",
      " |-- HCPCS_CD_42: string (nullable = true)\n",
      " |-- HCPCS_CD_43: string (nullable = true)\n",
      " |-- HCPCS_CD_44: string (nullable = true)\n",
      " |-- HCPCS_CD_45: string (nullable = true)\n",
      " |-- class: integer (nullable = true)\n",
      "\n"
     ]
    }
   ],
   "source": [
    "df1.printSchema()"
   ]
  },
  {
   "cell_type": "code",
   "execution_count": 26,
   "metadata": {},
   "outputs": [
    {
     "name": "stdout",
     "output_type": "stream",
     "text": [
      "root\n",
      " |-- DESYNPUF_ID: string (nullable = true)\n",
      " |-- CLM_ID: long (nullable = true)\n",
      " |-- SEGMENT: integer (nullable = true)\n",
      " |-- CLM_FROM_DT: integer (nullable = true)\n",
      " |-- CLM_THRU_DT: integer (nullable = true)\n",
      " |-- PRVDR_NUM: string (nullable = true)\n",
      " |-- CLM_PMT_AMT: double (nullable = true)\n",
      " |-- NCH_PRMRY_PYR_CLM_PD_AMT: double (nullable = true)\n",
      " |-- AT_PHYSN_NPI: long (nullable = true)\n",
      " |-- OP_PHYSN_NPI: long (nullable = true)\n",
      " |-- OT_PHYSN_NPI: long (nullable = true)\n",
      " |-- CLM_ADMSN_DT: integer (nullable = true)\n",
      " |-- ADMTNG_ICD9_DGNS_CD: string (nullable = true)\n",
      " |-- CLM_PASS_THRU_PER_DIEM_AMT: double (nullable = true)\n",
      " |-- NCH_BENE_IP_DDCTBL_AMT: double (nullable = true)\n",
      " |-- NCH_BENE_PTA_COINSRNC_LBLTY_AM: double (nullable = true)\n",
      " |-- NCH_BENE_BLOOD_DDCTBL_LBLTY_AM: double (nullable = true)\n",
      " |-- CLM_UTLZTN_DAY_CNT: integer (nullable = true)\n",
      " |-- NCH_BENE_DSCHRG_DT: integer (nullable = true)\n",
      " |-- CLM_DRG_CD: string (nullable = true)\n",
      " |-- ICD9_DGNS_CD_1: string (nullable = true)\n",
      " |-- ICD9_DGNS_CD_2: string (nullable = true)\n",
      " |-- ICD9_DGNS_CD_3: string (nullable = true)\n",
      " |-- ICD9_DGNS_CD_4: string (nullable = true)\n",
      " |-- ICD9_DGNS_CD_5: string (nullable = true)\n",
      " |-- ICD9_DGNS_CD_6: string (nullable = true)\n",
      " |-- ICD9_DGNS_CD_7: string (nullable = true)\n",
      " |-- ICD9_DGNS_CD_8: string (nullable = true)\n",
      " |-- ICD9_DGNS_CD_9: string (nullable = true)\n",
      " |-- ICD9_DGNS_CD_10: string (nullable = true)\n",
      " |-- ICD9_PRCDR_CD_1: integer (nullable = true)\n",
      " |-- ICD9_PRCDR_CD_2: string (nullable = true)\n",
      " |-- ICD9_PRCDR_CD_3: string (nullable = true)\n",
      " |-- ICD9_PRCDR_CD_4: string (nullable = true)\n",
      " |-- ICD9_PRCDR_CD_5: string (nullable = true)\n",
      " |-- ICD9_PRCDR_CD_6: string (nullable = true)\n",
      " |-- HCPCS_CD_1: string (nullable = true)\n",
      " |-- HCPCS_CD_2: string (nullable = true)\n",
      " |-- HCPCS_CD_3: string (nullable = true)\n",
      " |-- HCPCS_CD_4: string (nullable = true)\n",
      " |-- HCPCS_CD_5: string (nullable = true)\n",
      " |-- HCPCS_CD_6: string (nullable = true)\n",
      " |-- HCPCS_CD_7: string (nullable = true)\n",
      " |-- HCPCS_CD_8: string (nullable = true)\n",
      " |-- HCPCS_CD_9: string (nullable = true)\n",
      " |-- HCPCS_CD_10: string (nullable = true)\n",
      " |-- HCPCS_CD_11: string (nullable = true)\n",
      " |-- HCPCS_CD_12: string (nullable = true)\n",
      " |-- HCPCS_CD_13: string (nullable = true)\n",
      " |-- HCPCS_CD_14: string (nullable = true)\n",
      " |-- HCPCS_CD_15: string (nullable = true)\n",
      " |-- HCPCS_CD_16: string (nullable = true)\n",
      " |-- HCPCS_CD_17: string (nullable = true)\n",
      " |-- HCPCS_CD_18: string (nullable = true)\n",
      " |-- HCPCS_CD_19: string (nullable = true)\n",
      " |-- HCPCS_CD_20: string (nullable = true)\n",
      " |-- HCPCS_CD_21: string (nullable = true)\n",
      " |-- HCPCS_CD_22: string (nullable = true)\n",
      " |-- HCPCS_CD_23: string (nullable = true)\n",
      " |-- HCPCS_CD_24: string (nullable = true)\n",
      " |-- HCPCS_CD_25: string (nullable = true)\n",
      " |-- HCPCS_CD_26: string (nullable = true)\n",
      " |-- HCPCS_CD_27: string (nullable = true)\n",
      " |-- HCPCS_CD_28: string (nullable = true)\n",
      " |-- HCPCS_CD_29: string (nullable = true)\n",
      " |-- HCPCS_CD_30: string (nullable = true)\n",
      " |-- HCPCS_CD_31: string (nullable = true)\n",
      " |-- HCPCS_CD_32: string (nullable = true)\n",
      " |-- HCPCS_CD_33: string (nullable = true)\n",
      " |-- HCPCS_CD_34: string (nullable = true)\n",
      " |-- HCPCS_CD_35: string (nullable = true)\n",
      " |-- HCPCS_CD_36: string (nullable = true)\n",
      " |-- HCPCS_CD_37: string (nullable = true)\n",
      " |-- HCPCS_CD_38: string (nullable = true)\n",
      " |-- HCPCS_CD_39: string (nullable = true)\n",
      " |-- HCPCS_CD_40: string (nullable = true)\n",
      " |-- HCPCS_CD_41: string (nullable = true)\n",
      " |-- HCPCS_CD_42: string (nullable = true)\n",
      " |-- HCPCS_CD_43: string (nullable = true)\n",
      " |-- HCPCS_CD_44: string (nullable = true)\n",
      " |-- HCPCS_CD_45: string (nullable = true)\n",
      " |-- class: integer (nullable = true)\n",
      "\n"
     ]
    }
   ],
   "source": [
    "df2.printSchema()"
   ]
  },
  {
   "cell_type": "markdown",
   "metadata": {},
   "source": [
    "### Outpatient_claim data"
   ]
  },
  {
   "cell_type": "code",
   "execution_count": 6,
   "metadata": {},
   "outputs": [],
   "source": [
    "startpath_out = \"/Users/jill/Downloads/2020_Project/integrated_data/outpatient_claim/\""
   ]
  },
  {
   "cell_type": "code",
   "execution_count": 31,
   "metadata": {},
   "outputs": [],
   "source": [
    "#concat_out = concat_df(startpath_out)"
   ]
  },
  {
   "cell_type": "code",
   "execution_count": 32,
   "metadata": {},
   "outputs": [
    {
     "data": {
      "text/plain": [
       "15826987"
      ]
     },
     "execution_count": 32,
     "metadata": {},
     "output_type": "execute_result"
    }
   ],
   "source": [
    "#concat_out.count()"
   ]
  },
  {
   "cell_type": "code",
   "execution_count": 9,
   "metadata": {},
   "outputs": [],
   "source": [
    "outpath= \"/Users/jill/Downloads/2020_Project/EDA/concat_data/outpatient/outpatient_con\"\n",
    "#write_df(concat_out, outpath)"
   ]
  },
  {
   "cell_type": "code",
   "execution_count": 10,
   "metadata": {},
   "outputs": [],
   "source": [
    "df_outpatient = spark.read.load(outpath)"
   ]
  },
  {
   "cell_type": "code",
   "execution_count": 11,
   "metadata": {},
   "outputs": [
    {
     "data": {
      "text/plain": [
       "15826987"
      ]
     },
     "execution_count": 11,
     "metadata": {},
     "output_type": "execute_result"
    }
   ],
   "source": [
    "df_outpatient.count()"
   ]
  },
  {
   "cell_type": "code",
   "execution_count": 17,
   "metadata": {},
   "outputs": [],
   "source": [
    "df_out_OC,df_out_noOC = split_df(df_outpatient)"
   ]
  },
  {
   "cell_type": "code",
   "execution_count": 18,
   "metadata": {},
   "outputs": [
    {
     "data": {
      "text/plain": [
       "(16706, 15810281)"
      ]
     },
     "execution_count": 18,
     "metadata": {},
     "output_type": "execute_result"
    }
   ],
   "source": [
    "df_out_OC.count(),df_out_noOC.count()"
   ]
  },
  {
   "cell_type": "code",
   "execution_count": 13,
   "metadata": {},
   "outputs": [
    {
     "data": {
      "text/plain": [
       "[1]"
      ]
     },
     "execution_count": 13,
     "metadata": {},
     "output_type": "execute_result"
    }
   ],
   "source": [
    "df_out_OC.select('class').distinct().rdd.map(lambda r: r[0]).collect()"
   ]
  },
  {
   "cell_type": "code",
   "execution_count": 14,
   "metadata": {},
   "outputs": [
    {
     "data": {
      "text/plain": [
       "[0]"
      ]
     },
     "execution_count": 14,
     "metadata": {},
     "output_type": "execute_result"
    }
   ],
   "source": [
    "df_out_noOC.select('class').distinct().rdd.map(lambda r: r[0]).collect()"
   ]
  },
  {
   "cell_type": "code",
   "execution_count": 7,
   "metadata": {},
   "outputs": [],
   "source": [
    "out_OC_path = \"/Users/jill/Downloads/2020_Project/EDA/concat_data/outpatient/outpatient_OC\"\n",
    "out_noOC_path = \"/Users/jill/Downloads/2020_Project/EDA/concat_data/outpatient/outpatient_noOC\""
   ]
  },
  {
   "cell_type": "code",
   "execution_count": 43,
   "metadata": {},
   "outputs": [],
   "source": [
    "#write_df(df_out_OC, out_OC_path)"
   ]
  },
  {
   "cell_type": "code",
   "execution_count": 20,
   "metadata": {},
   "outputs": [
    {
     "data": {
      "text/plain": [
       "15810281"
      ]
     },
     "execution_count": 20,
     "metadata": {},
     "output_type": "execute_result"
    }
   ],
   "source": [
    "df_out_noOC.count()"
   ]
  },
  {
   "cell_type": "code",
   "execution_count": 22,
   "metadata": {},
   "outputs": [],
   "source": [
    "#write_df(df_out_noOC, out_noOC_path)"
   ]
  },
  {
   "cell_type": "code",
   "execution_count": 6,
   "metadata": {},
   "outputs": [],
   "source": [
    "# Test splitted data\n",
    "dfout_noOC = spark.read.load(out_noOC_path)\n",
    "dfout_OC = spark.read.load(out_OC_path)"
   ]
  },
  {
   "cell_type": "code",
   "execution_count": 9,
   "metadata": {},
   "outputs": [],
   "source": [
    "sample = dfout_OC.toPandas()"
   ]
  },
  {
   "cell_type": "code",
   "execution_count": 10,
   "metadata": {},
   "outputs": [
    {
     "data": {
      "text/html": [
       "<div>\n",
       "<style scoped>\n",
       "    .dataframe tbody tr th:only-of-type {\n",
       "        vertical-align: middle;\n",
       "    }\n",
       "\n",
       "    .dataframe tbody tr th {\n",
       "        vertical-align: top;\n",
       "    }\n",
       "\n",
       "    .dataframe thead th {\n",
       "        text-align: right;\n",
       "    }\n",
       "</style>\n",
       "<table border=\"1\" class=\"dataframe\">\n",
       "  <thead>\n",
       "    <tr style=\"text-align: right;\">\n",
       "      <th></th>\n",
       "      <th>DESYNPUF_ID</th>\n",
       "      <th>CLM_ID</th>\n",
       "      <th>SEGMENT</th>\n",
       "      <th>CLM_FROM_DT</th>\n",
       "      <th>CLM_THRU_DT</th>\n",
       "      <th>PRVDR_NUM</th>\n",
       "      <th>CLM_PMT_AMT</th>\n",
       "      <th>NCH_PRMRY_PYR_CLM_PD_AMT</th>\n",
       "      <th>AT_PHYSN_NPI</th>\n",
       "      <th>OP_PHYSN_NPI</th>\n",
       "      <th>...</th>\n",
       "      <th>HCPCS_CD_37</th>\n",
       "      <th>HCPCS_CD_38</th>\n",
       "      <th>HCPCS_CD_39</th>\n",
       "      <th>HCPCS_CD_40</th>\n",
       "      <th>HCPCS_CD_41</th>\n",
       "      <th>HCPCS_CD_42</th>\n",
       "      <th>HCPCS_CD_43</th>\n",
       "      <th>HCPCS_CD_44</th>\n",
       "      <th>HCPCS_CD_45</th>\n",
       "      <th>class</th>\n",
       "    </tr>\n",
       "  </thead>\n",
       "  <tbody>\n",
       "    <tr>\n",
       "      <td>0</td>\n",
       "      <td>423AD70C0C12049B</td>\n",
       "      <td>38212211989631</td>\n",
       "      <td>1</td>\n",
       "      <td>20090922</td>\n",
       "      <td>20090922</td>\n",
       "      <td>1000JB</td>\n",
       "      <td>900.0</td>\n",
       "      <td>0.0</td>\n",
       "      <td>4.068566e+09</td>\n",
       "      <td>3.718273e+09</td>\n",
       "      <td>...</td>\n",
       "      <td>None</td>\n",
       "      <td>None</td>\n",
       "      <td>None</td>\n",
       "      <td>None</td>\n",
       "      <td>None</td>\n",
       "      <td>None</td>\n",
       "      <td>None</td>\n",
       "      <td>None</td>\n",
       "      <td>None</td>\n",
       "      <td>1</td>\n",
       "    </tr>\n",
       "    <tr>\n",
       "      <td>1</td>\n",
       "      <td>4285270CB7890679</td>\n",
       "      <td>38532212193660</td>\n",
       "      <td>1</td>\n",
       "      <td>20100803</td>\n",
       "      <td>20100803</td>\n",
       "      <td>1113ZK</td>\n",
       "      <td>30.0</td>\n",
       "      <td>0.0</td>\n",
       "      <td>8.435701e+09</td>\n",
       "      <td>8.435701e+09</td>\n",
       "      <td>...</td>\n",
       "      <td>None</td>\n",
       "      <td>None</td>\n",
       "      <td>None</td>\n",
       "      <td>None</td>\n",
       "      <td>None</td>\n",
       "      <td>None</td>\n",
       "      <td>None</td>\n",
       "      <td>None</td>\n",
       "      <td>None</td>\n",
       "      <td>1</td>\n",
       "    </tr>\n",
       "    <tr>\n",
       "      <td>2</td>\n",
       "      <td>428BB462CE429C5B</td>\n",
       "      <td>38792212093444</td>\n",
       "      <td>1</td>\n",
       "      <td>20090126</td>\n",
       "      <td>20090126</td>\n",
       "      <td>2301GU</td>\n",
       "      <td>90.0</td>\n",
       "      <td>0.0</td>\n",
       "      <td>1.586461e+09</td>\n",
       "      <td>NaN</td>\n",
       "      <td>...</td>\n",
       "      <td>None</td>\n",
       "      <td>None</td>\n",
       "      <td>None</td>\n",
       "      <td>None</td>\n",
       "      <td>None</td>\n",
       "      <td>None</td>\n",
       "      <td>None</td>\n",
       "      <td>None</td>\n",
       "      <td>None</td>\n",
       "      <td>1</td>\n",
       "    </tr>\n",
       "    <tr>\n",
       "      <td>3</td>\n",
       "      <td>42CDA84C361BDF03</td>\n",
       "      <td>38722212203867</td>\n",
       "      <td>1</td>\n",
       "      <td>20090610</td>\n",
       "      <td>20090624</td>\n",
       "      <td>2301GU</td>\n",
       "      <td>30.0</td>\n",
       "      <td>0.0</td>\n",
       "      <td>1.586461e+09</td>\n",
       "      <td>1.586461e+09</td>\n",
       "      <td>...</td>\n",
       "      <td>None</td>\n",
       "      <td>None</td>\n",
       "      <td>None</td>\n",
       "      <td>None</td>\n",
       "      <td>None</td>\n",
       "      <td>None</td>\n",
       "      <td>None</td>\n",
       "      <td>None</td>\n",
       "      <td>None</td>\n",
       "      <td>1</td>\n",
       "    </tr>\n",
       "    <tr>\n",
       "      <td>4</td>\n",
       "      <td>42FB0E4AA8A4F401</td>\n",
       "      <td>38192211696179</td>\n",
       "      <td>1</td>\n",
       "      <td>20090418</td>\n",
       "      <td>20090418</td>\n",
       "      <td>4200QS</td>\n",
       "      <td>1700.0</td>\n",
       "      <td>0.0</td>\n",
       "      <td>3.299574e+08</td>\n",
       "      <td>NaN</td>\n",
       "      <td>...</td>\n",
       "      <td>None</td>\n",
       "      <td>None</td>\n",
       "      <td>None</td>\n",
       "      <td>None</td>\n",
       "      <td>None</td>\n",
       "      <td>None</td>\n",
       "      <td>None</td>\n",
       "      <td>None</td>\n",
       "      <td>None</td>\n",
       "      <td>1</td>\n",
       "    </tr>\n",
       "  </tbody>\n",
       "</table>\n",
       "<p>5 rows × 77 columns</p>\n",
       "</div>"
      ],
      "text/plain": [
       "        DESYNPUF_ID          CLM_ID  SEGMENT  CLM_FROM_DT  CLM_THRU_DT  \\\n",
       "0  423AD70C0C12049B  38212211989631        1     20090922     20090922   \n",
       "1  4285270CB7890679  38532212193660        1     20100803     20100803   \n",
       "2  428BB462CE429C5B  38792212093444        1     20090126     20090126   \n",
       "3  42CDA84C361BDF03  38722212203867        1     20090610     20090624   \n",
       "4  42FB0E4AA8A4F401  38192211696179        1     20090418     20090418   \n",
       "\n",
       "  PRVDR_NUM  CLM_PMT_AMT  NCH_PRMRY_PYR_CLM_PD_AMT  AT_PHYSN_NPI  \\\n",
       "0    1000JB        900.0                       0.0  4.068566e+09   \n",
       "1    1113ZK         30.0                       0.0  8.435701e+09   \n",
       "2    2301GU         90.0                       0.0  1.586461e+09   \n",
       "3    2301GU         30.0                       0.0  1.586461e+09   \n",
       "4    4200QS       1700.0                       0.0  3.299574e+08   \n",
       "\n",
       "   OP_PHYSN_NPI  ...  HCPCS_CD_37  HCPCS_CD_38 HCPCS_CD_39 HCPCS_CD_40  \\\n",
       "0  3.718273e+09  ...         None         None        None        None   \n",
       "1  8.435701e+09  ...         None         None        None        None   \n",
       "2           NaN  ...         None         None        None        None   \n",
       "3  1.586461e+09  ...         None         None        None        None   \n",
       "4           NaN  ...         None         None        None        None   \n",
       "\n",
       "  HCPCS_CD_41 HCPCS_CD_42 HCPCS_CD_43 HCPCS_CD_44 HCPCS_CD_45 class  \n",
       "0        None        None        None        None        None     1  \n",
       "1        None        None        None        None        None     1  \n",
       "2        None        None        None        None        None     1  \n",
       "3        None        None        None        None        None     1  \n",
       "4        None        None        None        None        None     1  \n",
       "\n",
       "[5 rows x 77 columns]"
      ]
     },
     "execution_count": 10,
     "metadata": {},
     "output_type": "execute_result"
    }
   ],
   "source": [
    "sample.head()"
   ]
  },
  {
   "cell_type": "code",
   "execution_count": 25,
   "metadata": {},
   "outputs": [
    {
     "data": {
      "text/plain": [
       "(15810281, 16706)"
      ]
     },
     "execution_count": 25,
     "metadata": {},
     "output_type": "execute_result"
    }
   ],
   "source": [
    "dfout_noOC.count(),dfout_OC.count()"
   ]
  },
  {
   "cell_type": "markdown",
   "metadata": {},
   "source": [
    "### Carrier concat data"
   ]
  },
  {
   "cell_type": "code",
   "execution_count": 26,
   "metadata": {},
   "outputs": [],
   "source": [
    "startpath_carrier = \"/Users/jill/Downloads/2020_Project/integrated_data/carrier_claim/\""
   ]
  },
  {
   "cell_type": "code",
   "execution_count": 27,
   "metadata": {},
   "outputs": [],
   "source": [
    "#concat_carrier = concat_df(startpath_carrier)"
   ]
  },
  {
   "cell_type": "code",
   "execution_count": 28,
   "metadata": {},
   "outputs": [
    {
     "data": {
      "text/plain": [
       "47448741"
      ]
     },
     "execution_count": 28,
     "metadata": {},
     "output_type": "execute_result"
    }
   ],
   "source": [
    "concat_carrier.count()"
   ]
  },
  {
   "cell_type": "code",
   "execution_count": 29,
   "metadata": {},
   "outputs": [],
   "source": [
    "outpath_carrier= \"/Users/jill/Downloads/2020_Project/EDA/concat_data/carrier/carrier_con\"\n",
    "#write_df(concat_carrier, outpath_carrier)"
   ]
  },
  {
   "cell_type": "code",
   "execution_count": 30,
   "metadata": {},
   "outputs": [],
   "source": [
    "# Load the data\n",
    "df_carrier = spark.read.load(outpath_carrier)"
   ]
  },
  {
   "cell_type": "code",
   "execution_count": 31,
   "metadata": {},
   "outputs": [
    {
     "data": {
      "text/plain": [
       "47448741"
      ]
     },
     "execution_count": 31,
     "metadata": {},
     "output_type": "execute_result"
    }
   ],
   "source": [
    "df_carrier.count()"
   ]
  },
  {
   "cell_type": "code",
   "execution_count": 33,
   "metadata": {},
   "outputs": [
    {
     "name": "stdout",
     "output_type": "stream",
     "text": [
      "root\n",
      " |-- DESYNPUF_ID: string (nullable = true)\n",
      " |-- CLM_ID: long (nullable = true)\n",
      " |-- CLM_FROM_DT: integer (nullable = true)\n",
      " |-- CLM_THRU_DT: integer (nullable = true)\n",
      " |-- ICD9_DGNS_CD_1: string (nullable = true)\n",
      " |-- ICD9_DGNS_CD_2: string (nullable = true)\n",
      " |-- ICD9_DGNS_CD_3: string (nullable = true)\n",
      " |-- ICD9_DGNS_CD_4: string (nullable = true)\n",
      " |-- ICD9_DGNS_CD_5: string (nullable = true)\n",
      " |-- ICD9_DGNS_CD_6: string (nullable = true)\n",
      " |-- ICD9_DGNS_CD_7: string (nullable = true)\n",
      " |-- ICD9_DGNS_CD_8: string (nullable = true)\n",
      " |-- PRF_PHYSN_NPI_1: long (nullable = true)\n",
      " |-- PRF_PHYSN_NPI_2: long (nullable = true)\n",
      " |-- PRF_PHYSN_NPI_3: long (nullable = true)\n",
      " |-- PRF_PHYSN_NPI_4: long (nullable = true)\n",
      " |-- PRF_PHYSN_NPI_5: long (nullable = true)\n",
      " |-- PRF_PHYSN_NPI_6: long (nullable = true)\n",
      " |-- PRF_PHYSN_NPI_7: long (nullable = true)\n",
      " |-- PRF_PHYSN_NPI_8: long (nullable = true)\n",
      " |-- PRF_PHYSN_NPI_9: long (nullable = true)\n",
      " |-- PRF_PHYSN_NPI_10: long (nullable = true)\n",
      " |-- PRF_PHYSN_NPI_11: long (nullable = true)\n",
      " |-- PRF_PHYSN_NPI_12: long (nullable = true)\n",
      " |-- PRF_PHYSN_NPI_13: long (nullable = true)\n",
      " |-- TAX_NUM_1: integer (nullable = true)\n",
      " |-- TAX_NUM_2: integer (nullable = true)\n",
      " |-- TAX_NUM_3: integer (nullable = true)\n",
      " |-- TAX_NUM_4: integer (nullable = true)\n",
      " |-- TAX_NUM_5: integer (nullable = true)\n",
      " |-- TAX_NUM_6: integer (nullable = true)\n",
      " |-- TAX_NUM_7: integer (nullable = true)\n",
      " |-- TAX_NUM_8: integer (nullable = true)\n",
      " |-- TAX_NUM_9: integer (nullable = true)\n",
      " |-- TAX_NUM_10: integer (nullable = true)\n",
      " |-- TAX_NUM_11: integer (nullable = true)\n",
      " |-- TAX_NUM_12: integer (nullable = true)\n",
      " |-- TAX_NUM_13: integer (nullable = true)\n",
      " |-- HCPCS_CD_1: string (nullable = true)\n",
      " |-- HCPCS_CD_2: string (nullable = true)\n",
      " |-- HCPCS_CD_3: string (nullable = true)\n",
      " |-- HCPCS_CD_4: string (nullable = true)\n",
      " |-- HCPCS_CD_5: string (nullable = true)\n",
      " |-- HCPCS_CD_6: string (nullable = true)\n",
      " |-- HCPCS_CD_7: string (nullable = true)\n",
      " |-- HCPCS_CD_8: string (nullable = true)\n",
      " |-- HCPCS_CD_9: string (nullable = true)\n",
      " |-- HCPCS_CD_10: string (nullable = true)\n",
      " |-- HCPCS_CD_11: string (nullable = true)\n",
      " |-- HCPCS_CD_12: string (nullable = true)\n",
      " |-- HCPCS_CD_13: string (nullable = true)\n",
      " |-- LINE_NCH_PMT_AMT_1: double (nullable = true)\n",
      " |-- LINE_NCH_PMT_AMT_2: double (nullable = true)\n",
      " |-- LINE_NCH_PMT_AMT_3: double (nullable = true)\n",
      " |-- LINE_NCH_PMT_AMT_4: double (nullable = true)\n",
      " |-- LINE_NCH_PMT_AMT_5: double (nullable = true)\n",
      " |-- LINE_NCH_PMT_AMT_6: double (nullable = true)\n",
      " |-- LINE_NCH_PMT_AMT_7: double (nullable = true)\n",
      " |-- LINE_NCH_PMT_AMT_8: double (nullable = true)\n",
      " |-- LINE_NCH_PMT_AMT_9: double (nullable = true)\n",
      " |-- LINE_NCH_PMT_AMT_10: double (nullable = true)\n",
      " |-- LINE_NCH_PMT_AMT_11: double (nullable = true)\n",
      " |-- LINE_NCH_PMT_AMT_12: double (nullable = true)\n",
      " |-- LINE_NCH_PMT_AMT_13: double (nullable = true)\n",
      " |-- LINE_BENE_PTB_DDCTBL_AMT_1: double (nullable = true)\n",
      " |-- LINE_BENE_PTB_DDCTBL_AMT_2: double (nullable = true)\n",
      " |-- LINE_BENE_PTB_DDCTBL_AMT_3: double (nullable = true)\n",
      " |-- LINE_BENE_PTB_DDCTBL_AMT_4: double (nullable = true)\n",
      " |-- LINE_BENE_PTB_DDCTBL_AMT_5: double (nullable = true)\n",
      " |-- LINE_BENE_PTB_DDCTBL_AMT_6: double (nullable = true)\n",
      " |-- LINE_BENE_PTB_DDCTBL_AMT_7: double (nullable = true)\n",
      " |-- LINE_BENE_PTB_DDCTBL_AMT_8: double (nullable = true)\n",
      " |-- LINE_BENE_PTB_DDCTBL_AMT_9: double (nullable = true)\n",
      " |-- LINE_BENE_PTB_DDCTBL_AMT_10: double (nullable = true)\n",
      " |-- LINE_BENE_PTB_DDCTBL_AMT_11: double (nullable = true)\n",
      " |-- LINE_BENE_PTB_DDCTBL_AMT_12: double (nullable = true)\n",
      " |-- LINE_BENE_PTB_DDCTBL_AMT_13: double (nullable = true)\n",
      " |-- LINE_BENE_PRMRY_PYR_PD_AMT_1: double (nullable = true)\n",
      " |-- LINE_BENE_PRMRY_PYR_PD_AMT_2: double (nullable = true)\n",
      " |-- LINE_BENE_PRMRY_PYR_PD_AMT_3: double (nullable = true)\n",
      " |-- LINE_BENE_PRMRY_PYR_PD_AMT_4: double (nullable = true)\n",
      " |-- LINE_BENE_PRMRY_PYR_PD_AMT_5: double (nullable = true)\n",
      " |-- LINE_BENE_PRMRY_PYR_PD_AMT_6: double (nullable = true)\n",
      " |-- LINE_BENE_PRMRY_PYR_PD_AMT_7: double (nullable = true)\n",
      " |-- LINE_BENE_PRMRY_PYR_PD_AMT_8: double (nullable = true)\n",
      " |-- LINE_BENE_PRMRY_PYR_PD_AMT_9: double (nullable = true)\n",
      " |-- LINE_BENE_PRMRY_PYR_PD_AMT_10: double (nullable = true)\n",
      " |-- LINE_BENE_PRMRY_PYR_PD_AMT_11: double (nullable = true)\n",
      " |-- LINE_BENE_PRMRY_PYR_PD_AMT_12: double (nullable = true)\n",
      " |-- LINE_BENE_PRMRY_PYR_PD_AMT_13: double (nullable = true)\n",
      " |-- LINE_COINSRNC_AMT_1: double (nullable = true)\n",
      " |-- LINE_COINSRNC_AMT_2: double (nullable = true)\n",
      " |-- LINE_COINSRNC_AMT_3: double (nullable = true)\n",
      " |-- LINE_COINSRNC_AMT_4: double (nullable = true)\n",
      " |-- LINE_COINSRNC_AMT_5: double (nullable = true)\n",
      " |-- LINE_COINSRNC_AMT_6: double (nullable = true)\n",
      " |-- LINE_COINSRNC_AMT_7: double (nullable = true)\n",
      " |-- LINE_COINSRNC_AMT_8: double (nullable = true)\n",
      " |-- LINE_COINSRNC_AMT_9: double (nullable = true)\n",
      " |-- LINE_COINSRNC_AMT_10: double (nullable = true)\n",
      " |-- LINE_COINSRNC_AMT_11: double (nullable = true)\n",
      " |-- LINE_COINSRNC_AMT_12: double (nullable = true)\n",
      " |-- LINE_COINSRNC_AMT_13: double (nullable = true)\n",
      " |-- LINE_ALOWD_CHRG_AMT_1: double (nullable = true)\n",
      " |-- LINE_ALOWD_CHRG_AMT_2: double (nullable = true)\n",
      " |-- LINE_ALOWD_CHRG_AMT_3: double (nullable = true)\n",
      " |-- LINE_ALOWD_CHRG_AMT_4: double (nullable = true)\n",
      " |-- LINE_ALOWD_CHRG_AMT_5: double (nullable = true)\n",
      " |-- LINE_ALOWD_CHRG_AMT_6: double (nullable = true)\n",
      " |-- LINE_ALOWD_CHRG_AMT_7: double (nullable = true)\n",
      " |-- LINE_ALOWD_CHRG_AMT_8: double (nullable = true)\n",
      " |-- LINE_ALOWD_CHRG_AMT_9: double (nullable = true)\n",
      " |-- LINE_ALOWD_CHRG_AMT_10: double (nullable = true)\n",
      " |-- LINE_ALOWD_CHRG_AMT_11: double (nullable = true)\n",
      " |-- LINE_ALOWD_CHRG_AMT_12: double (nullable = true)\n",
      " |-- LINE_ALOWD_CHRG_AMT_13: double (nullable = true)\n",
      " |-- LINE_PRCSG_IND_CD_1: string (nullable = true)\n",
      " |-- LINE_PRCSG_IND_CD_2: string (nullable = true)\n",
      " |-- LINE_PRCSG_IND_CD_3: string (nullable = true)\n",
      " |-- LINE_PRCSG_IND_CD_4: string (nullable = true)\n",
      " |-- LINE_PRCSG_IND_CD_5: string (nullable = true)\n",
      " |-- LINE_PRCSG_IND_CD_6: string (nullable = true)\n",
      " |-- LINE_PRCSG_IND_CD_7: string (nullable = true)\n",
      " |-- LINE_PRCSG_IND_CD_8: string (nullable = true)\n",
      " |-- LINE_PRCSG_IND_CD_9: string (nullable = true)\n",
      " |-- LINE_PRCSG_IND_CD_10: string (nullable = true)\n",
      " |-- LINE_PRCSG_IND_CD_11: string (nullable = true)\n",
      " |-- LINE_PRCSG_IND_CD_12: string (nullable = true)\n",
      " |-- LINE_PRCSG_IND_CD_13: string (nullable = true)\n",
      " |-- LINE_ICD9_DGNS_CD_1: string (nullable = true)\n",
      " |-- LINE_ICD9_DGNS_CD_2: string (nullable = true)\n",
      " |-- LINE_ICD9_DGNS_CD_3: string (nullable = true)\n",
      " |-- LINE_ICD9_DGNS_CD_4: string (nullable = true)\n",
      " |-- LINE_ICD9_DGNS_CD_5: string (nullable = true)\n",
      " |-- LINE_ICD9_DGNS_CD_6: string (nullable = true)\n",
      " |-- LINE_ICD9_DGNS_CD_7: string (nullable = true)\n",
      " |-- LINE_ICD9_DGNS_CD_8: string (nullable = true)\n",
      " |-- LINE_ICD9_DGNS_CD_9: string (nullable = true)\n",
      " |-- LINE_ICD9_DGNS_CD_10: string (nullable = true)\n",
      " |-- LINE_ICD9_DGNS_CD_11: string (nullable = true)\n",
      " |-- LINE_ICD9_DGNS_CD_12: string (nullable = true)\n",
      " |-- LINE_ICD9_DGNS_CD_13: string (nullable = true)\n",
      "\n"
     ]
    }
   ],
   "source": [
    "df_carrier.printSchema()"
   ]
  },
  {
   "cell_type": "code",
   "execution_count": 34,
   "metadata": {},
   "outputs": [],
   "source": [
    "def split_df_carrier(df):\n",
    "    \"\"\"\n",
    "    Create a new column \"class\", class 1 == with OC, class 2 == without OC.\n",
    "    Create two new datasets, one is a dataset with OC patients, the other one is without OC patients.\n",
    "    Return these two datasets.\n",
    "    \"\"\"\n",
    "    df = df.withColumn('class', (F.when(((F.col('ICD9_DGNS_CD_1').eqNullSafe('1830'))|\n",
    "                                        (F.col('ICD9_DGNS_CD_2').eqNullSafe('1830'))|\n",
    "                                        (F.col('ICD9_DGNS_CD_3').eqNullSafe('1830'))|\n",
    "                                        (F.col('ICD9_DGNS_CD_4').eqNullSafe('1830'))|\n",
    "                                        (F.col('ICD9_DGNS_CD_5').eqNullSafe('1830'))|\n",
    "                                        (F.col('ICD9_DGNS_CD_6').eqNullSafe('1830'))|\n",
    "                                        (F.col('ICD9_DGNS_CD_7').eqNullSafe('1830'))|\n",
    "                                        (F.col('ICD9_DGNS_CD_8').eqNullSafe('1830'))),1)\n",
    "                                        .otherwise(0)))\n",
    "    df_1 = df.where(df['class'] == 1)\n",
    "    df_0 = df.where(df['class'] == 0)\n",
    "    return df_1, df_0"
   ]
  },
  {
   "cell_type": "code",
   "execution_count": 36,
   "metadata": {},
   "outputs": [],
   "source": [
    "df_carrier_OC,df_carrier_noOC = split_df_carrier(df_carrier)"
   ]
  },
  {
   "cell_type": "code",
   "execution_count": 37,
   "metadata": {},
   "outputs": [
    {
     "data": {
      "text/plain": [
       "(32239, 47416502)"
      ]
     },
     "execution_count": 37,
     "metadata": {},
     "output_type": "execute_result"
    }
   ],
   "source": [
    "df_carrier_OC.count(), df_carrier_noOC.count()"
   ]
  },
  {
   "cell_type": "code",
   "execution_count": 38,
   "metadata": {},
   "outputs": [],
   "source": [
    "carrier_oc_path = \"/Users/jill/Downloads/2020_Project/EDA/concat_data/carrier/carrier_OC\"\n",
    "carrier_nooc_path = \"/Users/jill/Downloads/2020_Project/EDA/concat_data/carrier/carrier_noOC\""
   ]
  },
  {
   "cell_type": "code",
   "execution_count": 39,
   "metadata": {},
   "outputs": [],
   "source": [
    "#write_df(df_carrier_OC, carrier_oc_path)"
   ]
  },
  {
   "cell_type": "code",
   "execution_count": 40,
   "metadata": {},
   "outputs": [],
   "source": [
    "#write_df(df_carrier_noOC, carrier_nooc_path)"
   ]
  },
  {
   "cell_type": "code",
   "execution_count": 41,
   "metadata": {},
   "outputs": [],
   "source": [
    "# Check the splitted data\n",
    "dfcarrier_oc = spark.read.load(carrier_oc_path)\n",
    "dfcarrier_nooc = spark.read.load(carrier_nooc_path)"
   ]
  },
  {
   "cell_type": "code",
   "execution_count": 42,
   "metadata": {},
   "outputs": [
    {
     "data": {
      "text/plain": [
       "(32239, 47416502)"
      ]
     },
     "execution_count": 42,
     "metadata": {},
     "output_type": "execute_result"
    }
   ],
   "source": [
    "dfcarrier_oc.count(), dfcarrier_nooc.count()"
   ]
  },
  {
   "cell_type": "markdown",
   "metadata": {},
   "source": [
    "### Benifician summary data (just concat)"
   ]
  },
  {
   "cell_type": "code",
   "execution_count": 44,
   "metadata": {},
   "outputs": [],
   "source": [
    "startpath_benefician = \"/Users/jill/Downloads/2020_Project/integrated_data/beneficiary_summary/\""
   ]
  },
  {
   "cell_type": "code",
   "execution_count": 45,
   "metadata": {},
   "outputs": [],
   "source": [
    "#concat_benefician = concat_df(startpath_benefician)"
   ]
  },
  {
   "cell_type": "code",
   "execution_count": 46,
   "metadata": {},
   "outputs": [
    {
     "data": {
      "text/plain": [
       "2296491"
      ]
     },
     "execution_count": 46,
     "metadata": {},
     "output_type": "execute_result"
    }
   ],
   "source": [
    "concat_benefician.count()"
   ]
  },
  {
   "cell_type": "code",
   "execution_count": 47,
   "metadata": {},
   "outputs": [
    {
     "name": "stdout",
     "output_type": "stream",
     "text": [
      "root\n",
      " |-- DESYNPUF_ID: string (nullable = true)\n",
      " |-- BENE_BIRTH_DT: integer (nullable = true)\n",
      " |-- BENE_DEATH_DT: integer (nullable = true)\n",
      " |-- BENE_SEX_IDENT_CD: integer (nullable = true)\n",
      " |-- BENE_RACE_CD: integer (nullable = true)\n",
      " |-- BENE_ESRD_IND: string (nullable = true)\n",
      " |-- SP_STATE_CODE: integer (nullable = true)\n",
      " |-- BENE_COUNTY_CD: integer (nullable = true)\n",
      " |-- BENE_HI_CVRAGE_TOT_MONS: integer (nullable = true)\n",
      " |-- BENE_SMI_CVRAGE_TOT_MONS: integer (nullable = true)\n",
      " |-- BENE_HMO_CVRAGE_TOT_MONS: integer (nullable = true)\n",
      " |-- PLAN_CVRG_MOS_NUM: integer (nullable = true)\n",
      " |-- SP_ALZHDMTA: integer (nullable = true)\n",
      " |-- SP_CHF: integer (nullable = true)\n",
      " |-- SP_CHRNKIDN: integer (nullable = true)\n",
      " |-- SP_CNCR: integer (nullable = true)\n",
      " |-- SP_COPD: integer (nullable = true)\n",
      " |-- SP_DEPRESSN: integer (nullable = true)\n",
      " |-- SP_DIABETES: integer (nullable = true)\n",
      " |-- SP_ISCHMCHT: integer (nullable = true)\n",
      " |-- SP_OSTEOPRS: integer (nullable = true)\n",
      " |-- SP_RA_OA: integer (nullable = true)\n",
      " |-- SP_STRKETIA: integer (nullable = true)\n",
      " |-- MEDREIMB_IP: double (nullable = true)\n",
      " |-- BENRES_IP: double (nullable = true)\n",
      " |-- PPPYMT_IP: double (nullable = true)\n",
      " |-- MEDREIMB_OP: double (nullable = true)\n",
      " |-- BENRES_OP: double (nullable = true)\n",
      " |-- PPPYMT_OP: double (nullable = true)\n",
      " |-- MEDREIMB_CAR: double (nullable = true)\n",
      " |-- BENRES_CAR: double (nullable = true)\n",
      " |-- PPPYMT_CAR: double (nullable = true)\n",
      "\n"
     ]
    }
   ],
   "source": [
    "concat_benefician.printSchema()"
   ]
  },
  {
   "cell_type": "code",
   "execution_count": 48,
   "metadata": {},
   "outputs": [],
   "source": [
    "outpath_benefician = \"/Users/jill/Downloads/2020_Project/EDA/concat_data/benefician/benefician_con\""
   ]
  },
  {
   "cell_type": "code",
   "execution_count": 49,
   "metadata": {},
   "outputs": [],
   "source": [
    "#write_df(concat_benefician, outpath_benefician)"
   ]
  },
  {
   "cell_type": "code",
   "execution_count": 68,
   "metadata": {},
   "outputs": [],
   "source": [
    "# Check the saved dataset\n",
    "df_benefician = spark.read.load(outpath_benefician)"
   ]
  },
  {
   "cell_type": "code",
   "execution_count": 69,
   "metadata": {},
   "outputs": [
    {
     "data": {
      "text/plain": [
       "2296491"
      ]
     },
     "execution_count": 69,
     "metadata": {},
     "output_type": "execute_result"
    }
   ],
   "source": [
    "df_benefician.count()"
   ]
  },
  {
   "cell_type": "code",
   "execution_count": 70,
   "metadata": {},
   "outputs": [
    {
     "name": "stdout",
     "output_type": "stream",
     "text": [
      "root\n",
      " |-- DESYNPUF_ID: string (nullable = true)\n",
      " |-- BENE_BIRTH_DT: integer (nullable = true)\n",
      " |-- BENE_DEATH_DT: integer (nullable = true)\n",
      " |-- BENE_SEX_IDENT_CD: integer (nullable = true)\n",
      " |-- BENE_RACE_CD: integer (nullable = true)\n",
      " |-- BENE_ESRD_IND: string (nullable = true)\n",
      " |-- SP_STATE_CODE: integer (nullable = true)\n",
      " |-- BENE_COUNTY_CD: integer (nullable = true)\n",
      " |-- BENE_HI_CVRAGE_TOT_MONS: integer (nullable = true)\n",
      " |-- BENE_SMI_CVRAGE_TOT_MONS: integer (nullable = true)\n",
      " |-- BENE_HMO_CVRAGE_TOT_MONS: integer (nullable = true)\n",
      " |-- PLAN_CVRG_MOS_NUM: integer (nullable = true)\n",
      " |-- SP_ALZHDMTA: integer (nullable = true)\n",
      " |-- SP_CHF: integer (nullable = true)\n",
      " |-- SP_CHRNKIDN: integer (nullable = true)\n",
      " |-- SP_CNCR: integer (nullable = true)\n",
      " |-- SP_COPD: integer (nullable = true)\n",
      " |-- SP_DEPRESSN: integer (nullable = true)\n",
      " |-- SP_DIABETES: integer (nullable = true)\n",
      " |-- SP_ISCHMCHT: integer (nullable = true)\n",
      " |-- SP_OSTEOPRS: integer (nullable = true)\n",
      " |-- SP_RA_OA: integer (nullable = true)\n",
      " |-- SP_STRKETIA: integer (nullable = true)\n",
      " |-- MEDREIMB_IP: double (nullable = true)\n",
      " |-- BENRES_IP: double (nullable = true)\n",
      " |-- PPPYMT_IP: double (nullable = true)\n",
      " |-- MEDREIMB_OP: double (nullable = true)\n",
      " |-- BENRES_OP: double (nullable = true)\n",
      " |-- PPPYMT_OP: double (nullable = true)\n",
      " |-- MEDREIMB_CAR: double (nullable = true)\n",
      " |-- BENRES_CAR: double (nullable = true)\n",
      " |-- PPPYMT_CAR: double (nullable = true)\n",
      "\n"
     ]
    }
   ],
   "source": [
    "df_benefician.printSchema()"
   ]
  },
  {
   "cell_type": "markdown",
   "metadata": {},
   "source": [
    "### PDE data (just concat)"
   ]
  },
  {
   "cell_type": "code",
   "execution_count": 53,
   "metadata": {},
   "outputs": [],
   "source": [
    "startpath_pde = \"/Users/jill/Downloads/2020_Project/integrated_data/pde_claim\""
   ]
  },
  {
   "cell_type": "code",
   "execution_count": 55,
   "metadata": {},
   "outputs": [],
   "source": [
    "#pde_con = concat_df(startpath_pde)"
   ]
  },
  {
   "cell_type": "code",
   "execution_count": 57,
   "metadata": {},
   "outputs": [
    {
     "data": {
      "text/plain": [
       "111085969"
      ]
     },
     "execution_count": 57,
     "metadata": {},
     "output_type": "execute_result"
    }
   ],
   "source": [
    "pde_con.count()"
   ]
  },
  {
   "cell_type": "code",
   "execution_count": 58,
   "metadata": {},
   "outputs": [
    {
     "name": "stdout",
     "output_type": "stream",
     "text": [
      "root\n",
      " |-- DESYNPUF_ID: string (nullable = true)\n",
      " |-- PDE_ID: long (nullable = true)\n",
      " |-- SRVC_DT: integer (nullable = true)\n",
      " |-- PROD_SRVC_ID: string (nullable = true)\n",
      " |-- QTY_DSPNSD_NUM: double (nullable = true)\n",
      " |-- DAYS_SUPLY_NUM: integer (nullable = true)\n",
      " |-- PTNT_PAY_AMT: double (nullable = true)\n",
      " |-- TOT_RX_CST_AMT: double (nullable = true)\n",
      "\n"
     ]
    }
   ],
   "source": [
    "pde_con.printSchema()"
   ]
  },
  {
   "cell_type": "code",
   "execution_count": 59,
   "metadata": {},
   "outputs": [],
   "source": [
    "outpath_pde = \"/Users/jill/Downloads/2020_Project/EDA/concat_data/pde/pde_con\""
   ]
  },
  {
   "cell_type": "code",
   "execution_count": 60,
   "metadata": {},
   "outputs": [],
   "source": [
    "#write_df(pde_con,outpath_pde)"
   ]
  },
  {
   "cell_type": "code",
   "execution_count": 61,
   "metadata": {},
   "outputs": [],
   "source": [
    "# Reload the dataset\n",
    "df_pde = spark.read.load(outpath_pde)"
   ]
  },
  {
   "cell_type": "code",
   "execution_count": 62,
   "metadata": {},
   "outputs": [
    {
     "data": {
      "text/plain": [
       "111085969"
      ]
     },
     "execution_count": 62,
     "metadata": {},
     "output_type": "execute_result"
    }
   ],
   "source": [
    "df_pde.count()"
   ]
  },
  {
   "cell_type": "code",
   "execution_count": 63,
   "metadata": {},
   "outputs": [
    {
     "name": "stdout",
     "output_type": "stream",
     "text": [
      "root\n",
      " |-- DESYNPUF_ID: string (nullable = true)\n",
      " |-- PDE_ID: long (nullable = true)\n",
      " |-- SRVC_DT: integer (nullable = true)\n",
      " |-- PROD_SRVC_ID: string (nullable = true)\n",
      " |-- QTY_DSPNSD_NUM: double (nullable = true)\n",
      " |-- DAYS_SUPLY_NUM: integer (nullable = true)\n",
      " |-- PTNT_PAY_AMT: double (nullable = true)\n",
      " |-- TOT_RX_CST_AMT: double (nullable = true)\n",
      "\n"
     ]
    }
   ],
   "source": [
    "df_pde.printSchema()"
   ]
  },
  {
   "cell_type": "markdown",
   "metadata": {},
   "source": [
    "### Feature Extraction"
   ]
  },
  {
   "cell_type": "markdown",
   "metadata": {},
   "source": [
    "-- *Benefician_feature dataset*"
   ]
  },
  {
   "cell_type": "code",
   "execution_count": 75,
   "metadata": {},
   "outputs": [
    {
     "data": {
      "text/plain": [
       "2296491"
      ]
     },
     "execution_count": 75,
     "metadata": {},
     "output_type": "execute_result"
    }
   ],
   "source": [
    "df_benefician.count()"
   ]
  },
  {
   "cell_type": "code",
   "execution_count": 76,
   "metadata": {},
   "outputs": [
    {
     "data": {
      "text/plain": [
       "['DESYNPUF_ID',\n",
       " 'BENE_BIRTH_DT',\n",
       " 'BENE_DEATH_DT',\n",
       " 'BENE_SEX_IDENT_CD',\n",
       " 'BENE_RACE_CD',\n",
       " 'BENE_ESRD_IND',\n",
       " 'SP_STATE_CODE',\n",
       " 'BENE_COUNTY_CD',\n",
       " 'BENE_HI_CVRAGE_TOT_MONS',\n",
       " 'BENE_SMI_CVRAGE_TOT_MONS',\n",
       " 'BENE_HMO_CVRAGE_TOT_MONS',\n",
       " 'PLAN_CVRG_MOS_NUM',\n",
       " 'SP_ALZHDMTA',\n",
       " 'SP_CHF',\n",
       " 'SP_CHRNKIDN',\n",
       " 'SP_CNCR',\n",
       " 'SP_COPD',\n",
       " 'SP_DEPRESSN',\n",
       " 'SP_DIABETES',\n",
       " 'SP_ISCHMCHT',\n",
       " 'SP_OSTEOPRS',\n",
       " 'SP_RA_OA',\n",
       " 'SP_STRKETIA',\n",
       " 'MEDREIMB_IP',\n",
       " 'BENRES_IP',\n",
       " 'PPPYMT_IP',\n",
       " 'MEDREIMB_OP',\n",
       " 'BENRES_OP',\n",
       " 'PPPYMT_OP',\n",
       " 'MEDREIMB_CAR',\n",
       " 'BENRES_CAR',\n",
       " 'PPPYMT_CAR']"
      ]
     },
     "execution_count": 76,
     "metadata": {},
     "output_type": "execute_result"
    }
   ],
   "source": [
    "df_benefician.columns"
   ]
  },
  {
   "cell_type": "code",
   "execution_count": 96,
   "metadata": {},
   "outputs": [],
   "source": [
    "feature_benefician = ['DESYNPUF_ID',\n",
    " 'BENE_BIRTH_DT',\n",
    " 'BENE_DEATH_DT',\n",
    " 'BENE_SEX_IDENT_CD',\n",
    " 'BENE_RACE_CD',\n",
    " 'SP_STATE_CODE',\n",
    " 'BENE_COUNTY_CD',\n",
    " 'SP_ALZHDMTA',\n",
    " 'SP_CHF',\n",
    " 'SP_CHRNKIDN',\n",
    " 'SP_CNCR',\n",
    " 'SP_COPD',\n",
    " 'SP_DEPRESSN',\n",
    " 'SP_DIABETES',\n",
    " 'SP_ISCHMCHT',\n",
    " 'SP_OSTEOPRS',\n",
    " 'SP_RA_OA',\n",
    " 'SP_STRKETIA']"
   ]
  },
  {
   "cell_type": "code",
   "execution_count": 99,
   "metadata": {},
   "outputs": [],
   "source": [
    "df_benefician_feature = df_benefician.select(*feature_benefician)"
   ]
  },
  {
   "cell_type": "code",
   "execution_count": 100,
   "metadata": {},
   "outputs": [
    {
     "data": {
      "text/plain": [
       "2296491"
      ]
     },
     "execution_count": 100,
     "metadata": {},
     "output_type": "execute_result"
    }
   ],
   "source": [
    "df_benefician_feature.count()"
   ]
  },
  {
   "cell_type": "code",
   "execution_count": 101,
   "metadata": {},
   "outputs": [
    {
     "data": {
      "text/plain": [
       "['DESYNPUF_ID',\n",
       " 'BENE_BIRTH_DT',\n",
       " 'BENE_DEATH_DT',\n",
       " 'BENE_SEX_IDENT_CD',\n",
       " 'BENE_RACE_CD',\n",
       " 'SP_STATE_CODE',\n",
       " 'BENE_COUNTY_CD',\n",
       " 'SP_ALZHDMTA',\n",
       " 'SP_CHF',\n",
       " 'SP_CHRNKIDN',\n",
       " 'SP_CNCR',\n",
       " 'SP_COPD',\n",
       " 'SP_DEPRESSN',\n",
       " 'SP_DIABETES',\n",
       " 'SP_ISCHMCHT',\n",
       " 'SP_OSTEOPRS',\n",
       " 'SP_RA_OA',\n",
       " 'SP_STRKETIA']"
      ]
     },
     "execution_count": 101,
     "metadata": {},
     "output_type": "execute_result"
    }
   ],
   "source": [
    "df_benefician_feature.columns"
   ]
  },
  {
   "cell_type": "code",
   "execution_count": 104,
   "metadata": {},
   "outputs": [],
   "source": [
    "outpath_feature_benefician= \"/Users/jill/Downloads/2020_Project/EDA/concat_data/benefician/benefician_feature\""
   ]
  },
  {
   "cell_type": "code",
   "execution_count": 105,
   "metadata": {},
   "outputs": [],
   "source": [
    "#write_df(df_benefician_feature, outpath_feature_benefician)"
   ]
  },
  {
   "cell_type": "code",
   "execution_count": 106,
   "metadata": {},
   "outputs": [],
   "source": [
    "# Check the dataset\n",
    "df_benefician_feature = spark.read.load(outpath_feature_benefician)"
   ]
  },
  {
   "cell_type": "code",
   "execution_count": 107,
   "metadata": {},
   "outputs": [
    {
     "data": {
      "text/plain": [
       "(2296491, 18)"
      ]
     },
     "execution_count": 107,
     "metadata": {},
     "output_type": "execute_result"
    }
   ],
   "source": [
    "df_benefician_feature.count(), len(df_benefician_feature.columns)"
   ]
  },
  {
   "cell_type": "code",
   "execution_count": 108,
   "metadata": {},
   "outputs": [
    {
     "name": "stdout",
     "output_type": "stream",
     "text": [
      "root\n",
      " |-- DESYNPUF_ID: string (nullable = true)\n",
      " |-- BENE_BIRTH_DT: integer (nullable = true)\n",
      " |-- BENE_DEATH_DT: integer (nullable = true)\n",
      " |-- BENE_SEX_IDENT_CD: integer (nullable = true)\n",
      " |-- BENE_RACE_CD: integer (nullable = true)\n",
      " |-- SP_STATE_CODE: integer (nullable = true)\n",
      " |-- BENE_COUNTY_CD: integer (nullable = true)\n",
      " |-- SP_ALZHDMTA: integer (nullable = true)\n",
      " |-- SP_CHF: integer (nullable = true)\n",
      " |-- SP_CHRNKIDN: integer (nullable = true)\n",
      " |-- SP_CNCR: integer (nullable = true)\n",
      " |-- SP_COPD: integer (nullable = true)\n",
      " |-- SP_DEPRESSN: integer (nullable = true)\n",
      " |-- SP_DIABETES: integer (nullable = true)\n",
      " |-- SP_ISCHMCHT: integer (nullable = true)\n",
      " |-- SP_OSTEOPRS: integer (nullable = true)\n",
      " |-- SP_RA_OA: integer (nullable = true)\n",
      " |-- SP_STRKETIA: integer (nullable = true)\n",
      "\n"
     ]
    }
   ],
   "source": [
    "df_benefician_feature.printSchema()"
   ]
  },
  {
   "cell_type": "markdown",
   "metadata": {},
   "source": [
    "-- *Inpatient_claim feature dataset*"
   ]
  },
  {
   "cell_type": "code",
   "execution_count": 7,
   "metadata": {},
   "outputs": [],
   "source": [
    "df_in_OC = spark.read.load(\"/Users/jill/Downloads/2020_Project/EDA/concat_data/inpatient/inpatient_OC/\")\n",
    "df_in_noOC = spark.read.load(\"/Users/jill/Downloads/2020_Project/EDA/concat_data/inpatient/inpatient_noOC/\")"
   ]
  },
  {
   "cell_type": "code",
   "execution_count": 8,
   "metadata": {},
   "outputs": [
    {
     "data": {
      "text/plain": [
       "(2649, 82, 1330173, 82)"
      ]
     },
     "execution_count": 8,
     "metadata": {},
     "output_type": "execute_result"
    }
   ],
   "source": [
    "df_in_OC.count(), len(df_in_OC.columns), df_in_noOC.count(),len(df_in_noOC.columns)"
   ]
  },
  {
   "cell_type": "code",
   "execution_count": 9,
   "metadata": {},
   "outputs": [
    {
     "data": {
      "text/plain": [
       "['DESYNPUF_ID',\n",
       " 'CLM_ID',\n",
       " 'SEGMENT',\n",
       " 'CLM_FROM_DT',\n",
       " 'CLM_THRU_DT',\n",
       " 'PRVDR_NUM',\n",
       " 'CLM_PMT_AMT',\n",
       " 'NCH_PRMRY_PYR_CLM_PD_AMT',\n",
       " 'AT_PHYSN_NPI',\n",
       " 'OP_PHYSN_NPI',\n",
       " 'OT_PHYSN_NPI',\n",
       " 'CLM_ADMSN_DT',\n",
       " 'ADMTNG_ICD9_DGNS_CD',\n",
       " 'CLM_PASS_THRU_PER_DIEM_AMT',\n",
       " 'NCH_BENE_IP_DDCTBL_AMT',\n",
       " 'NCH_BENE_PTA_COINSRNC_LBLTY_AM',\n",
       " 'NCH_BENE_BLOOD_DDCTBL_LBLTY_AM',\n",
       " 'CLM_UTLZTN_DAY_CNT',\n",
       " 'NCH_BENE_DSCHRG_DT',\n",
       " 'CLM_DRG_CD',\n",
       " 'ICD9_DGNS_CD_1',\n",
       " 'ICD9_DGNS_CD_2',\n",
       " 'ICD9_DGNS_CD_3',\n",
       " 'ICD9_DGNS_CD_4',\n",
       " 'ICD9_DGNS_CD_5',\n",
       " 'ICD9_DGNS_CD_6',\n",
       " 'ICD9_DGNS_CD_7',\n",
       " 'ICD9_DGNS_CD_8',\n",
       " 'ICD9_DGNS_CD_9',\n",
       " 'ICD9_DGNS_CD_10',\n",
       " 'ICD9_PRCDR_CD_1',\n",
       " 'ICD9_PRCDR_CD_2',\n",
       " 'ICD9_PRCDR_CD_3',\n",
       " 'ICD9_PRCDR_CD_4',\n",
       " 'ICD9_PRCDR_CD_5',\n",
       " 'ICD9_PRCDR_CD_6',\n",
       " 'HCPCS_CD_1',\n",
       " 'HCPCS_CD_2',\n",
       " 'HCPCS_CD_3',\n",
       " 'HCPCS_CD_4',\n",
       " 'HCPCS_CD_5',\n",
       " 'HCPCS_CD_6',\n",
       " 'HCPCS_CD_7',\n",
       " 'HCPCS_CD_8',\n",
       " 'HCPCS_CD_9',\n",
       " 'HCPCS_CD_10',\n",
       " 'HCPCS_CD_11',\n",
       " 'HCPCS_CD_12',\n",
       " 'HCPCS_CD_13',\n",
       " 'HCPCS_CD_14',\n",
       " 'HCPCS_CD_15',\n",
       " 'HCPCS_CD_16',\n",
       " 'HCPCS_CD_17',\n",
       " 'HCPCS_CD_18',\n",
       " 'HCPCS_CD_19',\n",
       " 'HCPCS_CD_20',\n",
       " 'HCPCS_CD_21',\n",
       " 'HCPCS_CD_22',\n",
       " 'HCPCS_CD_23',\n",
       " 'HCPCS_CD_24',\n",
       " 'HCPCS_CD_25',\n",
       " 'HCPCS_CD_26',\n",
       " 'HCPCS_CD_27',\n",
       " 'HCPCS_CD_28',\n",
       " 'HCPCS_CD_29',\n",
       " 'HCPCS_CD_30',\n",
       " 'HCPCS_CD_31',\n",
       " 'HCPCS_CD_32',\n",
       " 'HCPCS_CD_33',\n",
       " 'HCPCS_CD_34',\n",
       " 'HCPCS_CD_35',\n",
       " 'HCPCS_CD_36',\n",
       " 'HCPCS_CD_37',\n",
       " 'HCPCS_CD_38',\n",
       " 'HCPCS_CD_39',\n",
       " 'HCPCS_CD_40',\n",
       " 'HCPCS_CD_41',\n",
       " 'HCPCS_CD_42',\n",
       " 'HCPCS_CD_43',\n",
       " 'HCPCS_CD_44',\n",
       " 'HCPCS_CD_45',\n",
       " 'class']"
      ]
     },
     "execution_count": 9,
     "metadata": {},
     "output_type": "execute_result"
    }
   ],
   "source": [
    "df_in_OC.columns"
   ]
  },
  {
   "cell_type": "code",
   "execution_count": 10,
   "metadata": {},
   "outputs": [],
   "source": [
    "feature_inpatient = ['DESYNPUF_ID',\n",
    " 'CLM_ID',\n",
    " 'PRVDR_NUM',\n",
    " 'CLM_ADMSN_DT',\n",
    " 'NCH_BENE_DSCHRG_DT',\n",
    " 'ADMTNG_ICD9_DGNS_CD',\n",
    " 'CLM_DRG_CD',\n",
    " 'ICD9_DGNS_CD_1',\n",
    " 'ICD9_DGNS_CD_2',\n",
    " 'ICD9_DGNS_CD_3',\n",
    " 'ICD9_DGNS_CD_4',\n",
    " 'ICD9_DGNS_CD_5',\n",
    " 'ICD9_DGNS_CD_6',\n",
    " 'ICD9_DGNS_CD_7',\n",
    " 'ICD9_DGNS_CD_8',\n",
    " 'ICD9_DGNS_CD_9',\n",
    " 'ICD9_DGNS_CD_10',\n",
    " 'ICD9_PRCDR_CD_1',\n",
    " 'ICD9_PRCDR_CD_2',\n",
    " 'ICD9_PRCDR_CD_3',\n",
    " 'ICD9_PRCDR_CD_4',\n",
    " 'ICD9_PRCDR_CD_5',\n",
    " 'ICD9_PRCDR_CD_6',\n",
    " 'HCPCS_CD_1',\n",
    " 'HCPCS_CD_2',\n",
    " 'HCPCS_CD_3',\n",
    " 'HCPCS_CD_4',\n",
    " 'HCPCS_CD_5',\n",
    " 'HCPCS_CD_6',\n",
    " 'HCPCS_CD_7',\n",
    " 'HCPCS_CD_8',\n",
    " 'HCPCS_CD_9',\n",
    " 'HCPCS_CD_10',\n",
    " 'HCPCS_CD_11',\n",
    " 'HCPCS_CD_12',\n",
    " 'HCPCS_CD_13',\n",
    " 'HCPCS_CD_14',\n",
    " 'HCPCS_CD_15',\n",
    " 'HCPCS_CD_16',\n",
    " 'HCPCS_CD_17',\n",
    " 'HCPCS_CD_18',\n",
    " 'HCPCS_CD_19',\n",
    " 'HCPCS_CD_20',\n",
    " 'HCPCS_CD_21',\n",
    " 'HCPCS_CD_22',\n",
    " 'HCPCS_CD_23',\n",
    " 'HCPCS_CD_24',\n",
    " 'HCPCS_CD_25',\n",
    " 'HCPCS_CD_26',\n",
    " 'HCPCS_CD_27',\n",
    " 'HCPCS_CD_28',\n",
    " 'HCPCS_CD_29',\n",
    " 'HCPCS_CD_30',\n",
    " 'HCPCS_CD_31',\n",
    " 'HCPCS_CD_32',\n",
    " 'HCPCS_CD_33',\n",
    " 'HCPCS_CD_34',\n",
    " 'HCPCS_CD_35',\n",
    " 'HCPCS_CD_36',\n",
    " 'HCPCS_CD_37',\n",
    " 'HCPCS_CD_38',\n",
    " 'HCPCS_CD_39',\n",
    " 'HCPCS_CD_40',\n",
    " 'HCPCS_CD_41',\n",
    " 'HCPCS_CD_42',\n",
    " 'HCPCS_CD_43',\n",
    " 'HCPCS_CD_44',\n",
    " 'HCPCS_CD_45',\n",
    " 'class'                 \n",
    " ]"
   ]
  },
  {
   "cell_type": "code",
   "execution_count": 11,
   "metadata": {},
   "outputs": [],
   "source": [
    "df_inOC_feature, df_innoOC_feature = df_in_OC.select(*feature_inpatient),df_in_noOC.select(*feature_inpatient)"
   ]
  },
  {
   "cell_type": "code",
   "execution_count": 12,
   "metadata": {},
   "outputs": [
    {
     "data": {
      "text/plain": [
       "(2649, 1330173)"
      ]
     },
     "execution_count": 12,
     "metadata": {},
     "output_type": "execute_result"
    }
   ],
   "source": [
    "df_inOC_feature.count(), df_innoOC_feature.count()"
   ]
  },
  {
   "cell_type": "code",
   "execution_count": 13,
   "metadata": {},
   "outputs": [
    {
     "data": {
      "text/plain": [
       "(69, 69)"
      ]
     },
     "execution_count": 13,
     "metadata": {},
     "output_type": "execute_result"
    }
   ],
   "source": [
    "len(df_inOC_feature.columns), len(df_innoOC_feature.columns)"
   ]
  },
  {
   "cell_type": "code",
   "execution_count": 14,
   "metadata": {},
   "outputs": [],
   "source": [
    "outpath_inoc_feature = \"/Users/jill/Downloads/2020_Project/EDA/concat_data/inpatient/inpatient_oc_feature\"\n",
    "outpath_innooc_feature = \"/Users/jill/Downloads/2020_Project/EDA/concat_data/inpatient/inpatient_nooc_feature\""
   ]
  },
  {
   "cell_type": "code",
   "execution_count": 15,
   "metadata": {},
   "outputs": [],
   "source": [
    "df_inOC_feature.write.format(\"parquet\").mode(\"overwrite\").save(outpath_inoc_feature)"
   ]
  },
  {
   "cell_type": "code",
   "execution_count": 16,
   "metadata": {},
   "outputs": [],
   "source": [
    "df_innoOC_feature.write.format(\"parquet\").mode(\"overwrite\").save(outpath_innooc_feature)"
   ]
  },
  {
   "cell_type": "code",
   "execution_count": 23,
   "metadata": {},
   "outputs": [],
   "source": [
    "#write_df(df_innoOC_feature, outpath_innooc_feature)"
   ]
  },
  {
   "cell_type": "code",
   "execution_count": 17,
   "metadata": {},
   "outputs": [],
   "source": [
    "# Check the datasets\n",
    "dfin_oc = spark.read.load(outpath_inoc_feature)\n",
    "dfin_nooc = spark.read.load(outpath_innooc_feature)"
   ]
  },
  {
   "cell_type": "code",
   "execution_count": 18,
   "metadata": {},
   "outputs": [
    {
     "data": {
      "text/plain": [
       "(2649, 69, 1330173, 69)"
      ]
     },
     "execution_count": 18,
     "metadata": {},
     "output_type": "execute_result"
    }
   ],
   "source": [
    "dfin_oc.count(), len(dfin_oc.columns), dfin_nooc.count(), len(dfin_nooc.columns)"
   ]
  },
  {
   "cell_type": "code",
   "execution_count": 19,
   "metadata": {},
   "outputs": [],
   "source": [
    "sample_inpatient_OC = dfin_oc.limit(10).toPandas()"
   ]
  },
  {
   "cell_type": "code",
   "execution_count": 20,
   "metadata": {},
   "outputs": [
    {
     "data": {
      "text/html": [
       "<div>\n",
       "<style scoped>\n",
       "    .dataframe tbody tr th:only-of-type {\n",
       "        vertical-align: middle;\n",
       "    }\n",
       "\n",
       "    .dataframe tbody tr th {\n",
       "        vertical-align: top;\n",
       "    }\n",
       "\n",
       "    .dataframe thead th {\n",
       "        text-align: right;\n",
       "    }\n",
       "</style>\n",
       "<table border=\"1\" class=\"dataframe\">\n",
       "  <thead>\n",
       "    <tr style=\"text-align: right;\">\n",
       "      <th></th>\n",
       "      <th>DESYNPUF_ID</th>\n",
       "      <th>CLM_ID</th>\n",
       "      <th>PRVDR_NUM</th>\n",
       "      <th>CLM_ADMSN_DT</th>\n",
       "      <th>NCH_BENE_DSCHRG_DT</th>\n",
       "      <th>ADMTNG_ICD9_DGNS_CD</th>\n",
       "      <th>CLM_DRG_CD</th>\n",
       "      <th>ICD9_DGNS_CD_1</th>\n",
       "      <th>ICD9_DGNS_CD_2</th>\n",
       "      <th>ICD9_DGNS_CD_3</th>\n",
       "      <th>...</th>\n",
       "      <th>HCPCS_CD_37</th>\n",
       "      <th>HCPCS_CD_38</th>\n",
       "      <th>HCPCS_CD_39</th>\n",
       "      <th>HCPCS_CD_40</th>\n",
       "      <th>HCPCS_CD_41</th>\n",
       "      <th>HCPCS_CD_42</th>\n",
       "      <th>HCPCS_CD_43</th>\n",
       "      <th>HCPCS_CD_44</th>\n",
       "      <th>HCPCS_CD_45</th>\n",
       "      <th>class</th>\n",
       "    </tr>\n",
       "  </thead>\n",
       "  <tbody>\n",
       "    <tr>\n",
       "      <td>0</td>\n",
       "      <td>81E664EC84B48C11</td>\n",
       "      <td>992831161633841</td>\n",
       "      <td>4400TC</td>\n",
       "      <td>20090914</td>\n",
       "      <td>20090916</td>\n",
       "      <td>78791</td>\n",
       "      <td>627</td>\n",
       "      <td>27651</td>\n",
       "      <td>56400</td>\n",
       "      <td>5849</td>\n",
       "      <td>...</td>\n",
       "      <td>None</td>\n",
       "      <td>None</td>\n",
       "      <td>None</td>\n",
       "      <td>None</td>\n",
       "      <td>None</td>\n",
       "      <td>None</td>\n",
       "      <td>None</td>\n",
       "      <td>None</td>\n",
       "      <td>None</td>\n",
       "      <td>1</td>\n",
       "    </tr>\n",
       "    <tr>\n",
       "      <td>1</td>\n",
       "      <td>8318DFD5748676F7</td>\n",
       "      <td>992871161635799</td>\n",
       "      <td>1000ZT</td>\n",
       "      <td>20090427</td>\n",
       "      <td>20090505</td>\n",
       "      <td>1976</td>\n",
       "      <td>758</td>\n",
       "      <td>1830</td>\n",
       "      <td>1990</td>\n",
       "      <td>4280</td>\n",
       "      <td>...</td>\n",
       "      <td>None</td>\n",
       "      <td>None</td>\n",
       "      <td>None</td>\n",
       "      <td>None</td>\n",
       "      <td>None</td>\n",
       "      <td>None</td>\n",
       "      <td>None</td>\n",
       "      <td>None</td>\n",
       "      <td>None</td>\n",
       "      <td>1</td>\n",
       "    </tr>\n",
       "    <tr>\n",
       "      <td>2</td>\n",
       "      <td>8634D62DFD5C1D29</td>\n",
       "      <td>992991161623602</td>\n",
       "      <td>2000HG</td>\n",
       "      <td>20090611</td>\n",
       "      <td>20090614</td>\n",
       "      <td>49121</td>\n",
       "      <td>204</td>\n",
       "      <td>49121</td>\n",
       "      <td>34690</td>\n",
       "      <td>1830</td>\n",
       "      <td>...</td>\n",
       "      <td>None</td>\n",
       "      <td>None</td>\n",
       "      <td>None</td>\n",
       "      <td>None</td>\n",
       "      <td>None</td>\n",
       "      <td>None</td>\n",
       "      <td>None</td>\n",
       "      <td>None</td>\n",
       "      <td>None</td>\n",
       "      <td>1</td>\n",
       "    </tr>\n",
       "    <tr>\n",
       "      <td>3</td>\n",
       "      <td>87B20293027725BD</td>\n",
       "      <td>992661161617703</td>\n",
       "      <td>4400TC</td>\n",
       "      <td>20081230</td>\n",
       "      <td>20090102</td>\n",
       "      <td>79902</td>\n",
       "      <td>199</td>\n",
       "      <td>1972</td>\n",
       "      <td>4329</td>\n",
       "      <td>2760</td>\n",
       "      <td>...</td>\n",
       "      <td>None</td>\n",
       "      <td>None</td>\n",
       "      <td>None</td>\n",
       "      <td>None</td>\n",
       "      <td>None</td>\n",
       "      <td>None</td>\n",
       "      <td>None</td>\n",
       "      <td>None</td>\n",
       "      <td>None</td>\n",
       "      <td>1</td>\n",
       "    </tr>\n",
       "    <tr>\n",
       "      <td>4</td>\n",
       "      <td>885F827203B8DC45</td>\n",
       "      <td>992331161619833</td>\n",
       "      <td>5000CP</td>\n",
       "      <td>20081005</td>\n",
       "      <td>20081009</td>\n",
       "      <td>51911</td>\n",
       "      <td>196</td>\n",
       "      <td>5183</td>\n",
       "      <td>25000</td>\n",
       "      <td>4019</td>\n",
       "      <td>...</td>\n",
       "      <td>None</td>\n",
       "      <td>None</td>\n",
       "      <td>None</td>\n",
       "      <td>None</td>\n",
       "      <td>None</td>\n",
       "      <td>None</td>\n",
       "      <td>None</td>\n",
       "      <td>None</td>\n",
       "      <td>None</td>\n",
       "      <td>1</td>\n",
       "    </tr>\n",
       "  </tbody>\n",
       "</table>\n",
       "<p>5 rows × 69 columns</p>\n",
       "</div>"
      ],
      "text/plain": [
       "        DESYNPUF_ID           CLM_ID PRVDR_NUM  CLM_ADMSN_DT  \\\n",
       "0  81E664EC84B48C11  992831161633841    4400TC      20090914   \n",
       "1  8318DFD5748676F7  992871161635799    1000ZT      20090427   \n",
       "2  8634D62DFD5C1D29  992991161623602    2000HG      20090611   \n",
       "3  87B20293027725BD  992661161617703    4400TC      20081230   \n",
       "4  885F827203B8DC45  992331161619833    5000CP      20081005   \n",
       "\n",
       "   NCH_BENE_DSCHRG_DT ADMTNG_ICD9_DGNS_CD CLM_DRG_CD ICD9_DGNS_CD_1  \\\n",
       "0            20090916               78791        627          27651   \n",
       "1            20090505                1976        758           1830   \n",
       "2            20090614               49121        204          49121   \n",
       "3            20090102               79902        199           1972   \n",
       "4            20081009               51911        196           5183   \n",
       "\n",
       "  ICD9_DGNS_CD_2 ICD9_DGNS_CD_3  ... HCPCS_CD_37 HCPCS_CD_38 HCPCS_CD_39  \\\n",
       "0          56400           5849  ...        None        None        None   \n",
       "1           1990           4280  ...        None        None        None   \n",
       "2          34690           1830  ...        None        None        None   \n",
       "3           4329           2760  ...        None        None        None   \n",
       "4          25000           4019  ...        None        None        None   \n",
       "\n",
       "  HCPCS_CD_40 HCPCS_CD_41 HCPCS_CD_42 HCPCS_CD_43  HCPCS_CD_44 HCPCS_CD_45  \\\n",
       "0        None        None        None        None         None        None   \n",
       "1        None        None        None        None         None        None   \n",
       "2        None        None        None        None         None        None   \n",
       "3        None        None        None        None         None        None   \n",
       "4        None        None        None        None         None        None   \n",
       "\n",
       "  class  \n",
       "0     1  \n",
       "1     1  \n",
       "2     1  \n",
       "3     1  \n",
       "4     1  \n",
       "\n",
       "[5 rows x 69 columns]"
      ]
     },
     "execution_count": 20,
     "metadata": {},
     "output_type": "execute_result"
    }
   ],
   "source": [
    "sample_inpatient_OC.head()"
   ]
  },
  {
   "cell_type": "code",
   "execution_count": 21,
   "metadata": {},
   "outputs": [
    {
     "name": "stdout",
     "output_type": "stream",
     "text": [
      "<class 'pandas.core.frame.DataFrame'>\n",
      "RangeIndex: 10 entries, 0 to 9\n",
      "Data columns (total 69 columns):\n",
      "DESYNPUF_ID            10 non-null object\n",
      "CLM_ID                 10 non-null int64\n",
      "PRVDR_NUM              10 non-null object\n",
      "CLM_ADMSN_DT           10 non-null int32\n",
      "NCH_BENE_DSCHRG_DT     10 non-null int32\n",
      "ADMTNG_ICD9_DGNS_CD    10 non-null object\n",
      "CLM_DRG_CD             10 non-null object\n",
      "ICD9_DGNS_CD_1         10 non-null object\n",
      "ICD9_DGNS_CD_2         10 non-null object\n",
      "ICD9_DGNS_CD_3         10 non-null object\n",
      "ICD9_DGNS_CD_4         10 non-null object\n",
      "ICD9_DGNS_CD_5         10 non-null object\n",
      "ICD9_DGNS_CD_6         10 non-null object\n",
      "ICD9_DGNS_CD_7         9 non-null object\n",
      "ICD9_DGNS_CD_8         9 non-null object\n",
      "ICD9_DGNS_CD_9         9 non-null object\n",
      "ICD9_DGNS_CD_10        0 non-null object\n",
      "ICD9_PRCDR_CD_1        6 non-null float64\n",
      "ICD9_PRCDR_CD_2        3 non-null object\n",
      "ICD9_PRCDR_CD_3        3 non-null object\n",
      "ICD9_PRCDR_CD_4        2 non-null object\n",
      "ICD9_PRCDR_CD_5        1 non-null object\n",
      "ICD9_PRCDR_CD_6        0 non-null object\n",
      "HCPCS_CD_1             0 non-null object\n",
      "HCPCS_CD_2             0 non-null object\n",
      "HCPCS_CD_3             0 non-null object\n",
      "HCPCS_CD_4             0 non-null object\n",
      "HCPCS_CD_5             0 non-null object\n",
      "HCPCS_CD_6             0 non-null object\n",
      "HCPCS_CD_7             0 non-null object\n",
      "HCPCS_CD_8             0 non-null object\n",
      "HCPCS_CD_9             0 non-null object\n",
      "HCPCS_CD_10            0 non-null object\n",
      "HCPCS_CD_11            0 non-null object\n",
      "HCPCS_CD_12            0 non-null object\n",
      "HCPCS_CD_13            0 non-null object\n",
      "HCPCS_CD_14            0 non-null object\n",
      "HCPCS_CD_15            0 non-null object\n",
      "HCPCS_CD_16            0 non-null object\n",
      "HCPCS_CD_17            0 non-null object\n",
      "HCPCS_CD_18            0 non-null object\n",
      "HCPCS_CD_19            0 non-null object\n",
      "HCPCS_CD_20            0 non-null object\n",
      "HCPCS_CD_21            0 non-null object\n",
      "HCPCS_CD_22            0 non-null object\n",
      "HCPCS_CD_23            0 non-null object\n",
      "HCPCS_CD_24            0 non-null object\n",
      "HCPCS_CD_25            0 non-null object\n",
      "HCPCS_CD_26            0 non-null object\n",
      "HCPCS_CD_27            0 non-null object\n",
      "HCPCS_CD_28            0 non-null object\n",
      "HCPCS_CD_29            0 non-null object\n",
      "HCPCS_CD_30            0 non-null object\n",
      "HCPCS_CD_31            0 non-null object\n",
      "HCPCS_CD_32            0 non-null object\n",
      "HCPCS_CD_33            0 non-null object\n",
      "HCPCS_CD_34            0 non-null object\n",
      "HCPCS_CD_35            0 non-null object\n",
      "HCPCS_CD_36            0 non-null object\n",
      "HCPCS_CD_37            0 non-null object\n",
      "HCPCS_CD_38            0 non-null object\n",
      "HCPCS_CD_39            0 non-null object\n",
      "HCPCS_CD_40            0 non-null object\n",
      "HCPCS_CD_41            0 non-null object\n",
      "HCPCS_CD_42            0 non-null object\n",
      "HCPCS_CD_43            0 non-null object\n",
      "HCPCS_CD_44            0 non-null object\n",
      "HCPCS_CD_45            0 non-null object\n",
      "class                  10 non-null int32\n",
      "dtypes: float64(1), int32(3), int64(1), object(64)\n",
      "memory usage: 5.4+ KB\n"
     ]
    }
   ],
   "source": [
    "sample_inpatient_OC.info()"
   ]
  },
  {
   "cell_type": "markdown",
   "metadata": {},
   "source": [
    "-- *Outpatient_claim feature datasets*"
   ]
  },
  {
   "cell_type": "code",
   "execution_count": 5,
   "metadata": {},
   "outputs": [],
   "source": [
    "df_out_OC = spark.read.load(\"/Users/jill/Downloads/2020_Project/EDA/concat_data/outpatient/outpatient_OC/\")\n",
    "df_out_noOC = spark.read.load(\"/Users/jill/Downloads/2020_Project/EDA/concat_data/outpatient/outpatient_noOC/\")"
   ]
  },
  {
   "cell_type": "code",
   "execution_count": 6,
   "metadata": {},
   "outputs": [
    {
     "data": {
      "text/plain": [
       "(16706, 77, 15810281, 77)"
      ]
     },
     "execution_count": 6,
     "metadata": {},
     "output_type": "execute_result"
    }
   ],
   "source": [
    "df_out_OC.count(), len(df_out_OC.columns), df_out_noOC.count(),len(df_out_noOC.columns)"
   ]
  },
  {
   "cell_type": "code",
   "execution_count": 7,
   "metadata": {},
   "outputs": [
    {
     "data": {
      "text/plain": [
       "['DESYNPUF_ID',\n",
       " 'CLM_ID',\n",
       " 'SEGMENT',\n",
       " 'CLM_FROM_DT',\n",
       " 'CLM_THRU_DT',\n",
       " 'PRVDR_NUM',\n",
       " 'CLM_PMT_AMT',\n",
       " 'NCH_PRMRY_PYR_CLM_PD_AMT',\n",
       " 'AT_PHYSN_NPI',\n",
       " 'OP_PHYSN_NPI',\n",
       " 'OT_PHYSN_NPI',\n",
       " 'NCH_BENE_BLOOD_DDCTBL_LBLTY_AM',\n",
       " 'ICD9_DGNS_CD_1',\n",
       " 'ICD9_DGNS_CD_2',\n",
       " 'ICD9_DGNS_CD_3',\n",
       " 'ICD9_DGNS_CD_4',\n",
       " 'ICD9_DGNS_CD_5',\n",
       " 'ICD9_DGNS_CD_6',\n",
       " 'ICD9_DGNS_CD_7',\n",
       " 'ICD9_DGNS_CD_8',\n",
       " 'ICD9_DGNS_CD_9',\n",
       " 'ICD9_DGNS_CD_10',\n",
       " 'ICD9_PRCDR_CD_1',\n",
       " 'ICD9_PRCDR_CD_2',\n",
       " 'ICD9_PRCDR_CD_3',\n",
       " 'ICD9_PRCDR_CD_4',\n",
       " 'ICD9_PRCDR_CD_5',\n",
       " 'ICD9_PRCDR_CD_6',\n",
       " 'NCH_BENE_PTB_DDCTBL_AMT',\n",
       " 'NCH_BENE_PTB_COINSRNC_AMT',\n",
       " 'ADMTNG_ICD9_DGNS_CD',\n",
       " 'HCPCS_CD_1',\n",
       " 'HCPCS_CD_2',\n",
       " 'HCPCS_CD_3',\n",
       " 'HCPCS_CD_4',\n",
       " 'HCPCS_CD_5',\n",
       " 'HCPCS_CD_6',\n",
       " 'HCPCS_CD_7',\n",
       " 'HCPCS_CD_8',\n",
       " 'HCPCS_CD_9',\n",
       " 'HCPCS_CD_10',\n",
       " 'HCPCS_CD_11',\n",
       " 'HCPCS_CD_12',\n",
       " 'HCPCS_CD_13',\n",
       " 'HCPCS_CD_14',\n",
       " 'HCPCS_CD_15',\n",
       " 'HCPCS_CD_16',\n",
       " 'HCPCS_CD_17',\n",
       " 'HCPCS_CD_18',\n",
       " 'HCPCS_CD_19',\n",
       " 'HCPCS_CD_20',\n",
       " 'HCPCS_CD_21',\n",
       " 'HCPCS_CD_22',\n",
       " 'HCPCS_CD_23',\n",
       " 'HCPCS_CD_24',\n",
       " 'HCPCS_CD_25',\n",
       " 'HCPCS_CD_26',\n",
       " 'HCPCS_CD_27',\n",
       " 'HCPCS_CD_28',\n",
       " 'HCPCS_CD_29',\n",
       " 'HCPCS_CD_30',\n",
       " 'HCPCS_CD_31',\n",
       " 'HCPCS_CD_32',\n",
       " 'HCPCS_CD_33',\n",
       " 'HCPCS_CD_34',\n",
       " 'HCPCS_CD_35',\n",
       " 'HCPCS_CD_36',\n",
       " 'HCPCS_CD_37',\n",
       " 'HCPCS_CD_38',\n",
       " 'HCPCS_CD_39',\n",
       " 'HCPCS_CD_40',\n",
       " 'HCPCS_CD_41',\n",
       " 'HCPCS_CD_42',\n",
       " 'HCPCS_CD_43',\n",
       " 'HCPCS_CD_44',\n",
       " 'HCPCS_CD_45',\n",
       " 'class']"
      ]
     },
     "execution_count": 7,
     "metadata": {},
     "output_type": "execute_result"
    }
   ],
   "source": [
    "df_out_OC.columns"
   ]
  },
  {
   "cell_type": "code",
   "execution_count": 8,
   "metadata": {},
   "outputs": [],
   "source": [
    "outpath_outoc_feature = \"/Users/jill/Downloads/2020_Project/EDA/concat_data/outpatient/outpatient_oc_feature\"\n"
   ]
  },
  {
   "cell_type": "code",
   "execution_count": 9,
   "metadata": {},
   "outputs": [],
   "source": [
    "feature_outpatient = ['DESYNPUF_ID',\n",
    " 'CLM_ID',\n",
    " 'PRVDR_NUM',\n",
    " 'ICD9_DGNS_CD_1',\n",
    " 'ICD9_DGNS_CD_2',\n",
    " 'ICD9_DGNS_CD_3',\n",
    " 'ICD9_DGNS_CD_4',\n",
    " 'ICD9_DGNS_CD_5',\n",
    " 'ICD9_DGNS_CD_6',\n",
    " 'ICD9_DGNS_CD_7',\n",
    " 'ICD9_DGNS_CD_8',\n",
    " 'ICD9_DGNS_CD_9',\n",
    " 'ICD9_DGNS_CD_10',\n",
    " 'ICD9_PRCDR_CD_1',\n",
    " 'ICD9_PRCDR_CD_2',\n",
    " 'ICD9_PRCDR_CD_3',\n",
    " 'ICD9_PRCDR_CD_4',\n",
    " 'ICD9_PRCDR_CD_5',\n",
    " 'ICD9_PRCDR_CD_6',\n",
    " 'ADMTNG_ICD9_DGNS_CD',\n",
    " 'HCPCS_CD_1',\n",
    " 'HCPCS_CD_2',\n",
    " 'HCPCS_CD_3',\n",
    " 'HCPCS_CD_4',\n",
    " 'HCPCS_CD_5',\n",
    " 'HCPCS_CD_6',\n",
    " 'HCPCS_CD_7',\n",
    " 'HCPCS_CD_8',\n",
    " 'HCPCS_CD_9',\n",
    " 'HCPCS_CD_10',\n",
    " 'HCPCS_CD_11',\n",
    " 'HCPCS_CD_12',\n",
    " 'HCPCS_CD_13',\n",
    " 'HCPCS_CD_14',\n",
    " 'HCPCS_CD_15',\n",
    " 'HCPCS_CD_16',\n",
    " 'HCPCS_CD_17',\n",
    " 'HCPCS_CD_18',\n",
    " 'HCPCS_CD_19',\n",
    " 'HCPCS_CD_20',\n",
    " 'HCPCS_CD_21',\n",
    " 'HCPCS_CD_22',\n",
    " 'HCPCS_CD_23',\n",
    " 'HCPCS_CD_24',\n",
    " 'HCPCS_CD_25',\n",
    " 'HCPCS_CD_26',\n",
    " 'HCPCS_CD_27',\n",
    " 'HCPCS_CD_28',\n",
    " 'HCPCS_CD_29',\n",
    " 'HCPCS_CD_30',\n",
    " 'HCPCS_CD_31',\n",
    " 'HCPCS_CD_32',\n",
    " 'HCPCS_CD_33',\n",
    " 'HCPCS_CD_34',\n",
    " 'HCPCS_CD_35',\n",
    " 'HCPCS_CD_36',\n",
    " 'HCPCS_CD_37',\n",
    " 'HCPCS_CD_38',\n",
    " 'HCPCS_CD_39',\n",
    " 'HCPCS_CD_40',\n",
    " 'HCPCS_CD_41',\n",
    " 'HCPCS_CD_42',\n",
    " 'HCPCS_CD_43',\n",
    " 'HCPCS_CD_44',\n",
    " 'HCPCS_CD_45',\n",
    " 'class'\n",
    " ]"
   ]
  },
  {
   "cell_type": "code",
   "execution_count": 10,
   "metadata": {},
   "outputs": [],
   "source": [
    "feature_outpatient_exclude = [\n",
    " 'SEGMENT',\n",
    " 'CLM_FROM_DT',\n",
    " 'CLM_THRU_DT',\n",
    " 'CLM_PMT_AMT',\n",
    " 'NCH_PRMRY_PYR_CLM_PD_AMT',\n",
    " 'AT_PHYSN_NPI',\n",
    " 'OP_PHYSN_NPI',\n",
    " 'OT_PHYSN_NPI',\n",
    " 'NCH_BENE_BLOOD_DDCTBL_LBLTY_AM',\n",
    " 'NCH_BENE_PTB_DDCTBL_AMT',\n",
    " 'NCH_BENE_PTB_COINSRNC_AMT',\n",
    "]"
   ]
  },
  {
   "cell_type": "code",
   "execution_count": 19,
   "metadata": {},
   "outputs": [
    {
     "data": {
      "text/plain": [
       "11"
      ]
     },
     "execution_count": 19,
     "metadata": {},
     "output_type": "execute_result"
    }
   ],
   "source": [
    "len(feature_outpatient_exclude)"
   ]
  },
  {
   "cell_type": "code",
   "execution_count": 10,
   "metadata": {},
   "outputs": [
    {
     "data": {
      "text/plain": [
       "66"
      ]
     },
     "execution_count": 10,
     "metadata": {},
     "output_type": "execute_result"
    }
   ],
   "source": [
    "len(feature_outpatient)"
   ]
  },
  {
   "cell_type": "code",
   "execution_count": 23,
   "metadata": {},
   "outputs": [
    {
     "data": {
      "text/plain": [
       "77"
      ]
     },
     "execution_count": 23,
     "metadata": {},
     "output_type": "execute_result"
    }
   ],
   "source": [
    "len(df_out_noOC.columns)"
   ]
  },
  {
   "cell_type": "code",
   "execution_count": 11,
   "metadata": {},
   "outputs": [],
   "source": [
    "df_outnoOC_features = df_out_noOC.drop(*feature_outpatient_exclude)"
   ]
  },
  {
   "cell_type": "code",
   "execution_count": 12,
   "metadata": {},
   "outputs": [
    {
     "data": {
      "text/plain": [
       "(15810281, 66)"
      ]
     },
     "execution_count": 12,
     "metadata": {},
     "output_type": "execute_result"
    }
   ],
   "source": [
    "df_outnoOC_features.count(), len(df_outnoOC_features.columns)"
   ]
  },
  {
   "cell_type": "code",
   "execution_count": 21,
   "metadata": {},
   "outputs": [],
   "source": [
    "from pyspark.sql.window import Window\n",
    "from pyspark.sql import functions as F\n"
   ]
  },
  {
   "cell_type": "code",
   "execution_count": 23,
   "metadata": {},
   "outputs": [],
   "source": [
    "w = Window.orderBy(\"DESYNPUF_ID\")\n",
    "sample = df_outnoOC_features.withColumn(\"index\", F.row_number().over(w))"
   ]
  },
  {
   "cell_type": "code",
   "execution_count": 24,
   "metadata": {},
   "outputs": [
    {
     "data": {
      "text/plain": [
       "(15810281, 67)"
      ]
     },
     "execution_count": 24,
     "metadata": {},
     "output_type": "execute_result"
    }
   ],
   "source": [
    "sample.count(),len(sample.columns)"
   ]
  },
  {
   "cell_type": "code",
   "execution_count": 25,
   "metadata": {},
   "outputs": [
    {
     "name": "stdout",
     "output_type": "stream",
     "text": [
      "+----------------+---------------+---------+--------------+--------------+--------------+--------------+--------------+--------------+--------------+--------------+--------------+---------------+---------------+---------------+---------------+---------------+---------------+---------------+-------------------+----------+----------+----------+----------+----------+----------+----------+----------+----------+-----------+-----------+-----------+-----------+-----------+-----------+-----------+-----------+-----------+-----------+-----------+-----------+-----------+-----------+-----------+-----------+-----------+-----------+-----------+-----------+-----------+-----------+-----------+-----------+-----------+-----------+-----------+-----------+-----------+-----------+-----------+-----------+-----------+-----------+-----------+-----------+-----+-----+\n",
      "|     DESYNPUF_ID|         CLM_ID|PRVDR_NUM|ICD9_DGNS_CD_1|ICD9_DGNS_CD_2|ICD9_DGNS_CD_3|ICD9_DGNS_CD_4|ICD9_DGNS_CD_5|ICD9_DGNS_CD_6|ICD9_DGNS_CD_7|ICD9_DGNS_CD_8|ICD9_DGNS_CD_9|ICD9_DGNS_CD_10|ICD9_PRCDR_CD_1|ICD9_PRCDR_CD_2|ICD9_PRCDR_CD_3|ICD9_PRCDR_CD_4|ICD9_PRCDR_CD_5|ICD9_PRCDR_CD_6|ADMTNG_ICD9_DGNS_CD|HCPCS_CD_1|HCPCS_CD_2|HCPCS_CD_3|HCPCS_CD_4|HCPCS_CD_5|HCPCS_CD_6|HCPCS_CD_7|HCPCS_CD_8|HCPCS_CD_9|HCPCS_CD_10|HCPCS_CD_11|HCPCS_CD_12|HCPCS_CD_13|HCPCS_CD_14|HCPCS_CD_15|HCPCS_CD_16|HCPCS_CD_17|HCPCS_CD_18|HCPCS_CD_19|HCPCS_CD_20|HCPCS_CD_21|HCPCS_CD_22|HCPCS_CD_23|HCPCS_CD_24|HCPCS_CD_25|HCPCS_CD_26|HCPCS_CD_27|HCPCS_CD_28|HCPCS_CD_29|HCPCS_CD_30|HCPCS_CD_31|HCPCS_CD_32|HCPCS_CD_33|HCPCS_CD_34|HCPCS_CD_35|HCPCS_CD_36|HCPCS_CD_37|HCPCS_CD_38|HCPCS_CD_39|HCPCS_CD_40|HCPCS_CD_41|HCPCS_CD_42|HCPCS_CD_43|HCPCS_CD_44|HCPCS_CD_45|class|index|\n",
      "+----------------+---------------+---------+--------------+--------------+--------------+--------------+--------------+--------------+--------------+--------------+--------------+---------------+---------------+---------------+---------------+---------------+---------------+---------------+-------------------+----------+----------+----------+----------+----------+----------+----------+----------+----------+-----------+-----------+-----------+-----------+-----------+-----------+-----------+-----------+-----------+-----------+-----------+-----------+-----------+-----------+-----------+-----------+-----------+-----------+-----------+-----------+-----------+-----------+-----------+-----------+-----------+-----------+-----------+-----------+-----------+-----------+-----------+-----------+-----------+-----------+-----------+-----------+-----+-----+\n",
      "|00000B48BCF4AD29|391362254696220|   10026U|          2721|         V1250|          2330|          null|          null|          null|          null|          null|          null|           null|           null|           null|           null|           null|           null|           null|               null|     G0103|     80076|     80053|     80053|     85610|     87086|     82248|     82565|     84443|      76700|      80053|      80061|       null|       null|       null|       null|       null|       null|       null|       null|       null|       null|       null|       null|       null|       null|       null|       null|       null|       null|       null|       null|       null|       null|       null|       null|       null|       null|       null|       null|       null|       null|       null|       null|       null|    0|    1|\n",
      "|00000B48BCF4AD29|391612254357344|   0300YM|         72999|         72981|          null|          null|          null|          null|          null|          null|          null|           null|           null|           null|           null|           null|           null|           null|               7295|     93971|      null|      null|      null|      null|      null|      null|      null|      null|       null|       null|       null|       null|       null|       null|       null|       null|       null|       null|       null|       null|       null|       null|       null|       null|       null|       null|       null|       null|       null|       null|       null|       null|       null|       null|       null|       null|       null|       null|       null|       null|       null|       null|       null|       null|    0|    2|\n",
      "|00000B48BCF4AD29|391812254100253|   1002GD|          7216|          null|          null|          null|          null|          null|          null|          null|          null|           null|           null|           null|           null|           null|           null|           null|               7242|     97110|     97001|     97010|     97110|     97110|     97110|     97110|     97110|     97110|      97010|      97140|      97035|      97110|      97124|      97530|      97110|      97012|      97026|      97001|      97010|      97140|      97110|       null|       null|       null|       null|       null|       null|       null|       null|       null|       null|       null|       null|       null|       null|       null|       null|       null|       null|       null|       null|       null|       null|       null|    0|    3|\n",
      "|00000B48BCF4AD29|391012254328356|   1000GD|         99671|          4019|         V1046|         53081|         V5861|          3441|          2859|          null|          null|           null|           null|           null|           null|           null|           null|           null|               null|      null|     84484|     V2632|     J1170|      null|      null|      null|      null|      null|       null|       null|       null|       null|       null|       null|       null|       null|       null|       null|       null|       null|       null|       null|       null|       null|       null|       null|       null|       null|       null|       null|       null|       null|       null|       null|       null|       null|       null|       null|       null|       null|       null|       null|       null|       null|    0|    4|\n",
      "|00000B48BCF4AD29|391602254471197|   1000UU|          7916|         V7644|          null|          null|          null|          null|          null|          null|          null|           null|           null|           null|           null|           null|           null|           null|               null|     36415|     86800|     85027|     82043|     84460|     85025|     82435|      null|      null|       null|       null|       null|       null|       null|       null|       null|       null|       null|       null|       null|       null|       null|       null|       null|       null|       null|       null|       null|       null|       null|       null|       null|       null|       null|       null|       null|       null|       null|       null|       null|       null|       null|       null|       null|       null|    0|    5|\n",
      "|00000B48BCF4AD29|391222254167687|   2300PV|          7850|          4019|         V5861|          null|          null|          null|          null|          null|          null|           null|           null|           null|           null|           null|           null|           null|               null|     P9603|     80061|     82310|     84305|     86708|     82374|     87077|     83550|     82607|      80061|      82728|      83721|       null|       null|       null|       null|       null|       null|       null|       null|       null|       null|       null|       null|       null|       null|       null|       null|       null|       null|       null|       null|       null|       null|       null|       null|       null|       null|       null|       null|       null|       null|       null|       null|       null|    0|    6|\n",
      "|00000B48BCF4AD29|391392254472138|   1000BA|         81112|          null|          null|          null|          null|          null|          null|          null|          null|           null|           null|           null|           null|           null|           null|           null|               null|     36415|     97116|     97112|     92507|     97112|     97116|     97116|     97110|     97110|      97530|       null|       null|       null|       null|       null|       null|       null|       null|       null|       null|       null|       null|       null|       null|       null|       null|       null|       null|       null|       null|       null|       null|       null|       null|       null|       null|       null|       null|       null|       null|       null|       null|       null|       null|       null|    0|    7|\n",
      "|00000B48BCF4AD29|391212254536362|   2201RB|          2370|          null|          null|          null|          null|          null|          null|          null|          null|           null|           null|           null|           null|           null|           null|           null|               null|      null|      null|     81001|     J3420|     96372|     96375|     70450|     99284|     99212|      90471|      73080|      99283|      96374|       null|       null|       null|       null|       null|       null|       null|       null|       null|       null|       null|       null|       null|       null|       null|       null|       null|       null|       null|       null|       null|       null|       null|       null|       null|       null|       null|       null|       null|       null|       null|       null|    0|    8|\n",
      "|00000B48BCF4AD29|391942254400929|   1000SM|          2279|         V1005|          4019|         56210|         20280|         V4581|          null|          null|          null|           null|           null|           null|           null|           null|           null|           null|               2114|      null|      null|      null|     62311|     J0690|     J2270|     96365|     J2405|      null|      J1100|       null|      80048|      71010|       null|       null|       null|       null|       null|       null|       null|       null|       null|       null|       null|       null|       null|       null|       null|       null|       null|       null|       null|       null|       null|       null|       null|       null|       null|       null|       null|       null|       null|       null|       null|       null|    0|    9|\n",
      "|00000B48BCF4AD29|391812254364873|   2200TM|          9916|          null|          null|          null|          null|          null|          null|          null|          null|           null|           null|           null|           null|           null|           null|           null|               null|     73070|     87106|     87899|     87045|     87328|     87328|     87116|     87045|     88313|       null|       null|       null|       null|       null|       null|       null|       null|       null|       null|       null|       null|       null|       null|       null|       null|       null|       null|       null|       null|       null|       null|       null|       null|       null|       null|       null|       null|       null|       null|       null|       null|       null|       null|       null|       null|    0|   10|\n",
      "|00001C24EE7B06AC|684562269783396|   1100SK|         74560|         V5861|         42731|          null|          null|          null|          null|          null|          null|           null|           null|           null|           null|           null|           null|           null|               null|     93303|      null|      null|      null|      null|      null|      null|      null|      null|       null|       null|       null|       null|       null|       null|       null|       null|       null|       null|       null|       null|       null|       null|       null|       null|       null|       null|       null|       null|       null|       null|       null|       null|       null|       null|       null|       null|       null|       null|       null|       null|       null|       null|       null|       null|    0|   11|\n",
      "|00001C24EE7B06AC|684012269893042|   1100SK|          7879|         V4589|          null|          null|          null|          null|          null|          null|          null|           null|           null|           null|           null|           null|           null|           null|               null|     74000|      null|      null|      null|      null|      null|      null|      null|      null|       null|       null|       null|       null|       null|       null|       null|       null|       null|       null|       null|       null|       null|       null|       null|       null|       null|       null|       null|       null|       null|       null|       null|       null|       null|       null|       null|       null|       null|       null|       null|       null|       null|       null|       null|       null|    0|   12|\n",
      "|00003539A5D77654|985562223723470|   2400YU|         30001|         30001|          null|          null|          null|          null|          null|          null|          null|           null|           null|           null|           null|           null|           null|           null|               null|      null|      null|      null|      null|      null|      null|      null|      null|      null|       null|       null|       null|       null|       null|       null|       null|       null|       null|       null|       null|       null|       null|       null|       null|       null|       null|       null|       null|       null|       null|       null|       null|       null|       null|       null|       null|       null|       null|       null|       null|       null|       null|       null|       null|       null|    0|   13|\n",
      "|00003539A5D77654|985612223756096|   2400DP|          4558|          null|          null|          null|          null|          null|          null|          null|          null|           null|           null|           null|           null|           null|           null|           null|               null|     81003|      null|      null|      null|      null|      null|      null|      null|      null|       null|       null|       null|       null|       null|       null|       null|       null|       null|       null|       null|       null|       null|       null|       null|       null|       null|       null|       null|       null|       null|       null|       null|       null|       null|       null|       null|       null|       null|       null|       null|       null|       null|       null|       null|       null|    0|   14|\n",
      "|0000525AB30E4DEF|391952254123037|   3100JN|         OTHER|          null|          null|          null|          null|          null|          null|          null|          null|           null|           null|           null|           null|           null|           null|           null|               null|      null|      null|      null|      null|      null|      null|      null|      null|      null|       null|       null|       null|       null|       null|       null|       null|       null|       null|       null|       null|       null|       null|       null|       null|       null|       null|       null|       null|       null|       null|       null|       null|       null|       null|       null|       null|       null|       null|       null|       null|       null|       null|       null|       null|       null|    0|   15|\n",
      "|0000525AB30E4DEF|391672254645136|   3100ZR|         32731|         78079|          5990|         53081|          null|          null|          null|          null|          null|           null|           null|           null|           null|           null|           null|           null|               7840|     92557|     A0436|      null|      null|      null|      null|      null|      null|      null|       null|       null|       null|       null|       null|       null|       null|       null|       null|       null|       null|       null|       null|       null|       null|       null|       null|       null|       null|       null|       null|       null|       null|       null|       null|       null|       null|       null|       null|       null|       null|       null|       null|       null|       null|       null|    0|   16|\n",
      "|0000525AB30E4DEF|391172254011539|   3130ZG|         25000|          null|          null|          null|          null|          null|          null|          null|          null|           null|           null|           null|           null|           null|           null|           null|               null|      null|      null|     93555|     45380|     81000|     80076|     93005|     82962|     J2405|       null|       null|       null|       null|       null|       null|       null|       null|       null|       null|       null|       null|       null|       null|       null|       null|       null|       null|       null|       null|       null|       null|       null|       null|       null|       null|       null|       null|       null|       null|       null|       null|       null|       null|       null|       null|    0|   17|\n",
      "|0000525AB30E4DEF|391392254131349|   3100JN|         70709|          4149|         25000|         70712|         70709|         70707|         V4582|          4321|         70725|           null|           null|           null|           null|           null|           null|           null|              70706|     99214|      null|     85730|     84443|     84100|     87086|     87046|     84436|     85025|      93005|       null|       null|       null|       null|       null|       null|       null|       null|       null|       null|       null|       null|       null|       null|       null|       null|       null|       null|       null|       null|       null|       null|       null|       null|       null|       null|       null|       null|       null|       null|       null|       null|       null|       null|       null|    0|   18|\n",
      "|0000525AB30E4DEF|391312254463139|   2200GD|          V553|          null|          null|          null|          null|          null|          null|          null|          null|           null|           null|           null|           null|           null|           null|           null|               null|     74230|     92611|      null|      null|      null|      null|      null|      null|      null|       null|       null|       null|       null|       null|       null|       null|       null|       null|       null|       null|       null|       null|       null|       null|       null|       null|       null|       null|       null|       null|       null|       null|       null|       null|       null|       null|       null|       null|       null|       null|       null|       null|       null|       null|       null|    0|   19|\n",
      "|0000525AB30E4DEF|391882254670728|   3100JN|          2312|          null|          null|          null|          null|          null|          null|          null|          null|           null|           null|           null|           null|           null|           null|           null|               1629|     80053|     A9552|      null|      null|      null|      null|      null|      null|      null|       null|       null|       null|       null|       null|       null|       null|       null|       null|       null|       null|       null|       null|       null|       null|       null|       null|       null|       null|       null|       null|       null|       null|       null|       null|       null|       null|       null|       null|       null|       null|       null|       null|       null|       null|       null|    0|   20|\n",
      "+----------------+---------------+---------+--------------+--------------+--------------+--------------+--------------+--------------+--------------+--------------+--------------+---------------+---------------+---------------+---------------+---------------+---------------+---------------+-------------------+----------+----------+----------+----------+----------+----------+----------+----------+----------+-----------+-----------+-----------+-----------+-----------+-----------+-----------+-----------+-----------+-----------+-----------+-----------+-----------+-----------+-----------+-----------+-----------+-----------+-----------+-----------+-----------+-----------+-----------+-----------+-----------+-----------+-----------+-----------+-----------+-----------+-----------+-----------+-----------+-----------+-----------+-----------+-----+-----+\n",
      "only showing top 20 rows\n",
      "\n"
     ]
    }
   ],
   "source": [
    "sample.show()"
   ]
  },
  {
   "cell_type": "code",
   "execution_count": 45,
   "metadata": {},
   "outputs": [],
   "source": [
    "df1 = sample.filter(sample.index.between(1, 500000)).drop(\"index\") "
   ]
  },
  {
   "cell_type": "code",
   "execution_count": 49,
   "metadata": {},
   "outputs": [],
   "source": [
    "df2 = sample.filter(sample.index.between(500001, 1000000)).drop(\"index\")"
   ]
  },
  {
   "cell_type": "code",
   "execution_count": 50,
   "metadata": {},
   "outputs": [],
   "source": [
    "df3 = sample.filter(sample.index.between(1000001, 1500000)).drop(\"index\")"
   ]
  },
  {
   "cell_type": "code",
   "execution_count": 51,
   "metadata": {},
   "outputs": [],
   "source": [
    "df4 = sample.filter(sample.index.between(1500001, 15810281)).drop(\"index\")"
   ]
  },
  {
   "cell_type": "code",
   "execution_count": 46,
   "metadata": {},
   "outputs": [
    {
     "data": {
      "text/plain": [
       "500000"
      ]
     },
     "execution_count": 46,
     "metadata": {},
     "output_type": "execute_result"
    }
   ],
   "source": [
    "df1.count()"
   ]
  },
  {
   "cell_type": "code",
   "execution_count": 48,
   "metadata": {},
   "outputs": [
    {
     "data": {
      "text/plain": [
       "66"
      ]
     },
     "execution_count": 48,
     "metadata": {},
     "output_type": "execute_result"
    }
   ],
   "source": [
    "len(df1.columns)"
   ]
  },
  {
   "cell_type": "code",
   "execution_count": 47,
   "metadata": {},
   "outputs": [
    {
     "data": {
      "text/html": [
       "<div>\n",
       "<style scoped>\n",
       "    .dataframe tbody tr th:only-of-type {\n",
       "        vertical-align: middle;\n",
       "    }\n",
       "\n",
       "    .dataframe tbody tr th {\n",
       "        vertical-align: top;\n",
       "    }\n",
       "\n",
       "    .dataframe thead th {\n",
       "        text-align: right;\n",
       "    }\n",
       "</style>\n",
       "<table border=\"1\" class=\"dataframe\">\n",
       "  <thead>\n",
       "    <tr style=\"text-align: right;\">\n",
       "      <th></th>\n",
       "      <th>DESYNPUF_ID</th>\n",
       "      <th>CLM_ID</th>\n",
       "      <th>PRVDR_NUM</th>\n",
       "      <th>ICD9_DGNS_CD_1</th>\n",
       "      <th>ICD9_DGNS_CD_2</th>\n",
       "      <th>ICD9_DGNS_CD_3</th>\n",
       "      <th>ICD9_DGNS_CD_4</th>\n",
       "      <th>ICD9_DGNS_CD_5</th>\n",
       "      <th>ICD9_DGNS_CD_6</th>\n",
       "      <th>ICD9_DGNS_CD_7</th>\n",
       "      <th>...</th>\n",
       "      <th>HCPCS_CD_37</th>\n",
       "      <th>HCPCS_CD_38</th>\n",
       "      <th>HCPCS_CD_39</th>\n",
       "      <th>HCPCS_CD_40</th>\n",
       "      <th>HCPCS_CD_41</th>\n",
       "      <th>HCPCS_CD_42</th>\n",
       "      <th>HCPCS_CD_43</th>\n",
       "      <th>HCPCS_CD_44</th>\n",
       "      <th>HCPCS_CD_45</th>\n",
       "      <th>class</th>\n",
       "    </tr>\n",
       "  </thead>\n",
       "  <tbody>\n",
       "    <tr>\n",
       "      <td>0</td>\n",
       "      <td>00000B48BCF4AD29</td>\n",
       "      <td>391362254696220</td>\n",
       "      <td>10026U</td>\n",
       "      <td>2721</td>\n",
       "      <td>V1250</td>\n",
       "      <td>2330</td>\n",
       "      <td>None</td>\n",
       "      <td>None</td>\n",
       "      <td>None</td>\n",
       "      <td>None</td>\n",
       "      <td>...</td>\n",
       "      <td>None</td>\n",
       "      <td>None</td>\n",
       "      <td>None</td>\n",
       "      <td>None</td>\n",
       "      <td>None</td>\n",
       "      <td>None</td>\n",
       "      <td>None</td>\n",
       "      <td>None</td>\n",
       "      <td>None</td>\n",
       "      <td>0</td>\n",
       "    </tr>\n",
       "    <tr>\n",
       "      <td>1</td>\n",
       "      <td>00000B48BCF4AD29</td>\n",
       "      <td>391612254357344</td>\n",
       "      <td>0300YM</td>\n",
       "      <td>72999</td>\n",
       "      <td>72981</td>\n",
       "      <td>None</td>\n",
       "      <td>None</td>\n",
       "      <td>None</td>\n",
       "      <td>None</td>\n",
       "      <td>None</td>\n",
       "      <td>...</td>\n",
       "      <td>None</td>\n",
       "      <td>None</td>\n",
       "      <td>None</td>\n",
       "      <td>None</td>\n",
       "      <td>None</td>\n",
       "      <td>None</td>\n",
       "      <td>None</td>\n",
       "      <td>None</td>\n",
       "      <td>None</td>\n",
       "      <td>0</td>\n",
       "    </tr>\n",
       "    <tr>\n",
       "      <td>2</td>\n",
       "      <td>00000B48BCF4AD29</td>\n",
       "      <td>391812254100253</td>\n",
       "      <td>1002GD</td>\n",
       "      <td>7216</td>\n",
       "      <td>None</td>\n",
       "      <td>None</td>\n",
       "      <td>None</td>\n",
       "      <td>None</td>\n",
       "      <td>None</td>\n",
       "      <td>None</td>\n",
       "      <td>...</td>\n",
       "      <td>None</td>\n",
       "      <td>None</td>\n",
       "      <td>None</td>\n",
       "      <td>None</td>\n",
       "      <td>None</td>\n",
       "      <td>None</td>\n",
       "      <td>None</td>\n",
       "      <td>None</td>\n",
       "      <td>None</td>\n",
       "      <td>0</td>\n",
       "    </tr>\n",
       "    <tr>\n",
       "      <td>3</td>\n",
       "      <td>00000B48BCF4AD29</td>\n",
       "      <td>391012254328356</td>\n",
       "      <td>1000GD</td>\n",
       "      <td>99671</td>\n",
       "      <td>4019</td>\n",
       "      <td>V1046</td>\n",
       "      <td>53081</td>\n",
       "      <td>V5861</td>\n",
       "      <td>3441</td>\n",
       "      <td>2859</td>\n",
       "      <td>...</td>\n",
       "      <td>None</td>\n",
       "      <td>None</td>\n",
       "      <td>None</td>\n",
       "      <td>None</td>\n",
       "      <td>None</td>\n",
       "      <td>None</td>\n",
       "      <td>None</td>\n",
       "      <td>None</td>\n",
       "      <td>None</td>\n",
       "      <td>0</td>\n",
       "    </tr>\n",
       "    <tr>\n",
       "      <td>4</td>\n",
       "      <td>00000B48BCF4AD29</td>\n",
       "      <td>391602254471197</td>\n",
       "      <td>1000UU</td>\n",
       "      <td>7916</td>\n",
       "      <td>V7644</td>\n",
       "      <td>None</td>\n",
       "      <td>None</td>\n",
       "      <td>None</td>\n",
       "      <td>None</td>\n",
       "      <td>None</td>\n",
       "      <td>...</td>\n",
       "      <td>None</td>\n",
       "      <td>None</td>\n",
       "      <td>None</td>\n",
       "      <td>None</td>\n",
       "      <td>None</td>\n",
       "      <td>None</td>\n",
       "      <td>None</td>\n",
       "      <td>None</td>\n",
       "      <td>None</td>\n",
       "      <td>0</td>\n",
       "    </tr>\n",
       "    <tr>\n",
       "      <td>5</td>\n",
       "      <td>00000B48BCF4AD29</td>\n",
       "      <td>391222254167687</td>\n",
       "      <td>2300PV</td>\n",
       "      <td>7850</td>\n",
       "      <td>4019</td>\n",
       "      <td>V5861</td>\n",
       "      <td>None</td>\n",
       "      <td>None</td>\n",
       "      <td>None</td>\n",
       "      <td>None</td>\n",
       "      <td>...</td>\n",
       "      <td>None</td>\n",
       "      <td>None</td>\n",
       "      <td>None</td>\n",
       "      <td>None</td>\n",
       "      <td>None</td>\n",
       "      <td>None</td>\n",
       "      <td>None</td>\n",
       "      <td>None</td>\n",
       "      <td>None</td>\n",
       "      <td>0</td>\n",
       "    </tr>\n",
       "    <tr>\n",
       "      <td>6</td>\n",
       "      <td>00000B48BCF4AD29</td>\n",
       "      <td>391392254472138</td>\n",
       "      <td>1000BA</td>\n",
       "      <td>81112</td>\n",
       "      <td>None</td>\n",
       "      <td>None</td>\n",
       "      <td>None</td>\n",
       "      <td>None</td>\n",
       "      <td>None</td>\n",
       "      <td>None</td>\n",
       "      <td>...</td>\n",
       "      <td>None</td>\n",
       "      <td>None</td>\n",
       "      <td>None</td>\n",
       "      <td>None</td>\n",
       "      <td>None</td>\n",
       "      <td>None</td>\n",
       "      <td>None</td>\n",
       "      <td>None</td>\n",
       "      <td>None</td>\n",
       "      <td>0</td>\n",
       "    </tr>\n",
       "    <tr>\n",
       "      <td>7</td>\n",
       "      <td>00000B48BCF4AD29</td>\n",
       "      <td>391212254536362</td>\n",
       "      <td>2201RB</td>\n",
       "      <td>2370</td>\n",
       "      <td>None</td>\n",
       "      <td>None</td>\n",
       "      <td>None</td>\n",
       "      <td>None</td>\n",
       "      <td>None</td>\n",
       "      <td>None</td>\n",
       "      <td>...</td>\n",
       "      <td>None</td>\n",
       "      <td>None</td>\n",
       "      <td>None</td>\n",
       "      <td>None</td>\n",
       "      <td>None</td>\n",
       "      <td>None</td>\n",
       "      <td>None</td>\n",
       "      <td>None</td>\n",
       "      <td>None</td>\n",
       "      <td>0</td>\n",
       "    </tr>\n",
       "    <tr>\n",
       "      <td>8</td>\n",
       "      <td>00000B48BCF4AD29</td>\n",
       "      <td>391942254400929</td>\n",
       "      <td>1000SM</td>\n",
       "      <td>2279</td>\n",
       "      <td>V1005</td>\n",
       "      <td>4019</td>\n",
       "      <td>56210</td>\n",
       "      <td>20280</td>\n",
       "      <td>V4581</td>\n",
       "      <td>None</td>\n",
       "      <td>...</td>\n",
       "      <td>None</td>\n",
       "      <td>None</td>\n",
       "      <td>None</td>\n",
       "      <td>None</td>\n",
       "      <td>None</td>\n",
       "      <td>None</td>\n",
       "      <td>None</td>\n",
       "      <td>None</td>\n",
       "      <td>None</td>\n",
       "      <td>0</td>\n",
       "    </tr>\n",
       "    <tr>\n",
       "      <td>9</td>\n",
       "      <td>00000B48BCF4AD29</td>\n",
       "      <td>391812254364873</td>\n",
       "      <td>2200TM</td>\n",
       "      <td>9916</td>\n",
       "      <td>None</td>\n",
       "      <td>None</td>\n",
       "      <td>None</td>\n",
       "      <td>None</td>\n",
       "      <td>None</td>\n",
       "      <td>None</td>\n",
       "      <td>...</td>\n",
       "      <td>None</td>\n",
       "      <td>None</td>\n",
       "      <td>None</td>\n",
       "      <td>None</td>\n",
       "      <td>None</td>\n",
       "      <td>None</td>\n",
       "      <td>None</td>\n",
       "      <td>None</td>\n",
       "      <td>None</td>\n",
       "      <td>0</td>\n",
       "    </tr>\n",
       "  </tbody>\n",
       "</table>\n",
       "<p>10 rows × 66 columns</p>\n",
       "</div>"
      ],
      "text/plain": [
       "        DESYNPUF_ID           CLM_ID PRVDR_NUM ICD9_DGNS_CD_1 ICD9_DGNS_CD_2  \\\n",
       "0  00000B48BCF4AD29  391362254696220    10026U           2721          V1250   \n",
       "1  00000B48BCF4AD29  391612254357344    0300YM          72999          72981   \n",
       "2  00000B48BCF4AD29  391812254100253    1002GD           7216           None   \n",
       "3  00000B48BCF4AD29  391012254328356    1000GD          99671           4019   \n",
       "4  00000B48BCF4AD29  391602254471197    1000UU           7916          V7644   \n",
       "5  00000B48BCF4AD29  391222254167687    2300PV           7850           4019   \n",
       "6  00000B48BCF4AD29  391392254472138    1000BA          81112           None   \n",
       "7  00000B48BCF4AD29  391212254536362    2201RB           2370           None   \n",
       "8  00000B48BCF4AD29  391942254400929    1000SM           2279          V1005   \n",
       "9  00000B48BCF4AD29  391812254364873    2200TM           9916           None   \n",
       "\n",
       "  ICD9_DGNS_CD_3 ICD9_DGNS_CD_4 ICD9_DGNS_CD_5 ICD9_DGNS_CD_6 ICD9_DGNS_CD_7  \\\n",
       "0           2330           None           None           None           None   \n",
       "1           None           None           None           None           None   \n",
       "2           None           None           None           None           None   \n",
       "3          V1046          53081          V5861           3441           2859   \n",
       "4           None           None           None           None           None   \n",
       "5          V5861           None           None           None           None   \n",
       "6           None           None           None           None           None   \n",
       "7           None           None           None           None           None   \n",
       "8           4019          56210          20280          V4581           None   \n",
       "9           None           None           None           None           None   \n",
       "\n",
       "   ... HCPCS_CD_37 HCPCS_CD_38 HCPCS_CD_39 HCPCS_CD_40 HCPCS_CD_41  \\\n",
       "0  ...        None        None        None        None        None   \n",
       "1  ...        None        None        None        None        None   \n",
       "2  ...        None        None        None        None        None   \n",
       "3  ...        None        None        None        None        None   \n",
       "4  ...        None        None        None        None        None   \n",
       "5  ...        None        None        None        None        None   \n",
       "6  ...        None        None        None        None        None   \n",
       "7  ...        None        None        None        None        None   \n",
       "8  ...        None        None        None        None        None   \n",
       "9  ...        None        None        None        None        None   \n",
       "\n",
       "  HCPCS_CD_42 HCPCS_CD_43 HCPCS_CD_44 HCPCS_CD_45 class  \n",
       "0        None        None        None        None     0  \n",
       "1        None        None        None        None     0  \n",
       "2        None        None        None        None     0  \n",
       "3        None        None        None        None     0  \n",
       "4        None        None        None        None     0  \n",
       "5        None        None        None        None     0  \n",
       "6        None        None        None        None     0  \n",
       "7        None        None        None        None     0  \n",
       "8        None        None        None        None     0  \n",
       "9        None        None        None        None     0  \n",
       "\n",
       "[10 rows x 66 columns]"
      ]
     },
     "execution_count": 47,
     "metadata": {},
     "output_type": "execute_result"
    }
   ],
   "source": [
    "df1.limit(10).toPandas()"
   ]
  },
  {
   "cell_type": "code",
   "execution_count": 65,
   "metadata": {},
   "outputs": [],
   "source": [
    "df1.write.save(outpath_outnooc_feature, format=\"parquet\", mode = \"overwrite\")"
   ]
  },
  {
   "cell_type": "code",
   "execution_count": 66,
   "metadata": {},
   "outputs": [],
   "source": [
    "df2.write.save(outpath_outnooc_feature, format=\"parquet\", mode = \"append\")"
   ]
  },
  {
   "cell_type": "code",
   "execution_count": 67,
   "metadata": {},
   "outputs": [],
   "source": [
    "df3.write.save(outpath_outnooc_feature, format=\"parquet\", mode = \"append\")"
   ]
  },
  {
   "cell_type": "code",
   "execution_count": 68,
   "metadata": {},
   "outputs": [],
   "source": [
    "df4.write.save(outpath_outnooc_feature, format=\"parquet\", mode = \"append\")"
   ]
  },
  {
   "cell_type": "code",
   "execution_count": 54,
   "metadata": {},
   "outputs": [],
   "source": [
    "df2.write.format(\"parquet\").mode(\"append\").save(outpath_outnooc_feature)"
   ]
  },
  {
   "cell_type": "code",
   "execution_count": 55,
   "metadata": {},
   "outputs": [],
   "source": [
    "df3.write.format(\"parquet\").mode(\"append\").save(outpath_outnooc_feature)"
   ]
  },
  {
   "cell_type": "code",
   "execution_count": 56,
   "metadata": {},
   "outputs": [],
   "source": [
    "df4.write.format(\"parquet\").mode(\"append\").save(outpath_outnooc_feature)"
   ]
  },
  {
   "cell_type": "code",
   "execution_count": 12,
   "metadata": {},
   "outputs": [
    {
     "data": {
      "text/plain": [
       "(16706, 66, 15810281, 66)"
      ]
     },
     "execution_count": 12,
     "metadata": {},
     "output_type": "execute_result"
    }
   ],
   "source": [
    "df_outOC_feature.count(), len(df_outOC_feature.columns), df_outnoOC_feature.count(),len(df_outnoOC_feature.columns)"
   ]
  },
  {
   "cell_type": "code",
   "execution_count": 34,
   "metadata": {},
   "outputs": [],
   "source": [
    "#write_df(df_outOC_feature, outpath_outoc_feature)"
   ]
  },
  {
   "cell_type": "code",
   "execution_count": 64,
   "metadata": {},
   "outputs": [],
   "source": [
    "outpath_outnooc_feature = \"/Users/jill/Downloads/2020_Project/EDA/concat_data/outpatient/outpatient_noOC_feature\""
   ]
  },
  {
   "cell_type": "code",
   "execution_count": 71,
   "metadata": {},
   "outputs": [],
   "source": [
    "# Check datasets\n",
    "#dfout_oc = spark.read.load(outpath_outoc_feature)\n",
    "dfout_nooc = spark.read.load(outpath_outnooc_feature)"
   ]
  },
  {
   "cell_type": "code",
   "execution_count": 72,
   "metadata": {},
   "outputs": [
    {
     "data": {
      "text/plain": [
       "(15810281, 66)"
      ]
     },
     "execution_count": 72,
     "metadata": {},
     "output_type": "execute_result"
    }
   ],
   "source": [
    "dfout_nooc.count(),len(dfout_nooc.columns)"
   ]
  },
  {
   "cell_type": "code",
   "execution_count": 24,
   "metadata": {},
   "outputs": [
    {
     "data": {
      "text/plain": [
       "(16706, 13, 15810281, 13)"
      ]
     },
     "execution_count": 24,
     "metadata": {},
     "output_type": "execute_result"
    }
   ],
   "source": [
    "dfout_oc.count(), len(dfout_oc.columns), dfout_nooc.count(),len(dfout_nooc.columns)"
   ]
  },
  {
   "cell_type": "markdown",
   "metadata": {},
   "source": [
    "-- *Carrier_claim feature datasets*"
   ]
  },
  {
   "cell_type": "code",
   "execution_count": 73,
   "metadata": {},
   "outputs": [],
   "source": [
    "df_carrier_OC = spark.read.load(\"/Users/jill/Downloads/2020_Project/EDA/concat_data/carrier/carrier_OC/\")\n",
    "df_carrier_noOC = spark.read.load(\"/Users/jill/Downloads/2020_Project/EDA/concat_data/carrier/carrier_noOC/\")"
   ]
  },
  {
   "cell_type": "code",
   "execution_count": 74,
   "metadata": {},
   "outputs": [
    {
     "data": {
      "text/plain": [
       "(32239, 143, 47416502, 143)"
      ]
     },
     "execution_count": 74,
     "metadata": {},
     "output_type": "execute_result"
    }
   ],
   "source": [
    "df_carrier_OC.count(), len(df_carrier_OC.columns), df_carrier_noOC.count(),len(df_carrier_noOC.columns)"
   ]
  },
  {
   "cell_type": "code",
   "execution_count": 75,
   "metadata": {},
   "outputs": [
    {
     "data": {
      "text/plain": [
       "['DESYNPUF_ID',\n",
       " 'CLM_ID',\n",
       " 'CLM_FROM_DT',\n",
       " 'CLM_THRU_DT',\n",
       " 'ICD9_DGNS_CD_1',\n",
       " 'ICD9_DGNS_CD_2',\n",
       " 'ICD9_DGNS_CD_3',\n",
       " 'ICD9_DGNS_CD_4',\n",
       " 'ICD9_DGNS_CD_5',\n",
       " 'ICD9_DGNS_CD_6',\n",
       " 'ICD9_DGNS_CD_7',\n",
       " 'ICD9_DGNS_CD_8',\n",
       " 'PRF_PHYSN_NPI_1',\n",
       " 'PRF_PHYSN_NPI_2',\n",
       " 'PRF_PHYSN_NPI_3',\n",
       " 'PRF_PHYSN_NPI_4',\n",
       " 'PRF_PHYSN_NPI_5',\n",
       " 'PRF_PHYSN_NPI_6',\n",
       " 'PRF_PHYSN_NPI_7',\n",
       " 'PRF_PHYSN_NPI_8',\n",
       " 'PRF_PHYSN_NPI_9',\n",
       " 'PRF_PHYSN_NPI_10',\n",
       " 'PRF_PHYSN_NPI_11',\n",
       " 'PRF_PHYSN_NPI_12',\n",
       " 'PRF_PHYSN_NPI_13',\n",
       " 'TAX_NUM_1',\n",
       " 'TAX_NUM_2',\n",
       " 'TAX_NUM_3',\n",
       " 'TAX_NUM_4',\n",
       " 'TAX_NUM_5',\n",
       " 'TAX_NUM_6',\n",
       " 'TAX_NUM_7',\n",
       " 'TAX_NUM_8',\n",
       " 'TAX_NUM_9',\n",
       " 'TAX_NUM_10',\n",
       " 'TAX_NUM_11',\n",
       " 'TAX_NUM_12',\n",
       " 'TAX_NUM_13',\n",
       " 'HCPCS_CD_1',\n",
       " 'HCPCS_CD_2',\n",
       " 'HCPCS_CD_3',\n",
       " 'HCPCS_CD_4',\n",
       " 'HCPCS_CD_5',\n",
       " 'HCPCS_CD_6',\n",
       " 'HCPCS_CD_7',\n",
       " 'HCPCS_CD_8',\n",
       " 'HCPCS_CD_9',\n",
       " 'HCPCS_CD_10',\n",
       " 'HCPCS_CD_11',\n",
       " 'HCPCS_CD_12',\n",
       " 'HCPCS_CD_13',\n",
       " 'LINE_NCH_PMT_AMT_1',\n",
       " 'LINE_NCH_PMT_AMT_2',\n",
       " 'LINE_NCH_PMT_AMT_3',\n",
       " 'LINE_NCH_PMT_AMT_4',\n",
       " 'LINE_NCH_PMT_AMT_5',\n",
       " 'LINE_NCH_PMT_AMT_6',\n",
       " 'LINE_NCH_PMT_AMT_7',\n",
       " 'LINE_NCH_PMT_AMT_8',\n",
       " 'LINE_NCH_PMT_AMT_9',\n",
       " 'LINE_NCH_PMT_AMT_10',\n",
       " 'LINE_NCH_PMT_AMT_11',\n",
       " 'LINE_NCH_PMT_AMT_12',\n",
       " 'LINE_NCH_PMT_AMT_13',\n",
       " 'LINE_BENE_PTB_DDCTBL_AMT_1',\n",
       " 'LINE_BENE_PTB_DDCTBL_AMT_2',\n",
       " 'LINE_BENE_PTB_DDCTBL_AMT_3',\n",
       " 'LINE_BENE_PTB_DDCTBL_AMT_4',\n",
       " 'LINE_BENE_PTB_DDCTBL_AMT_5',\n",
       " 'LINE_BENE_PTB_DDCTBL_AMT_6',\n",
       " 'LINE_BENE_PTB_DDCTBL_AMT_7',\n",
       " 'LINE_BENE_PTB_DDCTBL_AMT_8',\n",
       " 'LINE_BENE_PTB_DDCTBL_AMT_9',\n",
       " 'LINE_BENE_PTB_DDCTBL_AMT_10',\n",
       " 'LINE_BENE_PTB_DDCTBL_AMT_11',\n",
       " 'LINE_BENE_PTB_DDCTBL_AMT_12',\n",
       " 'LINE_BENE_PTB_DDCTBL_AMT_13',\n",
       " 'LINE_BENE_PRMRY_PYR_PD_AMT_1',\n",
       " 'LINE_BENE_PRMRY_PYR_PD_AMT_2',\n",
       " 'LINE_BENE_PRMRY_PYR_PD_AMT_3',\n",
       " 'LINE_BENE_PRMRY_PYR_PD_AMT_4',\n",
       " 'LINE_BENE_PRMRY_PYR_PD_AMT_5',\n",
       " 'LINE_BENE_PRMRY_PYR_PD_AMT_6',\n",
       " 'LINE_BENE_PRMRY_PYR_PD_AMT_7',\n",
       " 'LINE_BENE_PRMRY_PYR_PD_AMT_8',\n",
       " 'LINE_BENE_PRMRY_PYR_PD_AMT_9',\n",
       " 'LINE_BENE_PRMRY_PYR_PD_AMT_10',\n",
       " 'LINE_BENE_PRMRY_PYR_PD_AMT_11',\n",
       " 'LINE_BENE_PRMRY_PYR_PD_AMT_12',\n",
       " 'LINE_BENE_PRMRY_PYR_PD_AMT_13',\n",
       " 'LINE_COINSRNC_AMT_1',\n",
       " 'LINE_COINSRNC_AMT_2',\n",
       " 'LINE_COINSRNC_AMT_3',\n",
       " 'LINE_COINSRNC_AMT_4',\n",
       " 'LINE_COINSRNC_AMT_5',\n",
       " 'LINE_COINSRNC_AMT_6',\n",
       " 'LINE_COINSRNC_AMT_7',\n",
       " 'LINE_COINSRNC_AMT_8',\n",
       " 'LINE_COINSRNC_AMT_9',\n",
       " 'LINE_COINSRNC_AMT_10',\n",
       " 'LINE_COINSRNC_AMT_11',\n",
       " 'LINE_COINSRNC_AMT_12',\n",
       " 'LINE_COINSRNC_AMT_13',\n",
       " 'LINE_ALOWD_CHRG_AMT_1',\n",
       " 'LINE_ALOWD_CHRG_AMT_2',\n",
       " 'LINE_ALOWD_CHRG_AMT_3',\n",
       " 'LINE_ALOWD_CHRG_AMT_4',\n",
       " 'LINE_ALOWD_CHRG_AMT_5',\n",
       " 'LINE_ALOWD_CHRG_AMT_6',\n",
       " 'LINE_ALOWD_CHRG_AMT_7',\n",
       " 'LINE_ALOWD_CHRG_AMT_8',\n",
       " 'LINE_ALOWD_CHRG_AMT_9',\n",
       " 'LINE_ALOWD_CHRG_AMT_10',\n",
       " 'LINE_ALOWD_CHRG_AMT_11',\n",
       " 'LINE_ALOWD_CHRG_AMT_12',\n",
       " 'LINE_ALOWD_CHRG_AMT_13',\n",
       " 'LINE_PRCSG_IND_CD_1',\n",
       " 'LINE_PRCSG_IND_CD_2',\n",
       " 'LINE_PRCSG_IND_CD_3',\n",
       " 'LINE_PRCSG_IND_CD_4',\n",
       " 'LINE_PRCSG_IND_CD_5',\n",
       " 'LINE_PRCSG_IND_CD_6',\n",
       " 'LINE_PRCSG_IND_CD_7',\n",
       " 'LINE_PRCSG_IND_CD_8',\n",
       " 'LINE_PRCSG_IND_CD_9',\n",
       " 'LINE_PRCSG_IND_CD_10',\n",
       " 'LINE_PRCSG_IND_CD_11',\n",
       " 'LINE_PRCSG_IND_CD_12',\n",
       " 'LINE_PRCSG_IND_CD_13',\n",
       " 'LINE_ICD9_DGNS_CD_1',\n",
       " 'LINE_ICD9_DGNS_CD_2',\n",
       " 'LINE_ICD9_DGNS_CD_3',\n",
       " 'LINE_ICD9_DGNS_CD_4',\n",
       " 'LINE_ICD9_DGNS_CD_5',\n",
       " 'LINE_ICD9_DGNS_CD_6',\n",
       " 'LINE_ICD9_DGNS_CD_7',\n",
       " 'LINE_ICD9_DGNS_CD_8',\n",
       " 'LINE_ICD9_DGNS_CD_9',\n",
       " 'LINE_ICD9_DGNS_CD_10',\n",
       " 'LINE_ICD9_DGNS_CD_11',\n",
       " 'LINE_ICD9_DGNS_CD_12',\n",
       " 'LINE_ICD9_DGNS_CD_13',\n",
       " 'class']"
      ]
     },
     "execution_count": 75,
     "metadata": {},
     "output_type": "execute_result"
    }
   ],
   "source": [
    "df_carrier_OC.columns"
   ]
  },
  {
   "cell_type": "code",
   "execution_count": 76,
   "metadata": {},
   "outputs": [],
   "source": [
    "feature_carrier = ['DESYNPUF_ID',\n",
    " 'CLM_ID',\n",
    " 'ICD9_DGNS_CD_1',\n",
    " 'ICD9_DGNS_CD_2',\n",
    " 'ICD9_DGNS_CD_3',\n",
    " 'ICD9_DGNS_CD_4',\n",
    " 'ICD9_DGNS_CD_5',\n",
    " 'ICD9_DGNS_CD_6',\n",
    " 'ICD9_DGNS_CD_7',\n",
    " 'ICD9_DGNS_CD_8',\n",
    " 'HCPCS_CD_1',\n",
    " 'HCPCS_CD_2',\n",
    " 'HCPCS_CD_3',\n",
    " 'HCPCS_CD_4',\n",
    " 'HCPCS_CD_5',\n",
    " 'HCPCS_CD_6',\n",
    " 'HCPCS_CD_7',\n",
    " 'HCPCS_CD_8',\n",
    " 'HCPCS_CD_9',\n",
    " 'HCPCS_CD_10',\n",
    " 'HCPCS_CD_11',\n",
    " 'HCPCS_CD_12',\n",
    " 'HCPCS_CD_13',\n",
    " ]"
   ]
  },
  {
   "cell_type": "code",
   "execution_count": 77,
   "metadata": {},
   "outputs": [],
   "source": [
    "df_carrierOC_feature, df_carriernoOC_feature = df_carrier_OC.select(*feature_carrier),df_carrier_noOC.select(*feature_carrier)"
   ]
  },
  {
   "cell_type": "code",
   "execution_count": 78,
   "metadata": {},
   "outputs": [
    {
     "data": {
      "text/plain": [
       "(32239, 23, 47416502, 23)"
      ]
     },
     "execution_count": 78,
     "metadata": {},
     "output_type": "execute_result"
    }
   ],
   "source": [
    "df_carrierOC_feature.count(), len(df_carrierOC_feature.columns), df_carriernoOC_feature.count(),len(df_carriernoOC_feature.columns)\n"
   ]
  },
  {
   "cell_type": "code",
   "execution_count": 79,
   "metadata": {},
   "outputs": [],
   "source": [
    "outpath_carrieroc_feature = \"/Users/jill/Downloads/2020_Project/EDA/concat_data/carrier/carrier_oc_feature\"\n",
    "outpath_carriernooc_feature = \"/Users/jill/Downloads/2020_Project/EDA/concat_data/carrier/carrier_nooc_feature\""
   ]
  },
  {
   "cell_type": "code",
   "execution_count": 82,
   "metadata": {},
   "outputs": [],
   "source": [
    "#write_df(df_carrierOC_feature, outpath_carrieroc_feature)"
   ]
  },
  {
   "cell_type": "code",
   "execution_count": 83,
   "metadata": {},
   "outputs": [],
   "source": [
    "#write_df(df_carriernoOC_feature, outpath_carriernooc_feature)"
   ]
  },
  {
   "cell_type": "code",
   "execution_count": 84,
   "metadata": {},
   "outputs": [],
   "source": [
    "# Check the datasets\n",
    "dfcarrier_oc_feature = spark.read.load(outpath_carrieroc_feature)\n",
    "dfcarrier_nooc_feature = spark.read.load(outpath_carriernooc_feature)"
   ]
  },
  {
   "cell_type": "code",
   "execution_count": 85,
   "metadata": {},
   "outputs": [
    {
     "data": {
      "text/plain": [
       "(32239, 23, 47416502, 23)"
      ]
     },
     "execution_count": 85,
     "metadata": {},
     "output_type": "execute_result"
    }
   ],
   "source": [
    "dfcarrier_oc_feature.count(), len(dfcarrier_oc_feature.columns), dfcarrier_nooc_feature.count(),len(dfcarrier_nooc_feature.columns)\n"
   ]
  },
  {
   "cell_type": "markdown",
   "metadata": {},
   "source": [
    "-- *PDE feature datasets*"
   ]
  },
  {
   "cell_type": "code",
   "execution_count": 158,
   "metadata": {},
   "outputs": [],
   "source": [
    "df_pde = spark.read.load(\"/Users/jill/Downloads/2020_Project/EDA/concat_data/pde/pde_con/\")"
   ]
  },
  {
   "cell_type": "code",
   "execution_count": 160,
   "metadata": {},
   "outputs": [
    {
     "data": {
      "text/plain": [
       "(111085969, 8)"
      ]
     },
     "execution_count": 160,
     "metadata": {},
     "output_type": "execute_result"
    }
   ],
   "source": [
    "df_pde.count(),len(df_pde.columns)"
   ]
  },
  {
   "cell_type": "code",
   "execution_count": 161,
   "metadata": {},
   "outputs": [
    {
     "data": {
      "text/plain": [
       "['DESYNPUF_ID',\n",
       " 'PDE_ID',\n",
       " 'SRVC_DT',\n",
       " 'PROD_SRVC_ID',\n",
       " 'QTY_DSPNSD_NUM',\n",
       " 'DAYS_SUPLY_NUM',\n",
       " 'PTNT_PAY_AMT',\n",
       " 'TOT_RX_CST_AMT']"
      ]
     },
     "execution_count": 161,
     "metadata": {},
     "output_type": "execute_result"
    }
   ],
   "source": [
    "df_pde.columns"
   ]
  },
  {
   "cell_type": "markdown",
   "metadata": {},
   "source": [
    "#### *OC INSTANCES*"
   ]
  },
  {
   "cell_type": "code",
   "execution_count": 16,
   "metadata": {},
   "outputs": [
    {
     "data": {
      "text/plain": [
       "(2649, 1330173)"
      ]
     },
     "execution_count": 16,
     "metadata": {},
     "output_type": "execute_result"
    }
   ],
   "source": [
    "dfin_oc.count(),dfin_nooc.count()"
   ]
  },
  {
   "cell_type": "code",
   "execution_count": 20,
   "metadata": {},
   "outputs": [
    {
     "name": "stdout",
     "output_type": "stream",
     "text": [
      "Number of OC instances in inpaient_claim\n",
      "+---------------------------+\n",
      "|count(DISTINCT DESYNPUF_ID)|\n",
      "+---------------------------+\n",
      "|                       2645|\n",
      "+---------------------------+\n",
      "\n"
     ]
    }
   ],
   "source": [
    "print (\"Number of OC instances in inpaient_claim\")\n",
    "dfin_oc.select(F.countDistinct(\"DESYNPUF_ID\")).show() "
   ]
  },
  {
   "cell_type": "code",
   "execution_count": 21,
   "metadata": {},
   "outputs": [
    {
     "name": "stdout",
     "output_type": "stream",
     "text": [
      "Number of not OC instances in inpaient_claim\n",
      "+---------------------------+\n",
      "|count(DISTINCT DESYNPUF_ID)|\n",
      "+---------------------------+\n",
      "|                     754338|\n",
      "+---------------------------+\n",
      "\n"
     ]
    }
   ],
   "source": [
    "print (\"Number of not OC instances in inpaient_claim\")\n",
    "dfin_nooc.select(F.countDistinct(\"DESYNPUF_ID\")).show()"
   ]
  },
  {
   "cell_type": "code",
   "execution_count": 25,
   "metadata": {},
   "outputs": [
    {
     "data": {
      "text/plain": [
       "(16706, 15810281)"
      ]
     },
     "execution_count": 25,
     "metadata": {},
     "output_type": "execute_result"
    }
   ],
   "source": [
    "dfout_oc.count(), dfout_nooc.count()"
   ]
  },
  {
   "cell_type": "code",
   "execution_count": 32,
   "metadata": {},
   "outputs": [
    {
     "name": "stdout",
     "output_type": "stream",
     "text": [
      "Number of OC instances in outpaient_claim\n",
      "+---------------------------+\n",
      "|count(DISTINCT DESYNPUF_ID)|\n",
      "+---------------------------+\n",
      "|                      15899|\n",
      "+---------------------------+\n",
      "\n"
     ]
    }
   ],
   "source": [
    "print (\"Number of OC instances in outpaient_claim\")\n",
    "dfout_oc.select(F.countDistinct(\"DESYNPUF_ID\")).show()"
   ]
  },
  {
   "cell_type": "code",
   "execution_count": 33,
   "metadata": {},
   "outputs": [
    {
     "name": "stdout",
     "output_type": "stream",
     "text": [
      "Number of not OC instances in outpaient_claim\n",
      "+---------------------------+\n",
      "|count(DISTINCT DESYNPUF_ID)|\n",
      "+---------------------------+\n",
      "|                    1703916|\n",
      "+---------------------------+\n",
      "\n"
     ]
    }
   ],
   "source": [
    "print (\"Number of not OC instances in outpaient_claim\")\n",
    "dfout_nooc.select(F.countDistinct(\"DESYNPUF_ID\")).show()"
   ]
  },
  {
   "cell_type": "code",
   "execution_count": 38,
   "metadata": {},
   "outputs": [
    {
     "data": {
      "text/plain": [
       "(32239, 47416502)"
      ]
     },
     "execution_count": 38,
     "metadata": {},
     "output_type": "execute_result"
    }
   ],
   "source": [
    "dfcarrier_oc_feature.count(), dfcarrier_nooc_feature.count()"
   ]
  },
  {
   "cell_type": "code",
   "execution_count": 37,
   "metadata": {},
   "outputs": [
    {
     "name": "stdout",
     "output_type": "stream",
     "text": [
      "Number of OC instances in carrier_claim\n",
      "+---------------------------+\n",
      "|count(DISTINCT DESYNPUF_ID)|\n",
      "+---------------------------+\n",
      "|                      27867|\n",
      "+---------------------------+\n",
      "\n"
     ]
    }
   ],
   "source": [
    "print (\"Number of OC instances in carrier_claim\")\n",
    "dfcarrier_oc_feature.select(F.countDistinct(\"DESYNPUF_ID\")).show()"
   ]
  },
  {
   "cell_type": "code",
   "execution_count": 39,
   "metadata": {},
   "outputs": [
    {
     "name": "stdout",
     "output_type": "stream",
     "text": [
      "Number of not OC instances in carrier_claim\n",
      "+---------------------------+\n",
      "|count(DISTINCT DESYNPUF_ID)|\n",
      "+---------------------------+\n",
      "|                     986837|\n",
      "+---------------------------+\n",
      "\n"
     ]
    }
   ],
   "source": [
    "print (\"Number of not OC instances in carrier_claim\")\n",
    "dfcarrier_nooc_feature.select(F.countDistinct(\"DESYNPUF_ID\")).show()"
   ]
  },
  {
   "cell_type": "code",
   "execution_count": null,
   "metadata": {},
   "outputs": [],
   "source": [
    "print (\"Total number of instances with OC:\")\n",
    "\n",
    "res = list(set(x+f))"
   ]
  },
  {
   "cell_type": "code",
   "execution_count": 69,
   "metadata": {},
   "outputs": [],
   "source": [
    "lst_in_oc = dfin_oc.select(\"DESYNPUF_ID\").distinct().collect()"
   ]
  },
  {
   "cell_type": "code",
   "execution_count": 71,
   "metadata": {},
   "outputs": [
    {
     "data": {
      "text/plain": [
       "2645"
      ]
     },
     "execution_count": 71,
     "metadata": {},
     "output_type": "execute_result"
    }
   ],
   "source": [
    "len(lst_in_oc)"
   ]
  },
  {
   "cell_type": "code",
   "execution_count": 77,
   "metadata": {},
   "outputs": [],
   "source": [
    "lst_in_nooc = dfin_nooc.select(\"DESYNPUF_ID\").distinct().collect()"
   ]
  },
  {
   "cell_type": "code",
   "execution_count": 78,
   "metadata": {},
   "outputs": [
    {
     "data": {
      "text/plain": [
       "754338"
      ]
     },
     "execution_count": 78,
     "metadata": {},
     "output_type": "execute_result"
    }
   ],
   "source": [
    "len(lst_in_nooc)"
   ]
  },
  {
   "cell_type": "code",
   "execution_count": 57,
   "metadata": {},
   "outputs": [],
   "source": [
    "lst_in_unique = list(set(list_in))"
   ]
  },
  {
   "cell_type": "code",
   "execution_count": 58,
   "metadata": {},
   "outputs": [
    {
     "data": {
      "text/plain": [
       "2645"
      ]
     },
     "execution_count": 58,
     "metadata": {},
     "output_type": "execute_result"
    }
   ],
   "source": [
    "len(lst_in_unique)"
   ]
  },
  {
   "cell_type": "code",
   "execution_count": 72,
   "metadata": {},
   "outputs": [],
   "source": [
    "lst_out_oc = dfout_oc.select(\"DESYNPUF_ID\").distinct().collect()"
   ]
  },
  {
   "cell_type": "code",
   "execution_count": 79,
   "metadata": {},
   "outputs": [],
   "source": [
    "lst_out_nooc = dfout_nooc.select(\"DESYNPUF_ID\").distinct().collect()"
   ]
  },
  {
   "cell_type": "code",
   "execution_count": 64,
   "metadata": {},
   "outputs": [],
   "source": [
    "lst_carrier_oc = dfcarrier_oc_feature.select(\"DESYNPUF_ID\").distinct().collect()"
   ]
  },
  {
   "cell_type": "code",
   "execution_count": 73,
   "metadata": {},
   "outputs": [
    {
     "data": {
      "text/plain": [
       "(15899, 27867)"
      ]
     },
     "execution_count": 73,
     "metadata": {},
     "output_type": "execute_result"
    }
   ],
   "source": [
    "len(lst_out_oc), len(lst_carrier_oc)"
   ]
  },
  {
   "cell_type": "code",
   "execution_count": 66,
   "metadata": {},
   "outputs": [],
   "source": [
    "lst_carrier_nooc = dfcarrier_nooc_feature.select(\"DESYNPUF_ID\").distinct().collect()"
   ]
  },
  {
   "cell_type": "code",
   "execution_count": 80,
   "metadata": {},
   "outputs": [
    {
     "data": {
      "text/plain": [
       "(1703916, 986837)"
      ]
     },
     "execution_count": 80,
     "metadata": {},
     "output_type": "execute_result"
    }
   ],
   "source": [
    "len(lst_out_nooc), len(lst_carrier_nooc)"
   ]
  },
  {
   "cell_type": "code",
   "execution_count": 75,
   "metadata": {},
   "outputs": [],
   "source": [
    "total_oc = list(set(lst_in_oc + lst_out_oc + lst_carrier_oc))"
   ]
  },
  {
   "cell_type": "code",
   "execution_count": 84,
   "metadata": {},
   "outputs": [
    {
     "name": "stdout",
     "output_type": "stream",
     "text": [
      "Total number of OC:\n"
     ]
    },
    {
     "data": {
      "text/plain": [
       "44857"
      ]
     },
     "execution_count": 84,
     "metadata": {},
     "output_type": "execute_result"
    }
   ],
   "source": [
    "print (\"Total number of OC:\")\n",
    "len(total_oc)"
   ]
  },
  {
   "cell_type": "code",
   "execution_count": 81,
   "metadata": {},
   "outputs": [],
   "source": [
    "total_nooc = list(set(lst_in_nooc + lst_out_nooc + lst_carrier_nooc))"
   ]
  },
  {
   "cell_type": "code",
   "execution_count": 83,
   "metadata": {},
   "outputs": [
    {
     "name": "stdout",
     "output_type": "stream",
     "text": [
      "Total number of noOC:\n"
     ]
    },
    {
     "data": {
      "text/plain": [
       "1859182"
      ]
     },
     "execution_count": 83,
     "metadata": {},
     "output_type": "execute_result"
    }
   ],
   "source": [
    "print (\"Total number of noOC:\")\n",
    "len(total_nooc)"
   ]
  },
  {
   "cell_type": "code",
   "execution_count": null,
   "metadata": {},
   "outputs": [],
   "source": []
  }
 ],
 "metadata": {
  "kernelspec": {
   "display_name": "Python 3",
   "language": "python",
   "name": "python3"
  },
  "language_info": {
   "codemirror_mode": {
    "name": "ipython",
    "version": 3
   },
   "file_extension": ".py",
   "mimetype": "text/x-python",
   "name": "python",
   "nbconvert_exporter": "python",
   "pygments_lexer": "ipython3",
   "version": "3.7.6"
  }
 },
 "nbformat": 4,
 "nbformat_minor": 2
}
