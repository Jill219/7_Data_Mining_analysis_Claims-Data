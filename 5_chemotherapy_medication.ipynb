{
 "cells": [
  {
   "cell_type": "code",
   "execution_count": 1,
   "metadata": {},
   "outputs": [],
   "source": [
    "import os\n",
    "import pandas as pd\n",
    "import numpy as np\n",
    "import pyspark "
   ]
  },
  {
   "cell_type": "code",
   "execution_count": 2,
   "metadata": {},
   "outputs": [],
   "source": [
    "from pyspark import SparkContext\n",
    "from pyspark.sql import SparkSession \n",
    "from pyspark.sql import functions as F \n",
    "from pyspark.sql.types import StringType\n",
    "from pyspark.sql import dataframe"
   ]
  },
  {
   "cell_type": "code",
   "execution_count": 3,
   "metadata": {},
   "outputs": [],
   "source": [
    "spark = SparkSession.builder.master(\"local[*]\").getOrCreate()"
   ]
  },
  {
   "cell_type": "code",
   "execution_count": 4,
   "metadata": {},
   "outputs": [],
   "source": [
    "SparkContext.setSystemProperty('spark.executor.memory', '3g')\n",
    "SparkContext.setSystemProperty('spark.driver.memory', '3g')"
   ]
  },
  {
   "cell_type": "code",
   "execution_count": 5,
   "metadata": {},
   "outputs": [
    {
     "data": {
      "text/plain": [
       "[('spark.executor.memory', '3g'),\n",
       " ('spark.driver.memory', '3g'),\n",
       " ('spark.driver.port', '62736'),\n",
       " ('spark.rdd.compress', 'True'),\n",
       " ('spark.serializer.objectStreamReset', '100'),\n",
       " ('spark.master', 'local[*]'),\n",
       " ('spark.executor.id', 'driver'),\n",
       " ('spark.submit.deployMode', 'client'),\n",
       " ('spark.app.id', 'local-1582567966933'),\n",
       " ('spark.driver.host', '192.168.1.82'),\n",
       " ('spark.ui.showConsoleProgress', 'true'),\n",
       " ('spark.app.name', 'pyspark-shell')]"
      ]
     },
     "execution_count": 5,
     "metadata": {},
     "output_type": "execute_result"
    }
   ],
   "source": [
    "spark._sc.getConf().getAll()"
   ]
  },
  {
   "cell_type": "markdown",
   "metadata": {},
   "source": [
    "### Codes for Chemotherapy and medication\n",
    "   - ICD-9-CM Diagnosis Code: V58.11.  \n",
    "   - ICD-9-Procedure Code:992.5 *(Injection or infusion of cancer chemotherapeutic substance)*.\n",
    "   - HCPCS includes three separate levels of codes:  \n",
    "        > Level I: the AMA’s CPT codes and is numeric.  \n",
    "        > Level II: HCPCS alphanumeric code set and primarily include non-physician products, supplies, and procedures not included in CPT.  \n",
    "        > Level III: also called HCPCS local codes, were developed by state Medicaid agencies, Medicare contractors, and private insurers for use in specific programs and jurisdictions.    \n",
    "        \n",
    "     HCPCS codes for Chemotherapy Drugs:J9000-J9999.  \n",
    "     [HCPCS codes summary](https://www.hcpro.com/HIM-284009-8160/Note-similarities-and-differences-between-HCPCS-CPT-codes.html)  \n",
    "     [HCPCS codes1](https://coder.aapc.com/hcpcs-codes-range/10)\n",
    "     [HCPCS codes2](https://hcpcs.codes/j-codes/)\n",
    "   - CPT codes:\n",
    "     Chemotherapy administration codes, **96400 through 96450, 96542, 96545, and 96549**, are only to be used when reporting chemotherapy administration when the drug being used is an anti-neoplastic and the diagnosis is cancer. The administration of other drugs, such as growth factors, saline, and diuretics, to patients with cancer, or the administration of antineoplastics to patients with a diagnosis other than cancer, are reported with codes 90780 through 90784 as appropriate. "
   ]
  },
  {
   "cell_type": "code",
   "execution_count": 6,
   "metadata": {},
   "outputs": [],
   "source": [
    "cpt_lst =list(range(96400,96451))+[96542, 96545,96549,90780,90784]"
   ]
  },
  {
   "cell_type": "markdown",
   "metadata": {},
   "source": [
    "## 1. Sample (Outpatient)"
   ]
  },
  {
   "cell_type": "code",
   "execution_count": 6,
   "metadata": {},
   "outputs": [],
   "source": [
    "out_OC = spark.read.load(\"/Users/jill/Downloads/2020_Project/EDA/concat_data/outpatient/outpatient_oc_feature/\")"
   ]
  },
  {
   "cell_type": "code",
   "execution_count": 7,
   "metadata": {},
   "outputs": [
    {
     "name": "stdout",
     "output_type": "stream",
     "text": [
      "root\n",
      " |-- DESYNPUF_ID: string (nullable = true)\n",
      " |-- CLM_ID: long (nullable = true)\n",
      " |-- PRVDR_NUM: string (nullable = true)\n",
      " |-- ICD9_DGNS_CD_1: string (nullable = true)\n",
      " |-- ICD9_DGNS_CD_2: string (nullable = true)\n",
      " |-- ICD9_DGNS_CD_3: string (nullable = true)\n",
      " |-- ICD9_DGNS_CD_4: string (nullable = true)\n",
      " |-- ICD9_DGNS_CD_5: string (nullable = true)\n",
      " |-- ICD9_DGNS_CD_6: string (nullable = true)\n",
      " |-- ICD9_DGNS_CD_7: string (nullable = true)\n",
      " |-- ICD9_DGNS_CD_8: string (nullable = true)\n",
      " |-- ICD9_DGNS_CD_9: string (nullable = true)\n",
      " |-- ICD9_DGNS_CD_10: string (nullable = true)\n",
      " |-- ICD9_PRCDR_CD_1: integer (nullable = true)\n",
      " |-- ICD9_PRCDR_CD_2: string (nullable = true)\n",
      " |-- ICD9_PRCDR_CD_3: string (nullable = true)\n",
      " |-- ICD9_PRCDR_CD_4: string (nullable = true)\n",
      " |-- ICD9_PRCDR_CD_5: string (nullable = true)\n",
      " |-- ICD9_PRCDR_CD_6: string (nullable = true)\n",
      " |-- ADMTNG_ICD9_DGNS_CD: string (nullable = true)\n",
      " |-- HCPCS_CD_1: string (nullable = true)\n",
      " |-- HCPCS_CD_2: string (nullable = true)\n",
      " |-- HCPCS_CD_3: string (nullable = true)\n",
      " |-- HCPCS_CD_4: string (nullable = true)\n",
      " |-- HCPCS_CD_5: string (nullable = true)\n",
      " |-- HCPCS_CD_6: string (nullable = true)\n",
      " |-- HCPCS_CD_7: string (nullable = true)\n",
      " |-- HCPCS_CD_8: string (nullable = true)\n",
      " |-- HCPCS_CD_9: string (nullable = true)\n",
      " |-- HCPCS_CD_10: string (nullable = true)\n",
      " |-- HCPCS_CD_11: string (nullable = true)\n",
      " |-- HCPCS_CD_12: string (nullable = true)\n",
      " |-- HCPCS_CD_13: string (nullable = true)\n",
      " |-- HCPCS_CD_14: string (nullable = true)\n",
      " |-- HCPCS_CD_15: string (nullable = true)\n",
      " |-- HCPCS_CD_16: string (nullable = true)\n",
      " |-- HCPCS_CD_17: string (nullable = true)\n",
      " |-- HCPCS_CD_18: string (nullable = true)\n",
      " |-- HCPCS_CD_19: string (nullable = true)\n",
      " |-- HCPCS_CD_20: string (nullable = true)\n",
      " |-- HCPCS_CD_21: string (nullable = true)\n",
      " |-- HCPCS_CD_22: string (nullable = true)\n",
      " |-- HCPCS_CD_23: string (nullable = true)\n",
      " |-- HCPCS_CD_24: string (nullable = true)\n",
      " |-- HCPCS_CD_25: string (nullable = true)\n",
      " |-- HCPCS_CD_26: string (nullable = true)\n",
      " |-- HCPCS_CD_27: string (nullable = true)\n",
      " |-- HCPCS_CD_28: string (nullable = true)\n",
      " |-- HCPCS_CD_29: string (nullable = true)\n",
      " |-- HCPCS_CD_30: string (nullable = true)\n",
      " |-- HCPCS_CD_31: string (nullable = true)\n",
      " |-- HCPCS_CD_32: string (nullable = true)\n",
      " |-- HCPCS_CD_33: string (nullable = true)\n",
      " |-- HCPCS_CD_34: string (nullable = true)\n",
      " |-- HCPCS_CD_35: string (nullable = true)\n",
      " |-- HCPCS_CD_36: string (nullable = true)\n",
      " |-- HCPCS_CD_37: string (nullable = true)\n",
      " |-- HCPCS_CD_38: string (nullable = true)\n",
      " |-- HCPCS_CD_39: string (nullable = true)\n",
      " |-- HCPCS_CD_40: string (nullable = true)\n",
      " |-- HCPCS_CD_41: string (nullable = true)\n",
      " |-- HCPCS_CD_42: string (nullable = true)\n",
      " |-- HCPCS_CD_43: string (nullable = true)\n",
      " |-- HCPCS_CD_44: string (nullable = true)\n",
      " |-- HCPCS_CD_45: string (nullable = true)\n",
      " |-- class: integer (nullable = true)\n",
      "\n"
     ]
    }
   ],
   "source": [
    "out_OC.printSchema()"
   ]
  },
  {
   "cell_type": "code",
   "execution_count": 8,
   "metadata": {},
   "outputs": [
    {
     "data": {
      "text/plain": [
       "16706"
      ]
     },
     "execution_count": 8,
     "metadata": {},
     "output_type": "execute_result"
    }
   ],
   "source": [
    "out_OC.count()"
   ]
  },
  {
   "cell_type": "code",
   "execution_count": 9,
   "metadata": {},
   "outputs": [],
   "source": [
    "out_OC.ICD9_PRCDR_CD_1 = out_OC.ICD9_PRCDR_CD_1.cast('string')"
   ]
  },
  {
   "cell_type": "code",
   "execution_count": 10,
   "metadata": {},
   "outputs": [],
   "source": [
    "from pyspark.sql.types import StringType"
   ]
  },
  {
   "cell_type": "code",
   "execution_count": 11,
   "metadata": {},
   "outputs": [],
   "source": [
    "out_OC = out_OC.withColumn(\"ICD9_PRCDR_CD_1\", out_OC[\"ICD9_PRCDR_CD_1\"].cast(StringType()))"
   ]
  },
  {
   "cell_type": "code",
   "execution_count": 17,
   "metadata": {},
   "outputs": [],
   "source": [
    "out_OC = out_OC.fillna(\"0\")"
   ]
  },
  {
   "cell_type": "code",
   "execution_count": 18,
   "metadata": {},
   "outputs": [
    {
     "name": "stdout",
     "output_type": "stream",
     "text": [
      "root\n",
      " |-- DESYNPUF_ID: string (nullable = false)\n",
      " |-- CLM_ID: long (nullable = true)\n",
      " |-- PRVDR_NUM: string (nullable = false)\n",
      " |-- ICD9_DGNS_CD_1: string (nullable = false)\n",
      " |-- ICD9_DGNS_CD_2: string (nullable = false)\n",
      " |-- ICD9_DGNS_CD_3: string (nullable = false)\n",
      " |-- ICD9_DGNS_CD_4: string (nullable = false)\n",
      " |-- ICD9_DGNS_CD_5: string (nullable = false)\n",
      " |-- ICD9_DGNS_CD_6: string (nullable = false)\n",
      " |-- ICD9_DGNS_CD_7: string (nullable = false)\n",
      " |-- ICD9_DGNS_CD_8: string (nullable = false)\n",
      " |-- ICD9_DGNS_CD_9: string (nullable = false)\n",
      " |-- ICD9_DGNS_CD_10: string (nullable = false)\n",
      " |-- ICD9_PRCDR_CD_1: string (nullable = false)\n",
      " |-- ICD9_PRCDR_CD_2: string (nullable = false)\n",
      " |-- ICD9_PRCDR_CD_3: string (nullable = false)\n",
      " |-- ICD9_PRCDR_CD_4: string (nullable = false)\n",
      " |-- ICD9_PRCDR_CD_5: string (nullable = false)\n",
      " |-- ICD9_PRCDR_CD_6: string (nullable = false)\n",
      " |-- ADMTNG_ICD9_DGNS_CD: string (nullable = false)\n",
      " |-- HCPCS_CD_1: string (nullable = false)\n",
      " |-- HCPCS_CD_2: string (nullable = false)\n",
      " |-- HCPCS_CD_3: string (nullable = false)\n",
      " |-- HCPCS_CD_4: string (nullable = false)\n",
      " |-- HCPCS_CD_5: string (nullable = false)\n",
      " |-- HCPCS_CD_6: string (nullable = false)\n",
      " |-- HCPCS_CD_7: string (nullable = false)\n",
      " |-- HCPCS_CD_8: string (nullable = false)\n",
      " |-- HCPCS_CD_9: string (nullable = false)\n",
      " |-- HCPCS_CD_10: string (nullable = false)\n",
      " |-- HCPCS_CD_11: string (nullable = false)\n",
      " |-- HCPCS_CD_12: string (nullable = false)\n",
      " |-- HCPCS_CD_13: string (nullable = false)\n",
      " |-- HCPCS_CD_14: string (nullable = false)\n",
      " |-- HCPCS_CD_15: string (nullable = false)\n",
      " |-- HCPCS_CD_16: string (nullable = false)\n",
      " |-- HCPCS_CD_17: string (nullable = false)\n",
      " |-- HCPCS_CD_18: string (nullable = false)\n",
      " |-- HCPCS_CD_19: string (nullable = false)\n",
      " |-- HCPCS_CD_20: string (nullable = false)\n",
      " |-- HCPCS_CD_21: string (nullable = false)\n",
      " |-- HCPCS_CD_22: string (nullable = false)\n",
      " |-- HCPCS_CD_23: string (nullable = false)\n",
      " |-- HCPCS_CD_24: string (nullable = false)\n",
      " |-- HCPCS_CD_25: string (nullable = false)\n",
      " |-- HCPCS_CD_26: string (nullable = false)\n",
      " |-- HCPCS_CD_27: string (nullable = false)\n",
      " |-- HCPCS_CD_28: string (nullable = false)\n",
      " |-- HCPCS_CD_29: string (nullable = false)\n",
      " |-- HCPCS_CD_30: string (nullable = false)\n",
      " |-- HCPCS_CD_31: string (nullable = false)\n",
      " |-- HCPCS_CD_32: string (nullable = false)\n",
      " |-- HCPCS_CD_33: string (nullable = false)\n",
      " |-- HCPCS_CD_34: string (nullable = false)\n",
      " |-- HCPCS_CD_35: string (nullable = false)\n",
      " |-- HCPCS_CD_36: string (nullable = false)\n",
      " |-- HCPCS_CD_37: string (nullable = false)\n",
      " |-- HCPCS_CD_38: string (nullable = false)\n",
      " |-- HCPCS_CD_39: string (nullable = false)\n",
      " |-- HCPCS_CD_40: string (nullable = false)\n",
      " |-- HCPCS_CD_41: string (nullable = false)\n",
      " |-- HCPCS_CD_42: string (nullable = false)\n",
      " |-- HCPCS_CD_43: string (nullable = false)\n",
      " |-- HCPCS_CD_44: string (nullable = false)\n",
      " |-- HCPCS_CD_45: string (nullable = false)\n",
      " |-- class: integer (nullable = true)\n",
      "\n"
     ]
    }
   ],
   "source": [
    "out_OC.printSchema()"
   ]
  },
  {
   "cell_type": "code",
   "execution_count": 79,
   "metadata": {},
   "outputs": [],
   "source": [
    "OC_che = out_OC.filter((out_OC.ICD9_DGNS_CD_1 == \"V5811\")|\n",
    "                       (out_OC.ICD9_DGNS_CD_2 == \"V5811\")|\n",
    "                       (out_OC.ICD9_DGNS_CD_3 == \"V5811\")|\n",
    "                       (out_OC.ICD9_DGNS_CD_4 == \"V5811\")|\n",
    "                       (out_OC.ICD9_DGNS_CD_5 == \"V5811\")|\n",
    "                       (out_OC.ICD9_DGNS_CD_6 == \"V5811\")|\n",
    "                       (out_OC.ICD9_DGNS_CD_7 == \"V5811\")|\n",
    "                       (out_OC.ICD9_DGNS_CD_8 == \"V5811\")|\n",
    "                       (out_OC.ICD9_DGNS_CD_9 == \"V5811\")|\n",
    "                       (out_OC.ICD9_DGNS_CD_10 == \"V5811\")|\n",
    "                       (out_OC.ICD9_PRCDR_CD_1== \"9925\")|\n",
    "                       (out_OC.ICD9_PRCDR_CD_2== \"9925\")|\n",
    "                       (out_OC.ICD9_PRCDR_CD_3== \"9925\")|\n",
    "                       (out_OC.ICD9_PRCDR_CD_4== \"9925\")|\n",
    "                       (out_OC.ICD9_PRCDR_CD_5== \"9925\")|\n",
    "                       ((out_OC.HCPCS_CD_1.isin (cpt_lst))|out_OC.HCPCS_CD_1.startswith(\"J9\"))|\n",
    "                       ((out_OC.HCPCS_CD_2.isin (cpt_lst))|out_OC.HCPCS_CD_2.startswith(\"J9\"))|\n",
    "                       ((out_OC.HCPCS_CD_3.isin (cpt_lst))|out_OC.HCPCS_CD_3.startswith(\"J9\"))|\n",
    "                       ((out_OC.HCPCS_CD_4.isin (cpt_lst))|out_OC.HCPCS_CD_4.startswith(\"J9\"))|\n",
    "                       ((out_OC.HCPCS_CD_5.isin (cpt_lst))|out_OC.HCPCS_CD_5.startswith(\"J9\"))|\n",
    "                       ((out_OC.HCPCS_CD_6.isin (cpt_lst))|out_OC.HCPCS_CD_6.startswith(\"J9\"))|\n",
    "                       ((out_OC.HCPCS_CD_7.isin (cpt_lst))|out_OC.HCPCS_CD_7.startswith(\"J9\"))|\n",
    "                       ((out_OC.HCPCS_CD_8.isin (cpt_lst))|out_OC.HCPCS_CD_8.startswith(\"J9\"))|\n",
    "                       ((out_OC.HCPCS_CD_9.isin (cpt_lst))|out_OC.HCPCS_CD_9.startswith(\"J9\"))|\n",
    "                       ((out_OC.HCPCS_CD_10.isin (cpt_lst))|out_OC.HCPCS_CD_10.startswith(\"J9\"))|\n",
    "                       ((out_OC.HCPCS_CD_11.isin (cpt_lst))|out_OC.HCPCS_CD_11.startswith(\"J9\"))|\n",
    "                       ((out_OC.HCPCS_CD_12.isin (cpt_lst))|out_OC.HCPCS_CD_12.startswith(\"J9\"))|\n",
    "                       ((out_OC.HCPCS_CD_13.isin (cpt_lst))|out_OC.HCPCS_CD_13.startswith(\"J9\"))|\n",
    "                       ((out_OC.HCPCS_CD_14.isin (cpt_lst))|out_OC.HCPCS_CD_14.startswith(\"J9\"))|\n",
    "                       ((out_OC.HCPCS_CD_15.isin (cpt_lst))|out_OC.HCPCS_CD_15.startswith(\"J9\"))|\n",
    "                       ((out_OC.HCPCS_CD_16.isin (cpt_lst))|out_OC.HCPCS_CD_16.startswith(\"J9\"))|\n",
    "                       ((out_OC.HCPCS_CD_17.isin (cpt_lst))|out_OC.HCPCS_CD_17.startswith(\"J9\"))|\n",
    "                       ((out_OC.HCPCS_CD_18.isin (cpt_lst))|out_OC.HCPCS_CD_18.startswith(\"J9\"))|\n",
    "                       ((out_OC.HCPCS_CD_19.isin (cpt_lst))|out_OC.HCPCS_CD_19.startswith(\"J9\"))|\n",
    "                       ((out_OC.HCPCS_CD_20.isin (cpt_lst))|out_OC.HCPCS_CD_20.startswith(\"J9\"))|\n",
    "                       ((out_OC.HCPCS_CD_21.isin (cpt_lst))|out_OC.HCPCS_CD_21.startswith(\"J9\"))|\n",
    "                       ((out_OC.HCPCS_CD_22.isin (cpt_lst))|out_OC.HCPCS_CD_22.startswith(\"J9\"))|\n",
    "                       ((out_OC.HCPCS_CD_23.isin (cpt_lst))|out_OC.HCPCS_CD_23.startswith(\"J9\"))|\n",
    "                       ((out_OC.HCPCS_CD_24.isin (cpt_lst))|out_OC.HCPCS_CD_24.startswith(\"J9\"))|\n",
    "                       ((out_OC.HCPCS_CD_25.isin (cpt_lst))|out_OC.HCPCS_CD_25.startswith(\"J9\"))|\n",
    "                       ((out_OC.HCPCS_CD_26.isin (cpt_lst))|out_OC.HCPCS_CD_26.startswith(\"J9\"))|\n",
    "                       ((out_OC.HCPCS_CD_27.isin (cpt_lst))|out_OC.HCPCS_CD_27.startswith(\"J9\"))|\n",
    "                       ((out_OC.HCPCS_CD_28.isin (cpt_lst))|out_OC.HCPCS_CD_28.startswith(\"J9\"))|\n",
    "                       ((out_OC.HCPCS_CD_29.isin (cpt_lst))|out_OC.HCPCS_CD_29.startswith(\"J9\"))|\n",
    "                       ((out_OC.HCPCS_CD_30.isin (cpt_lst))|out_OC.HCPCS_CD_30.startswith(\"J9\"))|\n",
    "                       ((out_OC.HCPCS_CD_31.isin (cpt_lst))|out_OC.HCPCS_CD_31.startswith(\"J9\"))|\n",
    "                       ((out_OC.HCPCS_CD_32.isin (cpt_lst))|out_OC.HCPCS_CD_32.startswith(\"J9\"))|\n",
    "                       ((out_OC.HCPCS_CD_33.isin (cpt_lst))|out_OC.HCPCS_CD_33.startswith(\"J9\"))|\n",
    "                       ((out_OC.HCPCS_CD_34.isin (cpt_lst))|out_OC.HCPCS_CD_34.startswith(\"J9\"))|\n",
    "                       ((out_OC.HCPCS_CD_35.isin (cpt_lst))|out_OC.HCPCS_CD_35.startswith(\"J9\"))|\n",
    "                       ((out_OC.HCPCS_CD_36.isin (cpt_lst))|out_OC.HCPCS_CD_36.startswith(\"J9\"))|\n",
    "                       ((out_OC.HCPCS_CD_37.isin (cpt_lst))|out_OC.HCPCS_CD_37.startswith(\"J9\"))|\n",
    "                       ((out_OC.HCPCS_CD_38.isin (cpt_lst))|out_OC.HCPCS_CD_38.startswith(\"J9\"))|\n",
    "                       ((out_OC.HCPCS_CD_39.isin (cpt_lst))|out_OC.HCPCS_CD_39.startswith(\"J9\"))|\n",
    "                       ((out_OC.HCPCS_CD_40.isin (cpt_lst))|out_OC.HCPCS_CD_40.startswith(\"J9\"))|\n",
    "                       ((out_OC.HCPCS_CD_41.isin (cpt_lst))|out_OC.HCPCS_CD_41.startswith(\"J9\"))|\n",
    "                       ((out_OC.HCPCS_CD_42.isin (cpt_lst))|out_OC.HCPCS_CD_42.startswith(\"J9\"))|\n",
    "                       ((out_OC.HCPCS_CD_43.isin (cpt_lst))|out_OC.HCPCS_CD_43.startswith(\"J9\"))|\n",
    "                       ((out_OC.HCPCS_CD_44.isin (cpt_lst))|out_OC.HCPCS_CD_44.startswith(\"J9\"))|\n",
    "                       ((out_OC.HCPCS_CD_45.isin (cpt_lst))|out_OC.HCPCS_CD_45.startswith(\"J9\"))\n",
    "                       )\n",
    " "
   ]
  },
  {
   "cell_type": "code",
   "execution_count": 88,
   "metadata": {},
   "outputs": [],
   "source": [
    "out_OC = out_OC.withColumn('chem_class',(F.when(((out_OC.ICD9_DGNS_CD_1 == \"V5811\")|\n",
    "                       (out_OC.ICD9_DGNS_CD_2 == \"V5811\")|\n",
    "                       (out_OC.ICD9_DGNS_CD_3 == \"V5811\")|\n",
    "                       (out_OC.ICD9_DGNS_CD_4 == \"V5811\")|\n",
    "                       (out_OC.ICD9_DGNS_CD_5 == \"V5811\")|\n",
    "                       (out_OC.ICD9_DGNS_CD_6 == \"V5811\")|\n",
    "                       (out_OC.ICD9_DGNS_CD_7 == \"V5811\")|\n",
    "                       (out_OC.ICD9_DGNS_CD_8 == \"V5811\")|\n",
    "                       (out_OC.ICD9_DGNS_CD_9 == \"V5811\")|\n",
    "                       (out_OC.ICD9_DGNS_CD_10 == \"V5811\")|\n",
    "                       (out_OC.ICD9_PRCDR_CD_1== \"9925\")|\n",
    "                       (out_OC.ICD9_PRCDR_CD_2== \"9925\")|\n",
    "                       (out_OC.ICD9_PRCDR_CD_3== \"9925\")|\n",
    "                       (out_OC.ICD9_PRCDR_CD_4== \"9925\")|\n",
    "                       (out_OC.ICD9_PRCDR_CD_5== \"9925\")|\n",
    "                       ((out_OC.HCPCS_CD_1.isin (cpt_lst))|out_OC.HCPCS_CD_1.startswith(\"J9\"))|\n",
    "                       ((out_OC.HCPCS_CD_2.isin (cpt_lst))|out_OC.HCPCS_CD_2.startswith(\"J9\"))|\n",
    "                       ((out_OC.HCPCS_CD_3.isin (cpt_lst))|out_OC.HCPCS_CD_3.startswith(\"J9\"))|\n",
    "                       ((out_OC.HCPCS_CD_4.isin (cpt_lst))|out_OC.HCPCS_CD_4.startswith(\"J9\"))|\n",
    "                       ((out_OC.HCPCS_CD_5.isin (cpt_lst))|out_OC.HCPCS_CD_5.startswith(\"J9\"))|\n",
    "                       ((out_OC.HCPCS_CD_6.isin (cpt_lst))|out_OC.HCPCS_CD_6.startswith(\"J9\"))|\n",
    "                       ((out_OC.HCPCS_CD_7.isin (cpt_lst))|out_OC.HCPCS_CD_7.startswith(\"J9\"))|\n",
    "                       ((out_OC.HCPCS_CD_8.isin (cpt_lst))|out_OC.HCPCS_CD_8.startswith(\"J9\"))|\n",
    "                       ((out_OC.HCPCS_CD_9.isin (cpt_lst))|out_OC.HCPCS_CD_9.startswith(\"J9\"))|\n",
    "                       ((out_OC.HCPCS_CD_10.isin (cpt_lst))|out_OC.HCPCS_CD_10.startswith(\"J9\"))|\n",
    "                       ((out_OC.HCPCS_CD_11.isin (cpt_lst))|out_OC.HCPCS_CD_11.startswith(\"J9\"))|\n",
    "                       ((out_OC.HCPCS_CD_12.isin (cpt_lst))|out_OC.HCPCS_CD_12.startswith(\"J9\"))|\n",
    "                       ((out_OC.HCPCS_CD_13.isin (cpt_lst))|out_OC.HCPCS_CD_13.startswith(\"J9\"))|\n",
    "                       ((out_OC.HCPCS_CD_14.isin (cpt_lst))|out_OC.HCPCS_CD_14.startswith(\"J9\"))|\n",
    "                       ((out_OC.HCPCS_CD_15.isin (cpt_lst))|out_OC.HCPCS_CD_15.startswith(\"J9\"))|\n",
    "                       ((out_OC.HCPCS_CD_16.isin (cpt_lst))|out_OC.HCPCS_CD_16.startswith(\"J9\"))|\n",
    "                       ((out_OC.HCPCS_CD_17.isin (cpt_lst))|out_OC.HCPCS_CD_17.startswith(\"J9\"))|\n",
    "                       ((out_OC.HCPCS_CD_18.isin (cpt_lst))|out_OC.HCPCS_CD_18.startswith(\"J9\"))|\n",
    "                       ((out_OC.HCPCS_CD_19.isin (cpt_lst))|out_OC.HCPCS_CD_19.startswith(\"J9\"))|\n",
    "                       ((out_OC.HCPCS_CD_20.isin (cpt_lst))|out_OC.HCPCS_CD_20.startswith(\"J9\"))|\n",
    "                       ((out_OC.HCPCS_CD_21.isin (cpt_lst))|out_OC.HCPCS_CD_21.startswith(\"J9\"))|\n",
    "                       ((out_OC.HCPCS_CD_22.isin (cpt_lst))|out_OC.HCPCS_CD_22.startswith(\"J9\"))|\n",
    "                       ((out_OC.HCPCS_CD_23.isin (cpt_lst))|out_OC.HCPCS_CD_23.startswith(\"J9\"))|\n",
    "                       ((out_OC.HCPCS_CD_24.isin (cpt_lst))|out_OC.HCPCS_CD_24.startswith(\"J9\"))|\n",
    "                       ((out_OC.HCPCS_CD_25.isin (cpt_lst))|out_OC.HCPCS_CD_25.startswith(\"J9\"))|\n",
    "                       ((out_OC.HCPCS_CD_26.isin (cpt_lst))|out_OC.HCPCS_CD_26.startswith(\"J9\"))|\n",
    "                       ((out_OC.HCPCS_CD_27.isin (cpt_lst))|out_OC.HCPCS_CD_27.startswith(\"J9\"))|\n",
    "                       ((out_OC.HCPCS_CD_28.isin (cpt_lst))|out_OC.HCPCS_CD_28.startswith(\"J9\"))|\n",
    "                       ((out_OC.HCPCS_CD_29.isin (cpt_lst))|out_OC.HCPCS_CD_29.startswith(\"J9\"))|\n",
    "                       ((out_OC.HCPCS_CD_30.isin (cpt_lst))|out_OC.HCPCS_CD_30.startswith(\"J9\"))|\n",
    "                       ((out_OC.HCPCS_CD_31.isin (cpt_lst))|out_OC.HCPCS_CD_31.startswith(\"J9\"))|\n",
    "                       ((out_OC.HCPCS_CD_32.isin (cpt_lst))|out_OC.HCPCS_CD_32.startswith(\"J9\"))|\n",
    "                       ((out_OC.HCPCS_CD_33.isin (cpt_lst))|out_OC.HCPCS_CD_33.startswith(\"J9\"))|\n",
    "                       ((out_OC.HCPCS_CD_34.isin (cpt_lst))|out_OC.HCPCS_CD_34.startswith(\"J9\"))|\n",
    "                       ((out_OC.HCPCS_CD_35.isin (cpt_lst))|out_OC.HCPCS_CD_35.startswith(\"J9\"))|\n",
    "                       ((out_OC.HCPCS_CD_36.isin (cpt_lst))|out_OC.HCPCS_CD_36.startswith(\"J9\"))|\n",
    "                       ((out_OC.HCPCS_CD_37.isin (cpt_lst))|out_OC.HCPCS_CD_37.startswith(\"J9\"))|\n",
    "                       ((out_OC.HCPCS_CD_38.isin (cpt_lst))|out_OC.HCPCS_CD_38.startswith(\"J9\"))|\n",
    "                       ((out_OC.HCPCS_CD_39.isin (cpt_lst))|out_OC.HCPCS_CD_39.startswith(\"J9\"))|\n",
    "                       ((out_OC.HCPCS_CD_40.isin (cpt_lst))|out_OC.HCPCS_CD_40.startswith(\"J9\"))|\n",
    "                       ((out_OC.HCPCS_CD_41.isin (cpt_lst))|out_OC.HCPCS_CD_41.startswith(\"J9\"))|\n",
    "                       ((out_OC.HCPCS_CD_42.isin (cpt_lst))|out_OC.HCPCS_CD_42.startswith(\"J9\"))|\n",
    "                       ((out_OC.HCPCS_CD_43.isin (cpt_lst))|out_OC.HCPCS_CD_43.startswith(\"J9\"))|\n",
    "                       ((out_OC.HCPCS_CD_44.isin (cpt_lst))|out_OC.HCPCS_CD_44.startswith(\"J9\"))|\n",
    "                       ((out_OC.HCPCS_CD_45.isin (cpt_lst))|out_OC.HCPCS_CD_45.startswith(\"J9\"))\n",
    "                       ),1).otherwise(0)))"
   ]
  },
  {
   "cell_type": "code",
   "execution_count": 80,
   "metadata": {},
   "outputs": [
    {
     "data": {
      "text/plain": [
       "2302"
      ]
     },
     "execution_count": 80,
     "metadata": {},
     "output_type": "execute_result"
    }
   ],
   "source": [
    "OC_che.count()"
   ]
  },
  {
   "cell_type": "code",
   "execution_count": 93,
   "metadata": {},
   "outputs": [
    {
     "name": "stdout",
     "output_type": "stream",
     "text": [
      "+----------+-----+\n",
      "|chem_class|count|\n",
      "+----------+-----+\n",
      "|         1| 2302|\n",
      "|      null|16706|\n",
      "|         0|14404|\n",
      "+----------+-----+\n",
      "\n"
     ]
    }
   ],
   "source": [
    "from pyspark.sql import dataframe\n",
    "out_OC.cube('chem_class').count().show()"
   ]
  },
  {
   "cell_type": "code",
   "execution_count": 63,
   "metadata": {},
   "outputs": [],
   "source": [
    "cpt_lst =list(range(96400,96451))+[96542, 96545,96549,90780,90784]"
   ]
  },
  {
   "cell_type": "code",
   "execution_count": 69,
   "metadata": {},
   "outputs": [],
   "source": [
    "sample = out_OC.filter(out_OC.HCPCS_CD_1.isin (cpt_lst)|out_OC.HCPCS_CD_1.startswith(\"J9\"))"
   ]
  },
  {
   "cell_type": "code",
   "execution_count": 70,
   "metadata": {},
   "outputs": [],
   "source": [
    "s = sample.toPandas()"
   ]
  },
  {
   "cell_type": "code",
   "execution_count": 82,
   "metadata": {},
   "outputs": [],
   "source": [
    "pd_OC = OC_che.toPandas()"
   ]
  },
  {
   "cell_type": "code",
   "execution_count": 83,
   "metadata": {},
   "outputs": [
    {
     "data": {
      "text/html": [
       "<div>\n",
       "<style scoped>\n",
       "    .dataframe tbody tr th:only-of-type {\n",
       "        vertical-align: middle;\n",
       "    }\n",
       "\n",
       "    .dataframe tbody tr th {\n",
       "        vertical-align: top;\n",
       "    }\n",
       "\n",
       "    .dataframe thead th {\n",
       "        text-align: right;\n",
       "    }\n",
       "</style>\n",
       "<table border=\"1\" class=\"dataframe\">\n",
       "  <thead>\n",
       "    <tr style=\"text-align: right;\">\n",
       "      <th></th>\n",
       "      <th>DESYNPUF_ID</th>\n",
       "      <th>CLM_ID</th>\n",
       "      <th>PRVDR_NUM</th>\n",
       "      <th>ICD9_DGNS_CD_1</th>\n",
       "      <th>ICD9_DGNS_CD_2</th>\n",
       "      <th>ICD9_DGNS_CD_3</th>\n",
       "      <th>ICD9_DGNS_CD_4</th>\n",
       "      <th>ICD9_DGNS_CD_5</th>\n",
       "      <th>ICD9_DGNS_CD_6</th>\n",
       "      <th>ICD9_DGNS_CD_7</th>\n",
       "      <th>ICD9_DGNS_CD_8</th>\n",
       "      <th>ICD9_DGNS_CD_9</th>\n",
       "      <th>ICD9_DGNS_CD_10</th>\n",
       "      <th>ICD9_PRCDR_CD_1</th>\n",
       "      <th>ICD9_PRCDR_CD_2</th>\n",
       "      <th>ICD9_PRCDR_CD_3</th>\n",
       "      <th>ICD9_PRCDR_CD_4</th>\n",
       "      <th>ICD9_PRCDR_CD_5</th>\n",
       "      <th>ICD9_PRCDR_CD_6</th>\n",
       "      <th>ADMTNG_ICD9_DGNS_CD</th>\n",
       "      <th>HCPCS_CD_1</th>\n",
       "      <th>HCPCS_CD_2</th>\n",
       "      <th>HCPCS_CD_3</th>\n",
       "      <th>HCPCS_CD_4</th>\n",
       "      <th>HCPCS_CD_5</th>\n",
       "      <th>HCPCS_CD_6</th>\n",
       "      <th>HCPCS_CD_7</th>\n",
       "      <th>HCPCS_CD_8</th>\n",
       "      <th>HCPCS_CD_9</th>\n",
       "      <th>HCPCS_CD_10</th>\n",
       "      <th>HCPCS_CD_11</th>\n",
       "      <th>HCPCS_CD_12</th>\n",
       "      <th>HCPCS_CD_13</th>\n",
       "      <th>HCPCS_CD_14</th>\n",
       "      <th>HCPCS_CD_15</th>\n",
       "      <th>HCPCS_CD_16</th>\n",
       "      <th>HCPCS_CD_17</th>\n",
       "      <th>HCPCS_CD_18</th>\n",
       "      <th>HCPCS_CD_19</th>\n",
       "      <th>HCPCS_CD_20</th>\n",
       "      <th>HCPCS_CD_21</th>\n",
       "      <th>HCPCS_CD_22</th>\n",
       "      <th>HCPCS_CD_23</th>\n",
       "      <th>HCPCS_CD_24</th>\n",
       "      <th>HCPCS_CD_25</th>\n",
       "      <th>HCPCS_CD_26</th>\n",
       "      <th>HCPCS_CD_27</th>\n",
       "      <th>HCPCS_CD_28</th>\n",
       "      <th>HCPCS_CD_29</th>\n",
       "      <th>HCPCS_CD_30</th>\n",
       "      <th>HCPCS_CD_31</th>\n",
       "      <th>HCPCS_CD_32</th>\n",
       "      <th>HCPCS_CD_33</th>\n",
       "      <th>HCPCS_CD_34</th>\n",
       "      <th>HCPCS_CD_35</th>\n",
       "      <th>HCPCS_CD_36</th>\n",
       "      <th>HCPCS_CD_37</th>\n",
       "      <th>HCPCS_CD_38</th>\n",
       "      <th>HCPCS_CD_39</th>\n",
       "      <th>HCPCS_CD_40</th>\n",
       "      <th>HCPCS_CD_41</th>\n",
       "      <th>HCPCS_CD_42</th>\n",
       "      <th>HCPCS_CD_43</th>\n",
       "      <th>HCPCS_CD_44</th>\n",
       "      <th>HCPCS_CD_45</th>\n",
       "      <th>class</th>\n",
       "    </tr>\n",
       "  </thead>\n",
       "  <tbody>\n",
       "    <tr>\n",
       "      <th>0</th>\n",
       "      <td>42CDA84C361BDF03</td>\n",
       "      <td>38722212203867</td>\n",
       "      <td>2301GU</td>\n",
       "      <td>1830</td>\n",
       "      <td>V672</td>\n",
       "      <td>0</td>\n",
       "      <td>0</td>\n",
       "      <td>0</td>\n",
       "      <td>0</td>\n",
       "      <td>0</td>\n",
       "      <td>0</td>\n",
       "      <td>0</td>\n",
       "      <td>0</td>\n",
       "      <td>0</td>\n",
       "      <td>0</td>\n",
       "      <td>0</td>\n",
       "      <td>0</td>\n",
       "      <td>0</td>\n",
       "      <td>0</td>\n",
       "      <td>0</td>\n",
       "      <td>72193</td>\n",
       "      <td>0</td>\n",
       "      <td>0</td>\n",
       "      <td>J1572</td>\n",
       "      <td>99285</td>\n",
       "      <td>93971</td>\n",
       "      <td>96415</td>\n",
       "      <td>96375</td>\n",
       "      <td>87040</td>\n",
       "      <td>96413</td>\n",
       "      <td>96375</td>\n",
       "      <td>J9091</td>\n",
       "      <td>96365</td>\n",
       "      <td>0</td>\n",
       "      <td>J7050</td>\n",
       "      <td>J9060</td>\n",
       "      <td>96413</td>\n",
       "      <td>96409</td>\n",
       "      <td>0</td>\n",
       "      <td>0</td>\n",
       "      <td>0</td>\n",
       "      <td>J2469</td>\n",
       "      <td>J1100</td>\n",
       "      <td>0</td>\n",
       "      <td>0</td>\n",
       "      <td>0</td>\n",
       "      <td>0</td>\n",
       "      <td>0</td>\n",
       "      <td>0</td>\n",
       "      <td>0</td>\n",
       "      <td>0</td>\n",
       "      <td>0</td>\n",
       "      <td>0</td>\n",
       "      <td>0</td>\n",
       "      <td>0</td>\n",
       "      <td>0</td>\n",
       "      <td>0</td>\n",
       "      <td>0</td>\n",
       "      <td>0</td>\n",
       "      <td>0</td>\n",
       "      <td>0</td>\n",
       "      <td>0</td>\n",
       "      <td>0</td>\n",
       "      <td>0</td>\n",
       "      <td>0</td>\n",
       "      <td>1</td>\n",
       "    </tr>\n",
       "    <tr>\n",
       "      <th>1</th>\n",
       "      <td>44DA5770803B6370</td>\n",
       "      <td>38602212179202</td>\n",
       "      <td>0503CM</td>\n",
       "      <td>1830</td>\n",
       "      <td>V5811</td>\n",
       "      <td>5939</td>\n",
       "      <td>5119</td>\n",
       "      <td>V5869</td>\n",
       "      <td>7295</td>\n",
       "      <td>0</td>\n",
       "      <td>0</td>\n",
       "      <td>0</td>\n",
       "      <td>0</td>\n",
       "      <td>0</td>\n",
       "      <td>0</td>\n",
       "      <td>0</td>\n",
       "      <td>0</td>\n",
       "      <td>0</td>\n",
       "      <td>0</td>\n",
       "      <td>0</td>\n",
       "      <td>80053</td>\n",
       "      <td>85651</td>\n",
       "      <td>0</td>\n",
       "      <td>0</td>\n",
       "      <td>0</td>\n",
       "      <td>0</td>\n",
       "      <td>0</td>\n",
       "      <td>0</td>\n",
       "      <td>0</td>\n",
       "      <td>0</td>\n",
       "      <td>0</td>\n",
       "      <td>0</td>\n",
       "      <td>0</td>\n",
       "      <td>0</td>\n",
       "      <td>0</td>\n",
       "      <td>0</td>\n",
       "      <td>0</td>\n",
       "      <td>0</td>\n",
       "      <td>0</td>\n",
       "      <td>0</td>\n",
       "      <td>0</td>\n",
       "      <td>0</td>\n",
       "      <td>0</td>\n",
       "      <td>0</td>\n",
       "      <td>0</td>\n",
       "      <td>0</td>\n",
       "      <td>0</td>\n",
       "      <td>0</td>\n",
       "      <td>0</td>\n",
       "      <td>0</td>\n",
       "      <td>0</td>\n",
       "      <td>0</td>\n",
       "      <td>0</td>\n",
       "      <td>0</td>\n",
       "      <td>0</td>\n",
       "      <td>0</td>\n",
       "      <td>0</td>\n",
       "      <td>0</td>\n",
       "      <td>0</td>\n",
       "      <td>0</td>\n",
       "      <td>0</td>\n",
       "      <td>0</td>\n",
       "      <td>0</td>\n",
       "      <td>0</td>\n",
       "      <td>0</td>\n",
       "      <td>1</td>\n",
       "    </tr>\n",
       "    <tr>\n",
       "      <th>2</th>\n",
       "      <td>486BE10685E7A377</td>\n",
       "      <td>38472212337149</td>\n",
       "      <td>1901AC</td>\n",
       "      <td>V5811</td>\n",
       "      <td>V4571</td>\n",
       "      <td>2853</td>\n",
       "      <td>V5881</td>\n",
       "      <td>1629</td>\n",
       "      <td>20280</td>\n",
       "      <td>1830</td>\n",
       "      <td>78702</td>\n",
       "      <td>28803</td>\n",
       "      <td>1978</td>\n",
       "      <td>0</td>\n",
       "      <td>0</td>\n",
       "      <td>0</td>\n",
       "      <td>0</td>\n",
       "      <td>0</td>\n",
       "      <td>0</td>\n",
       "      <td>0</td>\n",
       "      <td>0</td>\n",
       "      <td>0</td>\n",
       "      <td>85025</td>\n",
       "      <td>96361</td>\n",
       "      <td>J3010</td>\n",
       "      <td>G0393</td>\n",
       "      <td>84100</td>\n",
       "      <td>J7042</td>\n",
       "      <td>72220</td>\n",
       "      <td>70450</td>\n",
       "      <td>86900</td>\n",
       "      <td>84484</td>\n",
       "      <td>82565</td>\n",
       "      <td>0</td>\n",
       "      <td>0</td>\n",
       "      <td>0</td>\n",
       "      <td>0</td>\n",
       "      <td>0</td>\n",
       "      <td>0</td>\n",
       "      <td>0</td>\n",
       "      <td>0</td>\n",
       "      <td>0</td>\n",
       "      <td>0</td>\n",
       "      <td>0</td>\n",
       "      <td>0</td>\n",
       "      <td>0</td>\n",
       "      <td>0</td>\n",
       "      <td>0</td>\n",
       "      <td>0</td>\n",
       "      <td>0</td>\n",
       "      <td>0</td>\n",
       "      <td>0</td>\n",
       "      <td>0</td>\n",
       "      <td>0</td>\n",
       "      <td>0</td>\n",
       "      <td>0</td>\n",
       "      <td>0</td>\n",
       "      <td>0</td>\n",
       "      <td>0</td>\n",
       "      <td>0</td>\n",
       "      <td>0</td>\n",
       "      <td>0</td>\n",
       "      <td>0</td>\n",
       "      <td>0</td>\n",
       "      <td>0</td>\n",
       "      <td>1</td>\n",
       "    </tr>\n",
       "    <tr>\n",
       "      <th>3</th>\n",
       "      <td>519B21BB4C4DD253</td>\n",
       "      <td>38552211694642</td>\n",
       "      <td>4300BT</td>\n",
       "      <td>1830</td>\n",
       "      <td>78079</td>\n",
       "      <td>4539</td>\n",
       "      <td>1969</td>\n",
       "      <td>V5811</td>\n",
       "      <td>0</td>\n",
       "      <td>0</td>\n",
       "      <td>0</td>\n",
       "      <td>0</td>\n",
       "      <td>0</td>\n",
       "      <td>0</td>\n",
       "      <td>0</td>\n",
       "      <td>0</td>\n",
       "      <td>0</td>\n",
       "      <td>0</td>\n",
       "      <td>0</td>\n",
       "      <td>0</td>\n",
       "      <td>80053</td>\n",
       "      <td>81001</td>\n",
       "      <td>85610</td>\n",
       "      <td>82607</td>\n",
       "      <td>80053</td>\n",
       "      <td>0</td>\n",
       "      <td>0</td>\n",
       "      <td>0</td>\n",
       "      <td>0</td>\n",
       "      <td>0</td>\n",
       "      <td>0</td>\n",
       "      <td>0</td>\n",
       "      <td>0</td>\n",
       "      <td>0</td>\n",
       "      <td>0</td>\n",
       "      <td>0</td>\n",
       "      <td>0</td>\n",
       "      <td>0</td>\n",
       "      <td>0</td>\n",
       "      <td>0</td>\n",
       "      <td>0</td>\n",
       "      <td>0</td>\n",
       "      <td>0</td>\n",
       "      <td>0</td>\n",
       "      <td>0</td>\n",
       "      <td>0</td>\n",
       "      <td>0</td>\n",
       "      <td>0</td>\n",
       "      <td>0</td>\n",
       "      <td>0</td>\n",
       "      <td>0</td>\n",
       "      <td>0</td>\n",
       "      <td>0</td>\n",
       "      <td>0</td>\n",
       "      <td>0</td>\n",
       "      <td>0</td>\n",
       "      <td>0</td>\n",
       "      <td>0</td>\n",
       "      <td>0</td>\n",
       "      <td>0</td>\n",
       "      <td>0</td>\n",
       "      <td>0</td>\n",
       "      <td>0</td>\n",
       "      <td>0</td>\n",
       "      <td>0</td>\n",
       "      <td>1</td>\n",
       "    </tr>\n",
       "    <tr>\n",
       "      <th>4</th>\n",
       "      <td>55C76CA11E982610</td>\n",
       "      <td>38992211693557</td>\n",
       "      <td>0100TU</td>\n",
       "      <td>1830</td>\n",
       "      <td>496</td>\n",
       "      <td>V5811</td>\n",
       "      <td>0</td>\n",
       "      <td>0</td>\n",
       "      <td>0</td>\n",
       "      <td>0</td>\n",
       "      <td>0</td>\n",
       "      <td>0</td>\n",
       "      <td>0</td>\n",
       "      <td>0</td>\n",
       "      <td>0</td>\n",
       "      <td>0</td>\n",
       "      <td>0</td>\n",
       "      <td>0</td>\n",
       "      <td>0</td>\n",
       "      <td>0</td>\n",
       "      <td>36415</td>\n",
       "      <td>80048</td>\n",
       "      <td>82040</td>\n",
       "      <td>0</td>\n",
       "      <td>J3420</td>\n",
       "      <td>J1441</td>\n",
       "      <td>J3420</td>\n",
       "      <td>85610</td>\n",
       "      <td>99283</td>\n",
       "      <td>0</td>\n",
       "      <td>0</td>\n",
       "      <td>0</td>\n",
       "      <td>0</td>\n",
       "      <td>0</td>\n",
       "      <td>0</td>\n",
       "      <td>0</td>\n",
       "      <td>0</td>\n",
       "      <td>0</td>\n",
       "      <td>0</td>\n",
       "      <td>0</td>\n",
       "      <td>0</td>\n",
       "      <td>0</td>\n",
       "      <td>0</td>\n",
       "      <td>0</td>\n",
       "      <td>0</td>\n",
       "      <td>0</td>\n",
       "      <td>0</td>\n",
       "      <td>0</td>\n",
       "      <td>0</td>\n",
       "      <td>0</td>\n",
       "      <td>0</td>\n",
       "      <td>0</td>\n",
       "      <td>0</td>\n",
       "      <td>0</td>\n",
       "      <td>0</td>\n",
       "      <td>0</td>\n",
       "      <td>0</td>\n",
       "      <td>0</td>\n",
       "      <td>0</td>\n",
       "      <td>0</td>\n",
       "      <td>0</td>\n",
       "      <td>0</td>\n",
       "      <td>0</td>\n",
       "      <td>0</td>\n",
       "      <td>0</td>\n",
       "      <td>1</td>\n",
       "    </tr>\n",
       "  </tbody>\n",
       "</table>\n",
       "</div>"
      ],
      "text/plain": [
       "        DESYNPUF_ID          CLM_ID PRVDR_NUM ICD9_DGNS_CD_1 ICD9_DGNS_CD_2  \\\n",
       "0  42CDA84C361BDF03  38722212203867    2301GU           1830           V672   \n",
       "1  44DA5770803B6370  38602212179202    0503CM           1830          V5811   \n",
       "2  486BE10685E7A377  38472212337149    1901AC          V5811          V4571   \n",
       "3  519B21BB4C4DD253  38552211694642    4300BT           1830          78079   \n",
       "4  55C76CA11E982610  38992211693557    0100TU           1830            496   \n",
       "\n",
       "  ICD9_DGNS_CD_3 ICD9_DGNS_CD_4 ICD9_DGNS_CD_5 ICD9_DGNS_CD_6 ICD9_DGNS_CD_7  \\\n",
       "0              0              0              0              0              0   \n",
       "1           5939           5119          V5869           7295              0   \n",
       "2           2853          V5881           1629          20280           1830   \n",
       "3           4539           1969          V5811              0              0   \n",
       "4          V5811              0              0              0              0   \n",
       "\n",
       "  ICD9_DGNS_CD_8 ICD9_DGNS_CD_9 ICD9_DGNS_CD_10 ICD9_PRCDR_CD_1  \\\n",
       "0              0              0               0               0   \n",
       "1              0              0               0               0   \n",
       "2          78702          28803            1978               0   \n",
       "3              0              0               0               0   \n",
       "4              0              0               0               0   \n",
       "\n",
       "  ICD9_PRCDR_CD_2 ICD9_PRCDR_CD_3 ICD9_PRCDR_CD_4 ICD9_PRCDR_CD_5  \\\n",
       "0               0               0               0               0   \n",
       "1               0               0               0               0   \n",
       "2               0               0               0               0   \n",
       "3               0               0               0               0   \n",
       "4               0               0               0               0   \n",
       "\n",
       "  ICD9_PRCDR_CD_6 ADMTNG_ICD9_DGNS_CD HCPCS_CD_1 HCPCS_CD_2 HCPCS_CD_3  \\\n",
       "0               0                   0      72193          0          0   \n",
       "1               0                   0      80053      85651          0   \n",
       "2               0                   0          0          0      85025   \n",
       "3               0                   0      80053      81001      85610   \n",
       "4               0                   0      36415      80048      82040   \n",
       "\n",
       "  HCPCS_CD_4 HCPCS_CD_5 HCPCS_CD_6 HCPCS_CD_7 HCPCS_CD_8 HCPCS_CD_9  \\\n",
       "0      J1572      99285      93971      96415      96375      87040   \n",
       "1          0          0          0          0          0          0   \n",
       "2      96361      J3010      G0393      84100      J7042      72220   \n",
       "3      82607      80053          0          0          0          0   \n",
       "4          0      J3420      J1441      J3420      85610      99283   \n",
       "\n",
       "  HCPCS_CD_10 HCPCS_CD_11 HCPCS_CD_12 HCPCS_CD_13 HCPCS_CD_14 HCPCS_CD_15  \\\n",
       "0       96413       96375       J9091       96365           0       J7050   \n",
       "1           0           0           0           0           0           0   \n",
       "2       70450       86900       84484       82565           0           0   \n",
       "3           0           0           0           0           0           0   \n",
       "4           0           0           0           0           0           0   \n",
       "\n",
       "  HCPCS_CD_16 HCPCS_CD_17 HCPCS_CD_18 HCPCS_CD_19 HCPCS_CD_20 HCPCS_CD_21  \\\n",
       "0       J9060       96413       96409           0           0           0   \n",
       "1           0           0           0           0           0           0   \n",
       "2           0           0           0           0           0           0   \n",
       "3           0           0           0           0           0           0   \n",
       "4           0           0           0           0           0           0   \n",
       "\n",
       "  HCPCS_CD_22 HCPCS_CD_23 HCPCS_CD_24 HCPCS_CD_25 HCPCS_CD_26 HCPCS_CD_27  \\\n",
       "0       J2469       J1100           0           0           0           0   \n",
       "1           0           0           0           0           0           0   \n",
       "2           0           0           0           0           0           0   \n",
       "3           0           0           0           0           0           0   \n",
       "4           0           0           0           0           0           0   \n",
       "\n",
       "  HCPCS_CD_28 HCPCS_CD_29 HCPCS_CD_30 HCPCS_CD_31 HCPCS_CD_32 HCPCS_CD_33  \\\n",
       "0           0           0           0           0           0           0   \n",
       "1           0           0           0           0           0           0   \n",
       "2           0           0           0           0           0           0   \n",
       "3           0           0           0           0           0           0   \n",
       "4           0           0           0           0           0           0   \n",
       "\n",
       "  HCPCS_CD_34 HCPCS_CD_35 HCPCS_CD_36 HCPCS_CD_37 HCPCS_CD_38 HCPCS_CD_39  \\\n",
       "0           0           0           0           0           0           0   \n",
       "1           0           0           0           0           0           0   \n",
       "2           0           0           0           0           0           0   \n",
       "3           0           0           0           0           0           0   \n",
       "4           0           0           0           0           0           0   \n",
       "\n",
       "  HCPCS_CD_40 HCPCS_CD_41 HCPCS_CD_42 HCPCS_CD_43 HCPCS_CD_44 HCPCS_CD_45  \\\n",
       "0           0           0           0           0           0           0   \n",
       "1           0           0           0           0           0           0   \n",
       "2           0           0           0           0           0           0   \n",
       "3           0           0           0           0           0           0   \n",
       "4           0           0           0           0           0           0   \n",
       "\n",
       "   class  \n",
       "0      1  \n",
       "1      1  \n",
       "2      1  \n",
       "3      1  \n",
       "4      1  "
      ]
     },
     "execution_count": 83,
     "metadata": {},
     "output_type": "execute_result"
    }
   ],
   "source": [
    "pd.options.display.max_columns = None\n",
    "pd_OC.head(5)"
   ]
  },
  {
   "cell_type": "code",
   "execution_count": 97,
   "metadata": {},
   "outputs": [],
   "source": [
    "out_chem = out_OC.filter(out_OC.chem_class ==1)\n",
    "out_nochem = out_OC.filter(out_OC.chem_class == 0)"
   ]
  },
  {
   "cell_type": "code",
   "execution_count": 98,
   "metadata": {},
   "outputs": [
    {
     "data": {
      "text/plain": [
       "(2302, 14404)"
      ]
     },
     "execution_count": 98,
     "metadata": {},
     "output_type": "execute_result"
    }
   ],
   "source": [
    "out_chem.count(),out_nochem.count()"
   ]
  },
  {
   "cell_type": "code",
   "execution_count": 99,
   "metadata": {},
   "outputs": [],
   "source": [
    "# Write the dataset to target path as parquet file.\n",
    "\n",
    "path = \"/Users/jill/Downloads/2020_Project/EDA/concat_data/outpatient/out_chemo\"\n"
   ]
  },
  {
   "cell_type": "code",
   "execution_count": 100,
   "metadata": {},
   "outputs": [],
   "source": [
    "out_chem.write.save(path+\"/out_chem.parquet\",format=\"parquet\")"
   ]
  },
  {
   "cell_type": "code",
   "execution_count": 101,
   "metadata": {},
   "outputs": [],
   "source": [
    "out_nochem.write.save(path+\"/out_nochem.parquet\",format=\"parquet\")"
   ]
  },
  {
   "cell_type": "code",
   "execution_count": 38,
   "metadata": {},
   "outputs": [],
   "source": [
    "# Merge product service ID"
   ]
  },
  {
   "cell_type": "code",
   "execution_count": 11,
   "metadata": {},
   "outputs": [],
   "source": [
    "out_chem = spark.read.load(\"/Users/jill/Downloads/2020_Project/EDA/concat_data/outpatient/out_chemo/out_chem\")"
   ]
  },
  {
   "cell_type": "code",
   "execution_count": 28,
   "metadata": {},
   "outputs": [],
   "source": [
    "pde = spark.read.load(\"/Users/jill/Downloads/2020_Project/EDA/concat_data/pde/pde_con/\")"
   ]
  },
  {
   "cell_type": "code",
   "execution_count": 12,
   "metadata": {},
   "outputs": [
    {
     "data": {
      "text/plain": [
       "(111085969, 2302)"
      ]
     },
     "execution_count": 12,
     "metadata": {},
     "output_type": "execute_result"
    }
   ],
   "source": [
    "pde.count(),out_chem.count()"
   ]
  },
  {
   "cell_type": "code",
   "execution_count": 106,
   "metadata": {},
   "outputs": [
    {
     "data": {
      "text/plain": [
       "pyspark.sql.dataframe.DataFrame"
      ]
     },
     "execution_count": 106,
     "metadata": {},
     "output_type": "execute_result"
    }
   ],
   "source": [
    "type(out_chem)"
   ]
  },
  {
   "cell_type": "code",
   "execution_count": 37,
   "metadata": {},
   "outputs": [],
   "source": [
    "cols = ['DESYNPUF_ID' ,'PROD_SRVC_ID']\n",
    "pde_med = pde.select(*cols)"
   ]
  },
  {
   "cell_type": "code",
   "execution_count": 51,
   "metadata": {},
   "outputs": [
    {
     "data": {
      "text/plain": [
       "[Row(DESYNPUF_ID='A3A6E99E44151E35', PROD_SRVC_ID='53489037407'),\n",
       " Row(DESYNPUF_ID='A3A6E99E44151E35', PROD_SRVC_ID='51129321702'),\n",
       " Row(DESYNPUF_ID='A3A6E99E44151E35', PROD_SRVC_ID='00093104101'),\n",
       " Row(DESYNPUF_ID='A3A6E99E44151E35', PROD_SRVC_ID='00405499501'),\n",
       " Row(DESYNPUF_ID='A3A6E99E44151E35', PROD_SRVC_ID='00490713882')]"
      ]
     },
     "execution_count": 51,
     "metadata": {},
     "output_type": "execute_result"
    }
   ],
   "source": [
    "pde_med.take(5)"
   ]
  },
  {
   "cell_type": "code",
   "execution_count": 13,
   "metadata": {},
   "outputs": [],
   "source": [
    "spark_merge = out_chem.join(pde_med, on = \"DESYNPUF_ID\",how='inner')"
   ]
  },
  {
   "cell_type": "code",
   "execution_count": 14,
   "metadata": {},
   "outputs": [
    {
     "data": {
      "text/plain": [
       "126683"
      ]
     },
     "execution_count": 14,
     "metadata": {},
     "output_type": "execute_result"
    }
   ],
   "source": [
    "spark_merge.count()"
   ]
  },
  {
   "cell_type": "code",
   "execution_count": 16,
   "metadata": {},
   "outputs": [],
   "source": [
    "spark_merge.write.save(\"/Users/jill/Downloads/2020_Project/EDA/concat_data/outpatient/out_chemo/spark_merge\",format=\"parquet\")"
   ]
  },
  {
   "cell_type": "code",
   "execution_count": 17,
   "metadata": {},
   "outputs": [],
   "source": [
    "df_merge = spark.read.load(\"/Users/jill/Downloads/2020_Project/EDA/concat_data/outpatient/out_chemo/spark_merge\")"
   ]
  },
  {
   "cell_type": "code",
   "execution_count": 18,
   "metadata": {},
   "outputs": [],
   "source": [
    "df = df_merge.toPandas()"
   ]
  },
  {
   "cell_type": "code",
   "execution_count": 20,
   "metadata": {},
   "outputs": [
    {
     "data": {
      "text/html": [
       "<div>\n",
       "<style scoped>\n",
       "    .dataframe tbody tr th:only-of-type {\n",
       "        vertical-align: middle;\n",
       "    }\n",
       "\n",
       "    .dataframe tbody tr th {\n",
       "        vertical-align: top;\n",
       "    }\n",
       "\n",
       "    .dataframe thead th {\n",
       "        text-align: right;\n",
       "    }\n",
       "</style>\n",
       "<table border=\"1\" class=\"dataframe\">\n",
       "  <thead>\n",
       "    <tr style=\"text-align: right;\">\n",
       "      <th></th>\n",
       "      <th>DESYNPUF_ID</th>\n",
       "      <th>CLM_ID</th>\n",
       "      <th>PRVDR_NUM</th>\n",
       "      <th>ICD9_DGNS_CD_1</th>\n",
       "      <th>ICD9_DGNS_CD_2</th>\n",
       "      <th>ICD9_DGNS_CD_3</th>\n",
       "      <th>ICD9_DGNS_CD_4</th>\n",
       "      <th>ICD9_DGNS_CD_5</th>\n",
       "      <th>ICD9_DGNS_CD_6</th>\n",
       "      <th>ICD9_DGNS_CD_7</th>\n",
       "      <th>...</th>\n",
       "      <th>HCPCS_CD_39</th>\n",
       "      <th>HCPCS_CD_40</th>\n",
       "      <th>HCPCS_CD_41</th>\n",
       "      <th>HCPCS_CD_42</th>\n",
       "      <th>HCPCS_CD_43</th>\n",
       "      <th>HCPCS_CD_44</th>\n",
       "      <th>HCPCS_CD_45</th>\n",
       "      <th>class</th>\n",
       "      <th>chem_class</th>\n",
       "      <th>PROD_SRVC_ID</th>\n",
       "    </tr>\n",
       "  </thead>\n",
       "  <tbody>\n",
       "    <tr>\n",
       "      <th>0</th>\n",
       "      <td>A1F45395E9061019</td>\n",
       "      <td>790802246354606</td>\n",
       "      <td>52008K</td>\n",
       "      <td>V580</td>\n",
       "      <td>1830</td>\n",
       "      <td>0</td>\n",
       "      <td>0</td>\n",
       "      <td>0</td>\n",
       "      <td>0</td>\n",
       "      <td>0</td>\n",
       "      <td>...</td>\n",
       "      <td>0</td>\n",
       "      <td>0</td>\n",
       "      <td>0</td>\n",
       "      <td>0</td>\n",
       "      <td>0</td>\n",
       "      <td>0</td>\n",
       "      <td>0</td>\n",
       "      <td>1</td>\n",
       "      <td>1</td>\n",
       "      <td>16590022030</td>\n",
       "    </tr>\n",
       "    <tr>\n",
       "      <th>1</th>\n",
       "      <td>A1F45395E9061019</td>\n",
       "      <td>790802246354606</td>\n",
       "      <td>52008K</td>\n",
       "      <td>V580</td>\n",
       "      <td>1830</td>\n",
       "      <td>0</td>\n",
       "      <td>0</td>\n",
       "      <td>0</td>\n",
       "      <td>0</td>\n",
       "      <td>0</td>\n",
       "      <td>...</td>\n",
       "      <td>0</td>\n",
       "      <td>0</td>\n",
       "      <td>0</td>\n",
       "      <td>0</td>\n",
       "      <td>0</td>\n",
       "      <td>0</td>\n",
       "      <td>0</td>\n",
       "      <td>1</td>\n",
       "      <td>1</td>\n",
       "      <td>49884064101</td>\n",
       "    </tr>\n",
       "    <tr>\n",
       "      <th>2</th>\n",
       "      <td>A1F45395E9061019</td>\n",
       "      <td>790802246354606</td>\n",
       "      <td>52008K</td>\n",
       "      <td>V580</td>\n",
       "      <td>1830</td>\n",
       "      <td>0</td>\n",
       "      <td>0</td>\n",
       "      <td>0</td>\n",
       "      <td>0</td>\n",
       "      <td>0</td>\n",
       "      <td>...</td>\n",
       "      <td>0</td>\n",
       "      <td>0</td>\n",
       "      <td>0</td>\n",
       "      <td>0</td>\n",
       "      <td>0</td>\n",
       "      <td>0</td>\n",
       "      <td>0</td>\n",
       "      <td>1</td>\n",
       "      <td>1</td>\n",
       "      <td>58406050101</td>\n",
       "    </tr>\n",
       "    <tr>\n",
       "      <th>3</th>\n",
       "      <td>A22F9DCAA9E7112E</td>\n",
       "      <td>790832247019460</td>\n",
       "      <td>1100KR</td>\n",
       "      <td>1830</td>\n",
       "      <td>V5811</td>\n",
       "      <td>71596</td>\n",
       "      <td>07030</td>\n",
       "      <td>V5869</td>\n",
       "      <td>0</td>\n",
       "      <td>0</td>\n",
       "      <td>...</td>\n",
       "      <td>0</td>\n",
       "      <td>0</td>\n",
       "      <td>0</td>\n",
       "      <td>0</td>\n",
       "      <td>0</td>\n",
       "      <td>0</td>\n",
       "      <td>0</td>\n",
       "      <td>1</td>\n",
       "      <td>1</td>\n",
       "      <td>00179159070</td>\n",
       "    </tr>\n",
       "    <tr>\n",
       "      <th>4</th>\n",
       "      <td>A22F9DCAA9E7112E</td>\n",
       "      <td>790832247019460</td>\n",
       "      <td>1100KR</td>\n",
       "      <td>1830</td>\n",
       "      <td>V5811</td>\n",
       "      <td>71596</td>\n",
       "      <td>07030</td>\n",
       "      <td>V5869</td>\n",
       "      <td>0</td>\n",
       "      <td>0</td>\n",
       "      <td>...</td>\n",
       "      <td>0</td>\n",
       "      <td>0</td>\n",
       "      <td>0</td>\n",
       "      <td>0</td>\n",
       "      <td>0</td>\n",
       "      <td>0</td>\n",
       "      <td>0</td>\n",
       "      <td>1</td>\n",
       "      <td>1</td>\n",
       "      <td>00725002610</td>\n",
       "    </tr>\n",
       "  </tbody>\n",
       "</table>\n",
       "<p>5 rows × 68 columns</p>\n",
       "</div>"
      ],
      "text/plain": [
       "        DESYNPUF_ID           CLM_ID PRVDR_NUM ICD9_DGNS_CD_1 ICD9_DGNS_CD_2  \\\n",
       "0  A1F45395E9061019  790802246354606    52008K           V580           1830   \n",
       "1  A1F45395E9061019  790802246354606    52008K           V580           1830   \n",
       "2  A1F45395E9061019  790802246354606    52008K           V580           1830   \n",
       "3  A22F9DCAA9E7112E  790832247019460    1100KR           1830          V5811   \n",
       "4  A22F9DCAA9E7112E  790832247019460    1100KR           1830          V5811   \n",
       "\n",
       "  ICD9_DGNS_CD_3 ICD9_DGNS_CD_4 ICD9_DGNS_CD_5 ICD9_DGNS_CD_6 ICD9_DGNS_CD_7  \\\n",
       "0              0              0              0              0              0   \n",
       "1              0              0              0              0              0   \n",
       "2              0              0              0              0              0   \n",
       "3          71596          07030          V5869              0              0   \n",
       "4          71596          07030          V5869              0              0   \n",
       "\n",
       "   ... HCPCS_CD_39 HCPCS_CD_40 HCPCS_CD_41 HCPCS_CD_42 HCPCS_CD_43  \\\n",
       "0  ...           0           0           0           0           0   \n",
       "1  ...           0           0           0           0           0   \n",
       "2  ...           0           0           0           0           0   \n",
       "3  ...           0           0           0           0           0   \n",
       "4  ...           0           0           0           0           0   \n",
       "\n",
       "  HCPCS_CD_44 HCPCS_CD_45 class chem_class PROD_SRVC_ID  \n",
       "0           0           0     1          1  16590022030  \n",
       "1           0           0     1          1  49884064101  \n",
       "2           0           0     1          1  58406050101  \n",
       "3           0           0     1          1  00179159070  \n",
       "4           0           0     1          1  00725002610  \n",
       "\n",
       "[5 rows x 68 columns]"
      ]
     },
     "execution_count": 20,
     "metadata": {},
     "output_type": "execute_result"
    }
   ],
   "source": [
    "df.head()"
   ]
  },
  {
   "cell_type": "markdown",
   "metadata": {},
   "source": [
    "## 2. Inpatient with chemotherapy"
   ]
  },
  {
   "cell_type": "code",
   "execution_count": 7,
   "metadata": {},
   "outputs": [],
   "source": [
    "in_OC = spark.read.load(\"/Users/jill/Downloads/2020_Project/EDA/concat_data/inpatient/inpatient_oc_feature/\")"
   ]
  },
  {
   "cell_type": "code",
   "execution_count": 8,
   "metadata": {},
   "outputs": [
    {
     "data": {
      "text/plain": [
       "(2649, 69)"
      ]
     },
     "execution_count": 8,
     "metadata": {},
     "output_type": "execute_result"
    }
   ],
   "source": [
    "in_OC.count(), len(in_OC.columns)"
   ]
  },
  {
   "cell_type": "code",
   "execution_count": 9,
   "metadata": {},
   "outputs": [
    {
     "name": "stdout",
     "output_type": "stream",
     "text": [
      "root\n",
      " |-- DESYNPUF_ID: string (nullable = true)\n",
      " |-- CLM_ID: long (nullable = true)\n",
      " |-- PRVDR_NUM: string (nullable = true)\n",
      " |-- CLM_ADMSN_DT: integer (nullable = true)\n",
      " |-- NCH_BENE_DSCHRG_DT: integer (nullable = true)\n",
      " |-- ADMTNG_ICD9_DGNS_CD: string (nullable = true)\n",
      " |-- CLM_DRG_CD: string (nullable = true)\n",
      " |-- ICD9_DGNS_CD_1: string (nullable = true)\n",
      " |-- ICD9_DGNS_CD_2: string (nullable = true)\n",
      " |-- ICD9_DGNS_CD_3: string (nullable = true)\n",
      " |-- ICD9_DGNS_CD_4: string (nullable = true)\n",
      " |-- ICD9_DGNS_CD_5: string (nullable = true)\n",
      " |-- ICD9_DGNS_CD_6: string (nullable = true)\n",
      " |-- ICD9_DGNS_CD_7: string (nullable = true)\n",
      " |-- ICD9_DGNS_CD_8: string (nullable = true)\n",
      " |-- ICD9_DGNS_CD_9: string (nullable = true)\n",
      " |-- ICD9_DGNS_CD_10: string (nullable = true)\n",
      " |-- ICD9_PRCDR_CD_1: integer (nullable = true)\n",
      " |-- ICD9_PRCDR_CD_2: string (nullable = true)\n",
      " |-- ICD9_PRCDR_CD_3: string (nullable = true)\n",
      " |-- ICD9_PRCDR_CD_4: string (nullable = true)\n",
      " |-- ICD9_PRCDR_CD_5: string (nullable = true)\n",
      " |-- ICD9_PRCDR_CD_6: string (nullable = true)\n",
      " |-- HCPCS_CD_1: string (nullable = true)\n",
      " |-- HCPCS_CD_2: string (nullable = true)\n",
      " |-- HCPCS_CD_3: string (nullable = true)\n",
      " |-- HCPCS_CD_4: string (nullable = true)\n",
      " |-- HCPCS_CD_5: string (nullable = true)\n",
      " |-- HCPCS_CD_6: string (nullable = true)\n",
      " |-- HCPCS_CD_7: string (nullable = true)\n",
      " |-- HCPCS_CD_8: string (nullable = true)\n",
      " |-- HCPCS_CD_9: string (nullable = true)\n",
      " |-- HCPCS_CD_10: string (nullable = true)\n",
      " |-- HCPCS_CD_11: string (nullable = true)\n",
      " |-- HCPCS_CD_12: string (nullable = true)\n",
      " |-- HCPCS_CD_13: string (nullable = true)\n",
      " |-- HCPCS_CD_14: string (nullable = true)\n",
      " |-- HCPCS_CD_15: string (nullable = true)\n",
      " |-- HCPCS_CD_16: string (nullable = true)\n",
      " |-- HCPCS_CD_17: string (nullable = true)\n",
      " |-- HCPCS_CD_18: string (nullable = true)\n",
      " |-- HCPCS_CD_19: string (nullable = true)\n",
      " |-- HCPCS_CD_20: string (nullable = true)\n",
      " |-- HCPCS_CD_21: string (nullable = true)\n",
      " |-- HCPCS_CD_22: string (nullable = true)\n",
      " |-- HCPCS_CD_23: string (nullable = true)\n",
      " |-- HCPCS_CD_24: string (nullable = true)\n",
      " |-- HCPCS_CD_25: string (nullable = true)\n",
      " |-- HCPCS_CD_26: string (nullable = true)\n",
      " |-- HCPCS_CD_27: string (nullable = true)\n",
      " |-- HCPCS_CD_28: string (nullable = true)\n",
      " |-- HCPCS_CD_29: string (nullable = true)\n",
      " |-- HCPCS_CD_30: string (nullable = true)\n",
      " |-- HCPCS_CD_31: string (nullable = true)\n",
      " |-- HCPCS_CD_32: string (nullable = true)\n",
      " |-- HCPCS_CD_33: string (nullable = true)\n",
      " |-- HCPCS_CD_34: string (nullable = true)\n",
      " |-- HCPCS_CD_35: string (nullable = true)\n",
      " |-- HCPCS_CD_36: string (nullable = true)\n",
      " |-- HCPCS_CD_37: string (nullable = true)\n",
      " |-- HCPCS_CD_38: string (nullable = true)\n",
      " |-- HCPCS_CD_39: string (nullable = true)\n",
      " |-- HCPCS_CD_40: string (nullable = true)\n",
      " |-- HCPCS_CD_41: string (nullable = true)\n",
      " |-- HCPCS_CD_42: string (nullable = true)\n",
      " |-- HCPCS_CD_43: string (nullable = true)\n",
      " |-- HCPCS_CD_44: string (nullable = true)\n",
      " |-- HCPCS_CD_45: string (nullable = true)\n",
      " |-- class: integer (nullable = true)\n",
      "\n"
     ]
    }
   ],
   "source": [
    "in_OC.printSchema()"
   ]
  },
  {
   "cell_type": "code",
   "execution_count": 10,
   "metadata": {},
   "outputs": [],
   "source": [
    "in_OC = in_OC.withColumn(\"ICD9_PRCDR_CD_1\", in_OC[\"ICD9_PRCDR_CD_1\"].cast(StringType()))"
   ]
  },
  {
   "cell_type": "code",
   "execution_count": 11,
   "metadata": {},
   "outputs": [],
   "source": [
    "in_OC = in_OC.fillna(\"0\")"
   ]
  },
  {
   "cell_type": "code",
   "execution_count": 12,
   "metadata": {},
   "outputs": [
    {
     "name": "stdout",
     "output_type": "stream",
     "text": [
      "root\n",
      " |-- DESYNPUF_ID: string (nullable = false)\n",
      " |-- CLM_ID: long (nullable = true)\n",
      " |-- PRVDR_NUM: string (nullable = false)\n",
      " |-- CLM_ADMSN_DT: integer (nullable = true)\n",
      " |-- NCH_BENE_DSCHRG_DT: integer (nullable = true)\n",
      " |-- ADMTNG_ICD9_DGNS_CD: string (nullable = false)\n",
      " |-- CLM_DRG_CD: string (nullable = false)\n",
      " |-- ICD9_DGNS_CD_1: string (nullable = false)\n",
      " |-- ICD9_DGNS_CD_2: string (nullable = false)\n",
      " |-- ICD9_DGNS_CD_3: string (nullable = false)\n",
      " |-- ICD9_DGNS_CD_4: string (nullable = false)\n",
      " |-- ICD9_DGNS_CD_5: string (nullable = false)\n",
      " |-- ICD9_DGNS_CD_6: string (nullable = false)\n",
      " |-- ICD9_DGNS_CD_7: string (nullable = false)\n",
      " |-- ICD9_DGNS_CD_8: string (nullable = false)\n",
      " |-- ICD9_DGNS_CD_9: string (nullable = false)\n",
      " |-- ICD9_DGNS_CD_10: string (nullable = false)\n",
      " |-- ICD9_PRCDR_CD_1: string (nullable = false)\n",
      " |-- ICD9_PRCDR_CD_2: string (nullable = false)\n",
      " |-- ICD9_PRCDR_CD_3: string (nullable = false)\n",
      " |-- ICD9_PRCDR_CD_4: string (nullable = false)\n",
      " |-- ICD9_PRCDR_CD_5: string (nullable = false)\n",
      " |-- ICD9_PRCDR_CD_6: string (nullable = false)\n",
      " |-- HCPCS_CD_1: string (nullable = false)\n",
      " |-- HCPCS_CD_2: string (nullable = false)\n",
      " |-- HCPCS_CD_3: string (nullable = false)\n",
      " |-- HCPCS_CD_4: string (nullable = false)\n",
      " |-- HCPCS_CD_5: string (nullable = false)\n",
      " |-- HCPCS_CD_6: string (nullable = false)\n",
      " |-- HCPCS_CD_7: string (nullable = false)\n",
      " |-- HCPCS_CD_8: string (nullable = false)\n",
      " |-- HCPCS_CD_9: string (nullable = false)\n",
      " |-- HCPCS_CD_10: string (nullable = false)\n",
      " |-- HCPCS_CD_11: string (nullable = false)\n",
      " |-- HCPCS_CD_12: string (nullable = false)\n",
      " |-- HCPCS_CD_13: string (nullable = false)\n",
      " |-- HCPCS_CD_14: string (nullable = false)\n",
      " |-- HCPCS_CD_15: string (nullable = false)\n",
      " |-- HCPCS_CD_16: string (nullable = false)\n",
      " |-- HCPCS_CD_17: string (nullable = false)\n",
      " |-- HCPCS_CD_18: string (nullable = false)\n",
      " |-- HCPCS_CD_19: string (nullable = false)\n",
      " |-- HCPCS_CD_20: string (nullable = false)\n",
      " |-- HCPCS_CD_21: string (nullable = false)\n",
      " |-- HCPCS_CD_22: string (nullable = false)\n",
      " |-- HCPCS_CD_23: string (nullable = false)\n",
      " |-- HCPCS_CD_24: string (nullable = false)\n",
      " |-- HCPCS_CD_25: string (nullable = false)\n",
      " |-- HCPCS_CD_26: string (nullable = false)\n",
      " |-- HCPCS_CD_27: string (nullable = false)\n",
      " |-- HCPCS_CD_28: string (nullable = false)\n",
      " |-- HCPCS_CD_29: string (nullable = false)\n",
      " |-- HCPCS_CD_30: string (nullable = false)\n",
      " |-- HCPCS_CD_31: string (nullable = false)\n",
      " |-- HCPCS_CD_32: string (nullable = false)\n",
      " |-- HCPCS_CD_33: string (nullable = false)\n",
      " |-- HCPCS_CD_34: string (nullable = false)\n",
      " |-- HCPCS_CD_35: string (nullable = false)\n",
      " |-- HCPCS_CD_36: string (nullable = false)\n",
      " |-- HCPCS_CD_37: string (nullable = false)\n",
      " |-- HCPCS_CD_38: string (nullable = false)\n",
      " |-- HCPCS_CD_39: string (nullable = false)\n",
      " |-- HCPCS_CD_40: string (nullable = false)\n",
      " |-- HCPCS_CD_41: string (nullable = false)\n",
      " |-- HCPCS_CD_42: string (nullable = false)\n",
      " |-- HCPCS_CD_43: string (nullable = false)\n",
      " |-- HCPCS_CD_44: string (nullable = false)\n",
      " |-- HCPCS_CD_45: string (nullable = false)\n",
      " |-- class: integer (nullable = true)\n",
      "\n"
     ]
    }
   ],
   "source": [
    "in_OC.printSchema()"
   ]
  },
  {
   "cell_type": "code",
   "execution_count": 69,
   "metadata": {},
   "outputs": [],
   "source": [
    "in_OC = in_OC.withColumn('chem_class',(F.when(((in_OC.ICD9_DGNS_CD_1 == \"V5811\")|\n",
    "                       (in_OC.ICD9_DGNS_CD_2 == \"V5811\")|\n",
    "                       (in_OC.ICD9_DGNS_CD_3 == \"V5811\")|\n",
    "                       (in_OC.ICD9_DGNS_CD_4 == \"V5811\")|\n",
    "                       (in_OC.ICD9_DGNS_CD_5 == \"V5811\")|\n",
    "                       (in_OC.ICD9_DGNS_CD_6 == \"V5811\")|\n",
    "                       (in_OC.ICD9_DGNS_CD_7 == \"V5811\")|\n",
    "                       (in_OC.ICD9_DGNS_CD_8 == \"V5811\")|\n",
    "                       (in_OC.ICD9_DGNS_CD_9 == \"V5811\")|\n",
    "                       (in_OC.ICD9_DGNS_CD_10 == \"V5811\")|\n",
    "                       (in_OC.ICD9_PRCDR_CD_1== \"9925\")|\n",
    "                       (in_OC.ICD9_PRCDR_CD_2== \"9925\")|\n",
    "                       (in_OC.ICD9_PRCDR_CD_3== \"9925\")|\n",
    "                       (in_OC.ICD9_PRCDR_CD_4== \"9925\")|\n",
    "                       (in_OC.ICD9_PRCDR_CD_5== \"9925\")|\n",
    "                       ((in_OC.HCPCS_CD_1.isin (cpt_lst))|in_OC.HCPCS_CD_1.startswith(\"J9\"))|\n",
    "                       ((in_OC.HCPCS_CD_2.isin (cpt_lst))|in_OC.HCPCS_CD_2.startswith(\"J9\"))|\n",
    "                       ((in_OC.HCPCS_CD_3.isin (cpt_lst))|in_OC.HCPCS_CD_3.startswith(\"J9\"))|\n",
    "                       ((in_OC.HCPCS_CD_4.isin (cpt_lst))|in_OC.HCPCS_CD_4.startswith(\"J9\"))|\n",
    "                       ((in_OC.HCPCS_CD_5.isin (cpt_lst))|in_OC.HCPCS_CD_5.startswith(\"J9\"))|\n",
    "                       ((in_OC.HCPCS_CD_6.isin (cpt_lst))|in_OC.HCPCS_CD_6.startswith(\"J9\"))|\n",
    "                       ((in_OC.HCPCS_CD_7.isin (cpt_lst))|in_OC.HCPCS_CD_7.startswith(\"J9\"))|\n",
    "                       ((in_OC.HCPCS_CD_8.isin (cpt_lst))|in_OC.HCPCS_CD_8.startswith(\"J9\"))|\n",
    "                       ((in_OC.HCPCS_CD_9.isin (cpt_lst))|in_OC.HCPCS_CD_9.startswith(\"J9\"))|\n",
    "                       ((in_OC.HCPCS_CD_10.isin (cpt_lst))|in_OC.HCPCS_CD_10.startswith(\"J9\"))|\n",
    "                       ((in_OC.HCPCS_CD_11.isin (cpt_lst))|in_OC.HCPCS_CD_11.startswith(\"J9\"))|\n",
    "                       ((in_OC.HCPCS_CD_12.isin (cpt_lst))|in_OC.HCPCS_CD_12.startswith(\"J9\"))|\n",
    "                       ((in_OC.HCPCS_CD_13.isin (cpt_lst))|in_OC.HCPCS_CD_13.startswith(\"J9\"))|\n",
    "                       ((in_OC.HCPCS_CD_14.isin (cpt_lst))|in_OC.HCPCS_CD_14.startswith(\"J9\"))|\n",
    "                       ((in_OC.HCPCS_CD_15.isin (cpt_lst))|in_OC.HCPCS_CD_15.startswith(\"J9\"))|\n",
    "                       ((in_OC.HCPCS_CD_16.isin (cpt_lst))|in_OC.HCPCS_CD_16.startswith(\"J9\"))|\n",
    "                       ((in_OC.HCPCS_CD_17.isin (cpt_lst))|in_OC.HCPCS_CD_17.startswith(\"J9\"))|\n",
    "                       ((in_OC.HCPCS_CD_18.isin (cpt_lst))|in_OC.HCPCS_CD_18.startswith(\"J9\"))|\n",
    "                       ((in_OC.HCPCS_CD_19.isin (cpt_lst))|in_OC.HCPCS_CD_19.startswith(\"J9\"))|\n",
    "                       ((in_OC.HCPCS_CD_20.isin (cpt_lst))|in_OC.HCPCS_CD_20.startswith(\"J9\"))|\n",
    "                       ((in_OC.HCPCS_CD_21.isin (cpt_lst))|in_OC.HCPCS_CD_21.startswith(\"J9\"))|\n",
    "                       ((in_OC.HCPCS_CD_22.isin (cpt_lst))|in_OC.HCPCS_CD_22.startswith(\"J9\"))|\n",
    "                       ((in_OC.HCPCS_CD_23.isin (cpt_lst))|in_OC.HCPCS_CD_23.startswith(\"J9\"))|\n",
    "                       ((in_OC.HCPCS_CD_24.isin (cpt_lst))|in_OC.HCPCS_CD_24.startswith(\"J9\"))|\n",
    "                       ((in_OC.HCPCS_CD_25.isin (cpt_lst))|in_OC.HCPCS_CD_25.startswith(\"J9\"))|\n",
    "                       ((in_OC.HCPCS_CD_26.isin (cpt_lst))|in_OC.HCPCS_CD_26.startswith(\"J9\"))|\n",
    "                       ((in_OC.HCPCS_CD_27.isin (cpt_lst))|in_OC.HCPCS_CD_27.startswith(\"J9\"))|\n",
    "                       ((in_OC.HCPCS_CD_28.isin (cpt_lst))|in_OC.HCPCS_CD_28.startswith(\"J9\"))|\n",
    "                       ((in_OC.HCPCS_CD_29.isin (cpt_lst))|in_OC.HCPCS_CD_29.startswith(\"J9\"))|\n",
    "                       ((in_OC.HCPCS_CD_30.isin (cpt_lst))|in_OC.HCPCS_CD_30.startswith(\"J9\"))|\n",
    "                       ((in_OC.HCPCS_CD_31.isin (cpt_lst))|in_OC.HCPCS_CD_31.startswith(\"J9\"))|\n",
    "                       ((in_OC.HCPCS_CD_32.isin (cpt_lst))|in_OC.HCPCS_CD_32.startswith(\"J9\"))|\n",
    "                       ((in_OC.HCPCS_CD_33.isin (cpt_lst))|in_OC.HCPCS_CD_33.startswith(\"J9\"))|\n",
    "                       ((in_OC.HCPCS_CD_34.isin (cpt_lst))|in_OC.HCPCS_CD_34.startswith(\"J9\"))|\n",
    "                       ((in_OC.HCPCS_CD_35.isin (cpt_lst))|in_OC.HCPCS_CD_35.startswith(\"J9\"))|\n",
    "                       ((in_OC.HCPCS_CD_36.isin (cpt_lst))|in_OC.HCPCS_CD_36.startswith(\"J9\"))|\n",
    "                       ((in_OC.HCPCS_CD_37.isin (cpt_lst))|in_OC.HCPCS_CD_37.startswith(\"J9\"))|\n",
    "                       ((in_OC.HCPCS_CD_38.isin (cpt_lst))|in_OC.HCPCS_CD_38.startswith(\"J9\"))|\n",
    "                       ((in_OC.HCPCS_CD_39.isin (cpt_lst))|in_OC.HCPCS_CD_39.startswith(\"J9\"))|\n",
    "                       ((in_OC.HCPCS_CD_40.isin (cpt_lst))|in_OC.HCPCS_CD_40.startswith(\"J9\"))|\n",
    "                       ((in_OC.HCPCS_CD_41.isin (cpt_lst))|in_OC.HCPCS_CD_41.startswith(\"J9\"))|\n",
    "                       ((in_OC.HCPCS_CD_42.isin (cpt_lst))|in_OC.HCPCS_CD_42.startswith(\"J9\"))|\n",
    "                       ((in_OC.HCPCS_CD_43.isin (cpt_lst))|in_OC.HCPCS_CD_43.startswith(\"J9\"))|\n",
    "                       ((in_OC.HCPCS_CD_44.isin (cpt_lst))|in_OC.HCPCS_CD_44.startswith(\"J9\"))|\n",
    "                       ((in_OC.HCPCS_CD_45.isin (cpt_lst))|in_OC.HCPCS_CD_45.startswith(\"J9\"))\n",
    "                       ),1).otherwise(0)))"
   ]
  },
  {
   "cell_type": "code",
   "execution_count": 95,
   "metadata": {},
   "outputs": [
    {
     "name": "stdout",
     "output_type": "stream",
     "text": [
      "+----------+-----+\n",
      "|chem_class|count|\n",
      "+----------+-----+\n",
      "|         1|  107|\n",
      "|      null| 2649|\n",
      "|         0| 2542|\n",
      "+----------+-----+\n",
      "\n"
     ]
    }
   ],
   "source": [
    "in_OC.cube('chem_class').count().show()"
   ]
  },
  {
   "cell_type": "code",
   "execution_count": 16,
   "metadata": {},
   "outputs": [],
   "source": [
    "in_chem = in_OC.filter(in_OC.chem_class == 1)"
   ]
  },
  {
   "cell_type": "code",
   "execution_count": 23,
   "metadata": {},
   "outputs": [],
   "source": [
    "in_nochem = in_OC.filter(in_OC.chem_class == 0)"
   ]
  },
  {
   "cell_type": "code",
   "execution_count": 24,
   "metadata": {},
   "outputs": [
    {
     "data": {
      "text/plain": [
       "(107, 2542)"
      ]
     },
     "execution_count": 24,
     "metadata": {},
     "output_type": "execute_result"
    }
   ],
   "source": [
    "in_chem.count(),in_nochem.count()"
   ]
  },
  {
   "cell_type": "code",
   "execution_count": 38,
   "metadata": {},
   "outputs": [
    {
     "data": {
      "text/plain": [
       "[Row(DESYNPUF_ID='A3A6E99E44151E35', PROD_SRVC_ID='53489037407'),\n",
       " Row(DESYNPUF_ID='A3A6E99E44151E35', PROD_SRVC_ID='51129321702'),\n",
       " Row(DESYNPUF_ID='A3A6E99E44151E35', PROD_SRVC_ID='00093104101')]"
      ]
     },
     "execution_count": 38,
     "metadata": {},
     "output_type": "execute_result"
    }
   ],
   "source": [
    "# Join with PDE table\n",
    "pde_med.take(3)"
   ]
  },
  {
   "cell_type": "code",
   "execution_count": 32,
   "metadata": {},
   "outputs": [],
   "source": [
    "in_chem = spark.read.load(in_path+\"/in_chem\")"
   ]
  },
  {
   "cell_type": "code",
   "execution_count": 39,
   "metadata": {},
   "outputs": [
    {
     "data": {
      "text/plain": [
       "Row(DESYNPUF_ID='4810BA54FD314AED', CLM_ID=790421146295283, PRVDR_NUM='0500VS', CLM_ADMSN_DT=20100501, NCH_BENE_DSCHRG_DT=20100503, ADMTNG_ICD9_DGNS_CD='1550', CLM_DRG_CD='837', ICD9_DGNS_CD_1='V5811', ICD9_DGNS_CD_2='53085', ICD9_DGNS_CD_3='1830', ICD9_DGNS_CD_4='79029', ICD9_DGNS_CD_5='30000', ICD9_DGNS_CD_6='0', ICD9_DGNS_CD_7='0', ICD9_DGNS_CD_8='0', ICD9_DGNS_CD_9='0', ICD9_DGNS_CD_10='0', ICD9_PRCDR_CD_1='9925', ICD9_PRCDR_CD_2='0', ICD9_PRCDR_CD_3='0', ICD9_PRCDR_CD_4='0', ICD9_PRCDR_CD_5='0', ICD9_PRCDR_CD_6='0', HCPCS_CD_1='0', HCPCS_CD_2='0', HCPCS_CD_3='0', HCPCS_CD_4='0', HCPCS_CD_5='0', HCPCS_CD_6='0', HCPCS_CD_7='0', HCPCS_CD_8='0', HCPCS_CD_9='0', HCPCS_CD_10='0', HCPCS_CD_11='0', HCPCS_CD_12='0', HCPCS_CD_13='0', HCPCS_CD_14='0', HCPCS_CD_15='0', HCPCS_CD_16='0', HCPCS_CD_17='0', HCPCS_CD_18='0', HCPCS_CD_19='0', HCPCS_CD_20='0', HCPCS_CD_21='0', HCPCS_CD_22='0', HCPCS_CD_23='0', HCPCS_CD_24='0', HCPCS_CD_25='0', HCPCS_CD_26='0', HCPCS_CD_27='0', HCPCS_CD_28='0', HCPCS_CD_29='0', HCPCS_CD_30='0', HCPCS_CD_31='0', HCPCS_CD_32='0', HCPCS_CD_33='0', HCPCS_CD_34='0', HCPCS_CD_35='0', HCPCS_CD_36='0', HCPCS_CD_37='0', HCPCS_CD_38='0', HCPCS_CD_39='0', HCPCS_CD_40='0', HCPCS_CD_41='0', HCPCS_CD_42='0', HCPCS_CD_43='0', HCPCS_CD_44='0', HCPCS_CD_45='0', class=1, chem_class=1)"
      ]
     },
     "execution_count": 39,
     "metadata": {},
     "output_type": "execute_result"
    }
   ],
   "source": [
    "in_chem.head()"
   ]
  },
  {
   "cell_type": "code",
   "execution_count": 40,
   "metadata": {},
   "outputs": [],
   "source": [
    "spark_in_merge = in_chem.join(pde_med, on = \"DESYNPUF_ID\", how='inner')"
   ]
  },
  {
   "cell_type": "code",
   "execution_count": 41,
   "metadata": {},
   "outputs": [
    {
     "data": {
      "text/plain": [
       "Row(DESYNPUF_ID='C49DE573497A0F0A', CLM_ID=45721150063072, PRVDR_NUM='3000GA', CLM_ADMSN_DT=20090527, NCH_BENE_DSCHRG_DT=20090531, ADMTNG_ICD9_DGNS_CD='V5811', CLM_DRG_CD='838', ICD9_DGNS_CD_1='V5811', ICD9_DGNS_CD_2='1461', ICD9_DGNS_CD_3='53081', ICD9_DGNS_CD_4='6954', ICD9_DGNS_CD_5='1966', ICD9_DGNS_CD_6='20410', ICD9_DGNS_CD_7='1830', ICD9_DGNS_CD_8='2720', ICD9_DGNS_CD_9='5715', ICD9_DGNS_CD_10='0', ICD9_PRCDR_CD_1='9925', ICD9_PRCDR_CD_2='1533', ICD9_PRCDR_CD_3='0', ICD9_PRCDR_CD_4='0', ICD9_PRCDR_CD_5='0', ICD9_PRCDR_CD_6='0', HCPCS_CD_1='0', HCPCS_CD_2='0', HCPCS_CD_3='0', HCPCS_CD_4='0', HCPCS_CD_5='0', HCPCS_CD_6='0', HCPCS_CD_7='0', HCPCS_CD_8='0', HCPCS_CD_9='0', HCPCS_CD_10='0', HCPCS_CD_11='0', HCPCS_CD_12='0', HCPCS_CD_13='0', HCPCS_CD_14='0', HCPCS_CD_15='0', HCPCS_CD_16='0', HCPCS_CD_17='0', HCPCS_CD_18='0', HCPCS_CD_19='0', HCPCS_CD_20='0', HCPCS_CD_21='0', HCPCS_CD_22='0', HCPCS_CD_23='0', HCPCS_CD_24='0', HCPCS_CD_25='0', HCPCS_CD_26='0', HCPCS_CD_27='0', HCPCS_CD_28='0', HCPCS_CD_29='0', HCPCS_CD_30='0', HCPCS_CD_31='0', HCPCS_CD_32='0', HCPCS_CD_33='0', HCPCS_CD_34='0', HCPCS_CD_35='0', HCPCS_CD_36='0', HCPCS_CD_37='0', HCPCS_CD_38='0', HCPCS_CD_39='0', HCPCS_CD_40='0', HCPCS_CD_41='0', HCPCS_CD_42='0', HCPCS_CD_43='0', HCPCS_CD_44='0', HCPCS_CD_45='0', class=1, chem_class=1, PROD_SRVC_ID='65044078005')"
      ]
     },
     "execution_count": 41,
     "metadata": {},
     "output_type": "execute_result"
    }
   ],
   "source": [
    "spark_in_merge.head()"
   ]
  },
  {
   "cell_type": "code",
   "execution_count": 42,
   "metadata": {},
   "outputs": [
    {
     "data": {
      "text/plain": [
       "6649"
      ]
     },
     "execution_count": 42,
     "metadata": {},
     "output_type": "execute_result"
    }
   ],
   "source": [
    "spark_in_merge.count()"
   ]
  },
  {
   "cell_type": "markdown",
   "metadata": {},
   "source": [
    "### Write the dataset as parquet files"
   ]
  },
  {
   "cell_type": "code",
   "execution_count": 25,
   "metadata": {},
   "outputs": [],
   "source": [
    "in_path = \"/Users/jill/Downloads/2020_Project/EDA/concat_data/inpatient/inpatient_chemo/\""
   ]
  },
  {
   "cell_type": "code",
   "execution_count": 26,
   "metadata": {},
   "outputs": [],
   "source": [
    "in_chem.write.save(in_path+\"/in_chem\", format = \"parquet\")"
   ]
  },
  {
   "cell_type": "code",
   "execution_count": 27,
   "metadata": {},
   "outputs": [],
   "source": [
    "in_nochem.write.save(in_path+\"/in_nochem\", format = \"parquet\")"
   ]
  },
  {
   "cell_type": "code",
   "execution_count": 43,
   "metadata": {},
   "outputs": [],
   "source": [
    "spark_in_merge.write.save(in_path+\"/in_merge_pde\", format = \"parquet\")"
   ]
  },
  {
   "cell_type": "markdown",
   "metadata": {},
   "source": [
    "## 3. Carrier with chemotherapy"
   ]
  },
  {
   "cell_type": "code",
   "execution_count": 99,
   "metadata": {},
   "outputs": [],
   "source": [
    "carrier_OC = spark.read.load(\"/Users/jill/Downloads/2020_Project/EDA/concat_data/carrier/carrier_oc_feature/\")"
   ]
  },
  {
   "cell_type": "code",
   "execution_count": 100,
   "metadata": {},
   "outputs": [
    {
     "data": {
      "text/plain": [
       "(32239, 23)"
      ]
     },
     "execution_count": 100,
     "metadata": {},
     "output_type": "execute_result"
    }
   ],
   "source": [
    "carrier_OC.count(), len(carrier_OC.columns)"
   ]
  },
  {
   "cell_type": "code",
   "execution_count": 101,
   "metadata": {},
   "outputs": [
    {
     "name": "stdout",
     "output_type": "stream",
     "text": [
      "root\n",
      " |-- DESYNPUF_ID: string (nullable = true)\n",
      " |-- CLM_ID: long (nullable = true)\n",
      " |-- ICD9_DGNS_CD_1: string (nullable = true)\n",
      " |-- ICD9_DGNS_CD_2: string (nullable = true)\n",
      " |-- ICD9_DGNS_CD_3: string (nullable = true)\n",
      " |-- ICD9_DGNS_CD_4: string (nullable = true)\n",
      " |-- ICD9_DGNS_CD_5: string (nullable = true)\n",
      " |-- ICD9_DGNS_CD_6: string (nullable = true)\n",
      " |-- ICD9_DGNS_CD_7: string (nullable = true)\n",
      " |-- ICD9_DGNS_CD_8: string (nullable = true)\n",
      " |-- HCPCS_CD_1: string (nullable = true)\n",
      " |-- HCPCS_CD_2: string (nullable = true)\n",
      " |-- HCPCS_CD_3: string (nullable = true)\n",
      " |-- HCPCS_CD_4: string (nullable = true)\n",
      " |-- HCPCS_CD_5: string (nullable = true)\n",
      " |-- HCPCS_CD_6: string (nullable = true)\n",
      " |-- HCPCS_CD_7: string (nullable = true)\n",
      " |-- HCPCS_CD_8: string (nullable = true)\n",
      " |-- HCPCS_CD_9: string (nullable = true)\n",
      " |-- HCPCS_CD_10: string (nullable = true)\n",
      " |-- HCPCS_CD_11: string (nullable = true)\n",
      " |-- HCPCS_CD_12: string (nullable = true)\n",
      " |-- HCPCS_CD_13: string (nullable = true)\n",
      "\n"
     ]
    }
   ],
   "source": [
    "carrier_OC.printSchema()"
   ]
  },
  {
   "cell_type": "code",
   "execution_count": 102,
   "metadata": {},
   "outputs": [],
   "source": [
    "carrier_OC = carrier_OC.fillna(\"0\")"
   ]
  },
  {
   "cell_type": "code",
   "execution_count": 103,
   "metadata": {},
   "outputs": [
    {
     "name": "stdout",
     "output_type": "stream",
     "text": [
      "root\n",
      " |-- DESYNPUF_ID: string (nullable = false)\n",
      " |-- CLM_ID: long (nullable = true)\n",
      " |-- ICD9_DGNS_CD_1: string (nullable = false)\n",
      " |-- ICD9_DGNS_CD_2: string (nullable = false)\n",
      " |-- ICD9_DGNS_CD_3: string (nullable = false)\n",
      " |-- ICD9_DGNS_CD_4: string (nullable = false)\n",
      " |-- ICD9_DGNS_CD_5: string (nullable = false)\n",
      " |-- ICD9_DGNS_CD_6: string (nullable = false)\n",
      " |-- ICD9_DGNS_CD_7: string (nullable = false)\n",
      " |-- ICD9_DGNS_CD_8: string (nullable = false)\n",
      " |-- HCPCS_CD_1: string (nullable = false)\n",
      " |-- HCPCS_CD_2: string (nullable = false)\n",
      " |-- HCPCS_CD_3: string (nullable = false)\n",
      " |-- HCPCS_CD_4: string (nullable = false)\n",
      " |-- HCPCS_CD_5: string (nullable = false)\n",
      " |-- HCPCS_CD_6: string (nullable = false)\n",
      " |-- HCPCS_CD_7: string (nullable = false)\n",
      " |-- HCPCS_CD_8: string (nullable = false)\n",
      " |-- HCPCS_CD_9: string (nullable = false)\n",
      " |-- HCPCS_CD_10: string (nullable = false)\n",
      " |-- HCPCS_CD_11: string (nullable = false)\n",
      " |-- HCPCS_CD_12: string (nullable = false)\n",
      " |-- HCPCS_CD_13: string (nullable = false)\n",
      "\n"
     ]
    }
   ],
   "source": [
    "carrier_OC.printSchema()"
   ]
  },
  {
   "cell_type": "code",
   "execution_count": 104,
   "metadata": {},
   "outputs": [],
   "source": [
    "cpt_lst = list(map(str,cpt_lst))"
   ]
  },
  {
   "cell_type": "code",
   "execution_count": 105,
   "metadata": {},
   "outputs": [
    {
     "name": "stdout",
     "output_type": "stream",
     "text": [
      "['96400', '96401', '96402', '96403', '96404', '96405', '96406', '96407', '96408', '96409', '96410', '96411', '96412', '96413', '96414', '96415', '96416', '96417', '96418', '96419', '96420', '96421', '96422', '96423', '96424', '96425', '96426', '96427', '96428', '96429', '96430', '96431', '96432', '96433', '96434', '96435', '96436', '96437', '96438', '96439', '96440', '96441', '96442', '96443', '96444', '96445', '96446', '96447', '96448', '96449', '96450', '96542', '96545', '96549', '90780', '90784']\n"
     ]
    }
   ],
   "source": [
    "print (cpt_str)"
   ]
  },
  {
   "cell_type": "code",
   "execution_count": 106,
   "metadata": {},
   "outputs": [],
   "source": [
    "carrier_OC = carrier_OC.withColumn('chem_class', (F.when(((carrier_OC.ICD9_DGNS_CD_1 == \"V5811\")|\n",
    "                       (carrier_OC.ICD9_DGNS_CD_2 == \"V5811\")|\n",
    "                       (carrier_OC.ICD9_DGNS_CD_3 == \"V5811\")|\n",
    "                       (carrier_OC.ICD9_DGNS_CD_4 == \"V5811\")|\n",
    "                       (carrier_OC.ICD9_DGNS_CD_5 == \"V5811\")|\n",
    "                       (carrier_OC.ICD9_DGNS_CD_6 == \"V5811\")|\n",
    "                       (carrier_OC.ICD9_DGNS_CD_7 == \"V5811\")|\n",
    "                       (carrier_OC.ICD9_DGNS_CD_8 == \"V5811\")|\n",
    "                       ((carrier_OC.HCPCS_CD_1.isin (cpt_lst))|carrier_OC.HCPCS_CD_1.startswith(\"J9\"))|\n",
    "                       ((carrier_OC.HCPCS_CD_2.isin (cpt_lst))|carrier_OC.HCPCS_CD_2.startswith(\"J9\"))|\n",
    "                       ((carrier_OC.HCPCS_CD_3.isin (cpt_lst))|carrier_OC.HCPCS_CD_3.startswith(\"J9\"))|\n",
    "                       ((carrier_OC.HCPCS_CD_4.isin (cpt_lst))|carrier_OC.HCPCS_CD_4.startswith(\"J9\"))|\n",
    "                       ((carrier_OC.HCPCS_CD_5.isin (cpt_lst))|carrier_OC.HCPCS_CD_5.startswith(\"J9\"))|\n",
    "                       ((carrier_OC.HCPCS_CD_6.isin (cpt_lst))|carrier_OC.HCPCS_CD_6.startswith(\"J9\"))|\n",
    "                       ((carrier_OC.HCPCS_CD_7.isin (cpt_lst))|carrier_OC.HCPCS_CD_7.startswith(\"J9\"))|\n",
    "                       ((carrier_OC.HCPCS_CD_8.isin (cpt_lst))|carrier_OC.HCPCS_CD_8.startswith(\"J9\"))|\n",
    "                       ((carrier_OC.HCPCS_CD_9.isin (cpt_lst))|carrier_OC.HCPCS_CD_9.startswith(\"J9\"))|\n",
    "                       ((carrier_OC.HCPCS_CD_10.isin (cpt_lst))|carrier_OC.HCPCS_CD_10.startswith(\"J9\"))|\n",
    "                       ((carrier_OC.HCPCS_CD_11.isin (cpt_lst))|carrier_OC.HCPCS_CD_11.startswith(\"J9\"))|\n",
    "                       ((carrier_OC.HCPCS_CD_12.isin (cpt_lst))|carrier_OC.HCPCS_CD_12.startswith(\"J9\"))|\n",
    "                       ((carrier_OC.HCPCS_CD_13.isin (cpt_lst))|carrier_OC.HCPCS_CD_13.startswith(\"J9\"))\n",
    "                       ),1).otherwise(0)))"
   ]
  },
  {
   "cell_type": "code",
   "execution_count": 107,
   "metadata": {},
   "outputs": [
    {
     "name": "stdout",
     "output_type": "stream",
     "text": [
      "+----------+-----+\n",
      "|chem_class|count|\n",
      "+----------+-----+\n",
      "|         1| 6524|\n",
      "|      null|32239|\n",
      "|         0|25715|\n",
      "+----------+-----+\n",
      "\n"
     ]
    }
   ],
   "source": [
    "carrier_OC.cube('chem_class').count().show()"
   ]
  },
  {
   "cell_type": "code",
   "execution_count": 108,
   "metadata": {},
   "outputs": [],
   "source": [
    "carrier_chem = carrier_OC.filter(carrier_OC.chem_class == 1)"
   ]
  },
  {
   "cell_type": "code",
   "execution_count": 109,
   "metadata": {},
   "outputs": [],
   "source": [
    "carrier_nochem = carrier_OC.filter(carrier_OC.chem_class == 0)"
   ]
  },
  {
   "cell_type": "code",
   "execution_count": 110,
   "metadata": {},
   "outputs": [
    {
     "data": {
      "text/plain": [
       "(6524, 25715)"
      ]
     },
     "execution_count": 110,
     "metadata": {},
     "output_type": "execute_result"
    }
   ],
   "source": [
    "carrier_chem.count(), carrier_nochem.count()"
   ]
  },
  {
   "cell_type": "code",
   "execution_count": 118,
   "metadata": {},
   "outputs": [],
   "source": [
    "carrier_chem = spark.read.load(carrier_path+\"/carrier_chem/\")"
   ]
  },
  {
   "cell_type": "code",
   "execution_count": 119,
   "metadata": {},
   "outputs": [],
   "source": [
    "carrier_merge_pde = carrier_chem.join(pde_med, on = \"DESYNPUF_ID\", how = \"inner\")"
   ]
  },
  {
   "cell_type": "code",
   "execution_count": 120,
   "metadata": {},
   "outputs": [
    {
     "data": {
      "text/plain": [
       "321472"
      ]
     },
     "execution_count": 120,
     "metadata": {},
     "output_type": "execute_result"
    }
   ],
   "source": [
    "carrier_merge_pde.count()"
   ]
  },
  {
   "cell_type": "markdown",
   "metadata": {},
   "source": [
    "### write the data as parquet files"
   ]
  },
  {
   "cell_type": "code",
   "execution_count": 114,
   "metadata": {},
   "outputs": [],
   "source": [
    "carrier_path = \"/Users/jill/Downloads/2020_Project/EDA/concat_data/carrier/carrier_chemo/\""
   ]
  },
  {
   "cell_type": "code",
   "execution_count": 115,
   "metadata": {},
   "outputs": [],
   "source": [
    "carrier_chem.write.save(carrier_path+\"/carrier_chem\", format ='parquet')"
   ]
  },
  {
   "cell_type": "code",
   "execution_count": 116,
   "metadata": {},
   "outputs": [],
   "source": [
    "carrier_nochem.write.save(carrier_path+\"/carrier_nochem/\",format = 'parquet')"
   ]
  },
  {
   "cell_type": "code",
   "execution_count": 121,
   "metadata": {},
   "outputs": [],
   "source": [
    "carrier_merge_pde.write.save(carrier_path+\"/carrier_pde_merge/\",format = 'parquet')"
   ]
  }
 ],
 "metadata": {
  "kernelspec": {
   "display_name": "Python 3",
   "language": "python",
   "name": "python3"
  },
  "language_info": {
   "codemirror_mode": {
    "name": "ipython",
    "version": 3
   },
   "file_extension": ".py",
   "mimetype": "text/x-python",
   "name": "python",
   "nbconvert_exporter": "python",
   "pygments_lexer": "ipython3",
   "version": "3.7.6"
  }
 },
 "nbformat": 4,
 "nbformat_minor": 2
}
